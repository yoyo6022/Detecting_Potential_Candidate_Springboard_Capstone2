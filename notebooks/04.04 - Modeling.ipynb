{
 "cells": [
  {
   "cell_type": "markdown",
   "metadata": {},
   "source": [
    "## Imports & Setup"
   ]
  },
  {
   "cell_type": "code",
   "execution_count": 1,
   "metadata": {},
   "outputs": [
    {
     "name": "stderr",
     "output_type": "stream",
     "text": [
      "/Users/liuyang/opt/anaconda3/lib/python3.8/site-packages/lightgbm/__init__.py:42: UserWarning: Starting from version 2.2.1, the library file in distribution wheels for macOS is built by the Apple Clang (Xcode_8.3.3) compiler.\n",
      "This means that in case of installing LightGBM from PyPI via the ``pip install lightgbm`` command, you don't need to install the gcc compiler anymore.\n",
      "Instead of that, you need to install the OpenMP library, which is required for running LightGBM on the system with the Apple Clang compiler.\n",
      "You can install the OpenMP library by the following command: ``brew install libomp``.\n",
      "  warnings.warn(\"Starting from version 2.2.1, the library file in distribution wheels for macOS \"\n"
     ]
    }
   ],
   "source": [
    "import os\n",
    "import pandas as pd\n",
    "# import datetime\n",
    "import seaborn as sns\n",
    "sns.set()\n",
    "import matplotlib.pyplot as plt\n",
    "import numpy as np\n",
    "# from scipy import stats\n",
    "# import random\n",
    "from category_encoders import LeaveOneOutEncoder\n",
    "from sklearn.preprocessing import StandardScaler\n",
    "from sklearn.model_selection import train_test_split \n",
    "from sklearn.model_selection import KFold\n",
    "from sklearn import model_selection\n",
    "\n",
    "from sklearn.linear_model import LogisticRegression\n",
    "from sklearn.naive_bayes import GaussianNB\n",
    "from sklearn.neighbors import KNeighborsClassifier\n",
    "from sklearn.svm import SVC\n",
    "from sklearn.tree import DecisionTreeClassifier\n",
    "from sklearn.ensemble import RandomForestClassifier\n",
    "from sklearn.ensemble import GradientBoostingClassifier\n",
    "from xgboost import XGBClassifier\n",
    "import xgboost as xgb\n",
    "from catboost import CatBoostClassifier\n",
    "import lightgbm as lgb\n",
    "\n",
    "import time\n",
    "from sklearn import metrics\n",
    "from sklearn.metrics import roc_auc_score\n",
    "from sklearn.metrics import precision_recall_fscore_support as score, accuracy_score\n",
    "from sklearn.metrics import classification_report, confusion_matrix, roc_curve, auc\n",
    "from imblearn.over_sampling import SMOTE\n",
    "%matplotlib inline"
   ]
  },
  {
   "cell_type": "code",
   "execution_count": 2,
   "metadata": {},
   "outputs": [
    {
     "name": "stdout",
     "output_type": "stream",
     "text": [
      "/Users/liuyang/Desktop/Springboard_Capstone/notebooks\n",
      "/Users/liuyang/Desktop/Springboard_Capstone\n"
     ]
    }
   ],
   "source": [
    "print(os.getcwd())\n",
    "os.chdir('/Users/liuyang/Desktop/Springboard_Capstone') \n",
    "print(os.getcwd())"
   ]
  },
  {
   "cell_type": "code",
   "execution_count": 3,
   "metadata": {},
   "outputs": [],
   "source": [
    "df = pd.read_csv('data/preprocessed_train.csv')"
   ]
  },
  {
   "cell_type": "code",
   "execution_count": 4,
   "metadata": {},
   "outputs": [
    {
     "data": {
      "text/html": [
       "<div>\n",
       "<style scoped>\n",
       "    .dataframe tbody tr th:only-of-type {\n",
       "        vertical-align: middle;\n",
       "    }\n",
       "\n",
       "    .dataframe tbody tr th {\n",
       "        vertical-align: top;\n",
       "    }\n",
       "\n",
       "    .dataframe thead th {\n",
       "        text-align: right;\n",
       "    }\n",
       "</style>\n",
       "<table border=\"1\" class=\"dataframe\">\n",
       "  <thead>\n",
       "    <tr style=\"text-align: right;\">\n",
       "      <th></th>\n",
       "      <th>city</th>\n",
       "      <th>city_development_index</th>\n",
       "      <th>gender</th>\n",
       "      <th>relevent_experience</th>\n",
       "      <th>enrolled_university</th>\n",
       "      <th>education_level</th>\n",
       "      <th>major_discipline</th>\n",
       "      <th>experience</th>\n",
       "      <th>company_size</th>\n",
       "      <th>company_type</th>\n",
       "      <th>last_new_job</th>\n",
       "      <th>training_hours</th>\n",
       "      <th>target</th>\n",
       "    </tr>\n",
       "  </thead>\n",
       "  <tbody>\n",
       "    <tr>\n",
       "      <th>0</th>\n",
       "      <td>city_149</td>\n",
       "      <td>0.689</td>\n",
       "      <td>1</td>\n",
       "      <td>1</td>\n",
       "      <td>0</td>\n",
       "      <td>2</td>\n",
       "      <td>1</td>\n",
       "      <td>1</td>\n",
       "      <td>2</td>\n",
       "      <td>4</td>\n",
       "      <td>1</td>\n",
       "      <td>106</td>\n",
       "      <td>0</td>\n",
       "    </tr>\n",
       "    <tr>\n",
       "      <th>1</th>\n",
       "      <td>city_83</td>\n",
       "      <td>0.923</td>\n",
       "      <td>1</td>\n",
       "      <td>1</td>\n",
       "      <td>0</td>\n",
       "      <td>2</td>\n",
       "      <td>1</td>\n",
       "      <td>3</td>\n",
       "      <td>1</td>\n",
       "      <td>2</td>\n",
       "      <td>1</td>\n",
       "      <td>69</td>\n",
       "      <td>0</td>\n",
       "    </tr>\n",
       "    <tr>\n",
       "      <th>2</th>\n",
       "      <td>city_16</td>\n",
       "      <td>0.910</td>\n",
       "      <td>1</td>\n",
       "      <td>1</td>\n",
       "      <td>0</td>\n",
       "      <td>2</td>\n",
       "      <td>1</td>\n",
       "      <td>2</td>\n",
       "      <td>1</td>\n",
       "      <td>1</td>\n",
       "      <td>1</td>\n",
       "      <td>4</td>\n",
       "      <td>0</td>\n",
       "    </tr>\n",
       "    <tr>\n",
       "      <th>3</th>\n",
       "      <td>city_64</td>\n",
       "      <td>0.666</td>\n",
       "      <td>1</td>\n",
       "      <td>1</td>\n",
       "      <td>0</td>\n",
       "      <td>2</td>\n",
       "      <td>1</td>\n",
       "      <td>3</td>\n",
       "      <td>1</td>\n",
       "      <td>4</td>\n",
       "      <td>1</td>\n",
       "      <td>26</td>\n",
       "      <td>0</td>\n",
       "    </tr>\n",
       "    <tr>\n",
       "      <th>4</th>\n",
       "      <td>city_100</td>\n",
       "      <td>0.887</td>\n",
       "      <td>1</td>\n",
       "      <td>0</td>\n",
       "      <td>0</td>\n",
       "      <td>2</td>\n",
       "      <td>1</td>\n",
       "      <td>2</td>\n",
       "      <td>1</td>\n",
       "      <td>4</td>\n",
       "      <td>1</td>\n",
       "      <td>88</td>\n",
       "      <td>1</td>\n",
       "    </tr>\n",
       "  </tbody>\n",
       "</table>\n",
       "</div>"
      ],
      "text/plain": [
       "       city  city_development_index  gender  relevent_experience  \\\n",
       "0  city_149                   0.689       1                    1   \n",
       "1   city_83                   0.923       1                    1   \n",
       "2   city_16                   0.910       1                    1   \n",
       "3   city_64                   0.666       1                    1   \n",
       "4  city_100                   0.887       1                    0   \n",
       "\n",
       "   enrolled_university  education_level  major_discipline  experience  \\\n",
       "0                    0                2                 1           1   \n",
       "1                    0                2                 1           3   \n",
       "2                    0                2                 1           2   \n",
       "3                    0                2                 1           3   \n",
       "4                    0                2                 1           2   \n",
       "\n",
       "   company_size  company_type  last_new_job  training_hours  target  \n",
       "0             2             4             1             106       0  \n",
       "1             1             2             1              69       0  \n",
       "2             1             1             1               4       0  \n",
       "3             1             4             1              26       0  \n",
       "4             1             4             1              88       1  "
      ]
     },
     "execution_count": 4,
     "metadata": {},
     "output_type": "execute_result"
    }
   ],
   "source": [
    "df.head()"
   ]
  },
  {
   "cell_type": "code",
   "execution_count": 5,
   "metadata": {},
   "outputs": [
    {
     "data": {
      "text/plain": [
       "(18359, 13)"
      ]
     },
     "execution_count": 5,
     "metadata": {},
     "output_type": "execute_result"
    }
   ],
   "source": [
    "df.shape"
   ]
  },
  {
   "cell_type": "code",
   "execution_count": 6,
   "metadata": {},
   "outputs": [],
   "source": [
    "X = df.drop(['target'],axis=1)\n",
    "y = df['target']"
   ]
  },
  {
   "cell_type": "code",
   "execution_count": 7,
   "metadata": {},
   "outputs": [
    {
     "data": {
      "text/html": [
       "<div>\n",
       "<style scoped>\n",
       "    .dataframe tbody tr th:only-of-type {\n",
       "        vertical-align: middle;\n",
       "    }\n",
       "\n",
       "    .dataframe tbody tr th {\n",
       "        vertical-align: top;\n",
       "    }\n",
       "\n",
       "    .dataframe thead th {\n",
       "        text-align: right;\n",
       "    }\n",
       "</style>\n",
       "<table border=\"1\" class=\"dataframe\">\n",
       "  <thead>\n",
       "    <tr style=\"text-align: right;\">\n",
       "      <th></th>\n",
       "      <th>city</th>\n",
       "      <th>city_development_index</th>\n",
       "      <th>gender</th>\n",
       "      <th>relevent_experience</th>\n",
       "      <th>enrolled_university</th>\n",
       "      <th>education_level</th>\n",
       "      <th>major_discipline</th>\n",
       "      <th>experience</th>\n",
       "      <th>company_size</th>\n",
       "      <th>company_type</th>\n",
       "      <th>last_new_job</th>\n",
       "      <th>training_hours</th>\n",
       "    </tr>\n",
       "  </thead>\n",
       "  <tbody>\n",
       "    <tr>\n",
       "      <th>0</th>\n",
       "      <td>0.125000</td>\n",
       "      <td>0.689</td>\n",
       "      <td>1</td>\n",
       "      <td>1</td>\n",
       "      <td>0</td>\n",
       "      <td>2</td>\n",
       "      <td>1</td>\n",
       "      <td>1</td>\n",
       "      <td>2</td>\n",
       "      <td>4</td>\n",
       "      <td>1</td>\n",
       "      <td>106</td>\n",
       "    </tr>\n",
       "    <tr>\n",
       "      <th>1</th>\n",
       "      <td>0.099291</td>\n",
       "      <td>0.923</td>\n",
       "      <td>1</td>\n",
       "      <td>1</td>\n",
       "      <td>0</td>\n",
       "      <td>2</td>\n",
       "      <td>1</td>\n",
       "      <td>3</td>\n",
       "      <td>1</td>\n",
       "      <td>2</td>\n",
       "      <td>1</td>\n",
       "      <td>69</td>\n",
       "    </tr>\n",
       "    <tr>\n",
       "      <th>2</th>\n",
       "      <td>0.093164</td>\n",
       "      <td>0.910</td>\n",
       "      <td>1</td>\n",
       "      <td>1</td>\n",
       "      <td>0</td>\n",
       "      <td>2</td>\n",
       "      <td>1</td>\n",
       "      <td>2</td>\n",
       "      <td>1</td>\n",
       "      <td>1</td>\n",
       "      <td>1</td>\n",
       "      <td>4</td>\n",
       "    </tr>\n",
       "    <tr>\n",
       "      <th>3</th>\n",
       "      <td>0.101695</td>\n",
       "      <td>0.666</td>\n",
       "      <td>1</td>\n",
       "      <td>1</td>\n",
       "      <td>0</td>\n",
       "      <td>2</td>\n",
       "      <td>1</td>\n",
       "      <td>3</td>\n",
       "      <td>1</td>\n",
       "      <td>4</td>\n",
       "      <td>1</td>\n",
       "      <td>26</td>\n",
       "    </tr>\n",
       "    <tr>\n",
       "      <th>4</th>\n",
       "      <td>0.159259</td>\n",
       "      <td>0.887</td>\n",
       "      <td>1</td>\n",
       "      <td>0</td>\n",
       "      <td>0</td>\n",
       "      <td>2</td>\n",
       "      <td>1</td>\n",
       "      <td>2</td>\n",
       "      <td>1</td>\n",
       "      <td>4</td>\n",
       "      <td>1</td>\n",
       "      <td>88</td>\n",
       "    </tr>\n",
       "  </tbody>\n",
       "</table>\n",
       "</div>"
      ],
      "text/plain": [
       "       city  city_development_index  gender  relevent_experience  \\\n",
       "0  0.125000                   0.689       1                    1   \n",
       "1  0.099291                   0.923       1                    1   \n",
       "2  0.093164                   0.910       1                    1   \n",
       "3  0.101695                   0.666       1                    1   \n",
       "4  0.159259                   0.887       1                    0   \n",
       "\n",
       "   enrolled_university  education_level  major_discipline  experience  \\\n",
       "0                    0                2                 1           1   \n",
       "1                    0                2                 1           3   \n",
       "2                    0                2                 1           2   \n",
       "3                    0                2                 1           3   \n",
       "4                    0                2                 1           2   \n",
       "\n",
       "   company_size  company_type  last_new_job  training_hours  \n",
       "0             2             4             1             106  \n",
       "1             1             2             1              69  \n",
       "2             1             1             1               4  \n",
       "3             1             4             1              26  \n",
       "4             1             4             1              88  "
      ]
     },
     "execution_count": 7,
     "metadata": {},
     "output_type": "execute_result"
    }
   ],
   "source": [
    "# Encode column 'city'\n",
    "enc = LeaveOneOutEncoder(cols=['city'])\n",
    "X_enc = enc.fit_transform(X,y)\n",
    "X_enc.head()"
   ]
  },
  {
   "cell_type": "code",
   "execution_count": 8,
   "metadata": {},
   "outputs": [],
   "source": [
    "# Scale X \n",
    "X_scaled = StandardScaler().fit_transform(X_enc)"
   ]
  },
  {
   "cell_type": "code",
   "execution_count": 9,
   "metadata": {},
   "outputs": [],
   "source": [
    "# Split train test set\n",
    "X_train,X_test,y_train,y_test = train_test_split(X_scaled, y, test_size=0.30, stratify=y, random_state=43)"
   ]
  },
  {
   "cell_type": "code",
   "execution_count": 10,
   "metadata": {},
   "outputs": [
    {
     "data": {
      "text/plain": [
       "0    4780\n",
       "1     728\n",
       "Name: target, dtype: int64"
      ]
     },
     "execution_count": 10,
     "metadata": {},
     "output_type": "execute_result"
    }
   ],
   "source": [
    "# Confirm there's positive class in the test set.\n",
    "y_test.value_counts()"
   ]
  },
  {
   "cell_type": "markdown",
   "metadata": {},
   "source": [
    "## 1. Try Logistic regression "
   ]
  },
  {
   "cell_type": "code",
   "execution_count": 11,
   "metadata": {},
   "outputs": [
    {
     "name": "stderr",
     "output_type": "stream",
     "text": [
      "/Users/liuyang/opt/anaconda3/lib/python3.8/site-packages/sklearn/metrics/_classification.py:1221: UndefinedMetricWarning: Precision and F-score are ill-defined and being set to 0.0 due to no predicted samples. Use `zero_division` parameter to control this behavior.\n",
      "  _warn_prf(average, modifier, msg_start, len(result))\n"
     ]
    },
    {
     "data": {
      "text/plain": [
       "array([[   0,  728],\n",
       "       [   0, 4780]])"
      ]
     },
     "execution_count": 11,
     "metadata": {},
     "output_type": "execute_result"
    }
   ],
   "source": [
    "logreg=LogisticRegression()\n",
    "logreg.fit(X_train,y_train)\n",
    "\n",
    "y_pred=logreg.predict(X_test)\n",
    "\n",
    "score(y_test, y_pred, pos_label=1,average='binary') \n",
    "metrics.confusion_matrix(y_test, y_pred,labels=[1,0])"
   ]
  },
  {
   "cell_type": "markdown",
   "metadata": {},
   "source": [
    "As data is imbalanced so there's no positive class predicted, therefore Recall is zero, \n",
    "Precision and fscore are ill-defined."
   ]
  },
  {
   "cell_type": "code",
   "execution_count": 12,
   "metadata": {},
   "outputs": [],
   "source": [
    "y_pred_proba = logreg.predict_proba(X_test)[:,1]\n",
    "fpr, tpr, _ = roc_curve(y_test, y_pred_proba)"
   ]
  },
  {
   "cell_type": "code",
   "execution_count": 13,
   "metadata": {},
   "outputs": [
    {
     "data": {
      "image/png": "[encoded data removed]",
      "text/plain": [
       "<Figure size 432x288 with 1 Axes>"
      ]
     },
     "metadata": {
      "needs_background": "light"
     },
     "output_type": "display_data"
    }
   ],
   "source": [
    "plt.plot([0,1],[0,1],'k--')\n",
    "plt.plot(fpr, tpr)\n",
    "plt.xlabel('False positive rate')\n",
    "plt.ylabel('True positive rate')\n",
    "plt.title('ROC curve')\n",
    "plt.show()"
   ]
  },
  {
   "cell_type": "code",
   "execution_count": 14,
   "metadata": {},
   "outputs": [
    {
     "name": "stdout",
     "output_type": "stream",
     "text": [
      "AUC:0.629\n"
     ]
    }
   ],
   "source": [
    "auc = metrics.auc(fpr,tpr)\n",
    "print('AUC:{0:.3f}'.format(auc))"
   ]
  },
  {
   "cell_type": "markdown",
   "metadata": {},
   "source": [
    "As you can see the overall, the performance from model logistic regression is not very ideal. "
   ]
  },
  {
   "cell_type": "markdown",
   "metadata": {},
   "source": [
    "## 2. Try DecisionTree model"
   ]
  },
  {
   "cell_type": "code",
   "execution_count": 15,
   "metadata": {},
   "outputs": [
    {
     "data": {
      "text/plain": [
       "(1.0, 1.0, 1.0, None)"
      ]
     },
     "execution_count": 15,
     "metadata": {},
     "output_type": "execute_result"
    }
   ],
   "source": [
    "model2 = DecisionTreeClassifier(random_state=43)\n",
    "model2.fit(X_train, y_train)\n",
    "\n",
    "y_pred2 = model2.predict(X_test)\n",
    "\n",
    "# get precision, recall, fscore\n",
    "score(y_test, y_pred2, pos_label=1,average='binary')   "
   ]
  },
  {
   "cell_type": "code",
   "execution_count": 16,
   "metadata": {},
   "outputs": [
    {
     "data": {
      "text/plain": [
       "1.0"
      ]
     },
     "execution_count": 16,
     "metadata": {},
     "output_type": "execute_result"
    }
   ],
   "source": [
    "# get accuracy\n",
    "accuracy_score(y_test,y_pred2)"
   ]
  },
  {
   "cell_type": "code",
   "execution_count": 17,
   "metadata": {},
   "outputs": [
    {
     "data": {
      "text/plain": [
       "True    5508\n",
       "Name: target, dtype: int64"
      ]
     },
     "execution_count": 17,
     "metadata": {},
     "output_type": "execute_result"
    }
   ],
   "source": [
    "(y_pred2 == y_test).value_counts()"
   ]
  },
  {
   "cell_type": "markdown",
   "metadata": {},
   "source": [
    "## 3. Train model with SMOTE method"
   ]
  },
  {
   "cell_type": "code",
   "execution_count": 18,
   "metadata": {},
   "outputs": [],
   "source": [
    "os = SMOTE(random_state=43)\n",
    "#columns = X_train.columns\n",
    "\n",
    "#os_data_X,os_data_y=os.fit_sample(X_train, y_train)\n",
    "X_os, y_os=os.fit_sample(X_train, y_train.ravel())"
   ]
  },
  {
   "cell_type": "code",
   "execution_count": 19,
   "metadata": {},
   "outputs": [
    {
     "name": "stdout",
     "output_type": "stream",
     "text": [
      "(22308, 12)\n",
      "(22308,)\n"
     ]
    }
   ],
   "source": [
    "print(X_os.shape)\n",
    "print(y_os.shape)"
   ]
  },
  {
   "cell_type": "code",
   "execution_count": 20,
   "metadata": {},
   "outputs": [
    {
     "data": {
      "text/plain": [
       "(array([0, 1]), array([11154, 11154]))"
      ]
     },
     "execution_count": 20,
     "metadata": {},
     "output_type": "execute_result"
    }
   ],
   "source": [
    "# make sure the numbers of positive and negative class are the same\n",
    "np.unique(y_os,return_counts=True)"
   ]
  },
  {
   "cell_type": "code",
   "execution_count": 21,
   "metadata": {},
   "outputs": [],
   "source": [
    "# Split the over sampled train_data: X_os, y_os to a new train_test set.\n",
    "X_os_train, X_os_test, y_os_train, y_os_test = train_test_split(X_os, y_os, test_size=0.3, random_state=43)"
   ]
  },
  {
   "cell_type": "code",
   "execution_count": 22,
   "metadata": {},
   "outputs": [
    {
     "data": {
      "text/plain": [
       "(array([0, 1]), array([7769, 7846]))"
      ]
     },
     "execution_count": 22,
     "metadata": {},
     "output_type": "execute_result"
    }
   ],
   "source": [
    "np.unique(y_os_train,return_counts=True)"
   ]
  },
  {
   "cell_type": "markdown",
   "metadata": {},
   "source": [
    "### First try logistic regression on the new train data "
   ]
  },
  {
   "cell_type": "code",
   "execution_count": 23,
   "metadata": {},
   "outputs": [
    {
     "data": {
      "text/plain": [
       "LogisticRegression()"
      ]
     },
     "execution_count": 23,
     "metadata": {},
     "output_type": "execute_result"
    }
   ],
   "source": [
    "logreg = LogisticRegression()\n",
    "logreg.fit(X_os_train, y_os_train)"
   ]
  },
  {
   "cell_type": "code",
   "execution_count": 24,
   "metadata": {},
   "outputs": [],
   "source": [
    "y_os_pred = logreg.predict(X_os_test)\n",
    "y_os_pred_proba = logreg.predict_proba(X_os_test)[:,1]\n",
    "fpr, tpr, threshold = roc_curve(y_os_test, y_os_pred_proba)\n",
    "precision, recall, fscore,support = score(y_os_test, y_os_pred, pos_label=1,average='binary')"
   ]
  },
  {
   "cell_type": "code",
   "execution_count": 25,
   "metadata": {},
   "outputs": [
    {
     "name": "stdout",
     "output_type": "stream",
     "text": [
      "precision: 0.62 recall: 0.541 fscore: 0.578 auc: 0.648\n"
     ]
    }
   ],
   "source": [
    "print(\"precision: %s\"%round(precision,3), 'recall:', round(recall,3), 'fscore:', round(fscore,3), 'auc:',round(metrics.auc(fpr,tpr),3))"
   ]
  },
  {
   "cell_type": "code",
   "execution_count": 26,
   "metadata": {},
   "outputs": [
    {
     "data": {
      "image/png": "[encoded data removed]",
      "text/plain": [
       "<Figure size 432x288 with 1 Axes>"
      ]
     },
     "metadata": {
      "needs_background": "light"
     },
     "output_type": "display_data"
    }
   ],
   "source": [
    "plt.plot([0,1],[0,1],'k--')\n",
    "plt.plot(fpr, tpr)\n",
    "plt.xlabel('False positive rate')\n",
    "plt.ylabel('True positive rate')\n",
    "plt.title('ROC curve')\n",
    "plt.show()"
   ]
  },
  {
   "cell_type": "code",
   "execution_count": 27,
   "metadata": {},
   "outputs": [
    {
     "data": {
      "text/html": [
       "<div>\n",
       "<style scoped>\n",
       "    .dataframe tbody tr th:only-of-type {\n",
       "        vertical-align: middle;\n",
       "    }\n",
       "\n",
       "    .dataframe tbody tr th {\n",
       "        vertical-align: top;\n",
       "    }\n",
       "\n",
       "    .dataframe thead th {\n",
       "        text-align: right;\n",
       "    }\n",
       "</style>\n",
       "<table border=\"1\" class=\"dataframe\">\n",
       "  <thead>\n",
       "    <tr style=\"text-align: right;\">\n",
       "      <th></th>\n",
       "      <th>proba</th>\n",
       "      <th>label</th>\n",
       "    </tr>\n",
       "  </thead>\n",
       "  <tbody>\n",
       "    <tr>\n",
       "      <th>0</th>\n",
       "      <td>0.777630</td>\n",
       "      <td>1</td>\n",
       "    </tr>\n",
       "    <tr>\n",
       "      <th>1</th>\n",
       "      <td>0.456885</td>\n",
       "      <td>1</td>\n",
       "    </tr>\n",
       "    <tr>\n",
       "      <th>2</th>\n",
       "      <td>0.509283</td>\n",
       "      <td>1</td>\n",
       "    </tr>\n",
       "    <tr>\n",
       "      <th>3</th>\n",
       "      <td>0.537119</td>\n",
       "      <td>1</td>\n",
       "    </tr>\n",
       "    <tr>\n",
       "      <th>4</th>\n",
       "      <td>0.569646</td>\n",
       "      <td>1</td>\n",
       "    </tr>\n",
       "  </tbody>\n",
       "</table>\n",
       "</div>"
      ],
      "text/plain": [
       "      proba  label\n",
       "0  0.777630      1\n",
       "1  0.456885      1\n",
       "2  0.509283      1\n",
       "3  0.537119      1\n",
       "4  0.569646      1"
      ]
     },
     "execution_count": 27,
     "metadata": {},
     "output_type": "execute_result"
    }
   ],
   "source": [
    "# create a new dataframe for predicted probability and labels(in the y_os_test)\n",
    "predProba_label = pd.DataFrame()\n",
    "predProba_label['proba'] = y_os_pred_proba\n",
    "predProba_label['label'] = np.array(y_os_test)\n",
    "\n",
    "predProba_label.head()"
   ]
  },
  {
   "cell_type": "code",
   "execution_count": 28,
   "metadata": {},
   "outputs": [
    {
     "data": {
      "image/png": "[encoded data removed]",
      "text/plain": [
       "<Figure size 720x504 with 1 Axes>"
      ]
     },
     "metadata": {
      "needs_background": "light"
     },
     "output_type": "display_data"
    }
   ],
   "source": [
    "# Make the histogram\n",
    "plt.figure(figsize=(10,7))\n",
    "plt.hist(predProba_label[predProba_label.label==1].proba, density=True, histtype='step',label='Positive',color='r')\n",
    "plt.hist(predProba_label[predProba_label.label==0].proba, density=True, histtype='step',label='Negative')\n",
    "plt.xlabel('Probability of prediction', fontsize=25)\n",
    "plt.ylabel('Count of observation', fontsize=25)\n",
    "plt.legend(fontsize=15)\n",
    "plt.tick_params(axis='both', labelsize=25, pad=5)\n",
    "plt.show() "
   ]
  },
  {
   "cell_type": "markdown",
   "metadata": {},
   "source": [
    "As we can see from the predicted probability distribution, our two observation classes overlap among most of the probabilities.\n",
    "Which means we can not optimize the model classification accuracy by lowering or raising the threshold/cut-off. (By default it's 0.5). Therefore in the next step we will use other classification models to train the oversampled data and see if we will get better result than logistic regression."
   ]
  },
  {
   "cell_type": "markdown",
   "metadata": {},
   "source": [
    "## 4. Different models on the oversampled data set."
   ]
  },
  {
   "cell_type": "code",
   "execution_count": 29,
   "metadata": {},
   "outputs": [],
   "source": [
    "# model_res = {}\n",
    "\n",
    "# models = {'LR': LogisticRegression(),\n",
    "#          'GNB': GaussianNB(),\n",
    "#          'KNN': KNeighborsClassifier(),\n",
    "#          'SVC': SVC(probability=True, random_state=4),\n",
    "#          'DT': DecisionTreeClassifier(random_state=4),\n",
    "#          'RF': RandomForestClassifier(random_state=4),\n",
    "#          'GB': GradientBoostingClassifier(random_state=4)}\n",
    "\n",
    "# for i, model in models.items():\n",
    "#     start = time.time()\n",
    "#     model.fit(X_os_train, y_os_train)\n",
    "#     end = time.time()\n",
    "#     fit_time = end - start\n",
    "    \n",
    "#     start = time.time()\n",
    "#     y_os_pred = model.predict(X_os_test)\n",
    "#     end = time.time()\n",
    "#     pred_time = end - start\n",
    "    \n",
    "#     y_os_pred_proba = model.predict_proba(X_os_test)[:,1]\n",
    "#     fpr,tpr,_ = roc_curve(y_os_test, y_os_pred_proba,pos_label=1)\n",
    "#     auc = metrics.auc(fpr,tpr)\n",
    "    \n",
    "#     precision, recall, fscore, _ = score(y_os_test, y_os_pred, pos_label=1,average='binary')    \n",
    "#     model_res[i] = accuracy_score(y_os_test,y_os_pred), precision, recall, fscore, auc, fit_time, pred_time\n",
    "\n",
    "# # Put the model evaluation result in a data frame.\n",
    "# df_model_eval = pd.DataFrame(model_res.values(),\n",
    "#                              index=['LogisticRegression','GaussianNaiveBayes','KNeighbors','SVM',\n",
    "#                                                        'DecisionTree','RandomForest','GradientBoosting'],\n",
    "#                              columns=['accuracy','precision','recall','fscore','auc','fit_time','pred_time']).reset_index()\n",
    "\n",
    "# df_model_eval = df_model_eval.round(3)\n",
    "# df_model_eval = df_model_eval.rename(columns={'index':'model'})\n",
    "# df_model_eval"
   ]
  },
  {
   "cell_type": "code",
   "execution_count": 30,
   "metadata": {},
   "outputs": [
    {
     "data": {
      "text/plain": [
       "(array([0, 1]), array([7769, 7846]))"
      ]
     },
     "execution_count": 30,
     "metadata": {},
     "output_type": "execute_result"
    }
   ],
   "source": [
    "np.unique(y_os_train,return_counts=True)"
   ]
  },
  {
   "cell_type": "code",
   "execution_count": 31,
   "metadata": {},
   "outputs": [],
   "source": [
    "from sklearn.model_selection import cross_val_score\n",
    "from sklearn.metrics import make_scorer, accuracy_score, precision_score, recall_score, f1_score, roc_auc_score\n",
    "\n",
    "\n",
    "def model_eval(model_name,X,y):\n",
    "    scoring = {\n",
    "           'accuracy' : make_scorer(accuracy_score), \n",
    "           'precision' : make_scorer(precision_score),\n",
    "           'recall' : make_scorer(recall_score), \n",
    "           'f1_score' : make_scorer(f1_score),\n",
    "           'roc_auc' : make_scorer(roc_auc_score, needs_proba=True)}\n",
    "\n",
    "    kfold = KFold(n_splits=5)\n",
    "    model = model_name\n",
    "\n",
    "    model_res = model_selection.cross_validate(\n",
    "                                          estimator=model,\n",
    "                                          X=X,\n",
    "                                          y=y,\n",
    "                                          cv=kfold,\n",
    "                                          scoring=scoring)\n",
    "    \n",
    "    return pd.DataFrame(model_res).round(3)"
   ]
  },
  {
   "cell_type": "code",
   "execution_count": 32,
   "metadata": {},
   "outputs": [
    {
     "data": {
      "text/html": [
       "<div>\n",
       "<style scoped>\n",
       "    .dataframe tbody tr th:only-of-type {\n",
       "        vertical-align: middle;\n",
       "    }\n",
       "\n",
       "    .dataframe tbody tr th {\n",
       "        vertical-align: top;\n",
       "    }\n",
       "\n",
       "    .dataframe thead th {\n",
       "        text-align: right;\n",
       "    }\n",
       "</style>\n",
       "<table border=\"1\" class=\"dataframe\">\n",
       "  <thead>\n",
       "    <tr style=\"text-align: right;\">\n",
       "      <th></th>\n",
       "      <th>model</th>\n",
       "      <th>fit_time</th>\n",
       "      <th>score_time</th>\n",
       "      <th>test_accuracy</th>\n",
       "      <th>test_precision</th>\n",
       "      <th>test_recall</th>\n",
       "      <th>test_f1_score</th>\n",
       "      <th>test_roc_auc</th>\n",
       "    </tr>\n",
       "  </thead>\n",
       "  <tbody>\n",
       "    <tr>\n",
       "      <th>0</th>\n",
       "      <td>LR</td>\n",
       "      <td>0.0140</td>\n",
       "      <td>0.0090</td>\n",
       "      <td>0.6058</td>\n",
       "      <td>0.6274</td>\n",
       "      <td>0.5320</td>\n",
       "      <td>0.5754</td>\n",
       "      <td>0.6436</td>\n",
       "    </tr>\n",
       "    <tr>\n",
       "      <th>1</th>\n",
       "      <td>GNB</td>\n",
       "      <td>0.0034</td>\n",
       "      <td>0.0064</td>\n",
       "      <td>0.6006</td>\n",
       "      <td>0.6324</td>\n",
       "      <td>0.4894</td>\n",
       "      <td>0.5518</td>\n",
       "      <td>0.6298</td>\n",
       "    </tr>\n",
       "    <tr>\n",
       "      <th>2</th>\n",
       "      <td>KNN</td>\n",
       "      <td>0.1064</td>\n",
       "      <td>0.3890</td>\n",
       "      <td>0.7330</td>\n",
       "      <td>0.6942</td>\n",
       "      <td>0.8378</td>\n",
       "      <td>0.7590</td>\n",
       "      <td>0.8094</td>\n",
       "    </tr>\n",
       "    <tr>\n",
       "      <th>3</th>\n",
       "      <td>SVC</td>\n",
       "      <td>22.5780</td>\n",
       "      <td>0.9696</td>\n",
       "      <td>0.6520</td>\n",
       "      <td>0.6674</td>\n",
       "      <td>0.6130</td>\n",
       "      <td>0.6388</td>\n",
       "      <td>0.7062</td>\n",
       "    </tr>\n",
       "    <tr>\n",
       "      <th>4</th>\n",
       "      <td>DT</td>\n",
       "      <td>0.0252</td>\n",
       "      <td>0.0068</td>\n",
       "      <td>0.9960</td>\n",
       "      <td>0.9988</td>\n",
       "      <td>0.9934</td>\n",
       "      <td>0.9962</td>\n",
       "      <td>0.9962</td>\n",
       "    </tr>\n",
       "    <tr>\n",
       "      <th>5</th>\n",
       "      <td>RF</td>\n",
       "      <td>0.9144</td>\n",
       "      <td>0.1094</td>\n",
       "      <td>0.9690</td>\n",
       "      <td>0.9790</td>\n",
       "      <td>0.9588</td>\n",
       "      <td>0.9688</td>\n",
       "      <td>0.9960</td>\n",
       "    </tr>\n",
       "    <tr>\n",
       "      <th>6</th>\n",
       "      <td>GB</td>\n",
       "      <td>1.0570</td>\n",
       "      <td>0.0138</td>\n",
       "      <td>0.9370</td>\n",
       "      <td>0.9328</td>\n",
       "      <td>0.9426</td>\n",
       "      <td>0.9376</td>\n",
       "      <td>0.9888</td>\n",
       "    </tr>\n",
       "    <tr>\n",
       "      <th>7</th>\n",
       "      <td>XGB</td>\n",
       "      <td>0.3968</td>\n",
       "      <td>0.0136</td>\n",
       "      <td>0.9982</td>\n",
       "      <td>1.0000</td>\n",
       "      <td>0.9966</td>\n",
       "      <td>0.9984</td>\n",
       "      <td>1.0000</td>\n",
       "    </tr>\n",
       "    <tr>\n",
       "      <th>8</th>\n",
       "      <td>LightGB</td>\n",
       "      <td>0.1510</td>\n",
       "      <td>0.0198</td>\n",
       "      <td>0.9956</td>\n",
       "      <td>1.0000</td>\n",
       "      <td>0.9910</td>\n",
       "      <td>0.9954</td>\n",
       "      <td>1.0000</td>\n",
       "    </tr>\n",
       "  </tbody>\n",
       "</table>\n",
       "</div>"
      ],
      "text/plain": [
       "     model  fit_time  score_time  test_accuracy  test_precision  test_recall  \\\n",
       "0       LR    0.0140      0.0090         0.6058          0.6274       0.5320   \n",
       "1      GNB    0.0034      0.0064         0.6006          0.6324       0.4894   \n",
       "2      KNN    0.1064      0.3890         0.7330          0.6942       0.8378   \n",
       "3      SVC   22.5780      0.9696         0.6520          0.6674       0.6130   \n",
       "4       DT    0.0252      0.0068         0.9960          0.9988       0.9934   \n",
       "5       RF    0.9144      0.1094         0.9690          0.9790       0.9588   \n",
       "6       GB    1.0570      0.0138         0.9370          0.9328       0.9426   \n",
       "7      XGB    0.3968      0.0136         0.9982          1.0000       0.9966   \n",
       "8  LightGB    0.1510      0.0198         0.9956          1.0000       0.9910   \n",
       "\n",
       "   test_f1_score  test_roc_auc  \n",
       "0         0.5754        0.6436  \n",
       "1         0.5518        0.6298  \n",
       "2         0.7590        0.8094  \n",
       "3         0.6388        0.7062  \n",
       "4         0.9962        0.9962  \n",
       "5         0.9688        0.9960  \n",
       "6         0.9376        0.9888  \n",
       "7         0.9984        1.0000  \n",
       "8         0.9954        1.0000  "
      ]
     },
     "execution_count": 32,
     "metadata": {},
     "output_type": "execute_result"
    }
   ],
   "source": [
    "# create a empty list to put the average model test_score from the validation\n",
    "model_score_average = []\n",
    "\n",
    "# list up models we want to explore with.\n",
    "index = ['LR','GNB','KNN','SVC','DT','RF','GB','XGB','LightGB']\n",
    "models = [LogisticRegression(),\n",
    "          GaussianNB(),\n",
    "          KNeighborsClassifier(),\n",
    "          SVC(probability=True, random_state=43),\n",
    "          DecisionTreeClassifier(random_state=43),\n",
    "          RandomForestClassifier(random_state=43),\n",
    "          GradientBoostingClassifier(random_state=43),\n",
    "          XGBClassifier(random_state=43),\n",
    "          lgb.LGBMClassifier(objective='binary',random_state=43)]\n",
    "\n",
    "# Loop inside the models and average the test_score. (test_score contains: accuracy, precision, recall, fscore, roc_auc_score)\n",
    "# Append the avarage score to list 'model_score_average' \n",
    "for model in models:\n",
    "    model_score_average.append(model_eval(model,X_os_train,y_os_train).mean())\n",
    "    #model_score_average.append(model_eval(model,X_train,y_train).mean())\n",
    "\n",
    "# put the model_score_average into a dataframe \n",
    "df_model_eval = pd.DataFrame(model_score_average,index=index).round(5)\n",
    "df_model_eval = df_model_eval.reset_index().rename(columns={'index':'model'})\n",
    "\n",
    "df_model_eval"
   ]
  },
  {
   "cell_type": "code",
   "execution_count": 33,
   "metadata": {},
   "outputs": [
    {
     "data": {
      "image/png": "[encoded data removed]",
      "text/plain": [
       "<Figure size 432x864 with 4 Axes>"
      ]
     },
     "metadata": {
      "needs_background": "light"
     },
     "output_type": "display_data"
    }
   ],
   "source": [
    "fig,axs = plt.subplots(4,1, figsize=(6,12),sharex=True)\n",
    "\n",
    "axs[0].barh('model', 'test_recall', data=df_model_eval)\n",
    "axs[1].barh('model', 'test_f1_score', data=df_model_eval)\n",
    "axs[2].barh('model', 'test_accuracy', data=df_model_eval)\n",
    "axs[3].barh('model', 'test_roc_auc',data=df_model_eval)\n",
    "\n",
    "axs[0].set_xlabel('Recall')\n",
    "axs[1].set_xlabel('fscore')\n",
    "axs[2].set_xlabel('accuracy')\n",
    "axs[3].set_xlabel('roc_auc')\n",
    "\n",
    "\n",
    "axs[0].plot([0.9,0.9],[-1,9],'r--')\n",
    "axs[1].plot([0.9,0.9],[-1,9],'r--')\n",
    "axs[2].plot([0.9,0.9],[-1,9],'r--')\n",
    "axs[3].plot([0.9,0.9],[-1,9],'r--')\n",
    "plt.show()"
   ]
  },
  {
   "cell_type": "code",
   "execution_count": 34,
   "metadata": {},
   "outputs": [],
   "source": [
    "# check std of each model score from the 5fold cross validation\n",
    "model_score_std = []\n",
    "index = ['DT','RF','GB','XGB','LightGB']\n",
    "models = [DecisionTreeClassifier(random_state=43),\n",
    "          RandomForestClassifier(random_state=43),\n",
    "          GradientBoostingClassifier(random_state=43),\n",
    "          XGBClassifier(random_state=43),\n",
    "          lgb.LGBMClassifier(objective='binary',random_state=43)]\n",
    "\n",
    "for model in models:\n",
    "    model_score_std.append(model_eval(model,X_os_train,y_os_train).std())\n",
    "\n",
    "df_model_std = pd.DataFrame(model_score_std,index=index).round(6)\n",
    "df_model_std = df_model_std.reset_index().rename(columns={'index':'model'})"
   ]
  },
  {
   "cell_type": "code",
   "execution_count": 35,
   "metadata": {},
   "outputs": [
    {
     "data": {
      "text/html": [
       "<div>\n",
       "<style scoped>\n",
       "    .dataframe tbody tr th:only-of-type {\n",
       "        vertical-align: middle;\n",
       "    }\n",
       "\n",
       "    .dataframe tbody tr th {\n",
       "        vertical-align: top;\n",
       "    }\n",
       "\n",
       "    .dataframe thead th {\n",
       "        text-align: right;\n",
       "    }\n",
       "</style>\n",
       "<table border=\"1\" class=\"dataframe\">\n",
       "  <thead>\n",
       "    <tr style=\"text-align: right;\">\n",
       "      <th></th>\n",
       "      <th>model</th>\n",
       "      <th>fit_time</th>\n",
       "      <th>score_time</th>\n",
       "      <th>test_accuracy</th>\n",
       "      <th>test_precision</th>\n",
       "      <th>test_recall</th>\n",
       "      <th>test_f1_score</th>\n",
       "      <th>test_roc_auc</th>\n",
       "    </tr>\n",
       "  </thead>\n",
       "  <tbody>\n",
       "    <tr>\n",
       "      <th>3</th>\n",
       "      <td>XGB</td>\n",
       "      <td>0.005683</td>\n",
       "      <td>0.000548</td>\n",
       "      <td>0.000837</td>\n",
       "      <td>0.000000</td>\n",
       "      <td>0.001140</td>\n",
       "      <td>0.000548</td>\n",
       "      <td>0.000000</td>\n",
       "    </tr>\n",
       "    <tr>\n",
       "      <th>4</th>\n",
       "      <td>LightGB</td>\n",
       "      <td>0.005148</td>\n",
       "      <td>0.000447</td>\n",
       "      <td>0.001140</td>\n",
       "      <td>0.000000</td>\n",
       "      <td>0.002121</td>\n",
       "      <td>0.001140</td>\n",
       "      <td>0.000000</td>\n",
       "    </tr>\n",
       "    <tr>\n",
       "      <th>0</th>\n",
       "      <td>DT</td>\n",
       "      <td>0.002510</td>\n",
       "      <td>0.000894</td>\n",
       "      <td>0.001225</td>\n",
       "      <td>0.000837</td>\n",
       "      <td>0.002608</td>\n",
       "      <td>0.001304</td>\n",
       "      <td>0.001304</td>\n",
       "    </tr>\n",
       "    <tr>\n",
       "      <th>1</th>\n",
       "      <td>RF</td>\n",
       "      <td>0.034347</td>\n",
       "      <td>0.005675</td>\n",
       "      <td>0.002828</td>\n",
       "      <td>0.003317</td>\n",
       "      <td>0.006834</td>\n",
       "      <td>0.002588</td>\n",
       "      <td>0.000707</td>\n",
       "    </tr>\n",
       "    <tr>\n",
       "      <th>2</th>\n",
       "      <td>GB</td>\n",
       "      <td>0.016149</td>\n",
       "      <td>0.000548</td>\n",
       "      <td>0.006205</td>\n",
       "      <td>0.014601</td>\n",
       "      <td>0.013867</td>\n",
       "      <td>0.005367</td>\n",
       "      <td>0.001789</td>\n",
       "    </tr>\n",
       "  </tbody>\n",
       "</table>\n",
       "</div>"
      ],
      "text/plain": [
       "     model  fit_time  score_time  test_accuracy  test_precision  test_recall  \\\n",
       "3      XGB  0.005683    0.000548       0.000837        0.000000     0.001140   \n",
       "4  LightGB  0.005148    0.000447       0.001140        0.000000     0.002121   \n",
       "0       DT  0.002510    0.000894       0.001225        0.000837     0.002608   \n",
       "1       RF  0.034347    0.005675       0.002828        0.003317     0.006834   \n",
       "2       GB  0.016149    0.000548       0.006205        0.014601     0.013867   \n",
       "\n",
       "   test_f1_score  test_roc_auc  \n",
       "3       0.000548      0.000000  \n",
       "4       0.001140      0.000000  \n",
       "0       0.001304      0.001304  \n",
       "1       0.002588      0.000707  \n",
       "2       0.005367      0.001789  "
      ]
     },
     "execution_count": 35,
     "metadata": {},
     "output_type": "execute_result"
    }
   ],
   "source": [
    "df_model_std.sort_values(['test_recall','test_accuracy'])"
   ]
  },
  {
   "cell_type": "markdown",
   "metadata": {},
   "source": [
    "We can see among 9 models, LightGB, XGB, GB, RF, DT overall have very good performance. \n",
    "Therefore we will focus on these 5 models and optimize their hyperparameters via BayesianOptimization. "
   ]
  },
  {
   "cell_type": "markdown",
   "metadata": {},
   "source": [
    "## 5. Model optimization: hyperparameter tuning (Bayesian optimization)"
   ]
  },
  {
   "cell_type": "code",
   "execution_count": 36,
   "metadata": {},
   "outputs": [],
   "source": [
    "from bayes_opt import BayesianOptimization"
   ]
  },
  {
   "cell_type": "markdown",
   "metadata": {},
   "source": [
    "### Hyperparameter tuning for Lightgbm"
   ]
  },
  {
   "cell_type": "code",
   "execution_count": 37,
   "metadata": {},
   "outputs": [],
   "source": [
    "def lgb_eval(learning_rate,num_leaves, max_depth, subsample, colsample_bytree, min_child_samples, \n",
    "             min_child_weight, min_data_in_leaf, L2, L1):\n",
    "    \n",
    "    params = {\n",
    "        \"objective\" : \"binary\",\n",
    "        \"is_unbalance\": True,\n",
    "        \"learning_rate\" : learning_rate,\n",
    "        \"num_leaves\" : int(num_leaves),\n",
    "        \"max_depth\" : int(max_depth),\n",
    "        \"subsample\" : subsample,\n",
    "        \"colsample_bytree\" : colsample_bytree,\n",
    "        \"min_child_samples\" : int(min_child_samples),\n",
    "        \"min_child_weight\" : int(min_child_weight),\n",
    "        \"min_data_in_leaf\" : int(min_data_in_leaf),\n",
    "        \"reg_lambda\" : L2,\n",
    "        \"reg_alpha\" : L1,\n",
    "        \"num_threads\" : 20,\n",
    "        \"subsample_freq\" : 5,\n",
    "        \"random_state\" : 43,\n",
    "        \"verbose\": -1\n",
    "      \n",
    "    }\n",
    "    lgtrain = lgb.Dataset(X_os_train, y_os_train)\n",
    "   \n",
    "    cv_result = lgb.cv(params,\n",
    "                       lgtrain,\n",
    "                       num_boost_round = 1000,\n",
    "                       metrics='auc',\n",
    "                       early_stopping_rounds=100,\n",
    "                       stratified=True,\n",
    "                       nfold=3)\n",
    "    \n",
    "    return cv_result['auc-mean'][-1]"
   ]
  },
  {
   "cell_type": "code",
   "execution_count": 38,
   "metadata": {},
   "outputs": [
    {
     "name": "stdout",
     "output_type": "stream",
     "text": [
      "|   iter    |  target   |    L1     |    L2     | colsam... | learni... | max_depth | min_ch... | min_ch... | min_da... | num_le... | subsample |\n",
      "-------------------------------------------------------------------------------------------------------------------------------------------------\n",
      "| \u001b[0m 1       \u001b[0m | \u001b[0m 0.9838  \u001b[0m | \u001b[0m 0.998   \u001b[0m | \u001b[0m 94.59   \u001b[0m | \u001b[0m 0.7102  \u001b[0m | \u001b[0m 0.1764  \u001b[0m | \u001b[0m 10.19   \u001b[0m | \u001b[0m 8.256e+0\u001b[0m | \u001b[0m 0.02364 \u001b[0m | \u001b[0m 471.7   \u001b[0m | \u001b[0m 1.196e+0\u001b[0m | \u001b[0m 0.6533  \u001b[0m |\n",
      "| \u001b[95m 2       \u001b[0m | \u001b[95m 0.9994  \u001b[0m | \u001b[95m 0.1219  \u001b[0m | \u001b[95m 68.62   \u001b[0m | \u001b[95m 0.4846  \u001b[0m | \u001b[95m 0.3073  \u001b[0m | \u001b[95m 71.69   \u001b[0m | \u001b[95m 4.801e+0\u001b[0m | \u001b[95m 0.03586 \u001b[0m | \u001b[95m 80.5    \u001b[0m | \u001b[95m 3.821e+0\u001b[0m | \u001b[95m 0.6057  \u001b[0m |\n",
      "| \u001b[0m 3       \u001b[0m | \u001b[0m 0.983   \u001b[0m | \u001b[0m 0.4803  \u001b[0m | \u001b[0m 90.34   \u001b[0m | \u001b[0m 0.6313  \u001b[0m | \u001b[0m 0.1048  \u001b[0m | \u001b[0m 33.61   \u001b[0m | \u001b[0m 3.404e+0\u001b[0m | \u001b[0m 0.000162\u001b[0m | \u001b[0m 270.6   \u001b[0m | \u001b[0m 54.54   \u001b[0m | \u001b[0m 0.5688  \u001b[0m |\n",
      "| \u001b[95m 4       \u001b[0m | \u001b[95m 0.9995  \u001b[0m | \u001b[95m 0.1262  \u001b[0m | \u001b[95m 5.3     \u001b[0m | \u001b[95m 0.4102  \u001b[0m | \u001b[95m 0.3271  \u001b[0m | \u001b[95m 68.49   \u001b[0m | \u001b[95m 4.817e+0\u001b[0m | \u001b[95m 0.01511 \u001b[0m | \u001b[95m 264.8   \u001b[0m | \u001b[95m 258.6   \u001b[0m | \u001b[95m 0.8978  \u001b[0m |\n",
      "| \u001b[0m 5       \u001b[0m | \u001b[0m 0.9532  \u001b[0m | \u001b[0m 0.001618\u001b[0m | \u001b[0m 8.983   \u001b[0m | \u001b[0m 0.428   \u001b[0m | \u001b[0m 0.09317 \u001b[0m | \u001b[0m 61.59   \u001b[0m | \u001b[0m 6.854e+0\u001b[0m | \u001b[0m 0.01118 \u001b[0m | \u001b[0m 1.009e+0\u001b[0m | \u001b[0m 3.344e+0\u001b[0m | \u001b[0m 0.6071  \u001b[0m |\n",
      "| \u001b[0m 6       \u001b[0m | \u001b[0m 0.992   \u001b[0m | \u001b[0m 0.5066  \u001b[0m | \u001b[0m 24.05   \u001b[0m | \u001b[0m 0.4914  \u001b[0m | \u001b[0m 0.1782  \u001b[0m | \u001b[0m 20.63   \u001b[0m | \u001b[0m 4.568e+0\u001b[0m | \u001b[0m 0.0363  \u001b[0m | \u001b[0m 471.9   \u001b[0m | \u001b[0m 1.568e+0\u001b[0m | \u001b[0m 0.9574  \u001b[0m |\n",
      "| \u001b[0m 7       \u001b[0m | \u001b[0m 0.9845  \u001b[0m | \u001b[0m 0.4986  \u001b[0m | \u001b[0m 69.1    \u001b[0m | \u001b[0m 0.4653  \u001b[0m | \u001b[0m 0.3574  \u001b[0m | \u001b[0m 26.6    \u001b[0m | \u001b[0m 5.261e+0\u001b[0m | \u001b[0m 0.02711 \u001b[0m | \u001b[0m 945.6   \u001b[0m | \u001b[0m 645.4   \u001b[0m | \u001b[0m 0.7583  \u001b[0m |\n",
      "| \u001b[0m 8       \u001b[0m | \u001b[0m 0.9807  \u001b[0m | \u001b[0m 0.2266  \u001b[0m | \u001b[0m 96.52   \u001b[0m | \u001b[0m 0.5571  \u001b[0m | \u001b[0m 0.1153  \u001b[0m | \u001b[0m 56.76   \u001b[0m | \u001b[0m 2.661e+0\u001b[0m | \u001b[0m 0.01354 \u001b[0m | \u001b[0m 720.1   \u001b[0m | \u001b[0m 106.5   \u001b[0m | \u001b[0m 0.9599  \u001b[0m |\n",
      "| \u001b[0m 9       \u001b[0m | \u001b[0m 0.9767  \u001b[0m | \u001b[0m 0.6595  \u001b[0m | \u001b[0m 40.84   \u001b[0m | \u001b[0m 0.7463  \u001b[0m | \u001b[0m 0.1887  \u001b[0m | \u001b[0m 5.025   \u001b[0m | \u001b[0m 6.9e+03 \u001b[0m | \u001b[0m 0.01476 \u001b[0m | \u001b[0m 952.7   \u001b[0m | \u001b[0m 3.842e+0\u001b[0m | \u001b[0m 0.6769  \u001b[0m |\n",
      "| \u001b[0m 10      \u001b[0m | \u001b[0m 0.9854  \u001b[0m | \u001b[0m 0.1945  \u001b[0m | \u001b[0m 42.72   \u001b[0m | \u001b[0m 0.5609  \u001b[0m | \u001b[0m 0.08904 \u001b[0m | \u001b[0m 18.4    \u001b[0m | \u001b[0m 4.737e+0\u001b[0m | \u001b[0m 0.03704 \u001b[0m | \u001b[0m 379.1   \u001b[0m | \u001b[0m 681.7   \u001b[0m | \u001b[0m 0.7127  \u001b[0m |\n",
      "| \u001b[0m 11      \u001b[0m | \u001b[0m 0.9791  \u001b[0m | \u001b[0m 0.9268  \u001b[0m | \u001b[0m 2.256   \u001b[0m | \u001b[0m 0.4939  \u001b[0m | \u001b[0m 0.1246  \u001b[0m | \u001b[0m 84.84   \u001b[0m | \u001b[0m 1.015e+0\u001b[0m | \u001b[0m 0.04516 \u001b[0m | \u001b[0m 742.1   \u001b[0m | \u001b[0m 1.276e+0\u001b[0m | \u001b[0m 0.6203  \u001b[0m |\n",
      "| \u001b[95m 12      \u001b[0m | \u001b[95m 0.9996  \u001b[0m | \u001b[95m 0.2138  \u001b[0m | \u001b[95m 48.72   \u001b[0m | \u001b[95m 0.4259  \u001b[0m | \u001b[95m 0.3455  \u001b[0m | \u001b[95m 9.852   \u001b[0m | \u001b[95m 4.977e+0\u001b[0m | \u001b[95m 0.03642 \u001b[0m | \u001b[95m 27.59   \u001b[0m | \u001b[95m 48.71   \u001b[0m | \u001b[95m 0.5671  \u001b[0m |\n",
      "=================================================================================================================================================\n"
     ]
    }
   ],
   "source": [
    "lgbBO = BayesianOptimization(lgb_eval, {'learning_rate': (0.001, 0.4),\n",
    "                                        'num_leaves': (25, 4000),\n",
    "                                        'max_depth': (0, 100),\n",
    "                                        'subsample': (0.5, 1),\n",
    "                                        'colsample_bytree': (0.4,1),\n",
    "                                        'min_child_samples': (50, 10000),\n",
    "                                        'min_child_weight' : (0, 0.05),\n",
    "                                        'min_data_in_leaf': (10, 2000),\n",
    "                                        'L2': (0.0, 100),\n",
    "                                        'L1': (0.0, 1)})\n",
    "\n",
    "lgbBO.maximize(n_iter=10, init_points=2)"
   ]
  },
  {
   "cell_type": "code",
   "execution_count": 51,
   "metadata": {},
   "outputs": [
    {
     "data": {
      "text/plain": [
       "{'target': 0.999649285215846,\n",
       " 'params': {'L1': 0.21375861956702258,\n",
       "  'L2': 48.71648872416811,\n",
       "  'colsample_bytree': 0.4259313917195859,\n",
       "  'learning_rate': 0.3455260003689626,\n",
       "  'max_depth': 9.852059198423312,\n",
       "  'min_child_samples': 4977.441842646672,\n",
       "  'min_child_weight': 0.036415295753766605,\n",
       "  'min_data_in_leaf': 27.588380601561315,\n",
       "  'num_leaves': 48.714137011875266,\n",
       "  'subsample': 0.5671297238985533}}"
      ]
     },
     "execution_count": 51,
     "metadata": {},
     "output_type": "execute_result"
    }
   ],
   "source": [
    "lgbBO.max"
   ]
  },
  {
   "cell_type": "code",
   "execution_count": 52,
   "metadata": {},
   "outputs": [
    {
     "data": {
      "text/plain": [
       "fit_time          0.0782\n",
       "score_time        0.0116\n",
       "test_accuracy     0.9886\n",
       "test_precision    0.9974\n",
       "test_recall       0.9794\n",
       "test_f1_score     0.9882\n",
       "test_roc_auc      0.9988\n",
       "dtype: float64"
      ]
     },
     "execution_count": 52,
     "metadata": {},
     "output_type": "execute_result"
    }
   ],
   "source": [
    "# test result of LGB model with tuned hyperparameter\n",
    "# dataset: X_os_test, y_os_test with crossvalidation(5)\n",
    "model_eval(lgb.LGBMClassifier\n",
    "           (objective='binary', \n",
    "            L1=0.214,\n",
    "            L2=49,\n",
    "            colsample_bytree=0.426,\n",
    "            learning_rate= 0.346,\n",
    "            max_depth = 10,\n",
    "            min_child_samples= 4977,\n",
    "            min_child_weight= 0.036,\n",
    "            min_data_in_leaf= 28,\n",
    "            num_leaves=49,\n",
    "            subsample= 0.567,\n",
    "            verbose=-1,\n",
    "            random_state=43),\n",
    "            X_os_test,y_os_test).mean()"
   ]
  },
  {
   "cell_type": "code",
   "execution_count": 53,
   "metadata": {},
   "outputs": [
    {
     "data": {
      "text/plain": [
       "fit_time          0.0892\n",
       "score_time        0.0138\n",
       "test_accuracy     0.9856\n",
       "test_precision    0.9924\n",
       "test_recall       0.9784\n",
       "test_f1_score     0.9854\n",
       "test_roc_auc      0.9988\n",
       "dtype: float64"
      ]
     },
     "execution_count": 53,
     "metadata": {},
     "output_type": "execute_result"
    }
   ],
   "source": [
    "# Test result of LGB model with default value \n",
    "# dataset: X_os_test, y_os_test with crossvalidation(5)\n",
    "model_eval(lgb.LGBMClassifier(objective='binary',random_state=43,verbose=-1),\n",
    "           X_os_test,y_os_test).mean()"
   ]
  },
  {
   "cell_type": "code",
   "execution_count": 75,
   "metadata": {},
   "outputs": [
    {
     "name": "stdout",
     "output_type": "stream",
     "text": [
      "(0.9986206896551724, 0.9945054945054945, 0.9965588437715072, None)\n",
      "0.015477895736694336\n"
     ]
    }
   ],
   "source": [
    "# final test of LGB model with tuned hyperparameters on X_test, y_test without crossvalidation.\n",
    "# dataset :X_test, y_test\n",
    "\n",
    "modellgb = lgb.LGBMClassifier(objective='binary', \n",
    "            L1=0.214,\n",
    "            L2=49,\n",
    "            colsample_bytree=0.426,\n",
    "            learning_rate= 0.346,\n",
    "            max_depth = 10,\n",
    "            min_child_samples= 4977,\n",
    "            min_child_weight= 0.036,\n",
    "            min_data_in_leaf= 28,\n",
    "            num_leaves=49,\n",
    "            subsample= 0.567,\n",
    "            verbose=-1,\n",
    "            random_state=43)\n",
    "    \n",
    "modellgb.fit(X_os_train,y_os_train)\n",
    "\n",
    "start = time.time()\n",
    "y_pred = modellgb.predict(X_test)\n",
    "end = time.time()\n",
    "\n",
    "pred_time = end - start\n",
    "\n",
    "# get precision, recall, fscore.\n",
    "print(score(y_test, y_pred, pos_label=1,average='binary'))\n",
    "print(pred_time)"
   ]
  },
  {
   "cell_type": "code",
   "execution_count": 55,
   "metadata": {},
   "outputs": [
    {
     "data": {
      "text/plain": [
       "(1.0, 0.9848901098901099, 0.9923875432525952, None)"
      ]
     },
     "execution_count": 55,
     "metadata": {},
     "output_type": "execute_result"
    }
   ],
   "source": [
    "# final test of LGB model with default parameter values on X_test, y_test withou crossvalidation.\n",
    "# dataset :X_test, y_test\n",
    "\n",
    "modellgb = lgb.LGBMClassifier(objective='binary', \n",
    "            random_state=43)\n",
    "    \n",
    "modellgb.fit(X_os_train,y_os_train)\n",
    "y_pred = modellgb.predict(X_test)\n",
    "\n",
    "# get precision, recall, fscore.\n",
    "score(y_test, y_pred, pos_label=1,average='binary') "
   ]
  },
  {
   "cell_type": "markdown",
   "metadata": {},
   "source": [
    "## Hyperparameter tuning for XGB"
   ]
  },
  {
   "cell_type": "code",
   "execution_count": 45,
   "metadata": {},
   "outputs": [],
   "source": [
    "def XGB_eval(eta, gamma, subsample, colsample_bytree, max_depth, min_child_weight):\n",
    "    params = {\n",
    "        \"objective\" : \"binary:logistic\",\n",
    "        \"eta\" : eta,\n",
    "        \"gamma\" : gamma,\n",
    "        \"subsample\" : subsample,\n",
    "        \"colsample_bytree\" : colsample_bytree,\n",
    "        \"max_depth\" : int(max_depth),\n",
    "        \"min_child_weight\" : int(min_child_weight),\n",
    "        #\"lambda\" : L2,\n",
    "        #\"alpha\" : L1,\n",
    "        \"seed\" : 43,\n",
    "        \"nthread\": 4}\n",
    "    \n",
    "    \n",
    "    xgtrain = xgb.DMatrix(X_os_train, label=y_os_train)\n",
    "    cv_result =xgb.cv(params,\n",
    "                      xgtrain,\n",
    "                      early_stopping_rounds=100,\n",
    "                      num_boost_round=70,\n",
    "                      stratified=True,\n",
    "                      nfold=3,\n",
    "                      metrics= 'auc')\n",
    "                       \n",
    "          \n",
    "    return cv_result['test-auc-mean'].iloc[-1]"
   ]
  },
  {
   "cell_type": "code",
   "execution_count": 46,
   "metadata": {},
   "outputs": [
    {
     "name": "stdout",
     "output_type": "stream",
     "text": [
      "|   iter    |  target   | colsam... |    eta    |   gamma   | max_depth | min_ch... | subsample |\n",
      "-------------------------------------------------------------------------------------------------\n",
      "| \u001b[0m 1       \u001b[0m | \u001b[0m 0.9998  \u001b[0m | \u001b[0m 0.06512 \u001b[0m | \u001b[0m 0.368   \u001b[0m | \u001b[0m 3.278   \u001b[0m | \u001b[0m 49.64   \u001b[0m | \u001b[0m 2.662   \u001b[0m | \u001b[0m 0.6409  \u001b[0m |\n",
      "| \u001b[0m 2       \u001b[0m | \u001b[0m 0.9997  \u001b[0m | \u001b[0m 0.3816  \u001b[0m | \u001b[0m 0.3658  \u001b[0m | \u001b[0m 12.59   \u001b[0m | \u001b[0m 67.79   \u001b[0m | \u001b[0m 1.807   \u001b[0m | \u001b[0m 0.8227  \u001b[0m |\n",
      "| \u001b[95m 3       \u001b[0m | \u001b[95m 0.9999  \u001b[0m | \u001b[95m 0.545   \u001b[0m | \u001b[95m 0.05347 \u001b[0m | \u001b[95m 2.334   \u001b[0m | \u001b[95m 49.18   \u001b[0m | \u001b[95m 2.111   \u001b[0m | \u001b[95m 0.6897  \u001b[0m |\n",
      "| \u001b[0m 4       \u001b[0m | \u001b[0m 0.9998  \u001b[0m | \u001b[0m 0.3509  \u001b[0m | \u001b[0m 0.2507  \u001b[0m | \u001b[0m 3.623   \u001b[0m | \u001b[0m 9.52    \u001b[0m | \u001b[0m 2.292   \u001b[0m | \u001b[0m 0.7909  \u001b[0m |\n",
      "| \u001b[0m 5       \u001b[0m | \u001b[0m 0.9997  \u001b[0m | \u001b[0m 0.7735  \u001b[0m | \u001b[0m 0.2548  \u001b[0m | \u001b[0m 2.642   \u001b[0m | \u001b[0m 84.03   \u001b[0m | \u001b[0m 2.251   \u001b[0m | \u001b[0m 0.8021  \u001b[0m |\n",
      "| \u001b[0m 6       \u001b[0m | \u001b[0m 0.9998  \u001b[0m | \u001b[0m 0.5213  \u001b[0m | \u001b[0m 0.2001  \u001b[0m | \u001b[0m 2.756   \u001b[0m | \u001b[0m 49.06   \u001b[0m | \u001b[0m 1.524   \u001b[0m | \u001b[0m 0.9823  \u001b[0m |\n",
      "| \u001b[0m 7       \u001b[0m | \u001b[0m 0.9998  \u001b[0m | \u001b[0m 0.2078  \u001b[0m | \u001b[0m 0.06153 \u001b[0m | \u001b[0m 2.149   \u001b[0m | \u001b[0m 49.44   \u001b[0m | \u001b[0m 2.815   \u001b[0m | \u001b[0m 0.9764  \u001b[0m |\n",
      "| \u001b[0m 8       \u001b[0m | \u001b[0m 0.9997  \u001b[0m | \u001b[0m 0.928   \u001b[0m | \u001b[0m 0.3279  \u001b[0m | \u001b[0m 2.448   \u001b[0m | \u001b[0m 48.9    \u001b[0m | \u001b[0m 2.943   \u001b[0m | \u001b[0m 0.5733  \u001b[0m |\n",
      "| \u001b[95m 9       \u001b[0m | \u001b[95m 1.0     \u001b[0m | \u001b[95m 0.4709  \u001b[0m | \u001b[95m 0.08386 \u001b[0m | \u001b[95m 2.08    \u001b[0m | \u001b[95m 48.81   \u001b[0m | \u001b[95m 0.9505  \u001b[0m | \u001b[95m 0.6615  \u001b[0m |\n",
      "| \u001b[0m 10      \u001b[0m | \u001b[0m 0.9997  \u001b[0m | \u001b[0m 0.7086  \u001b[0m | \u001b[0m 0.3344  \u001b[0m | \u001b[0m 2.32    \u001b[0m | \u001b[0m 49.62   \u001b[0m | \u001b[0m 1.681   \u001b[0m | \u001b[0m 0.9031  \u001b[0m |\n",
      "| \u001b[0m 11      \u001b[0m | \u001b[0m 0.9323  \u001b[0m | \u001b[0m 0.2759  \u001b[0m | \u001b[0m 0.1212  \u001b[0m | \u001b[0m 6.485   \u001b[0m | \u001b[0m 2.73    \u001b[0m | \u001b[0m 1.017   \u001b[0m | \u001b[0m 0.5125  \u001b[0m |\n",
      "| \u001b[0m 12      \u001b[0m | \u001b[0m 0.9998  \u001b[0m | \u001b[0m 0.4434  \u001b[0m | \u001b[0m 0.4     \u001b[0m | \u001b[0m 0.2447  \u001b[0m | \u001b[0m 17.62   \u001b[0m | \u001b[0m 3.795   \u001b[0m | \u001b[0m 1.0     \u001b[0m |\n",
      "=================================================================================================\n"
     ]
    }
   ],
   "source": [
    "xgbBO = BayesianOptimization(XGB_eval, {'eta': (0.001,0.4),\n",
    "                                        'gamma': (0,20),\n",
    "                                        'subsample': (0.5,1),\n",
    "                                        'colsample_bytree': (0,1),\n",
    "                                        'max_depth': (1, 100),\n",
    "                                        'min_child_weight': (0,20)\n",
    "                                        #'L2':(0, 100),\n",
    "                                        #'L1': (0, 1),\n",
    "                                        })\n",
    "                                        \n",
    "                                        \n",
    "\n",
    "xgbBO.maximize(n_iter=10, init_points=2)"
   ]
  },
  {
   "cell_type": "code",
   "execution_count": 56,
   "metadata": {},
   "outputs": [
    {
     "data": {
      "text/plain": [
       "{'target': 0.9999600000000001,\n",
       " 'params': {'colsample_bytree': 0.47089592062131835,\n",
       "  'eta': 0.08386280910243889,\n",
       "  'gamma': 2.0795069877557837,\n",
       "  'max_depth': 48.81378979247698,\n",
       "  'min_child_weight': 0.9504952127981481,\n",
       "  'subsample': 0.6614669311062656}}"
      ]
     },
     "execution_count": 56,
     "metadata": {},
     "output_type": "execute_result"
    }
   ],
   "source": [
    "xgbBO.max"
   ]
  },
  {
   "cell_type": "code",
   "execution_count": 57,
   "metadata": {},
   "outputs": [
    {
     "data": {
      "text/plain": [
       "fit_time          0.3016\n",
       "score_time        0.0082\n",
       "test_accuracy     0.9932\n",
       "test_precision    0.9996\n",
       "test_recall       0.9860\n",
       "test_f1_score     0.9928\n",
       "test_roc_auc      0.9998\n",
       "dtype: float64"
      ]
     },
     "execution_count": 57,
     "metadata": {},
     "output_type": "execute_result"
    }
   ],
   "source": [
    "# test result of XGB model with tuned hyperparameter\n",
    "# dataset: X_os_test, y_os_test with crossvalidation(5)\n",
    "\n",
    "model_eval(XGBClassifier\n",
    "           (#L1=0.318,\n",
    "            #L2=26,\n",
    "            objective='binary:logistic',\n",
    "            colsample_bytree=0.471,\n",
    "            gamma=2.080,\n",
    "            eta= 0.084,\n",
    "            max_depth = 49,\n",
    "            min_child_weight=0.950,\n",
    "            subsample=0.661,\n",
    "            seed=43),\n",
    "            X_os_test,y_os_test).mean()"
   ]
  },
  {
   "cell_type": "code",
   "execution_count": 58,
   "metadata": {},
   "outputs": [
    {
     "data": {
      "text/plain": [
       "fit_time          0.1738\n",
       "score_time        0.0074\n",
       "test_accuracy     0.9934\n",
       "test_precision    0.9988\n",
       "test_recall       0.9880\n",
       "test_f1_score     0.9932\n",
       "test_roc_auc      0.9998\n",
       "dtype: float64"
      ]
     },
     "execution_count": 58,
     "metadata": {},
     "output_type": "execute_result"
    }
   ],
   "source": [
    "# test result of XGB model with default parameter values\n",
    "# dataset: X_os_test, y_os_test with crossvalidation(5)\n",
    "\n",
    "model_eval(XGBClassifier(\n",
    "            objective='binary:logistic',\n",
    "            seed=43),\n",
    "            X_os_test,y_os_test).mean()"
   ]
  },
  {
   "cell_type": "code",
   "execution_count": 73,
   "metadata": {},
   "outputs": [
    {
     "name": "stdout",
     "output_type": "stream",
     "text": [
      "(1.0, 0.9986263736263736, 0.9993127147766323, None)\n",
      "0.011487007141113281\n"
     ]
    }
   ],
   "source": [
    "# final test of XBG model with tuned hyperparameters on X_test, y_test without crossvalidation.\n",
    "# dataset: X_test, y_test\n",
    "\n",
    "modelxgb1 = XGBClassifier(objective='binary:logistic',\n",
    "            colsample_bytree=0.471,\n",
    "            gamma=2.080,\n",
    "            eta= 0.084,\n",
    "            max_depth = 49,\n",
    "            min_child_weight=0.950,\n",
    "            subsample=0.661,\n",
    "            seed=43)\n",
    "    \n",
    "modelxgb1.fit(X_os_train,y_os_train)\n",
    "\n",
    "start = time.time()\n",
    "y_pred = modelxgb1.predict(X_test)\n",
    "end = time.time()\n",
    "\n",
    "pred_time = end - start\n",
    "\n",
    "# get precision, recall, fscore.\n",
    "print(score(y_test, y_pred, pos_label=1,average='binary'))\n",
    "print(pred_time)"
   ]
  },
  {
   "cell_type": "code",
   "execution_count": 65,
   "metadata": {},
   "outputs": [
    {
     "data": {
      "text/plain": [
       "(1.0, 1.0, 1.0, None)"
      ]
     },
     "execution_count": 65,
     "metadata": {},
     "output_type": "execute_result"
    }
   ],
   "source": [
    "# final test of XGB model with default parameter values on X_test, y_test withou crossvalidation.\n",
    "# dataset: X_test, y_test\n",
    "\n",
    "modelxgb2 =  XGBClassifier(random_state=43)\n",
    "modelxgb2.fit(X_os_train,y_os_train)\n",
    "y_pred = modelxgb2.predict(X_test)\n",
    "\n",
    "# get precision, recall, fscore.\n",
    "score(y_test, y_pred, pos_label=1,average='binary') "
   ]
  },
  {
   "cell_type": "code",
   "execution_count": null,
   "metadata": {},
   "outputs": [],
   "source": [
    "## Hyperparameter tuning for RF"
   ]
  },
  {
   "cell_type": "code",
   "execution_count": null,
   "metadata": {},
   "outputs": [],
   "source": [
    "# from sklearn.model_selection import cross_val_score"
   ]
  },
  {
   "cell_type": "code",
   "execution_count": null,
   "metadata": {},
   "outputs": [],
   "source": [
    "# def rf_cv(X, y, **kwargs):\n",
    "#     estimator = RandomForestClassifier(**kwargs)\n",
    "#     cval = cross_val_score(estimator, X, y, scoring = 'roc_auc', cv = 3)\n",
    "#     #cval = cross_val_score(estimator, X_train, y_train, scoring = 'roc_auc', cv = 3)\n",
    "#     return cval.mean()\n",
    "\n",
    "\n",
    "# def BayesianOptimization_rf(X, y):\n",
    "#     def rf_crossval(n_estimators,  max_depth, \n",
    "#                     min_samples_split, max_leaf_nodes, min_samples_leaf,random_state=43):\n",
    "        \n",
    "#         return rf_cv(\n",
    "#             X = X,\n",
    "#             y = y,\n",
    "#             bootstrap = True)\n",
    "    \n",
    "#     rfBO = BayesianOptimization(\n",
    "#         f = rf_crossval,\n",
    "#         pbounds = {\n",
    "#             \"n_estimators\" : (10, 400),\n",
    "#             #\"max_features\" : \n",
    "#             \"max_depth\" : (0,50),\n",
    "#             \"min_samples_split\" : (0,5000),\n",
    "#             \"max_leaf_nodes\" : (0,200),\n",
    "#             \"min_samples_leaf\" : (0,0.5)\n",
    "#         }\n",
    "#     )\n",
    "#     rfBO.maximize(n_iter = 10,init_points=2)\n",
    "#     print(\"Final result:\", rfBO.max)"
   ]
  },
  {
   "cell_type": "code",
   "execution_count": null,
   "metadata": {},
   "outputs": [],
   "source": [
    "#BayesianOptimization_rf(X_os_train,y_os_train)"
   ]
  },
  {
   "cell_type": "code",
   "execution_count": null,
   "metadata": {},
   "outputs": [],
   "source": [
    "# model = RandomForestClassifier(max_depth=6.24, \n",
    "#                                max_leaf_nodes=157, min_samples_leaf=0.075,\n",
    "#                                min_samples_split=2216,random_state=43)"
   ]
  },
  {
   "cell_type": "code",
   "execution_count": null,
   "metadata": {},
   "outputs": [],
   "source": [
    "## Hyperparameter tuning for LogisticRegression"
   ]
  },
  {
   "cell_type": "code",
   "execution_count": null,
   "metadata": {},
   "outputs": [],
   "source": [
    "# def lr_cv(X, y, **kwargs):\n",
    "#     estimator = LogisticRegression(**kwargs)\n",
    "#     cval = cross_val_score(estimator, X, y, scoring = 'recall', cv = 3)\n",
    "#     return cval.mean()\n",
    "\n",
    "\n",
    "# def BayesianOptimization_lr(X, y):\n",
    "#     def lr_crossval(C):\n",
    "        \n",
    "#         return rf_cv(\n",
    "#             X = X,\n",
    "#             y = y)\n",
    "    \n",
    "#     lrBO = BayesianOptimization(\n",
    "#         f = lr_crossval,\n",
    "#         pbounds = {\n",
    "#             \"C\" : (0, 1000)\n",
    "#             #\"l2\" : (0,100)\n",
    "#         }\n",
    "#     )\n",
    "#     lrBO.maximize(n_iter = 10,init_points=2)\n",
    "#     print(\"Final result:\", lrBO.max)"
   ]
  },
  {
   "cell_type": "code",
   "execution_count": null,
   "metadata": {},
   "outputs": [],
   "source": [
    "#BayesianOptimization_lr(X_os_train,y_os_train)"
   ]
  },
  {
   "cell_type": "markdown",
   "metadata": {},
   "source": [
    "## Final model"
   ]
  },
  {
   "cell_type": "code",
   "execution_count": 76,
   "metadata": {},
   "outputs": [
    {
     "data": {
      "text/plain": [
       "(0.9986206896551724, 0.9945054945054945, 0.9965588437715072, None)"
      ]
     },
     "execution_count": 76,
     "metadata": {},
     "output_type": "execute_result"
    }
   ],
   "source": [
    "fin_model =lgb.LGBMClassifier(objective='binary', \n",
    "            L1=0.214,\n",
    "            L2=49,\n",
    "            colsample_bytree=0.426,\n",
    "            learning_rate= 0.346,\n",
    "            max_depth = 10,\n",
    "            min_child_samples= 4977,\n",
    "            min_child_weight= 0.036,\n",
    "            min_data_in_leaf= 28,\n",
    "            num_leaves=49,\n",
    "            subsample= 0.567,\n",
    "            verbose=-1,\n",
    "            random_state=43)\n",
    "\n",
    "fin_model.fit(X_os_train, y_os_train)\n",
    "fin_y_pred = fin_model.predict(X_test)\n",
    "\n",
    "# get precision, recall, fscore\n",
    "score(y_test, fin_y_pred, pos_label=1,average='binary')    "
   ]
  },
  {
   "cell_type": "code",
   "execution_count": 79,
   "metadata": {},
   "outputs": [
    {
     "data": {
      "image/png": "[encoded data removed]",
      "text/plain": [
       "<Figure size 432x432 with 1 Axes>"
      ]
     },
     "metadata": {
      "needs_background": "light"
     },
     "output_type": "display_data"
    }
   ],
   "source": [
    "lgb_fpr,lgb_tpr,threshold = roc_curve(y_test,fin_model.predict_proba(X_test)[:,1])\n",
    "roc_auc_ = metrics.auc(lgb_fpr,lgb_tpr)\n",
    "plt.figure(figsize=(6,6))\n",
    "_=plt.plot([0,1],[0,1],'k--')\n",
    "_=plt.plot(lgb_fpr,lgb_tpr,'r',label='AUC = %.3f'%roc_auc_)\n",
    "_=plt.title('Receiver Operating Characteristic (ROC) curve of final model')\n",
    "_=plt.xlabel('False Positive Rate (1 - Specificity)',fontsize=12,fontweight='bold')\n",
    "_=plt.ylabel('True Positive Rate (Sensitivity)',fontsize=12,fontweight='bold')\n",
    "_=plt.legend(loc='lower right')\n",
    "\n",
    "#plt.savefig('figures/roc.jpg', dpi=300, bbox_inches='tight')"
   ]
  },
  {
   "cell_type": "code",
   "execution_count": 82,
   "metadata": {},
   "outputs": [
    {
     "data": {
      "text/plain": [
       "True     5503\n",
       "False       5\n",
       "Name: target, dtype: int64"
      ]
     },
     "execution_count": 82,
     "metadata": {},
     "output_type": "execute_result"
    }
   ],
   "source": [
    "(fin_y_pred == y_test).value_counts()"
   ]
  },
  {
   "cell_type": "code",
   "execution_count": 83,
   "metadata": {},
   "outputs": [
    {
     "data": {
      "text/plain": [
       "array([[ 724,    4],\n",
       "       [   1, 4779]])"
      ]
     },
     "execution_count": 83,
     "metadata": {},
     "output_type": "execute_result"
    }
   ],
   "source": [
    "metrics.confusion_matrix(y_test, y_pred,labels=[1,0])"
   ]
  },
  {
   "cell_type": "code",
   "execution_count": null,
   "metadata": {},
   "outputs": [],
   "source": []
  }
 ],
 "metadata": {
  "kernelspec": {
   "display_name": "Python 3",
   "language": "python",
   "name": "python3"
  },
  "language_info": {
   "codemirror_mode": {
    "name": "ipython",
    "version": 3
   },
   "file_extension": ".py",
   "mimetype": "text/x-python",
   "name": "python",
   "nbconvert_exporter": "python",
   "pygments_lexer": "ipython3",
   "version": "3.8.3"
  }
 },
 "nbformat": 4,
 "nbformat_minor": 4
}
