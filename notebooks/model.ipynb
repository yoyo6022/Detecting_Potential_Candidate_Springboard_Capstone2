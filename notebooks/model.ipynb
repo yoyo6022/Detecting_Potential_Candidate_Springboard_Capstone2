{
 "cells": [
  {
   "cell_type": "code",
   "execution_count": 1,
   "metadata": {},
   "outputs": [],
   "source": [
    "import os\n",
    "import pandas as pd\n",
    "import datetime\n",
    "import seaborn as sns\n",
    "import matplotlib.pyplot as plt\n",
    "import numpy as np\n",
    "from scipy import stats\n",
    "import random\n",
    "from category_encoders import LeaveOneOutEncoder\n",
    "from sklearn.preprocessing import StandardScaler\n",
    "from sklearn.model_selection import train_test_split \n",
    "from sklearn.linear_model import LogisticRegression\n",
    "from sklearn import metrics\n",
    "%matplotlib inline"
   ]
  },
  {
   "cell_type": "code",
   "execution_count": 2,
   "metadata": {},
   "outputs": [
    {
     "name": "stdout",
     "output_type": "stream",
     "text": [
      "/Users/liuyang/Desktop/Springboard_Capstone/notebooks\n",
      "/Users/liuyang/Desktop/Springboard_Capstone/data\n"
     ]
    }
   ],
   "source": [
    "print(os.getcwd())\n",
    "os.chdir('/Users/liuyang/Desktop/Springboard_Capstone/data') \n",
    "print(os.getcwd())"
   ]
  },
  {
   "cell_type": "code",
   "execution_count": 3,
   "metadata": {},
   "outputs": [],
   "source": [
    "df = pd.read_csv('preprocessed_train.csv')"
   ]
  },
  {
   "cell_type": "code",
   "execution_count": 4,
   "metadata": {},
   "outputs": [
    {
     "data": {
      "text/html": [
       "<div>\n",
       "<style scoped>\n",
       "    .dataframe tbody tr th:only-of-type {\n",
       "        vertical-align: middle;\n",
       "    }\n",
       "\n",
       "    .dataframe tbody tr th {\n",
       "        vertical-align: top;\n",
       "    }\n",
       "\n",
       "    .dataframe thead th {\n",
       "        text-align: right;\n",
       "    }\n",
       "</style>\n",
       "<table border=\"1\" class=\"dataframe\">\n",
       "  <thead>\n",
       "    <tr style=\"text-align: right;\">\n",
       "      <th></th>\n",
       "      <th>city</th>\n",
       "      <th>city_development_index</th>\n",
       "      <th>gender</th>\n",
       "      <th>relevent_experience</th>\n",
       "      <th>enrolled_university</th>\n",
       "      <th>education_level</th>\n",
       "      <th>major_discipline</th>\n",
       "      <th>experience</th>\n",
       "      <th>company_size</th>\n",
       "      <th>company_type</th>\n",
       "      <th>last_new_job</th>\n",
       "      <th>training_hours</th>\n",
       "      <th>target</th>\n",
       "    </tr>\n",
       "  </thead>\n",
       "  <tbody>\n",
       "    <tr>\n",
       "      <th>0</th>\n",
       "      <td>city_149</td>\n",
       "      <td>0.689</td>\n",
       "      <td>1</td>\n",
       "      <td>1</td>\n",
       "      <td>0</td>\n",
       "      <td>1</td>\n",
       "      <td>1</td>\n",
       "      <td>1</td>\n",
       "      <td>2</td>\n",
       "      <td>4</td>\n",
       "      <td>1</td>\n",
       "      <td>106</td>\n",
       "      <td>0</td>\n",
       "    </tr>\n",
       "    <tr>\n",
       "      <th>1</th>\n",
       "      <td>city_83</td>\n",
       "      <td>0.923</td>\n",
       "      <td>1</td>\n",
       "      <td>1</td>\n",
       "      <td>0</td>\n",
       "      <td>1</td>\n",
       "      <td>1</td>\n",
       "      <td>3</td>\n",
       "      <td>1</td>\n",
       "      <td>2</td>\n",
       "      <td>1</td>\n",
       "      <td>69</td>\n",
       "      <td>0</td>\n",
       "    </tr>\n",
       "    <tr>\n",
       "      <th>2</th>\n",
       "      <td>city_16</td>\n",
       "      <td>0.910</td>\n",
       "      <td>1</td>\n",
       "      <td>1</td>\n",
       "      <td>0</td>\n",
       "      <td>1</td>\n",
       "      <td>1</td>\n",
       "      <td>2</td>\n",
       "      <td>1</td>\n",
       "      <td>1</td>\n",
       "      <td>1</td>\n",
       "      <td>4</td>\n",
       "      <td>0</td>\n",
       "    </tr>\n",
       "    <tr>\n",
       "      <th>3</th>\n",
       "      <td>city_64</td>\n",
       "      <td>0.666</td>\n",
       "      <td>1</td>\n",
       "      <td>1</td>\n",
       "      <td>0</td>\n",
       "      <td>1</td>\n",
       "      <td>1</td>\n",
       "      <td>3</td>\n",
       "      <td>1</td>\n",
       "      <td>4</td>\n",
       "      <td>1</td>\n",
       "      <td>26</td>\n",
       "      <td>0</td>\n",
       "    </tr>\n",
       "    <tr>\n",
       "      <th>4</th>\n",
       "      <td>city_100</td>\n",
       "      <td>0.887</td>\n",
       "      <td>1</td>\n",
       "      <td>0</td>\n",
       "      <td>0</td>\n",
       "      <td>1</td>\n",
       "      <td>1</td>\n",
       "      <td>2</td>\n",
       "      <td>1</td>\n",
       "      <td>4</td>\n",
       "      <td>1</td>\n",
       "      <td>88</td>\n",
       "      <td>1</td>\n",
       "    </tr>\n",
       "  </tbody>\n",
       "</table>\n",
       "</div>"
      ],
      "text/plain": [
       "       city  city_development_index  gender  relevent_experience  \\\n",
       "0  city_149                   0.689       1                    1   \n",
       "1   city_83                   0.923       1                    1   \n",
       "2   city_16                   0.910       1                    1   \n",
       "3   city_64                   0.666       1                    1   \n",
       "4  city_100                   0.887       1                    0   \n",
       "\n",
       "   enrolled_university  education_level  major_discipline  experience  \\\n",
       "0                    0                1                 1           1   \n",
       "1                    0                1                 1           3   \n",
       "2                    0                1                 1           2   \n",
       "3                    0                1                 1           3   \n",
       "4                    0                1                 1           2   \n",
       "\n",
       "   company_size  company_type  last_new_job  training_hours  target  \n",
       "0             2             4             1             106       0  \n",
       "1             1             2             1              69       0  \n",
       "2             1             1             1               4       0  \n",
       "3             1             4             1              26       0  \n",
       "4             1             4             1              88       1  "
      ]
     },
     "execution_count": 4,
     "metadata": {},
     "output_type": "execute_result"
    }
   ],
   "source": [
    "df.head()"
   ]
  },
  {
   "cell_type": "code",
   "execution_count": 5,
   "metadata": {},
   "outputs": [],
   "source": [
    "X = df.drop(['target'],axis=1)\n",
    "y = df['target']"
   ]
  },
  {
   "cell_type": "code",
   "execution_count": 6,
   "metadata": {},
   "outputs": [],
   "source": [
    "# Use LeaveOneOutEncoder to encode 'city'\n",
    "enc = LeaveOneOutEncoder(cols=['city'])"
   ]
  },
  {
   "cell_type": "code",
   "execution_count": 7,
   "metadata": {},
   "outputs": [],
   "source": [
    "X_enc = enc.fit_transform(X,y)"
   ]
  },
  {
   "cell_type": "code",
   "execution_count": 8,
   "metadata": {},
   "outputs": [
    {
     "data": {
      "text/html": [
       "<div>\n",
       "<style scoped>\n",
       "    .dataframe tbody tr th:only-of-type {\n",
       "        vertical-align: middle;\n",
       "    }\n",
       "\n",
       "    .dataframe tbody tr th {\n",
       "        vertical-align: top;\n",
       "    }\n",
       "\n",
       "    .dataframe thead th {\n",
       "        text-align: right;\n",
       "    }\n",
       "</style>\n",
       "<table border=\"1\" class=\"dataframe\">\n",
       "  <thead>\n",
       "    <tr style=\"text-align: right;\">\n",
       "      <th></th>\n",
       "      <th>city</th>\n",
       "      <th>city_development_index</th>\n",
       "      <th>gender</th>\n",
       "      <th>relevent_experience</th>\n",
       "      <th>enrolled_university</th>\n",
       "      <th>education_level</th>\n",
       "      <th>major_discipline</th>\n",
       "      <th>experience</th>\n",
       "      <th>company_size</th>\n",
       "      <th>company_type</th>\n",
       "      <th>last_new_job</th>\n",
       "      <th>training_hours</th>\n",
       "    </tr>\n",
       "  </thead>\n",
       "  <tbody>\n",
       "    <tr>\n",
       "      <th>0</th>\n",
       "      <td>0.125000</td>\n",
       "      <td>0.689</td>\n",
       "      <td>1</td>\n",
       "      <td>1</td>\n",
       "      <td>0</td>\n",
       "      <td>1</td>\n",
       "      <td>1</td>\n",
       "      <td>1</td>\n",
       "      <td>2</td>\n",
       "      <td>4</td>\n",
       "      <td>1</td>\n",
       "      <td>106</td>\n",
       "    </tr>\n",
       "    <tr>\n",
       "      <th>1</th>\n",
       "      <td>0.099291</td>\n",
       "      <td>0.923</td>\n",
       "      <td>1</td>\n",
       "      <td>1</td>\n",
       "      <td>0</td>\n",
       "      <td>1</td>\n",
       "      <td>1</td>\n",
       "      <td>3</td>\n",
       "      <td>1</td>\n",
       "      <td>2</td>\n",
       "      <td>1</td>\n",
       "      <td>69</td>\n",
       "    </tr>\n",
       "    <tr>\n",
       "      <th>2</th>\n",
       "      <td>0.093164</td>\n",
       "      <td>0.910</td>\n",
       "      <td>1</td>\n",
       "      <td>1</td>\n",
       "      <td>0</td>\n",
       "      <td>1</td>\n",
       "      <td>1</td>\n",
       "      <td>2</td>\n",
       "      <td>1</td>\n",
       "      <td>1</td>\n",
       "      <td>1</td>\n",
       "      <td>4</td>\n",
       "    </tr>\n",
       "    <tr>\n",
       "      <th>3</th>\n",
       "      <td>0.101695</td>\n",
       "      <td>0.666</td>\n",
       "      <td>1</td>\n",
       "      <td>1</td>\n",
       "      <td>0</td>\n",
       "      <td>1</td>\n",
       "      <td>1</td>\n",
       "      <td>3</td>\n",
       "      <td>1</td>\n",
       "      <td>4</td>\n",
       "      <td>1</td>\n",
       "      <td>26</td>\n",
       "    </tr>\n",
       "    <tr>\n",
       "      <th>4</th>\n",
       "      <td>0.159259</td>\n",
       "      <td>0.887</td>\n",
       "      <td>1</td>\n",
       "      <td>0</td>\n",
       "      <td>0</td>\n",
       "      <td>1</td>\n",
       "      <td>1</td>\n",
       "      <td>2</td>\n",
       "      <td>1</td>\n",
       "      <td>4</td>\n",
       "      <td>1</td>\n",
       "      <td>88</td>\n",
       "    </tr>\n",
       "  </tbody>\n",
       "</table>\n",
       "</div>"
      ],
      "text/plain": [
       "       city  city_development_index  gender  relevent_experience  \\\n",
       "0  0.125000                   0.689       1                    1   \n",
       "1  0.099291                   0.923       1                    1   \n",
       "2  0.093164                   0.910       1                    1   \n",
       "3  0.101695                   0.666       1                    1   \n",
       "4  0.159259                   0.887       1                    0   \n",
       "\n",
       "   enrolled_university  education_level  major_discipline  experience  \\\n",
       "0                    0                1                 1           1   \n",
       "1                    0                1                 1           3   \n",
       "2                    0                1                 1           2   \n",
       "3                    0                1                 1           3   \n",
       "4                    0                1                 1           2   \n",
       "\n",
       "   company_size  company_type  last_new_job  training_hours  \n",
       "0             2             4             1             106  \n",
       "1             1             2             1              69  \n",
       "2             1             1             1               4  \n",
       "3             1             4             1              26  \n",
       "4             1             4             1              88  "
      ]
     },
     "execution_count": 8,
     "metadata": {},
     "output_type": "execute_result"
    }
   ],
   "source": [
    "X_enc.head()"
   ]
  },
  {
   "cell_type": "code",
   "execution_count": 9,
   "metadata": {},
   "outputs": [],
   "source": [
    "X_scaled = StandardScaler().fit_transform(X_enc)"
   ]
  },
  {
   "cell_type": "code",
   "execution_count": 10,
   "metadata": {},
   "outputs": [],
   "source": [
    "X_train,X_test,y_train,y_test = train_test_split(X_scaled,y,test_size=0.40,random_state=3)"
   ]
  },
  {
   "cell_type": "code",
   "execution_count": 11,
   "metadata": {},
   "outputs": [
    {
     "data": {
      "text/plain": [
       "(7344,)"
      ]
     },
     "execution_count": 11,
     "metadata": {},
     "output_type": "execute_result"
    }
   ],
   "source": [
    "y_test.shape"
   ]
  },
  {
   "cell_type": "code",
   "execution_count": 12,
   "metadata": {},
   "outputs": [],
   "source": [
    "logreg=LogisticRegression()"
   ]
  },
  {
   "cell_type": "code",
   "execution_count": 13,
   "metadata": {},
   "outputs": [
    {
     "data": {
      "text/plain": [
       "LogisticRegression()"
      ]
     },
     "execution_count": 13,
     "metadata": {},
     "output_type": "execute_result"
    }
   ],
   "source": [
    "logreg.fit(X_train,y_train)"
   ]
  },
  {
   "cell_type": "code",
   "execution_count": 14,
   "metadata": {},
   "outputs": [],
   "source": [
    "y_pred=logreg.predict(X_test)"
   ]
  },
  {
   "cell_type": "code",
   "execution_count": 15,
   "metadata": {},
   "outputs": [
    {
     "data": {
      "text/plain": [
       "array([[   0,  944],\n",
       "       [   0, 6400]])"
      ]
     },
     "execution_count": 15,
     "metadata": {},
     "output_type": "execute_result"
    }
   ],
   "source": [
    "metrics.confusion_matrix(y_test, y_pred,labels=[1,0])"
   ]
  },
  {
   "cell_type": "markdown",
   "metadata": {},
   "source": [
    "### The model end up predicting no positive class, as the target data is very imbalanced(6:1)\n",
    "### Therefore I tried to change the threshold from default to 0.2"
   ]
  },
  {
   "cell_type": "code",
   "execution_count": 16,
   "metadata": {},
   "outputs": [],
   "source": [
    "# try to change the cutoff value from 0.5 to 0.2\n",
    "y_pred_adj = np.where(logreg.predict_proba(X_test)[:,1] > 0.2, 1, 0)"
   ]
  },
  {
   "cell_type": "code",
   "execution_count": 17,
   "metadata": {},
   "outputs": [
    {
     "data": {
      "text/plain": [
       "array([[ 259,  685],\n",
       "       [ 685, 5715]])"
      ]
     },
     "execution_count": 17,
     "metadata": {},
     "output_type": "execute_result"
    }
   ],
   "source": [
    "metrics.confusion_matrix(y_test, y_pred_adj,labels=[1,0])"
   ]
  },
  {
   "cell_type": "code",
   "execution_count": 18,
   "metadata": {},
   "outputs": [
    {
     "data": {
      "text/plain": [
       "944"
      ]
     },
     "execution_count": 18,
     "metadata": {},
     "output_type": "execute_result"
    }
   ],
   "source": [
    "y_pred_adj.sum()"
   ]
  },
  {
   "cell_type": "code",
   "execution_count": 19,
   "metadata": {},
   "outputs": [
    {
     "data": {
      "text/plain": [
       "944"
      ]
     },
     "execution_count": 19,
     "metadata": {},
     "output_type": "execute_result"
    }
   ],
   "source": [
    "y_test.sum()"
   ]
  },
  {
   "cell_type": "code",
   "execution_count": 20,
   "metadata": {},
   "outputs": [
    {
     "name": "stdout",
     "output_type": "stream",
     "text": [
      "Accuracy: 0.8134531590413944\n",
      "Precision: 0.274364406779661\n",
      "Recall: 0.274364406779661\n"
     ]
    }
   ],
   "source": [
    "print(\"Accuracy:\",metrics.accuracy_score(y_test, y_pred_adj))\n",
    "print(\"Precision:\",metrics.precision_score(y_test, y_pred_adj))\n",
    "print(\"Recall:\",metrics.recall_score(y_test, y_pred_adj))"
   ]
  },
  {
   "cell_type": "markdown",
   "metadata": {},
   "source": [
    "### As you can see the accuracy looks okay, but Recall and Precision is very low. In this case Recall = Precision"
   ]
  },
  {
   "cell_type": "code",
   "execution_count": 21,
   "metadata": {},
   "outputs": [
    {
     "data": {
      "text/html": [
       "<div>\n",
       "<style scoped>\n",
       "    .dataframe tbody tr th:only-of-type {\n",
       "        vertical-align: middle;\n",
       "    }\n",
       "\n",
       "    .dataframe tbody tr th {\n",
       "        vertical-align: top;\n",
       "    }\n",
       "\n",
       "    .dataframe thead th {\n",
       "        text-align: right;\n",
       "    }\n",
       "</style>\n",
       "<table border=\"1\" class=\"dataframe\">\n",
       "  <thead>\n",
       "    <tr style=\"text-align: right;\">\n",
       "      <th></th>\n",
       "      <th>city_development_index</th>\n",
       "      <th>gender</th>\n",
       "      <th>relevent_experience</th>\n",
       "      <th>enrolled_university</th>\n",
       "      <th>education_level</th>\n",
       "      <th>major_discipline</th>\n",
       "      <th>experience</th>\n",
       "      <th>company_size</th>\n",
       "      <th>company_type</th>\n",
       "      <th>last_new_job</th>\n",
       "      <th>training_hours</th>\n",
       "      <th>target</th>\n",
       "    </tr>\n",
       "  </thead>\n",
       "  <tbody>\n",
       "    <tr>\n",
       "      <th>city_development_index</th>\n",
       "      <td>1.000000</td>\n",
       "      <td>0.031236</td>\n",
       "      <td>0.063763</td>\n",
       "      <td>-0.165145</td>\n",
       "      <td>-0.018126</td>\n",
       "      <td>-0.095845</td>\n",
       "      <td>0.282460</td>\n",
       "      <td>0.106869</td>\n",
       "      <td>-0.055009</td>\n",
       "      <td>0.171022</td>\n",
       "      <td>-0.006193</td>\n",
       "      <td>-0.135700</td>\n",
       "    </tr>\n",
       "    <tr>\n",
       "      <th>gender</th>\n",
       "      <td>0.031236</td>\n",
       "      <td>1.000000</td>\n",
       "      <td>-0.030756</td>\n",
       "      <td>0.002148</td>\n",
       "      <td>0.025354</td>\n",
       "      <td>-0.071997</td>\n",
       "      <td>-0.047715</td>\n",
       "      <td>0.014130</td>\n",
       "      <td>-0.042085</td>\n",
       "      <td>-0.010614</td>\n",
       "      <td>-0.000299</td>\n",
       "      <td>0.015446</td>\n",
       "    </tr>\n",
       "    <tr>\n",
       "      <th>relevent_experience</th>\n",
       "      <td>0.063763</td>\n",
       "      <td>-0.030756</td>\n",
       "      <td>1.000000</td>\n",
       "      <td>-0.321089</td>\n",
       "      <td>0.306221</td>\n",
       "      <td>0.016964</td>\n",
       "      <td>0.329443</td>\n",
       "      <td>0.161266</td>\n",
       "      <td>0.006071</td>\n",
       "      <td>0.304668</td>\n",
       "      <td>0.006397</td>\n",
       "      <td>-0.074088</td>\n",
       "    </tr>\n",
       "    <tr>\n",
       "      <th>enrolled_university</th>\n",
       "      <td>-0.165145</td>\n",
       "      <td>0.002148</td>\n",
       "      <td>-0.321089</td>\n",
       "      <td>1.000000</td>\n",
       "      <td>-0.176097</td>\n",
       "      <td>0.087867</td>\n",
       "      <td>-0.318575</td>\n",
       "      <td>-0.106847</td>\n",
       "      <td>-0.025572</td>\n",
       "      <td>-0.200541</td>\n",
       "      <td>0.005139</td>\n",
       "      <td>0.077647</td>\n",
       "    </tr>\n",
       "    <tr>\n",
       "      <th>education_level</th>\n",
       "      <td>-0.018126</td>\n",
       "      <td>0.025354</td>\n",
       "      <td>0.306221</td>\n",
       "      <td>-0.176097</td>\n",
       "      <td>1.000000</td>\n",
       "      <td>-0.125811</td>\n",
       "      <td>0.222210</td>\n",
       "      <td>0.158417</td>\n",
       "      <td>-0.069167</td>\n",
       "      <td>0.250441</td>\n",
       "      <td>-0.001650</td>\n",
       "      <td>0.021681</td>\n",
       "    </tr>\n",
       "    <tr>\n",
       "      <th>major_discipline</th>\n",
       "      <td>-0.095845</td>\n",
       "      <td>-0.071997</td>\n",
       "      <td>0.016964</td>\n",
       "      <td>0.087867</td>\n",
       "      <td>-0.125811</td>\n",
       "      <td>1.000000</td>\n",
       "      <td>-0.005319</td>\n",
       "      <td>0.002061</td>\n",
       "      <td>0.021276</td>\n",
       "      <td>-0.050299</td>\n",
       "      <td>0.001695</td>\n",
       "      <td>0.011687</td>\n",
       "    </tr>\n",
       "    <tr>\n",
       "      <th>experience</th>\n",
       "      <td>0.282460</td>\n",
       "      <td>-0.047715</td>\n",
       "      <td>0.329443</td>\n",
       "      <td>-0.318575</td>\n",
       "      <td>0.222210</td>\n",
       "      <td>-0.005319</td>\n",
       "      <td>1.000000</td>\n",
       "      <td>0.144260</td>\n",
       "      <td>-0.010271</td>\n",
       "      <td>0.427211</td>\n",
       "      <td>0.000596</td>\n",
       "      <td>-0.082490</td>\n",
       "    </tr>\n",
       "    <tr>\n",
       "      <th>company_size</th>\n",
       "      <td>0.106869</td>\n",
       "      <td>0.014130</td>\n",
       "      <td>0.161266</td>\n",
       "      <td>-0.106847</td>\n",
       "      <td>0.158417</td>\n",
       "      <td>0.002061</td>\n",
       "      <td>0.144260</td>\n",
       "      <td>1.000000</td>\n",
       "      <td>-0.045344</td>\n",
       "      <td>0.186941</td>\n",
       "      <td>-0.022222</td>\n",
       "      <td>-0.040886</td>\n",
       "    </tr>\n",
       "    <tr>\n",
       "      <th>company_type</th>\n",
       "      <td>-0.055009</td>\n",
       "      <td>-0.042085</td>\n",
       "      <td>0.006071</td>\n",
       "      <td>-0.025572</td>\n",
       "      <td>-0.069167</td>\n",
       "      <td>0.021276</td>\n",
       "      <td>-0.010271</td>\n",
       "      <td>-0.045344</td>\n",
       "      <td>1.000000</td>\n",
       "      <td>-0.044452</td>\n",
       "      <td>0.006705</td>\n",
       "      <td>0.004348</td>\n",
       "    </tr>\n",
       "    <tr>\n",
       "      <th>last_new_job</th>\n",
       "      <td>0.171022</td>\n",
       "      <td>-0.010614</td>\n",
       "      <td>0.304668</td>\n",
       "      <td>-0.200541</td>\n",
       "      <td>0.250441</td>\n",
       "      <td>-0.050299</td>\n",
       "      <td>0.427211</td>\n",
       "      <td>0.186941</td>\n",
       "      <td>-0.044452</td>\n",
       "      <td>1.000000</td>\n",
       "      <td>-0.007452</td>\n",
       "      <td>-0.029902</td>\n",
       "    </tr>\n",
       "    <tr>\n",
       "      <th>training_hours</th>\n",
       "      <td>-0.006193</td>\n",
       "      <td>-0.000299</td>\n",
       "      <td>0.006397</td>\n",
       "      <td>0.005139</td>\n",
       "      <td>-0.001650</td>\n",
       "      <td>0.001695</td>\n",
       "      <td>0.000596</td>\n",
       "      <td>-0.022222</td>\n",
       "      <td>0.006705</td>\n",
       "      <td>-0.007452</td>\n",
       "      <td>1.000000</td>\n",
       "      <td>-0.004735</td>\n",
       "    </tr>\n",
       "    <tr>\n",
       "      <th>target</th>\n",
       "      <td>-0.135700</td>\n",
       "      <td>0.015446</td>\n",
       "      <td>-0.074088</td>\n",
       "      <td>0.077647</td>\n",
       "      <td>0.021681</td>\n",
       "      <td>0.011687</td>\n",
       "      <td>-0.082490</td>\n",
       "      <td>-0.040886</td>\n",
       "      <td>0.004348</td>\n",
       "      <td>-0.029902</td>\n",
       "      <td>-0.004735</td>\n",
       "      <td>1.000000</td>\n",
       "    </tr>\n",
       "  </tbody>\n",
       "</table>\n",
       "</div>"
      ],
      "text/plain": [
       "                        city_development_index    gender  relevent_experience  \\\n",
       "city_development_index                1.000000  0.031236             0.063763   \n",
       "gender                                0.031236  1.000000            -0.030756   \n",
       "relevent_experience                   0.063763 -0.030756             1.000000   \n",
       "enrolled_university                  -0.165145  0.002148            -0.321089   \n",
       "education_level                      -0.018126  0.025354             0.306221   \n",
       "major_discipline                     -0.095845 -0.071997             0.016964   \n",
       "experience                            0.282460 -0.047715             0.329443   \n",
       "company_size                          0.106869  0.014130             0.161266   \n",
       "company_type                         -0.055009 -0.042085             0.006071   \n",
       "last_new_job                          0.171022 -0.010614             0.304668   \n",
       "training_hours                       -0.006193 -0.000299             0.006397   \n",
       "target                               -0.135700  0.015446            -0.074088   \n",
       "\n",
       "                        enrolled_university  education_level  \\\n",
       "city_development_index            -0.165145        -0.018126   \n",
       "gender                             0.002148         0.025354   \n",
       "relevent_experience               -0.321089         0.306221   \n",
       "enrolled_university                1.000000        -0.176097   \n",
       "education_level                   -0.176097         1.000000   \n",
       "major_discipline                   0.087867        -0.125811   \n",
       "experience                        -0.318575         0.222210   \n",
       "company_size                      -0.106847         0.158417   \n",
       "company_type                      -0.025572        -0.069167   \n",
       "last_new_job                      -0.200541         0.250441   \n",
       "training_hours                     0.005139        -0.001650   \n",
       "target                             0.077647         0.021681   \n",
       "\n",
       "                        major_discipline  experience  company_size  \\\n",
       "city_development_index         -0.095845    0.282460      0.106869   \n",
       "gender                         -0.071997   -0.047715      0.014130   \n",
       "relevent_experience             0.016964    0.329443      0.161266   \n",
       "enrolled_university             0.087867   -0.318575     -0.106847   \n",
       "education_level                -0.125811    0.222210      0.158417   \n",
       "major_discipline                1.000000   -0.005319      0.002061   \n",
       "experience                     -0.005319    1.000000      0.144260   \n",
       "company_size                    0.002061    0.144260      1.000000   \n",
       "company_type                    0.021276   -0.010271     -0.045344   \n",
       "last_new_job                   -0.050299    0.427211      0.186941   \n",
       "training_hours                  0.001695    0.000596     -0.022222   \n",
       "target                          0.011687   -0.082490     -0.040886   \n",
       "\n",
       "                        company_type  last_new_job  training_hours    target  \n",
       "city_development_index     -0.055009      0.171022       -0.006193 -0.135700  \n",
       "gender                     -0.042085     -0.010614       -0.000299  0.015446  \n",
       "relevent_experience         0.006071      0.304668        0.006397 -0.074088  \n",
       "enrolled_university        -0.025572     -0.200541        0.005139  0.077647  \n",
       "education_level            -0.069167      0.250441       -0.001650  0.021681  \n",
       "major_discipline            0.021276     -0.050299        0.001695  0.011687  \n",
       "experience                 -0.010271      0.427211        0.000596 -0.082490  \n",
       "company_size               -0.045344      0.186941       -0.022222 -0.040886  \n",
       "company_type                1.000000     -0.044452        0.006705  0.004348  \n",
       "last_new_job               -0.044452      1.000000       -0.007452 -0.029902  \n",
       "training_hours              0.006705     -0.007452        1.000000 -0.004735  \n",
       "target                      0.004348     -0.029902       -0.004735  1.000000  "
      ]
     },
     "execution_count": 21,
     "metadata": {},
     "output_type": "execute_result"
    }
   ],
   "source": [
    "df_normalized=(df.drop('city',axis=1)-df.drop('city',axis=1).mean())/df.drop('city',axis=1).std()\n",
    "cov_matrix=df_normalized.cov()\n",
    "cov_matrix"
   ]
  },
  {
   "cell_type": "code",
   "execution_count": null,
   "metadata": {},
   "outputs": [],
   "source": []
  }
 ],
 "metadata": {
  "kernelspec": {
   "display_name": "Python 3",
   "language": "python",
   "name": "python3"
  },
  "language_info": {
   "codemirror_mode": {
    "name": "ipython",
    "version": 3
   },
   "file_extension": ".py",
   "mimetype": "text/x-python",
   "name": "python",
   "nbconvert_exporter": "python",
   "pygments_lexer": "ipython3",
   "version": "3.8.1"
  }
 },
 "nbformat": 4,
 "nbformat_minor": 4
}
