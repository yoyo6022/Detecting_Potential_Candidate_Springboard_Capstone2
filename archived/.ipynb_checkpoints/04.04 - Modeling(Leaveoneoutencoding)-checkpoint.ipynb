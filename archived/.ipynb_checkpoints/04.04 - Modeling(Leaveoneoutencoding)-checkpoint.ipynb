{
 "cells": [
  {
   "cell_type": "markdown",
   "metadata": {},
   "source": [
    "## Pre Explanation"
   ]
  },
  {
   "cell_type": "markdown",
   "metadata": {},
   "source": [
    "LeaveOneOut encode column 'city'"
   ]
  },
  {
   "cell_type": "markdown",
   "metadata": {},
   "source": [
    "## Imports & Setup"
   ]
  },
  {
   "cell_type": "code",
   "execution_count": 1,
   "metadata": {},
   "outputs": [
    {
     "name": "stderr",
     "output_type": "stream",
     "text": [
      "/Users/liuyang/opt/anaconda3/lib/python3.8/site-packages/lightgbm/__init__.py:42: UserWarning: Starting from version 2.2.1, the library file in distribution wheels for macOS is built by the Apple Clang (Xcode_8.3.3) compiler.\n",
      "This means that in case of installing LightGBM from PyPI via the ``pip install lightgbm`` command, you don't need to install the gcc compiler anymore.\n",
      "Instead of that, you need to install the OpenMP library, which is required for running LightGBM on the system with the Apple Clang compiler.\n",
      "You can install the OpenMP library by the following command: ``brew install libomp``.\n",
      "  warnings.warn(\"Starting from version 2.2.1, the library file in distribution wheels for macOS \"\n"
     ]
    }
   ],
   "source": [
    "import os\n",
    "import pandas as pd\n",
    "# import datetime\n",
    "import seaborn as sns\n",
    "sns.set()\n",
    "import matplotlib.pyplot as plt\n",
    "import numpy as np\n",
    "# from scipy import stats\n",
    "# import random\n",
    "import category_encoders as ce\n",
    "from category_encoders import LeaveOneOutEncoder, TargetEncoder\n",
    "from sklearn.preprocessing import StandardScaler\n",
    "from sklearn.model_selection import train_test_split \n",
    "from sklearn.model_selection import KFold\n",
    "from sklearn.model_selection import cross_val_score\n",
    "from sklearn import model_selection\n",
    "\n",
    "from sklearn.linear_model import LogisticRegression\n",
    "from sklearn.naive_bayes import GaussianNB\n",
    "from sklearn.neighbors import KNeighborsClassifier\n",
    "from sklearn.svm import SVC\n",
    "from sklearn.tree import DecisionTreeClassifier\n",
    "from sklearn.ensemble import RandomForestClassifier\n",
    "from sklearn.ensemble import GradientBoostingClassifier\n",
    "from xgboost import XGBClassifier\n",
    "import xgboost as xgb\n",
    "#from catboost import CatBoostClassifier\n",
    "import lightgbm as lgb\n",
    "\n",
    "import time\n",
    "from sklearn.metrics import recall_score\n",
    "from sklearn.metrics import precision_score\n",
    "from sklearn.metrics import f1_score\n",
    "from sklearn import metrics\n",
    "from sklearn.metrics import f1_score\n",
    "from sklearn.metrics import make_scorer, accuracy_score, precision_score, recall_score, f1_score, roc_auc_score\n",
    "from sklearn.metrics import roc_auc_score\n",
    "from sklearn.metrics import precision_recall_fscore_support as score, accuracy_score\n",
    "from sklearn.metrics import classification_report, confusion_matrix, roc_curve, auc\n",
    "from imblearn.over_sampling import SMOTE\n",
    "%matplotlib inline"
   ]
  },
  {
   "cell_type": "code",
   "execution_count": 2,
   "metadata": {},
   "outputs": [
    {
     "name": "stdout",
     "output_type": "stream",
     "text": [
      "/Users/liuyang/Desktop/Springboard_Capstone/notebooks\n",
      "/Users/liuyang/Desktop/Springboard_Capstone\n"
     ]
    }
   ],
   "source": [
    "print(os.getcwd())\n",
    "os.chdir('/Users/liuyang/Desktop/Springboard_Capstone') \n",
    "print(os.getcwd())"
   ]
  },
  {
   "cell_type": "code",
   "execution_count": 3,
   "metadata": {},
   "outputs": [],
   "source": [
    "df = pd.read_csv('data/train.csv')"
   ]
  },
  {
   "cell_type": "code",
   "execution_count": 4,
   "metadata": {},
   "outputs": [
    {
     "data": {
      "text/plain": [
       "(18359, 14)"
      ]
     },
     "execution_count": 4,
     "metadata": {},
     "output_type": "execute_result"
    }
   ],
   "source": [
    "df.shape"
   ]
  },
  {
   "cell_type": "code",
   "execution_count": 5,
   "metadata": {},
   "outputs": [
    {
     "data": {
      "text/html": [
       "<div>\n",
       "<style scoped>\n",
       "    .dataframe tbody tr th:only-of-type {\n",
       "        vertical-align: middle;\n",
       "    }\n",
       "\n",
       "    .dataframe tbody tr th {\n",
       "        vertical-align: top;\n",
       "    }\n",
       "\n",
       "    .dataframe thead th {\n",
       "        text-align: right;\n",
       "    }\n",
       "</style>\n",
       "<table border=\"1\" class=\"dataframe\">\n",
       "  <thead>\n",
       "    <tr style=\"text-align: right;\">\n",
       "      <th></th>\n",
       "      <th>enrollee_id</th>\n",
       "      <th>city</th>\n",
       "      <th>city_development_index</th>\n",
       "      <th>gender</th>\n",
       "      <th>relevent_experience</th>\n",
       "      <th>enrolled_university</th>\n",
       "      <th>education_level</th>\n",
       "      <th>major_discipline</th>\n",
       "      <th>experience</th>\n",
       "      <th>company_size</th>\n",
       "      <th>company_type</th>\n",
       "      <th>last_new_job</th>\n",
       "      <th>training_hours</th>\n",
       "      <th>target</th>\n",
       "    </tr>\n",
       "  </thead>\n",
       "  <tbody>\n",
       "    <tr>\n",
       "      <th>0</th>\n",
       "      <td>23798</td>\n",
       "      <td>city_149</td>\n",
       "      <td>0.689</td>\n",
       "      <td>Male</td>\n",
       "      <td>Has relevent experience</td>\n",
       "      <td>no_enrollment</td>\n",
       "      <td>Graduate</td>\n",
       "      <td>STEM</td>\n",
       "      <td>3</td>\n",
       "      <td>100-500</td>\n",
       "      <td>Pvt Ltd</td>\n",
       "      <td>1</td>\n",
       "      <td>106</td>\n",
       "      <td>0</td>\n",
       "    </tr>\n",
       "    <tr>\n",
       "      <th>1</th>\n",
       "      <td>29166</td>\n",
       "      <td>city_83</td>\n",
       "      <td>0.923</td>\n",
       "      <td>Male</td>\n",
       "      <td>Has relevent experience</td>\n",
       "      <td>no_enrollment</td>\n",
       "      <td>Graduate</td>\n",
       "      <td>STEM</td>\n",
       "      <td>14</td>\n",
       "      <td>&lt;10</td>\n",
       "      <td>Funded Startup</td>\n",
       "      <td>1</td>\n",
       "      <td>69</td>\n",
       "      <td>0</td>\n",
       "    </tr>\n",
       "    <tr>\n",
       "      <th>2</th>\n",
       "      <td>46</td>\n",
       "      <td>city_16</td>\n",
       "      <td>0.910</td>\n",
       "      <td>NaN</td>\n",
       "      <td>Has relevent experience</td>\n",
       "      <td>no_enrollment</td>\n",
       "      <td>Graduate</td>\n",
       "      <td>STEM</td>\n",
       "      <td>6</td>\n",
       "      <td>50-99</td>\n",
       "      <td>Public Sector</td>\n",
       "      <td>2</td>\n",
       "      <td>4</td>\n",
       "      <td>0</td>\n",
       "    </tr>\n",
       "    <tr>\n",
       "      <th>3</th>\n",
       "      <td>18527</td>\n",
       "      <td>city_64</td>\n",
       "      <td>0.666</td>\n",
       "      <td>Male</td>\n",
       "      <td>Has relevent experience</td>\n",
       "      <td>no_enrollment</td>\n",
       "      <td>Graduate</td>\n",
       "      <td>STEM</td>\n",
       "      <td>14</td>\n",
       "      <td>50-99</td>\n",
       "      <td>Pvt Ltd</td>\n",
       "      <td>1</td>\n",
       "      <td>26</td>\n",
       "      <td>0</td>\n",
       "    </tr>\n",
       "    <tr>\n",
       "      <th>4</th>\n",
       "      <td>21751</td>\n",
       "      <td>city_100</td>\n",
       "      <td>0.887</td>\n",
       "      <td>NaN</td>\n",
       "      <td>No relevent experience</td>\n",
       "      <td>no_enrollment</td>\n",
       "      <td>Masters</td>\n",
       "      <td>STEM</td>\n",
       "      <td>8</td>\n",
       "      <td>NaN</td>\n",
       "      <td>NaN</td>\n",
       "      <td>2</td>\n",
       "      <td>88</td>\n",
       "      <td>1</td>\n",
       "    </tr>\n",
       "  </tbody>\n",
       "</table>\n",
       "</div>"
      ],
      "text/plain": [
       "   enrollee_id      city  city_development_index gender  \\\n",
       "0        23798  city_149                   0.689   Male   \n",
       "1        29166   city_83                   0.923   Male   \n",
       "2           46   city_16                   0.910    NaN   \n",
       "3        18527   city_64                   0.666   Male   \n",
       "4        21751  city_100                   0.887    NaN   \n",
       "\n",
       "       relevent_experience enrolled_university education_level  \\\n",
       "0  Has relevent experience       no_enrollment        Graduate   \n",
       "1  Has relevent experience       no_enrollment        Graduate   \n",
       "2  Has relevent experience       no_enrollment        Graduate   \n",
       "3  Has relevent experience       no_enrollment        Graduate   \n",
       "4   No relevent experience       no_enrollment         Masters   \n",
       "\n",
       "  major_discipline experience company_size    company_type last_new_job  \\\n",
       "0             STEM          3      100-500         Pvt Ltd            1   \n",
       "1             STEM         14          <10  Funded Startup            1   \n",
       "2             STEM          6        50-99   Public Sector            2   \n",
       "3             STEM         14        50-99         Pvt Ltd            1   \n",
       "4             STEM          8          NaN             NaN            2   \n",
       "\n",
       "   training_hours  target  \n",
       "0             106       0  \n",
       "1              69       0  \n",
       "2               4       0  \n",
       "3              26       0  \n",
       "4              88       1  "
      ]
     },
     "execution_count": 5,
     "metadata": {},
     "output_type": "execute_result"
    }
   ],
   "source": [
    "df.head()"
   ]
  },
  {
   "cell_type": "code",
   "execution_count": 6,
   "metadata": {},
   "outputs": [
    {
     "data": {
      "text/html": [
       "<div>\n",
       "<style scoped>\n",
       "    .dataframe tbody tr th:only-of-type {\n",
       "        vertical-align: middle;\n",
       "    }\n",
       "\n",
       "    .dataframe tbody tr th {\n",
       "        vertical-align: top;\n",
       "    }\n",
       "\n",
       "    .dataframe thead th {\n",
       "        text-align: right;\n",
       "    }\n",
       "</style>\n",
       "<table border=\"1\" class=\"dataframe\">\n",
       "  <thead>\n",
       "    <tr style=\"text-align: right;\">\n",
       "      <th></th>\n",
       "      <th>number</th>\n",
       "      <th>percentage</th>\n",
       "    </tr>\n",
       "  </thead>\n",
       "  <tbody>\n",
       "    <tr>\n",
       "      <th>enrollee_id</th>\n",
       "      <td>18359</td>\n",
       "      <td>100.0000</td>\n",
       "    </tr>\n",
       "    <tr>\n",
       "      <th>training_hours</th>\n",
       "      <td>241</td>\n",
       "      <td>1.3127</td>\n",
       "    </tr>\n",
       "    <tr>\n",
       "      <th>city</th>\n",
       "      <td>123</td>\n",
       "      <td>0.6700</td>\n",
       "    </tr>\n",
       "    <tr>\n",
       "      <th>city_development_index</th>\n",
       "      <td>93</td>\n",
       "      <td>0.5066</td>\n",
       "    </tr>\n",
       "    <tr>\n",
       "      <th>experience</th>\n",
       "      <td>22</td>\n",
       "      <td>0.1198</td>\n",
       "    </tr>\n",
       "    <tr>\n",
       "      <th>company_size</th>\n",
       "      <td>8</td>\n",
       "      <td>0.0436</td>\n",
       "    </tr>\n",
       "    <tr>\n",
       "      <th>major_discipline</th>\n",
       "      <td>6</td>\n",
       "      <td>0.0327</td>\n",
       "    </tr>\n",
       "    <tr>\n",
       "      <th>company_type</th>\n",
       "      <td>6</td>\n",
       "      <td>0.0327</td>\n",
       "    </tr>\n",
       "    <tr>\n",
       "      <th>last_new_job</th>\n",
       "      <td>6</td>\n",
       "      <td>0.0327</td>\n",
       "    </tr>\n",
       "    <tr>\n",
       "      <th>education_level</th>\n",
       "      <td>5</td>\n",
       "      <td>0.0272</td>\n",
       "    </tr>\n",
       "    <tr>\n",
       "      <th>gender</th>\n",
       "      <td>3</td>\n",
       "      <td>0.0163</td>\n",
       "    </tr>\n",
       "    <tr>\n",
       "      <th>enrolled_university</th>\n",
       "      <td>3</td>\n",
       "      <td>0.0163</td>\n",
       "    </tr>\n",
       "    <tr>\n",
       "      <th>relevent_experience</th>\n",
       "      <td>2</td>\n",
       "      <td>0.0109</td>\n",
       "    </tr>\n",
       "    <tr>\n",
       "      <th>target</th>\n",
       "      <td>2</td>\n",
       "      <td>0.0109</td>\n",
       "    </tr>\n",
       "  </tbody>\n",
       "</table>\n",
       "</div>"
      ],
      "text/plain": [
       "                        number  percentage\n",
       "enrollee_id              18359    100.0000\n",
       "training_hours             241      1.3127\n",
       "city                       123      0.6700\n",
       "city_development_index      93      0.5066\n",
       "experience                  22      0.1198\n",
       "company_size                 8      0.0436\n",
       "major_discipline             6      0.0327\n",
       "company_type                 6      0.0327\n",
       "last_new_job                 6      0.0327\n",
       "education_level              5      0.0272\n",
       "gender                       3      0.0163\n",
       "enrolled_university          3      0.0163\n",
       "relevent_experience          2      0.0109\n",
       "target                       2      0.0109"
      ]
     },
     "execution_count": 6,
     "metadata": {},
     "output_type": "execute_result"
    }
   ],
   "source": [
    "def unique_var_pct(data):\n",
    "    num = data.nunique()\n",
    "    pct = round((data.nunique()/(data.shape[0]))*100,4)\n",
    "    frame = pd.DataFrame(zip(num,pct), index = num.index,columns=['number','percentage'])\n",
    "    return frame.sort_values('percentage',ascending=False)\n",
    "\n",
    "unique_var_pct(df)"
   ]
  },
  {
   "cell_type": "code",
   "execution_count": 7,
   "metadata": {},
   "outputs": [
    {
     "data": {
      "text/plain": [
       "enrollee_id                  0\n",
       "city                         0\n",
       "city_development_index       0\n",
       "gender                    4098\n",
       "relevent_experience          0\n",
       "enrolled_university        342\n",
       "education_level            457\n",
       "major_discipline          2838\n",
       "experience                  59\n",
       "company_size              4779\n",
       "company_type              5039\n",
       "last_new_job               367\n",
       "training_hours               0\n",
       "target                       0\n",
       "dtype: int64"
      ]
     },
     "execution_count": 7,
     "metadata": {},
     "output_type": "execute_result"
    }
   ],
   "source": [
    "df.isnull().sum()"
   ]
  },
  {
   "cell_type": "code",
   "execution_count": 8,
   "metadata": {},
   "outputs": [],
   "source": [
    "def fill_na(data):\n",
    "    for i in data.columns:\n",
    "        data[i].fillna(data[i].mode()[0],inplace=True)\n",
    "        \n",
    "        \n",
    "fill_na(df)"
   ]
  },
  {
   "cell_type": "code",
   "execution_count": 9,
   "metadata": {},
   "outputs": [
    {
     "data": {
      "text/plain": [
       "enrollee_id               0\n",
       "city                      0\n",
       "city_development_index    0\n",
       "gender                    0\n",
       "relevent_experience       0\n",
       "enrolled_university       0\n",
       "education_level           0\n",
       "major_discipline          0\n",
       "experience                0\n",
       "company_size              0\n",
       "company_type              0\n",
       "last_new_job              0\n",
       "training_hours            0\n",
       "target                    0\n",
       "dtype: int64"
      ]
     },
     "execution_count": 9,
     "metadata": {},
     "output_type": "execute_result"
    }
   ],
   "source": [
    "df.isnull().sum()"
   ]
  },
  {
   "cell_type": "code",
   "execution_count": 10,
   "metadata": {},
   "outputs": [],
   "source": [
    "def var_pct(data):\n",
    "    num = data.value_counts(dropna=False)\n",
    "    pct = round(num/(data.shape[0])*100,2)\n",
    "    frame = pd.DataFrame(zip(num,pct),index=num.index,columns=['number','percentage'])\n",
    "    return frame.sort_values('percentage',ascending=False)"
   ]
  },
  {
   "cell_type": "code",
   "execution_count": 11,
   "metadata": {},
   "outputs": [
    {
     "data": {
      "text/html": [
       "<div>\n",
       "<style scoped>\n",
       "    .dataframe tbody tr th:only-of-type {\n",
       "        vertical-align: middle;\n",
       "    }\n",
       "\n",
       "    .dataframe tbody tr th {\n",
       "        vertical-align: top;\n",
       "    }\n",
       "\n",
       "    .dataframe thead th {\n",
       "        text-align: right;\n",
       "    }\n",
       "</style>\n",
       "<table border=\"1\" class=\"dataframe\">\n",
       "  <thead>\n",
       "    <tr style=\"text-align: right;\">\n",
       "      <th></th>\n",
       "      <th>number</th>\n",
       "      <th>percentage</th>\n",
       "    </tr>\n",
       "  </thead>\n",
       "  <tbody>\n",
       "    <tr>\n",
       "      <th>city_103</th>\n",
       "      <td>4358</td>\n",
       "      <td>23.74</td>\n",
       "    </tr>\n",
       "    <tr>\n",
       "      <th>city_21</th>\n",
       "      <td>1672</td>\n",
       "      <td>9.11</td>\n",
       "    </tr>\n",
       "    <tr>\n",
       "      <th>city_16</th>\n",
       "      <td>1654</td>\n",
       "      <td>9.01</td>\n",
       "    </tr>\n",
       "    <tr>\n",
       "      <th>city_114</th>\n",
       "      <td>1472</td>\n",
       "      <td>8.02</td>\n",
       "    </tr>\n",
       "    <tr>\n",
       "      <th>city_160</th>\n",
       "      <td>827</td>\n",
       "      <td>4.50</td>\n",
       "    </tr>\n",
       "    <tr>\n",
       "      <th>...</th>\n",
       "      <td>...</td>\n",
       "      <td>...</td>\n",
       "    </tr>\n",
       "    <tr>\n",
       "      <th>city_107</th>\n",
       "      <td>4</td>\n",
       "      <td>0.02</td>\n",
       "    </tr>\n",
       "    <tr>\n",
       "      <th>city_139</th>\n",
       "      <td>4</td>\n",
       "      <td>0.02</td>\n",
       "    </tr>\n",
       "    <tr>\n",
       "      <th>city_25</th>\n",
       "      <td>4</td>\n",
       "      <td>0.02</td>\n",
       "    </tr>\n",
       "    <tr>\n",
       "      <th>city_171</th>\n",
       "      <td>2</td>\n",
       "      <td>0.01</td>\n",
       "    </tr>\n",
       "    <tr>\n",
       "      <th>city_140</th>\n",
       "      <td>1</td>\n",
       "      <td>0.01</td>\n",
       "    </tr>\n",
       "  </tbody>\n",
       "</table>\n",
       "<p>123 rows × 2 columns</p>\n",
       "</div>"
      ],
      "text/plain": [
       "          number  percentage\n",
       "city_103    4358       23.74\n",
       "city_21     1672        9.11\n",
       "city_16     1654        9.01\n",
       "city_114    1472        8.02\n",
       "city_160     827        4.50\n",
       "...          ...         ...\n",
       "city_107       4        0.02\n",
       "city_139       4        0.02\n",
       "city_25        4        0.02\n",
       "city_171       2        0.01\n",
       "city_140       1        0.01\n",
       "\n",
       "[123 rows x 2 columns]"
      ]
     },
     "execution_count": 11,
     "metadata": {},
     "output_type": "execute_result"
    }
   ],
   "source": [
    "var_pct(df.city)"
   ]
  },
  {
   "cell_type": "code",
   "execution_count": 12,
   "metadata": {},
   "outputs": [
    {
     "data": {
      "text/html": [
       "<div>\n",
       "<style scoped>\n",
       "    .dataframe tbody tr th:only-of-type {\n",
       "        vertical-align: middle;\n",
       "    }\n",
       "\n",
       "    .dataframe tbody tr th {\n",
       "        vertical-align: top;\n",
       "    }\n",
       "\n",
       "    .dataframe thead th {\n",
       "        text-align: right;\n",
       "    }\n",
       "</style>\n",
       "<table border=\"1\" class=\"dataframe\">\n",
       "  <thead>\n",
       "    <tr style=\"text-align: right;\">\n",
       "      <th></th>\n",
       "      <th>number</th>\n",
       "      <th>percentage</th>\n",
       "    </tr>\n",
       "  </thead>\n",
       "  <tbody>\n",
       "    <tr>\n",
       "      <th>50-99</th>\n",
       "      <td>7899</td>\n",
       "      <td>43.03</td>\n",
       "    </tr>\n",
       "    <tr>\n",
       "      <th>100-500</th>\n",
       "      <td>2698</td>\n",
       "      <td>14.70</td>\n",
       "    </tr>\n",
       "    <tr>\n",
       "      <th>10000+</th>\n",
       "      <td>2044</td>\n",
       "      <td>11.13</td>\n",
       "    </tr>\n",
       "    <tr>\n",
       "      <th>10/49</th>\n",
       "      <td>1466</td>\n",
       "      <td>7.99</td>\n",
       "    </tr>\n",
       "    <tr>\n",
       "      <th>1000-4999</th>\n",
       "      <td>1399</td>\n",
       "      <td>7.62</td>\n",
       "    </tr>\n",
       "    <tr>\n",
       "      <th>&lt;10</th>\n",
       "      <td>1360</td>\n",
       "      <td>7.41</td>\n",
       "    </tr>\n",
       "    <tr>\n",
       "      <th>500-999</th>\n",
       "      <td>902</td>\n",
       "      <td>4.91</td>\n",
       "    </tr>\n",
       "    <tr>\n",
       "      <th>5000-9999</th>\n",
       "      <td>591</td>\n",
       "      <td>3.22</td>\n",
       "    </tr>\n",
       "  </tbody>\n",
       "</table>\n",
       "</div>"
      ],
      "text/plain": [
       "           number  percentage\n",
       "50-99        7899       43.03\n",
       "100-500      2698       14.70\n",
       "10000+       2044       11.13\n",
       "10/49        1466        7.99\n",
       "1000-4999    1399        7.62\n",
       "<10          1360        7.41\n",
       "500-999       902        4.91\n",
       "5000-9999     591        3.22"
      ]
     },
     "execution_count": 12,
     "metadata": {},
     "output_type": "execute_result"
    }
   ],
   "source": [
    "var_pct(df.company_size)"
   ]
  },
  {
   "cell_type": "code",
   "execution_count": 13,
   "metadata": {},
   "outputs": [],
   "source": [
    "df.company_size = df.company_size.map(lambda x: '1' if x in ['<10','10/49','50-99'] \n",
    "                                      else '2' if x in['100-500', '500-999'] else '3').astype('int64')"
   ]
  },
  {
   "cell_type": "code",
   "execution_count": 14,
   "metadata": {},
   "outputs": [
    {
     "data": {
      "text/html": [
       "<div>\n",
       "<style scoped>\n",
       "    .dataframe tbody tr th:only-of-type {\n",
       "        vertical-align: middle;\n",
       "    }\n",
       "\n",
       "    .dataframe tbody tr th {\n",
       "        vertical-align: top;\n",
       "    }\n",
       "\n",
       "    .dataframe thead th {\n",
       "        text-align: right;\n",
       "    }\n",
       "</style>\n",
       "<table border=\"1\" class=\"dataframe\">\n",
       "  <thead>\n",
       "    <tr style=\"text-align: right;\">\n",
       "      <th></th>\n",
       "      <th>number</th>\n",
       "      <th>percentage</th>\n",
       "    </tr>\n",
       "  </thead>\n",
       "  <tbody>\n",
       "    <tr>\n",
       "      <th>&gt;20</th>\n",
       "      <td>3496</td>\n",
       "      <td>19.04</td>\n",
       "    </tr>\n",
       "    <tr>\n",
       "      <th>5</th>\n",
       "      <td>1309</td>\n",
       "      <td>7.13</td>\n",
       "    </tr>\n",
       "    <tr>\n",
       "      <th>4</th>\n",
       "      <td>1250</td>\n",
       "      <td>6.81</td>\n",
       "    </tr>\n",
       "    <tr>\n",
       "      <th>3</th>\n",
       "      <td>1159</td>\n",
       "      <td>6.31</td>\n",
       "    </tr>\n",
       "    <tr>\n",
       "      <th>6</th>\n",
       "      <td>1125</td>\n",
       "      <td>6.13</td>\n",
       "    </tr>\n",
       "    <tr>\n",
       "      <th>2</th>\n",
       "      <td>992</td>\n",
       "      <td>5.40</td>\n",
       "    </tr>\n",
       "    <tr>\n",
       "      <th>9</th>\n",
       "      <td>979</td>\n",
       "      <td>5.33</td>\n",
       "    </tr>\n",
       "    <tr>\n",
       "      <th>10</th>\n",
       "      <td>967</td>\n",
       "      <td>5.27</td>\n",
       "    </tr>\n",
       "    <tr>\n",
       "      <th>7</th>\n",
       "      <td>950</td>\n",
       "      <td>5.17</td>\n",
       "    </tr>\n",
       "    <tr>\n",
       "      <th>8</th>\n",
       "      <td>755</td>\n",
       "      <td>4.11</td>\n",
       "    </tr>\n",
       "    <tr>\n",
       "      <th>15</th>\n",
       "      <td>695</td>\n",
       "      <td>3.79</td>\n",
       "    </tr>\n",
       "    <tr>\n",
       "      <th>11</th>\n",
       "      <td>667</td>\n",
       "      <td>3.63</td>\n",
       "    </tr>\n",
       "    <tr>\n",
       "      <th>14</th>\n",
       "      <td>602</td>\n",
       "      <td>3.28</td>\n",
       "    </tr>\n",
       "    <tr>\n",
       "      <th>16</th>\n",
       "      <td>549</td>\n",
       "      <td>2.99</td>\n",
       "    </tr>\n",
       "    <tr>\n",
       "      <th>12</th>\n",
       "      <td>497</td>\n",
       "      <td>2.71</td>\n",
       "    </tr>\n",
       "    <tr>\n",
       "      <th>1</th>\n",
       "      <td>452</td>\n",
       "      <td>2.46</td>\n",
       "    </tr>\n",
       "    <tr>\n",
       "      <th>&lt;1</th>\n",
       "      <td>416</td>\n",
       "      <td>2.27</td>\n",
       "    </tr>\n",
       "    <tr>\n",
       "      <th>13</th>\n",
       "      <td>412</td>\n",
       "      <td>2.24</td>\n",
       "    </tr>\n",
       "    <tr>\n",
       "      <th>17</th>\n",
       "      <td>347</td>\n",
       "      <td>1.89</td>\n",
       "    </tr>\n",
       "    <tr>\n",
       "      <th>19</th>\n",
       "      <td>308</td>\n",
       "      <td>1.68</td>\n",
       "    </tr>\n",
       "    <tr>\n",
       "      <th>18</th>\n",
       "      <td>286</td>\n",
       "      <td>1.56</td>\n",
       "    </tr>\n",
       "    <tr>\n",
       "      <th>20</th>\n",
       "      <td>146</td>\n",
       "      <td>0.80</td>\n",
       "    </tr>\n",
       "  </tbody>\n",
       "</table>\n",
       "</div>"
      ],
      "text/plain": [
       "     number  percentage\n",
       ">20    3496       19.04\n",
       "5      1309        7.13\n",
       "4      1250        6.81\n",
       "3      1159        6.31\n",
       "6      1125        6.13\n",
       "2       992        5.40\n",
       "9       979        5.33\n",
       "10      967        5.27\n",
       "7       950        5.17\n",
       "8       755        4.11\n",
       "15      695        3.79\n",
       "11      667        3.63\n",
       "14      602        3.28\n",
       "16      549        2.99\n",
       "12      497        2.71\n",
       "1       452        2.46\n",
       "<1      416        2.27\n",
       "13      412        2.24\n",
       "17      347        1.89\n",
       "19      308        1.68\n",
       "18      286        1.56\n",
       "20      146        0.80"
      ]
     },
     "execution_count": 14,
     "metadata": {},
     "output_type": "execute_result"
    }
   ],
   "source": [
    "var_pct(df.experience)"
   ]
  },
  {
   "cell_type": "code",
   "execution_count": 15,
   "metadata": {},
   "outputs": [],
   "source": [
    "df.experience = df.experience.map(lambda x: '0' if x == '<1'\n",
    "                                  else '21' if x == '>20'\n",
    "                                  else x).astype('int64')"
   ]
  },
  {
   "cell_type": "code",
   "execution_count": 16,
   "metadata": {},
   "outputs": [
    {
     "data": {
      "text/html": [
       "<div>\n",
       "<style scoped>\n",
       "    .dataframe tbody tr th:only-of-type {\n",
       "        vertical-align: middle;\n",
       "    }\n",
       "\n",
       "    .dataframe tbody tr th {\n",
       "        vertical-align: top;\n",
       "    }\n",
       "\n",
       "    .dataframe thead th {\n",
       "        text-align: right;\n",
       "    }\n",
       "</style>\n",
       "<table border=\"1\" class=\"dataframe\">\n",
       "  <thead>\n",
       "    <tr style=\"text-align: right;\">\n",
       "      <th></th>\n",
       "      <th>number</th>\n",
       "      <th>percentage</th>\n",
       "    </tr>\n",
       "  </thead>\n",
       "  <tbody>\n",
       "    <tr>\n",
       "      <th>STEM</th>\n",
       "      <td>16576</td>\n",
       "      <td>90.29</td>\n",
       "    </tr>\n",
       "    <tr>\n",
       "      <th>Humanities</th>\n",
       "      <td>688</td>\n",
       "      <td>3.75</td>\n",
       "    </tr>\n",
       "    <tr>\n",
       "      <th>Other</th>\n",
       "      <td>343</td>\n",
       "      <td>1.87</td>\n",
       "    </tr>\n",
       "    <tr>\n",
       "      <th>Business Degree</th>\n",
       "      <td>307</td>\n",
       "      <td>1.67</td>\n",
       "    </tr>\n",
       "    <tr>\n",
       "      <th>Arts</th>\n",
       "      <td>239</td>\n",
       "      <td>1.30</td>\n",
       "    </tr>\n",
       "    <tr>\n",
       "      <th>No Major</th>\n",
       "      <td>206</td>\n",
       "      <td>1.12</td>\n",
       "    </tr>\n",
       "  </tbody>\n",
       "</table>\n",
       "</div>"
      ],
      "text/plain": [
       "                 number  percentage\n",
       "STEM              16576       90.29\n",
       "Humanities          688        3.75\n",
       "Other               343        1.87\n",
       "Business Degree     307        1.67\n",
       "Arts                239        1.30\n",
       "No Major            206        1.12"
      ]
     },
     "execution_count": 16,
     "metadata": {},
     "output_type": "execute_result"
    }
   ],
   "source": [
    "var_pct(df.major_discipline)"
   ]
  },
  {
   "cell_type": "code",
   "execution_count": 17,
   "metadata": {},
   "outputs": [],
   "source": [
    "df.major_discipline = df.major_discipline.map(lambda x: 1 if x == 'STEM' else 0).astype('int64')"
   ]
  },
  {
   "cell_type": "code",
   "execution_count": 18,
   "metadata": {},
   "outputs": [
    {
     "data": {
      "text/html": [
       "<div>\n",
       "<style scoped>\n",
       "    .dataframe tbody tr th:only-of-type {\n",
       "        vertical-align: middle;\n",
       "    }\n",
       "\n",
       "    .dataframe tbody tr th {\n",
       "        vertical-align: top;\n",
       "    }\n",
       "\n",
       "    .dataframe thead th {\n",
       "        text-align: right;\n",
       "    }\n",
       "</style>\n",
       "<table border=\"1\" class=\"dataframe\">\n",
       "  <thead>\n",
       "    <tr style=\"text-align: right;\">\n",
       "      <th></th>\n",
       "      <th>number</th>\n",
       "      <th>percentage</th>\n",
       "    </tr>\n",
       "  </thead>\n",
       "  <tbody>\n",
       "    <tr>\n",
       "      <th>1</th>\n",
       "      <td>7934</td>\n",
       "      <td>43.22</td>\n",
       "    </tr>\n",
       "    <tr>\n",
       "      <th>&gt;4</th>\n",
       "      <td>3339</td>\n",
       "      <td>18.19</td>\n",
       "    </tr>\n",
       "    <tr>\n",
       "      <th>2</th>\n",
       "      <td>2835</td>\n",
       "      <td>15.44</td>\n",
       "    </tr>\n",
       "    <tr>\n",
       "      <th>never</th>\n",
       "      <td>2186</td>\n",
       "      <td>11.91</td>\n",
       "    </tr>\n",
       "    <tr>\n",
       "      <th>4</th>\n",
       "      <td>1038</td>\n",
       "      <td>5.65</td>\n",
       "    </tr>\n",
       "    <tr>\n",
       "      <th>3</th>\n",
       "      <td>1027</td>\n",
       "      <td>5.59</td>\n",
       "    </tr>\n",
       "  </tbody>\n",
       "</table>\n",
       "</div>"
      ],
      "text/plain": [
       "       number  percentage\n",
       "1        7934       43.22\n",
       ">4       3339       18.19\n",
       "2        2835       15.44\n",
       "never    2186       11.91\n",
       "4        1038        5.65\n",
       "3        1027        5.59"
      ]
     },
     "execution_count": 18,
     "metadata": {},
     "output_type": "execute_result"
    }
   ],
   "source": [
    "var_pct(df.last_new_job)"
   ]
  },
  {
   "cell_type": "code",
   "execution_count": 19,
   "metadata": {},
   "outputs": [],
   "source": [
    "df.last_new_job = df.last_new_job.map(lambda x: '0' if x == 'never' \n",
    "                                      else '5' if x == '>4'\n",
    "                                      else x).astype('int64')"
   ]
  },
  {
   "cell_type": "code",
   "execution_count": 20,
   "metadata": {},
   "outputs": [
    {
     "data": {
      "text/html": [
       "<div>\n",
       "<style scoped>\n",
       "    .dataframe tbody tr th:only-of-type {\n",
       "        vertical-align: middle;\n",
       "    }\n",
       "\n",
       "    .dataframe tbody tr th {\n",
       "        vertical-align: top;\n",
       "    }\n",
       "\n",
       "    .dataframe thead th {\n",
       "        text-align: right;\n",
       "    }\n",
       "</style>\n",
       "<table border=\"1\" class=\"dataframe\">\n",
       "  <thead>\n",
       "    <tr style=\"text-align: right;\">\n",
       "      <th></th>\n",
       "      <th>number</th>\n",
       "      <th>percentage</th>\n",
       "    </tr>\n",
       "  </thead>\n",
       "  <tbody>\n",
       "    <tr>\n",
       "      <th>Pvt Ltd</th>\n",
       "      <td>15090</td>\n",
       "      <td>82.19</td>\n",
       "    </tr>\n",
       "    <tr>\n",
       "      <th>Funded Startup</th>\n",
       "      <td>1038</td>\n",
       "      <td>5.65</td>\n",
       "    </tr>\n",
       "    <tr>\n",
       "      <th>Public Sector</th>\n",
       "      <td>996</td>\n",
       "      <td>5.43</td>\n",
       "    </tr>\n",
       "    <tr>\n",
       "      <th>Early Stage Startup</th>\n",
       "      <td>582</td>\n",
       "      <td>3.17</td>\n",
       "    </tr>\n",
       "    <tr>\n",
       "      <th>NGO</th>\n",
       "      <td>534</td>\n",
       "      <td>2.91</td>\n",
       "    </tr>\n",
       "    <tr>\n",
       "      <th>Other</th>\n",
       "      <td>119</td>\n",
       "      <td>0.65</td>\n",
       "    </tr>\n",
       "  </tbody>\n",
       "</table>\n",
       "</div>"
      ],
      "text/plain": [
       "                     number  percentage\n",
       "Pvt Ltd               15090       82.19\n",
       "Funded Startup         1038        5.65\n",
       "Public Sector           996        5.43\n",
       "Early Stage Startup     582        3.17\n",
       "NGO                     534        2.91\n",
       "Other                   119        0.65"
      ]
     },
     "execution_count": 20,
     "metadata": {},
     "output_type": "execute_result"
    }
   ],
   "source": [
    "var_pct(df.company_type)"
   ]
  },
  {
   "cell_type": "code",
   "execution_count": 21,
   "metadata": {},
   "outputs": [],
   "source": [
    "df.company_type = df.company_type.map(lambda x: '1' if x=='Public Sector' else '2' if x =='Funded Startup'\n",
    "                                     else '4' if x =='Pvt Ltd' else '3').astype('int64')"
   ]
  },
  {
   "cell_type": "code",
   "execution_count": 22,
   "metadata": {},
   "outputs": [
    {
     "data": {
      "text/html": [
       "<div>\n",
       "<style scoped>\n",
       "    .dataframe tbody tr th:only-of-type {\n",
       "        vertical-align: middle;\n",
       "    }\n",
       "\n",
       "    .dataframe tbody tr th {\n",
       "        vertical-align: top;\n",
       "    }\n",
       "\n",
       "    .dataframe thead th {\n",
       "        text-align: right;\n",
       "    }\n",
       "</style>\n",
       "<table border=\"1\" class=\"dataframe\">\n",
       "  <thead>\n",
       "    <tr style=\"text-align: right;\">\n",
       "      <th></th>\n",
       "      <th>number</th>\n",
       "      <th>percentage</th>\n",
       "    </tr>\n",
       "  </thead>\n",
       "  <tbody>\n",
       "    <tr>\n",
       "      <th>Has relevent experience</th>\n",
       "      <td>13596</td>\n",
       "      <td>74.06</td>\n",
       "    </tr>\n",
       "    <tr>\n",
       "      <th>No relevent experience</th>\n",
       "      <td>4763</td>\n",
       "      <td>25.94</td>\n",
       "    </tr>\n",
       "  </tbody>\n",
       "</table>\n",
       "</div>"
      ],
      "text/plain": [
       "                         number  percentage\n",
       "Has relevent experience   13596       74.06\n",
       "No relevent experience     4763       25.94"
      ]
     },
     "execution_count": 22,
     "metadata": {},
     "output_type": "execute_result"
    }
   ],
   "source": [
    "var_pct(df.relevent_experience)"
   ]
  },
  {
   "cell_type": "code",
   "execution_count": 23,
   "metadata": {},
   "outputs": [],
   "source": [
    "df.relevent_experience = df.relevent_experience.map(lambda x: '0' if x=='No relevent experience'\n",
    "                                                   else '1').astype('int64')"
   ]
  },
  {
   "cell_type": "code",
   "execution_count": 24,
   "metadata": {},
   "outputs": [
    {
     "data": {
      "text/html": [
       "<div>\n",
       "<style scoped>\n",
       "    .dataframe tbody tr th:only-of-type {\n",
       "        vertical-align: middle;\n",
       "    }\n",
       "\n",
       "    .dataframe tbody tr th {\n",
       "        vertical-align: top;\n",
       "    }\n",
       "\n",
       "    .dataframe thead th {\n",
       "        text-align: right;\n",
       "    }\n",
       "</style>\n",
       "<table border=\"1\" class=\"dataframe\">\n",
       "  <thead>\n",
       "    <tr style=\"text-align: right;\">\n",
       "      <th></th>\n",
       "      <th>number</th>\n",
       "      <th>percentage</th>\n",
       "    </tr>\n",
       "  </thead>\n",
       "  <tbody>\n",
       "    <tr>\n",
       "      <th>no_enrollment</th>\n",
       "      <td>14001</td>\n",
       "      <td>76.26</td>\n",
       "    </tr>\n",
       "    <tr>\n",
       "      <th>Full time course</th>\n",
       "      <td>3187</td>\n",
       "      <td>17.36</td>\n",
       "    </tr>\n",
       "    <tr>\n",
       "      <th>Part time course</th>\n",
       "      <td>1171</td>\n",
       "      <td>6.38</td>\n",
       "    </tr>\n",
       "  </tbody>\n",
       "</table>\n",
       "</div>"
      ],
      "text/plain": [
       "                  number  percentage\n",
       "no_enrollment      14001       76.26\n",
       "Full time course    3187       17.36\n",
       "Part time course    1171        6.38"
      ]
     },
     "execution_count": 24,
     "metadata": {},
     "output_type": "execute_result"
    }
   ],
   "source": [
    "var_pct(df.enrolled_university)"
   ]
  },
  {
   "cell_type": "code",
   "execution_count": 25,
   "metadata": {},
   "outputs": [],
   "source": [
    "df.enrolled_university = df.enrolled_university .map(lambda x: '0' if x=='no_enrollment'\n",
    "                                                    else 1).astype('int64')"
   ]
  },
  {
   "cell_type": "code",
   "execution_count": 26,
   "metadata": {},
   "outputs": [
    {
     "data": {
      "text/html": [
       "<div>\n",
       "<style scoped>\n",
       "    .dataframe tbody tr th:only-of-type {\n",
       "        vertical-align: middle;\n",
       "    }\n",
       "\n",
       "    .dataframe tbody tr th {\n",
       "        vertical-align: top;\n",
       "    }\n",
       "\n",
       "    .dataframe thead th {\n",
       "        text-align: right;\n",
       "    }\n",
       "</style>\n",
       "<table border=\"1\" class=\"dataframe\">\n",
       "  <thead>\n",
       "    <tr style=\"text-align: right;\">\n",
       "      <th></th>\n",
       "      <th>number</th>\n",
       "      <th>percentage</th>\n",
       "    </tr>\n",
       "  </thead>\n",
       "  <tbody>\n",
       "    <tr>\n",
       "      <th>Graduate</th>\n",
       "      <td>11226</td>\n",
       "      <td>61.15</td>\n",
       "    </tr>\n",
       "    <tr>\n",
       "      <th>Masters</th>\n",
       "      <td>4319</td>\n",
       "      <td>23.53</td>\n",
       "    </tr>\n",
       "    <tr>\n",
       "      <th>High School</th>\n",
       "      <td>2032</td>\n",
       "      <td>11.07</td>\n",
       "    </tr>\n",
       "    <tr>\n",
       "      <th>Phd</th>\n",
       "      <td>459</td>\n",
       "      <td>2.50</td>\n",
       "    </tr>\n",
       "    <tr>\n",
       "      <th>Primary School</th>\n",
       "      <td>323</td>\n",
       "      <td>1.76</td>\n",
       "    </tr>\n",
       "  </tbody>\n",
       "</table>\n",
       "</div>"
      ],
      "text/plain": [
       "                number  percentage\n",
       "Graduate         11226       61.15\n",
       "Masters           4319       23.53\n",
       "High School       2032       11.07\n",
       "Phd                459        2.50\n",
       "Primary School     323        1.76"
      ]
     },
     "execution_count": 26,
     "metadata": {},
     "output_type": "execute_result"
    }
   ],
   "source": [
    "var_pct(df.education_level)"
   ]
  },
  {
   "cell_type": "code",
   "execution_count": 27,
   "metadata": {},
   "outputs": [],
   "source": [
    "df.education_level = df.education_level.map(lambda x: '1' if x in ['Primary School','High School']\n",
    "                                           else '2').astype('int64')"
   ]
  },
  {
   "cell_type": "code",
   "execution_count": 28,
   "metadata": {},
   "outputs": [
    {
     "data": {
      "text/html": [
       "<div>\n",
       "<style scoped>\n",
       "    .dataframe tbody tr th:only-of-type {\n",
       "        vertical-align: middle;\n",
       "    }\n",
       "\n",
       "    .dataframe tbody tr th {\n",
       "        vertical-align: top;\n",
       "    }\n",
       "\n",
       "    .dataframe thead th {\n",
       "        text-align: right;\n",
       "    }\n",
       "</style>\n",
       "<table border=\"1\" class=\"dataframe\">\n",
       "  <thead>\n",
       "    <tr style=\"text-align: right;\">\n",
       "      <th></th>\n",
       "      <th>number</th>\n",
       "      <th>percentage</th>\n",
       "    </tr>\n",
       "  </thead>\n",
       "  <tbody>\n",
       "    <tr>\n",
       "      <th>Male</th>\n",
       "      <td>16982</td>\n",
       "      <td>92.50</td>\n",
       "    </tr>\n",
       "    <tr>\n",
       "      <th>Female</th>\n",
       "      <td>1188</td>\n",
       "      <td>6.47</td>\n",
       "    </tr>\n",
       "    <tr>\n",
       "      <th>Other</th>\n",
       "      <td>189</td>\n",
       "      <td>1.03</td>\n",
       "    </tr>\n",
       "  </tbody>\n",
       "</table>\n",
       "</div>"
      ],
      "text/plain": [
       "        number  percentage\n",
       "Male     16982       92.50\n",
       "Female    1188        6.47\n",
       "Other      189        1.03"
      ]
     },
     "execution_count": 28,
     "metadata": {},
     "output_type": "execute_result"
    }
   ],
   "source": [
    "var_pct(df.gender)"
   ]
  },
  {
   "cell_type": "code",
   "execution_count": 29,
   "metadata": {},
   "outputs": [],
   "source": [
    "df.gender = df.gender.map(lambda x: '1' if x == 'Male' else '2' if x == 'Female'\n",
    "                         else '3').astype('int64')"
   ]
  },
  {
   "cell_type": "code",
   "execution_count": 30,
   "metadata": {},
   "outputs": [],
   "source": [
    "df = df.drop('enrollee_id',axis=1)"
   ]
  },
  {
   "cell_type": "code",
   "execution_count": 31,
   "metadata": {},
   "outputs": [
    {
     "data": {
      "text/plain": [
       "city                       object\n",
       "city_development_index    float64\n",
       "gender                      int64\n",
       "relevent_experience         int64\n",
       "enrolled_university         int64\n",
       "education_level             int64\n",
       "major_discipline            int64\n",
       "experience                  int64\n",
       "company_size                int64\n",
       "company_type                int64\n",
       "last_new_job                int64\n",
       "training_hours              int64\n",
       "target                      int64\n",
       "dtype: object"
      ]
     },
     "execution_count": 31,
     "metadata": {},
     "output_type": "execute_result"
    }
   ],
   "source": [
    "df.dtypes"
   ]
  },
  {
   "cell_type": "code",
   "execution_count": 32,
   "metadata": {},
   "outputs": [],
   "source": [
    "cat_col = df.select_dtypes(include=['object']).columns.tolist()"
   ]
  },
  {
   "cell_type": "code",
   "execution_count": 33,
   "metadata": {},
   "outputs": [
    {
     "data": {
      "text/html": [
       "<div>\n",
       "<style scoped>\n",
       "    .dataframe tbody tr th:only-of-type {\n",
       "        vertical-align: middle;\n",
       "    }\n",
       "\n",
       "    .dataframe tbody tr th {\n",
       "        vertical-align: top;\n",
       "    }\n",
       "\n",
       "    .dataframe thead th {\n",
       "        text-align: right;\n",
       "    }\n",
       "</style>\n",
       "<table border=\"1\" class=\"dataframe\">\n",
       "  <thead>\n",
       "    <tr style=\"text-align: right;\">\n",
       "      <th></th>\n",
       "      <th>city</th>\n",
       "      <th>city_development_index</th>\n",
       "      <th>gender</th>\n",
       "      <th>relevent_experience</th>\n",
       "      <th>enrolled_university</th>\n",
       "      <th>education_level</th>\n",
       "      <th>major_discipline</th>\n",
       "      <th>experience</th>\n",
       "      <th>company_size</th>\n",
       "      <th>company_type</th>\n",
       "      <th>last_new_job</th>\n",
       "      <th>training_hours</th>\n",
       "      <th>target</th>\n",
       "    </tr>\n",
       "  </thead>\n",
       "  <tbody>\n",
       "    <tr>\n",
       "      <th>0</th>\n",
       "      <td>city_149</td>\n",
       "      <td>0.689</td>\n",
       "      <td>1</td>\n",
       "      <td>1</td>\n",
       "      <td>0</td>\n",
       "      <td>2</td>\n",
       "      <td>1</td>\n",
       "      <td>3</td>\n",
       "      <td>2</td>\n",
       "      <td>4</td>\n",
       "      <td>1</td>\n",
       "      <td>106</td>\n",
       "      <td>0</td>\n",
       "    </tr>\n",
       "    <tr>\n",
       "      <th>1</th>\n",
       "      <td>city_83</td>\n",
       "      <td>0.923</td>\n",
       "      <td>1</td>\n",
       "      <td>1</td>\n",
       "      <td>0</td>\n",
       "      <td>2</td>\n",
       "      <td>1</td>\n",
       "      <td>14</td>\n",
       "      <td>1</td>\n",
       "      <td>2</td>\n",
       "      <td>1</td>\n",
       "      <td>69</td>\n",
       "      <td>0</td>\n",
       "    </tr>\n",
       "    <tr>\n",
       "      <th>2</th>\n",
       "      <td>city_16</td>\n",
       "      <td>0.910</td>\n",
       "      <td>1</td>\n",
       "      <td>1</td>\n",
       "      <td>0</td>\n",
       "      <td>2</td>\n",
       "      <td>1</td>\n",
       "      <td>6</td>\n",
       "      <td>1</td>\n",
       "      <td>1</td>\n",
       "      <td>2</td>\n",
       "      <td>4</td>\n",
       "      <td>0</td>\n",
       "    </tr>\n",
       "    <tr>\n",
       "      <th>3</th>\n",
       "      <td>city_64</td>\n",
       "      <td>0.666</td>\n",
       "      <td>1</td>\n",
       "      <td>1</td>\n",
       "      <td>0</td>\n",
       "      <td>2</td>\n",
       "      <td>1</td>\n",
       "      <td>14</td>\n",
       "      <td>1</td>\n",
       "      <td>4</td>\n",
       "      <td>1</td>\n",
       "      <td>26</td>\n",
       "      <td>0</td>\n",
       "    </tr>\n",
       "    <tr>\n",
       "      <th>4</th>\n",
       "      <td>city_100</td>\n",
       "      <td>0.887</td>\n",
       "      <td>1</td>\n",
       "      <td>0</td>\n",
       "      <td>0</td>\n",
       "      <td>2</td>\n",
       "      <td>1</td>\n",
       "      <td>8</td>\n",
       "      <td>1</td>\n",
       "      <td>4</td>\n",
       "      <td>2</td>\n",
       "      <td>88</td>\n",
       "      <td>1</td>\n",
       "    </tr>\n",
       "  </tbody>\n",
       "</table>\n",
       "</div>"
      ],
      "text/plain": [
       "       city  city_development_index  gender  relevent_experience  \\\n",
       "0  city_149                   0.689       1                    1   \n",
       "1   city_83                   0.923       1                    1   \n",
       "2   city_16                   0.910       1                    1   \n",
       "3   city_64                   0.666       1                    1   \n",
       "4  city_100                   0.887       1                    0   \n",
       "\n",
       "   enrolled_university  education_level  major_discipline  experience  \\\n",
       "0                    0                2                 1           3   \n",
       "1                    0                2                 1          14   \n",
       "2                    0                2                 1           6   \n",
       "3                    0                2                 1          14   \n",
       "4                    0                2                 1           8   \n",
       "\n",
       "   company_size  company_type  last_new_job  training_hours  target  \n",
       "0             2             4             1             106       0  \n",
       "1             1             2             1              69       0  \n",
       "2             1             1             2               4       0  \n",
       "3             1             4             1              26       0  \n",
       "4             1             4             2              88       1  "
      ]
     },
     "execution_count": 33,
     "metadata": {},
     "output_type": "execute_result"
    }
   ],
   "source": [
    "### df = pd.get_dummies(df,columns=cat_col)\n",
    "df.head()"
   ]
  },
  {
   "cell_type": "code",
   "execution_count": 34,
   "metadata": {},
   "outputs": [
    {
     "data": {
      "text/plain": [
       "(18359, 13)"
      ]
     },
     "execution_count": 34,
     "metadata": {},
     "output_type": "execute_result"
    }
   ],
   "source": [
    "df.shape"
   ]
  },
  {
   "cell_type": "code",
   "execution_count": 35,
   "metadata": {},
   "outputs": [],
   "source": [
    "X = df.drop('target',axis=1)\n",
    "y = df['target']"
   ]
  },
  {
   "cell_type": "code",
   "execution_count": 36,
   "metadata": {},
   "outputs": [],
   "source": [
    "# enc =ce.WOEEncoder(cols=cat_col)\n",
    "# X_enc = enc.fit_transform(X,y)\n",
    "# X_enc.head()"
   ]
  },
  {
   "cell_type": "code",
   "execution_count": 37,
   "metadata": {},
   "outputs": [],
   "source": [
    "# enc = TargetEncoder(cols=cat_col)\n",
    "# X_enc = enc.fit_transform(X,y)\n",
    "# X_enc.head()"
   ]
  },
  {
   "cell_type": "code",
   "execution_count": 38,
   "metadata": {},
   "outputs": [
    {
     "data": {
      "text/html": [
       "<div>\n",
       "<style scoped>\n",
       "    .dataframe tbody tr th:only-of-type {\n",
       "        vertical-align: middle;\n",
       "    }\n",
       "\n",
       "    .dataframe tbody tr th {\n",
       "        vertical-align: top;\n",
       "    }\n",
       "\n",
       "    .dataframe thead th {\n",
       "        text-align: right;\n",
       "    }\n",
       "</style>\n",
       "<table border=\"1\" class=\"dataframe\">\n",
       "  <thead>\n",
       "    <tr style=\"text-align: right;\">\n",
       "      <th></th>\n",
       "      <th>city</th>\n",
       "      <th>city_development_index</th>\n",
       "      <th>gender</th>\n",
       "      <th>relevent_experience</th>\n",
       "      <th>enrolled_university</th>\n",
       "      <th>education_level</th>\n",
       "      <th>major_discipline</th>\n",
       "      <th>experience</th>\n",
       "      <th>company_size</th>\n",
       "      <th>company_type</th>\n",
       "      <th>last_new_job</th>\n",
       "      <th>training_hours</th>\n",
       "    </tr>\n",
       "  </thead>\n",
       "  <tbody>\n",
       "    <tr>\n",
       "      <th>0</th>\n",
       "      <td>0.125000</td>\n",
       "      <td>0.689</td>\n",
       "      <td>1</td>\n",
       "      <td>1</td>\n",
       "      <td>0</td>\n",
       "      <td>2</td>\n",
       "      <td>1</td>\n",
       "      <td>3</td>\n",
       "      <td>2</td>\n",
       "      <td>4</td>\n",
       "      <td>1</td>\n",
       "      <td>106</td>\n",
       "    </tr>\n",
       "    <tr>\n",
       "      <th>1</th>\n",
       "      <td>0.099291</td>\n",
       "      <td>0.923</td>\n",
       "      <td>1</td>\n",
       "      <td>1</td>\n",
       "      <td>0</td>\n",
       "      <td>2</td>\n",
       "      <td>1</td>\n",
       "      <td>14</td>\n",
       "      <td>1</td>\n",
       "      <td>2</td>\n",
       "      <td>1</td>\n",
       "      <td>69</td>\n",
       "    </tr>\n",
       "    <tr>\n",
       "      <th>2</th>\n",
       "      <td>0.093164</td>\n",
       "      <td>0.910</td>\n",
       "      <td>1</td>\n",
       "      <td>1</td>\n",
       "      <td>0</td>\n",
       "      <td>2</td>\n",
       "      <td>1</td>\n",
       "      <td>6</td>\n",
       "      <td>1</td>\n",
       "      <td>1</td>\n",
       "      <td>2</td>\n",
       "      <td>4</td>\n",
       "    </tr>\n",
       "    <tr>\n",
       "      <th>3</th>\n",
       "      <td>0.101695</td>\n",
       "      <td>0.666</td>\n",
       "      <td>1</td>\n",
       "      <td>1</td>\n",
       "      <td>0</td>\n",
       "      <td>2</td>\n",
       "      <td>1</td>\n",
       "      <td>14</td>\n",
       "      <td>1</td>\n",
       "      <td>4</td>\n",
       "      <td>1</td>\n",
       "      <td>26</td>\n",
       "    </tr>\n",
       "    <tr>\n",
       "      <th>4</th>\n",
       "      <td>0.159259</td>\n",
       "      <td>0.887</td>\n",
       "      <td>1</td>\n",
       "      <td>0</td>\n",
       "      <td>0</td>\n",
       "      <td>2</td>\n",
       "      <td>1</td>\n",
       "      <td>8</td>\n",
       "      <td>1</td>\n",
       "      <td>4</td>\n",
       "      <td>2</td>\n",
       "      <td>88</td>\n",
       "    </tr>\n",
       "  </tbody>\n",
       "</table>\n",
       "</div>"
      ],
      "text/plain": [
       "       city  city_development_index  gender  relevent_experience  \\\n",
       "0  0.125000                   0.689       1                    1   \n",
       "1  0.099291                   0.923       1                    1   \n",
       "2  0.093164                   0.910       1                    1   \n",
       "3  0.101695                   0.666       1                    1   \n",
       "4  0.159259                   0.887       1                    0   \n",
       "\n",
       "   enrolled_university  education_level  major_discipline  experience  \\\n",
       "0                    0                2                 1           3   \n",
       "1                    0                2                 1          14   \n",
       "2                    0                2                 1           6   \n",
       "3                    0                2                 1          14   \n",
       "4                    0                2                 1           8   \n",
       "\n",
       "   company_size  company_type  last_new_job  training_hours  \n",
       "0             2             4             1             106  \n",
       "1             1             2             1              69  \n",
       "2             1             1             2               4  \n",
       "3             1             4             1              26  \n",
       "4             1             4             2              88  "
      ]
     },
     "execution_count": 38,
     "metadata": {},
     "output_type": "execute_result"
    }
   ],
   "source": [
    "enc = LeaveOneOutEncoder(cols=cat_col)\n",
    "X_enc = enc.fit_transform(X,y)\n",
    "X_enc.head()"
   ]
  },
  {
   "cell_type": "code",
   "execution_count": 39,
   "metadata": {},
   "outputs": [],
   "source": [
    "df = pd.concat([X_enc,y],axis=1)"
   ]
  },
  {
   "cell_type": "code",
   "execution_count": 40,
   "metadata": {},
   "outputs": [
    {
     "data": {
      "image/png": "[encoded data removed]",
      "text/plain": [
       "<Figure size 864x504 with 2 Axes>"
      ]
     },
     "metadata": {
      "needs_background": "light"
     },
     "output_type": "display_data"
    }
   ],
   "source": [
    "_= plt.subplots(figsize=(12,7))\n",
    "sns.heatmap(df.corr(),annot=True,cmap='coolwarm') \n",
    "plt.show()"
   ]
  },
  {
   "cell_type": "code",
   "execution_count": 41,
   "metadata": {},
   "outputs": [],
   "source": [
    "# to avoid multicolinearity let's drop 'city_development_index'\n",
    "X = df.drop(['target','city_development_index'],axis=1)\n",
    "y = df['target'].ravel()"
   ]
  },
  {
   "cell_type": "code",
   "execution_count": 42,
   "metadata": {},
   "outputs": [
    {
     "data": {
      "text/html": [
       "<div>\n",
       "<style scoped>\n",
       "    .dataframe tbody tr th:only-of-type {\n",
       "        vertical-align: middle;\n",
       "    }\n",
       "\n",
       "    .dataframe tbody tr th {\n",
       "        vertical-align: top;\n",
       "    }\n",
       "\n",
       "    .dataframe thead th {\n",
       "        text-align: right;\n",
       "    }\n",
       "</style>\n",
       "<table border=\"1\" class=\"dataframe\">\n",
       "  <thead>\n",
       "    <tr style=\"text-align: right;\">\n",
       "      <th></th>\n",
       "      <th>city</th>\n",
       "      <th>gender</th>\n",
       "      <th>relevent_experience</th>\n",
       "      <th>enrolled_university</th>\n",
       "      <th>education_level</th>\n",
       "      <th>major_discipline</th>\n",
       "      <th>experience</th>\n",
       "      <th>company_size</th>\n",
       "      <th>company_type</th>\n",
       "      <th>last_new_job</th>\n",
       "      <th>training_hours</th>\n",
       "    </tr>\n",
       "  </thead>\n",
       "  <tbody>\n",
       "    <tr>\n",
       "      <th>0</th>\n",
       "      <td>0.125000</td>\n",
       "      <td>1</td>\n",
       "      <td>1</td>\n",
       "      <td>0</td>\n",
       "      <td>2</td>\n",
       "      <td>1</td>\n",
       "      <td>3</td>\n",
       "      <td>2</td>\n",
       "      <td>4</td>\n",
       "      <td>1</td>\n",
       "      <td>106</td>\n",
       "    </tr>\n",
       "    <tr>\n",
       "      <th>1</th>\n",
       "      <td>0.099291</td>\n",
       "      <td>1</td>\n",
       "      <td>1</td>\n",
       "      <td>0</td>\n",
       "      <td>2</td>\n",
       "      <td>1</td>\n",
       "      <td>14</td>\n",
       "      <td>1</td>\n",
       "      <td>2</td>\n",
       "      <td>1</td>\n",
       "      <td>69</td>\n",
       "    </tr>\n",
       "    <tr>\n",
       "      <th>2</th>\n",
       "      <td>0.093164</td>\n",
       "      <td>1</td>\n",
       "      <td>1</td>\n",
       "      <td>0</td>\n",
       "      <td>2</td>\n",
       "      <td>1</td>\n",
       "      <td>6</td>\n",
       "      <td>1</td>\n",
       "      <td>1</td>\n",
       "      <td>2</td>\n",
       "      <td>4</td>\n",
       "    </tr>\n",
       "    <tr>\n",
       "      <th>3</th>\n",
       "      <td>0.101695</td>\n",
       "      <td>1</td>\n",
       "      <td>1</td>\n",
       "      <td>0</td>\n",
       "      <td>2</td>\n",
       "      <td>1</td>\n",
       "      <td>14</td>\n",
       "      <td>1</td>\n",
       "      <td>4</td>\n",
       "      <td>1</td>\n",
       "      <td>26</td>\n",
       "    </tr>\n",
       "    <tr>\n",
       "      <th>4</th>\n",
       "      <td>0.159259</td>\n",
       "      <td>1</td>\n",
       "      <td>0</td>\n",
       "      <td>0</td>\n",
       "      <td>2</td>\n",
       "      <td>1</td>\n",
       "      <td>8</td>\n",
       "      <td>1</td>\n",
       "      <td>4</td>\n",
       "      <td>2</td>\n",
       "      <td>88</td>\n",
       "    </tr>\n",
       "  </tbody>\n",
       "</table>\n",
       "</div>"
      ],
      "text/plain": [
       "       city  gender  relevent_experience  enrolled_university  \\\n",
       "0  0.125000       1                    1                    0   \n",
       "1  0.099291       1                    1                    0   \n",
       "2  0.093164       1                    1                    0   \n",
       "3  0.101695       1                    1                    0   \n",
       "4  0.159259       1                    0                    0   \n",
       "\n",
       "   education_level  major_discipline  experience  company_size  company_type  \\\n",
       "0                2                 1           3             2             4   \n",
       "1                2                 1          14             1             2   \n",
       "2                2                 1           6             1             1   \n",
       "3                2                 1          14             1             4   \n",
       "4                2                 1           8             1             4   \n",
       "\n",
       "   last_new_job  training_hours  \n",
       "0             1             106  \n",
       "1             1              69  \n",
       "2             2               4  \n",
       "3             1              26  \n",
       "4             2              88  "
      ]
     },
     "execution_count": 42,
     "metadata": {},
     "output_type": "execute_result"
    }
   ],
   "source": [
    "X.head()"
   ]
  },
  {
   "cell_type": "code",
   "execution_count": 43,
   "metadata": {},
   "outputs": [],
   "source": [
    "X_scaled = StandardScaler().fit_transform(X)\n",
    "\n",
    "X_train,X_test,y_train,y_test = train_test_split(X_scaled, y, test_size=0.30, stratify=y, random_state=43)"
   ]
  },
  {
   "cell_type": "code",
   "execution_count": 44,
   "metadata": {},
   "outputs": [
    {
     "data": {
      "text/plain": [
       "(array([0, 1]), array([4780,  728]))"
      ]
     },
     "execution_count": 44,
     "metadata": {},
     "output_type": "execute_result"
    }
   ],
   "source": [
    "np.unique(y_test,return_counts=True)"
   ]
  },
  {
   "cell_type": "code",
   "execution_count": 45,
   "metadata": {},
   "outputs": [
    {
     "data": {
      "text/plain": [
       "6.572775486152033"
      ]
     },
     "execution_count": 45,
     "metadata": {},
     "output_type": "execute_result"
    }
   ],
   "source": [
    "# Check how imbalanced the data is in y_train.\n",
    "np.unique(y_train, return_counts=True)[1][0]/np.unique(y_train, return_counts=True)[1][1]"
   ]
  },
  {
   "cell_type": "markdown",
   "metadata": {},
   "source": [
    "we can see in our y_train, the ratio between negative and positive classes are 6.6 : 1 \n",
    "This class imbalance may cause some negative effect when we train the model.\n",
    "As our models look at the data and cleverly decide that the best thing to do is to always predict negative class and achieve high accuracy.\n",
    "If that happens we will normally get high accuracy but low recall or sometimes even zero recall, precision as the model will only predict negative class."
   ]
  },
  {
   "cell_type": "code",
   "execution_count": 46,
   "metadata": {},
   "outputs": [],
   "source": [
    "index = ['LR','GNB','KNN','SVC','DT','RF','GB','XGB','LightGB']\n",
    "\n",
    "models = [LogisticRegression(),\n",
    "          GaussianNB(),\n",
    "          KNeighborsClassifier(),\n",
    "          SVC(probability=True, random_state=43),\n",
    "          DecisionTreeClassifier(random_state=43),\n",
    "          RandomForestClassifier(random_state=43),\n",
    "          GradientBoostingClassifier(random_state=43),\n",
    "          XGBClassifier(random_state=43),\n",
    "          lgb.LGBMClassifier(objective='binary',random_state=43)]\n",
    "\n",
    "    # combine index and models to a dictionary\n",
    "model_dict = dict(zip(index,models))"
   ]
  },
  {
   "cell_type": "code",
   "execution_count": 47,
   "metadata": {},
   "outputs": [],
   "source": [
    "def model_eval(model_name, X, y, n):\n",
    "    scoring = {\n",
    "           'accuracy' : make_scorer(accuracy_score), \n",
    "           'precision' : make_scorer(precision_score),\n",
    "           'recall' : make_scorer(recall_score), \n",
    "           'f1_score' : make_scorer(f1_score),\n",
    "           'roc_auc' : make_scorer(roc_auc_score, needs_proba=True)}\n",
    "\n",
    "    kfold = KFold(n_splits=n)\n",
    "    model = model_name\n",
    "\n",
    "    model_res = model_selection.cross_validate(\n",
    "                                          estimator=model,\n",
    "                                          X=X,\n",
    "                                          y=y,\n",
    "                                          cv=kfold,\n",
    "                                          scoring=scoring)\n",
    "    \n",
    "    return pd.DataFrame(model_res).round(3)"
   ]
  },
  {
   "cell_type": "code",
   "execution_count": 48,
   "metadata": {},
   "outputs": [],
   "source": [
    "def allmodel_perform(X, y, n):\n",
    "    # create a empty list to put the average model test_score from the validation\n",
    "    model_score_average = []\n",
    "    \n",
    "    # Loop inside the model_dict and average the test_score. (test_score contains: accuracy, precision, recall, fscore, roc_auc_score)\n",
    "    # Append the avarage score to list 'model_score_average' \n",
    "    for model in model_dict.values():\n",
    "        model_score_average.append(model_eval(model,X,y,n).mean())\n",
    "\n",
    "\n",
    "    # put the model_score_average into a dataframe \n",
    "    df_model_eval = pd.DataFrame(model_score_average,index=list(model_dict.keys())).round(5)\n",
    "    df_model_eval = df_model_eval.reset_index().rename(columns={'index':'model'})\n",
    "    return df_model_eval"
   ]
  },
  {
   "cell_type": "code",
   "execution_count": 49,
   "metadata": {},
   "outputs": [
    {
     "name": "stderr",
     "output_type": "stream",
     "text": [
      "/Users/liuyang/opt/anaconda3/lib/python3.8/site-packages/sklearn/metrics/_classification.py:1221: UndefinedMetricWarning: Precision is ill-defined and being set to 0.0 due to no predicted samples. Use `zero_division` parameter to control this behavior.\n",
      "  _warn_prf(average, modifier, msg_start, len(result))\n",
      "/Users/liuyang/opt/anaconda3/lib/python3.8/site-packages/sklearn/metrics/_classification.py:1221: UndefinedMetricWarning: Precision is ill-defined and being set to 0.0 due to no predicted samples. Use `zero_division` parameter to control this behavior.\n",
      "  _warn_prf(average, modifier, msg_start, len(result))\n",
      "/Users/liuyang/opt/anaconda3/lib/python3.8/site-packages/sklearn/metrics/_classification.py:1221: UndefinedMetricWarning: Precision is ill-defined and being set to 0.0 due to no predicted samples. Use `zero_division` parameter to control this behavior.\n",
      "  _warn_prf(average, modifier, msg_start, len(result))\n",
      "/Users/liuyang/opt/anaconda3/lib/python3.8/site-packages/sklearn/metrics/_classification.py:1221: UndefinedMetricWarning: Precision is ill-defined and being set to 0.0 due to no predicted samples. Use `zero_division` parameter to control this behavior.\n",
      "  _warn_prf(average, modifier, msg_start, len(result))\n",
      "/Users/liuyang/opt/anaconda3/lib/python3.8/site-packages/sklearn/metrics/_classification.py:1221: UndefinedMetricWarning: Precision is ill-defined and being set to 0.0 due to no predicted samples. Use `zero_division` parameter to control this behavior.\n",
      "  _warn_prf(average, modifier, msg_start, len(result))\n",
      "/Users/liuyang/opt/anaconda3/lib/python3.8/site-packages/sklearn/metrics/_classification.py:1221: UndefinedMetricWarning: Precision is ill-defined and being set to 0.0 due to no predicted samples. Use `zero_division` parameter to control this behavior.\n",
      "  _warn_prf(average, modifier, msg_start, len(result))\n"
     ]
    },
    {
     "data": {
      "text/html": [
       "<div>\n",
       "<style scoped>\n",
       "    .dataframe tbody tr th:only-of-type {\n",
       "        vertical-align: middle;\n",
       "    }\n",
       "\n",
       "    .dataframe tbody tr th {\n",
       "        vertical-align: top;\n",
       "    }\n",
       "\n",
       "    .dataframe thead th {\n",
       "        text-align: right;\n",
       "    }\n",
       "</style>\n",
       "<table border=\"1\" class=\"dataframe\">\n",
       "  <thead>\n",
       "    <tr style=\"text-align: right;\">\n",
       "      <th></th>\n",
       "      <th>model</th>\n",
       "      <th>fit_time</th>\n",
       "      <th>score_time</th>\n",
       "      <th>test_accuracy</th>\n",
       "      <th>test_precision</th>\n",
       "      <th>test_recall</th>\n",
       "      <th>test_f1_score</th>\n",
       "      <th>test_roc_auc</th>\n",
       "    </tr>\n",
       "  </thead>\n",
       "  <tbody>\n",
       "    <tr>\n",
       "      <th>0</th>\n",
       "      <td>LR</td>\n",
       "      <td>0.0120</td>\n",
       "      <td>0.0068</td>\n",
       "      <td>0.8678</td>\n",
       "      <td>0.3800</td>\n",
       "      <td>0.0034</td>\n",
       "      <td>0.0070</td>\n",
       "      <td>0.6356</td>\n",
       "    </tr>\n",
       "    <tr>\n",
       "      <th>1</th>\n",
       "      <td>GNB</td>\n",
       "      <td>0.0028</td>\n",
       "      <td>0.0064</td>\n",
       "      <td>0.8376</td>\n",
       "      <td>0.2468</td>\n",
       "      <td>0.1098</td>\n",
       "      <td>0.1512</td>\n",
       "      <td>0.6238</td>\n",
       "    </tr>\n",
       "    <tr>\n",
       "      <th>2</th>\n",
       "      <td>KNN</td>\n",
       "      <td>0.0288</td>\n",
       "      <td>0.2830</td>\n",
       "      <td>0.8548</td>\n",
       "      <td>0.2570</td>\n",
       "      <td>0.0534</td>\n",
       "      <td>0.0882</td>\n",
       "      <td>0.5608</td>\n",
       "    </tr>\n",
       "    <tr>\n",
       "      <th>3</th>\n",
       "      <td>SVC</td>\n",
       "      <td>14.3856</td>\n",
       "      <td>0.3360</td>\n",
       "      <td>0.8678</td>\n",
       "      <td>0.0000</td>\n",
       "      <td>0.0000</td>\n",
       "      <td>0.0000</td>\n",
       "      <td>0.5414</td>\n",
       "    </tr>\n",
       "    <tr>\n",
       "      <th>4</th>\n",
       "      <td>DT</td>\n",
       "      <td>0.0170</td>\n",
       "      <td>0.0060</td>\n",
       "      <td>0.9848</td>\n",
       "      <td>0.9372</td>\n",
       "      <td>0.9486</td>\n",
       "      <td>0.9428</td>\n",
       "      <td>0.9692</td>\n",
       "    </tr>\n",
       "    <tr>\n",
       "      <th>5</th>\n",
       "      <td>RF</td>\n",
       "      <td>0.6232</td>\n",
       "      <td>0.0856</td>\n",
       "      <td>0.9240</td>\n",
       "      <td>0.9518</td>\n",
       "      <td>0.4462</td>\n",
       "      <td>0.6074</td>\n",
       "      <td>0.9220</td>\n",
       "    </tr>\n",
       "    <tr>\n",
       "      <th>6</th>\n",
       "      <td>GB</td>\n",
       "      <td>0.5544</td>\n",
       "      <td>0.0096</td>\n",
       "      <td>0.9674</td>\n",
       "      <td>0.9984</td>\n",
       "      <td>0.7542</td>\n",
       "      <td>0.8592</td>\n",
       "      <td>0.9926</td>\n",
       "    </tr>\n",
       "    <tr>\n",
       "      <th>7</th>\n",
       "      <td>XGB</td>\n",
       "      <td>0.2210</td>\n",
       "      <td>0.0090</td>\n",
       "      <td>0.9888</td>\n",
       "      <td>0.9814</td>\n",
       "      <td>0.9342</td>\n",
       "      <td>0.9572</td>\n",
       "      <td>0.9976</td>\n",
       "    </tr>\n",
       "    <tr>\n",
       "      <th>8</th>\n",
       "      <td>LightGB</td>\n",
       "      <td>0.0878</td>\n",
       "      <td>0.0156</td>\n",
       "      <td>0.9854</td>\n",
       "      <td>0.9842</td>\n",
       "      <td>0.9034</td>\n",
       "      <td>0.9418</td>\n",
       "      <td>0.9962</td>\n",
       "    </tr>\n",
       "  </tbody>\n",
       "</table>\n",
       "</div>"
      ],
      "text/plain": [
       "     model  fit_time  score_time  test_accuracy  test_precision  test_recall  \\\n",
       "0       LR    0.0120      0.0068         0.8678          0.3800       0.0034   \n",
       "1      GNB    0.0028      0.0064         0.8376          0.2468       0.1098   \n",
       "2      KNN    0.0288      0.2830         0.8548          0.2570       0.0534   \n",
       "3      SVC   14.3856      0.3360         0.8678          0.0000       0.0000   \n",
       "4       DT    0.0170      0.0060         0.9848          0.9372       0.9486   \n",
       "5       RF    0.6232      0.0856         0.9240          0.9518       0.4462   \n",
       "6       GB    0.5544      0.0096         0.9674          0.9984       0.7542   \n",
       "7      XGB    0.2210      0.0090         0.9888          0.9814       0.9342   \n",
       "8  LightGB    0.0878      0.0156         0.9854          0.9842       0.9034   \n",
       "\n",
       "   test_f1_score  test_roc_auc  \n",
       "0         0.0070        0.6356  \n",
       "1         0.1512        0.6238  \n",
       "2         0.0882        0.5608  \n",
       "3         0.0000        0.5414  \n",
       "4         0.9428        0.9692  \n",
       "5         0.6074        0.9220  \n",
       "6         0.8592        0.9926  \n",
       "7         0.9572        0.9976  \n",
       "8         0.9418        0.9962  "
      ]
     },
     "execution_count": 49,
     "metadata": {},
     "output_type": "execute_result"
    }
   ],
   "source": [
    "model_res = allmodel_perform(X_train, y_train, 5)\n",
    "model_res"
   ]
  },
  {
   "cell_type": "code",
   "execution_count": 50,
   "metadata": {},
   "outputs": [
    {
     "data": {
      "image/png": "[encoded data removed]",
      "text/plain": [
       "<Figure size 432x864 with 4 Axes>"
      ]
     },
     "metadata": {
      "needs_background": "light"
     },
     "output_type": "display_data"
    }
   ],
   "source": [
    "# plot barh plot to check the average score of recall, fscore, accuracy, roc_auc from cross validation\n",
    "fig,axs = plt.subplots(4,1, figsize=(6,12),sharex=True)\n",
    "\n",
    "axs[0].barh('model', 'test_recall', data=model_res)\n",
    "axs[1].barh('model', 'test_f1_score', data=model_res)\n",
    "axs[2].barh('model', 'test_accuracy', data=model_res)\n",
    "axs[3].barh('model', 'test_roc_auc',data=model_res)\n",
    "\n",
    "axs[0].set_xlabel('Recall')\n",
    "axs[1].set_xlabel('F1score')\n",
    "axs[2].set_xlabel('Accuracy')\n",
    "axs[3].set_xlabel('ROC_AUC')\n",
    "\n",
    "\n",
    "axs[0].plot([0.7,0.7],[-1,9],'r--')\n",
    "axs[1].plot([0.8,0.8],[-1,9],'r--')\n",
    "axs[2].plot([0.8,0.8],[-1,9],'r--')\n",
    "axs[3].plot([0.8,0.8],[-1,9],'r--')\n",
    "plt.show()"
   ]
  },
  {
   "cell_type": "code",
   "execution_count": 51,
   "metadata": {},
   "outputs": [],
   "source": [
    "# rule out models that recall is lower than 0.7. keep model DecisionTree, GB, XGB, LighGB\n",
    "index = ['DT','GB','XGB','LightGB']\n",
    "\n",
    "models = [DecisionTreeClassifier(random_state=43),\n",
    "          GradientBoostingClassifier(random_state=43),\n",
    "          XGBClassifier(random_state=43),\n",
    "          lgb.LGBMClassifier(objective='binary',random_state=43)]\n",
    "\n",
    "    # combine index and models to a dictionary\n",
    "model_dict = dict(zip(index,models))"
   ]
  },
  {
   "cell_type": "code",
   "execution_count": 52,
   "metadata": {},
   "outputs": [],
   "source": [
    "# create function to train models with 5 times cross validation and oversample data only on the train fold in each cross validation.\n",
    "def model_eval_os(model_name, n):\n",
    "    \n",
    "    precisions = []\n",
    "    recalls = []\n",
    "    f1scores = []\n",
    "    aucs = []\n",
    "    roc_aucs=[]\n",
    "    #y_proba = []\n",
    "    y_pred = []\n",
    "    \n",
    "    cv = KFold(n_splits=n)\n",
    "    for i, (train, test) in enumerate(cv.split(X_train, y_train)):\n",
    "        X_train_fold, y_train_fold = X_train[train], y_train[train]\n",
    "        X_test_fold, y_test_fold = X_train[test], y_train[test]\n",
    "        \n",
    "        os = SMOTE(random_state=43)\n",
    "        X_train_oversampled, y_train_oversampled = os.fit_sample(X_train_fold, y_train_fold)\n",
    "        model = model_name\n",
    "        \n",
    "        model.fit(X_train_oversampled, y_train_oversampled)\n",
    "        \n",
    "        y_pred = model.predict(X_test_fold)\n",
    "        y_pred_proba = model.predict_proba(X_test_fold)[:,1]\n",
    "        \n",
    "       \n",
    "        recalls.append(recall_score(y_test_fold, y_pred, pos_label=1,average='binary'))\n",
    "        precisions.append(precision_score(y_test_fold, y_pred, pos_label=1,average='binary'))\n",
    "        f1scores.append(f1_score(y_test_fold, y_pred, pos_label=1,average='binary'))\n",
    "        roc_aucs.append(roc_auc_score(y_test_fold, y_pred_proba))\n",
    "        aucs.append(model.score(X_test_fold, y_test_fold))\n",
    "        #y_proba.append(y_pred_proba)\n",
    "    \n",
    "    res = pd.DataFrame([precisions,recalls,f1scores,aucs,roc_aucs]).T\n",
    "    res.columns = ['test_precison', 'test_recall', 'test_f1score', 'test_accuracy', 'test_roc_auc']\n",
    "    return res"
   ]
  },
  {
   "cell_type": "code",
   "execution_count": 53,
   "metadata": {},
   "outputs": [],
   "source": [
    "def allmodel_perform_os(n):\n",
    "\n",
    "    model_score_average = []\n",
    "\n",
    "    for model in model_dict.values():\n",
    "        model_score_average.append(model_eval_os(model,n).mean())\n",
    "\n",
    "    df_model_eval = pd.DataFrame(model_score_average,index=list(model_dict.keys())).round(5)\n",
    "    df_model_eval = df_model_eval.reset_index().rename(columns={'index':'model'})\n",
    "    return df_model_eval"
   ]
  },
  {
   "cell_type": "code",
   "execution_count": 54,
   "metadata": {},
   "outputs": [
    {
     "data": {
      "text/html": [
       "<div>\n",
       "<style scoped>\n",
       "    .dataframe tbody tr th:only-of-type {\n",
       "        vertical-align: middle;\n",
       "    }\n",
       "\n",
       "    .dataframe tbody tr th {\n",
       "        vertical-align: top;\n",
       "    }\n",
       "\n",
       "    .dataframe thead th {\n",
       "        text-align: right;\n",
       "    }\n",
       "</style>\n",
       "<table border=\"1\" class=\"dataframe\">\n",
       "  <thead>\n",
       "    <tr style=\"text-align: right;\">\n",
       "      <th></th>\n",
       "      <th>model</th>\n",
       "      <th>test_precison</th>\n",
       "      <th>test_recall</th>\n",
       "      <th>test_f1score</th>\n",
       "      <th>test_accuracy</th>\n",
       "      <th>test_roc_auc</th>\n",
       "    </tr>\n",
       "  </thead>\n",
       "  <tbody>\n",
       "    <tr>\n",
       "      <th>2</th>\n",
       "      <td>XGB</td>\n",
       "      <td>0.97098</td>\n",
       "      <td>0.94008</td>\n",
       "      <td>0.95513</td>\n",
       "      <td>0.98833</td>\n",
       "      <td>0.99622</td>\n",
       "    </tr>\n",
       "    <tr>\n",
       "      <th>3</th>\n",
       "      <td>LightGB</td>\n",
       "      <td>0.92889</td>\n",
       "      <td>0.91411</td>\n",
       "      <td>0.92107</td>\n",
       "      <td>0.97930</td>\n",
       "      <td>0.99143</td>\n",
       "    </tr>\n",
       "    <tr>\n",
       "      <th>1</th>\n",
       "      <td>GB</td>\n",
       "      <td>0.62811</td>\n",
       "      <td>0.80102</td>\n",
       "      <td>0.70363</td>\n",
       "      <td>0.91059</td>\n",
       "      <td>0.95719</td>\n",
       "    </tr>\n",
       "    <tr>\n",
       "      <th>0</th>\n",
       "      <td>DT</td>\n",
       "      <td>0.88233</td>\n",
       "      <td>0.93297</td>\n",
       "      <td>0.90661</td>\n",
       "      <td>0.97463</td>\n",
       "      <td>0.95694</td>\n",
       "    </tr>\n",
       "  </tbody>\n",
       "</table>\n",
       "</div>"
      ],
      "text/plain": [
       "     model  test_precison  test_recall  test_f1score  test_accuracy  \\\n",
       "2      XGB        0.97098      0.94008       0.95513        0.98833   \n",
       "3  LightGB        0.92889      0.91411       0.92107        0.97930   \n",
       "1       GB        0.62811      0.80102       0.70363        0.91059   \n",
       "0       DT        0.88233      0.93297       0.90661        0.97463   \n",
       "\n",
       "   test_roc_auc  \n",
       "2       0.99622  \n",
       "3       0.99143  \n",
       "1       0.95719  \n",
       "0       0.95694  "
      ]
     },
     "execution_count": 54,
     "metadata": {},
     "output_type": "execute_result"
    }
   ],
   "source": [
    "model_res_os = allmodel_perform_os(5)\n",
    "model_res_os.sort_values(['test_roc_auc','test_recall'], ascending=False)"
   ]
  },
  {
   "cell_type": "markdown",
   "metadata": {},
   "source": [
    "Except DecisionTree, Recall has small improve after oversampling for all the models.\n",
    "<br>Choose model has high roc_auc and high recall score, which are models: XGB, LightGB, GB"
   ]
  },
  {
   "cell_type": "code",
   "execution_count": 55,
   "metadata": {},
   "outputs": [],
   "source": [
    "index = ['GB','XGB','LightGB']\n",
    "\n",
    "models = [GradientBoostingClassifier(random_state=43),\n",
    "          XGBClassifier(random_state=43),\n",
    "          lgb.LGBMClassifier(objective='binary',random_state=43)]\n",
    "\n",
    "    # combine index and models to a dictionary\n",
    "model_dict = dict(zip(index,models))"
   ]
  },
  {
   "cell_type": "code",
   "execution_count": 57,
   "metadata": {},
   "outputs": [
    {
     "data": {
      "image/png": "[encoded data removed]",
      "text/plain": [
       "<Figure size 432x576 with 1 Axes>"
      ]
     },
     "metadata": {
      "needs_background": "light"
     },
     "output_type": "display_data"
    },
    {
     "data": {
      "image/png": "[encoded data removed]",
      "text/plain": [
       "<Figure size 432x576 with 1 Axes>"
      ]
     },
     "metadata": {
      "needs_background": "light"
     },
     "output_type": "display_data"
    },
    {
     "data": {
      "image/png": "[encoded data removed]",
      "text/plain": [
       "<Figure size 432x576 with 1 Axes>"
      ]
     },
     "metadata": {
      "needs_background": "light"
     },
     "output_type": "display_data"
    }
   ],
   "source": [
    "# check model variance for 3 models \n",
    "from sklearn.metrics import plot_roc_curve\n",
    "cv = KFold(n_splits=5)\n",
    "\n",
    "for index, model in model_dict.items():\n",
    "    tprs = []\n",
    "    aucs = []\n",
    "    mean_fpr = np.linspace(0, 1, 100)\n",
    "    y_proba = []\n",
    "    \n",
    "    fig, ax = plt.subplots(figsize=(6,8))\n",
    "    #fig.set_size_inches(10,8)\n",
    "    \n",
    "    for i, (train, test) in enumerate(cv.split(X_train, y_train)):\n",
    "        X_train_fold, y_train_fold = X_train[train], y_train[train]\n",
    "        X_test_fold, y_test_fold = X_train[test], y_train[test]\n",
    "\n",
    "        os = SMOTE(random_state=43)\n",
    "        X_train_oversampled, y_train_oversampled = os.fit_sample(X_train_fold, y_train_fold)\n",
    "        model = model\n",
    "        model.fit(X_train_oversampled, y_train_oversampled)\n",
    "\n",
    "        y_proba.append(model.predict_proba(X_test_fold)[:,1])\n",
    "        viz = plot_roc_curve(model, X_test_fold, y_test_fold,\n",
    "                             name='ROC fold {}'.format(i),\n",
    "                             alpha=0.3, lw=1, ax=ax)\n",
    "        interp_tpr = np.interp(mean_fpr, viz.fpr, viz.tpr)\n",
    "        interp_tpr[0] = 0.0\n",
    "        tprs.append(interp_tpr)\n",
    "        aucs.append(viz.roc_auc)\n",
    "        \n",
    "    ax.plot([0, 1], [0, 1], linestyle='--', lw=2, color='r',\n",
    "            label='Chance', alpha=.8)\n",
    "\n",
    "    mean_tpr = np.mean(tprs, axis=0)\n",
    "    mean_tpr[-1] = 1.0\n",
    "    mean_auc = auc(mean_fpr, mean_tpr)\n",
    "    std_auc = np.std(aucs)\n",
    "    ax.plot(mean_fpr, mean_tpr, color='b',\n",
    "        label=r'Mean ROC (AUC = %0.2f $\\pm$ %0.3f)' % (mean_auc, std_auc),\n",
    "        lw=2, alpha=.8)\n",
    "\n",
    "    std_tpr = np.std(tprs, axis=0)\n",
    "    tprs_upper = np.minimum(mean_tpr + std_tpr, 1)\n",
    "    tprs_lower = np.maximum(mean_tpr - std_tpr, 0)\n",
    "    ax.fill_between(mean_fpr, tprs_lower, tprs_upper, color='grey', alpha=.2,\n",
    "                label=r'$\\pm$ 1 std. dev.')\n",
    "\n",
    "    ax.set(xlim=[-0.05, 1.05], ylim=[-0.05, 1.05],\n",
    "       title=\"Receiver operating characteristic example\")\n",
    "    ax.legend(loc=\"lower right\")\n",
    "\n",
    "\n",
    "\n",
    "#         predProba_label = pd.DataFrame()\n",
    "#         predProba_label['proba'] = pd.DataFrame(y_proba).mean()\n",
    "#         predProba_label['label'] = np.array(y_test_fold)\n",
    "#         predProba_label.head()\n",
    "#         ax2.hist(predProba_label[predProba_label.label==1].proba, density=True, histtype='step',label='Positive',color='r')\n",
    "#         ax2.hist(predProba_label[predProba_label.label==0].proba, density=True, histtype='step',label='Negative')\n",
    "#         ax2.set_xlabel('Probability of prediction', fontsize=12)\n",
    "#         ax2.set_ylabel('Count of observation', fontsize=12)\n",
    "#         ax2.legend()\n",
    "#         ax2.set_title('Predicted probability vs class',fontsize=12)\n",
    "\n",
    "    plt.suptitle((\"Model: %s\" % index),fontsize=12,fontweight='bold')\n",
    "\n",
    "#         plt.show()\n"
   ]
  },
  {
   "cell_type": "code",
   "execution_count": 58,
   "metadata": {},
   "outputs": [
    {
     "data": {
      "text/html": [
       "<div>\n",
       "<style scoped>\n",
       "    .dataframe tbody tr th:only-of-type {\n",
       "        vertical-align: middle;\n",
       "    }\n",
       "\n",
       "    .dataframe tbody tr th {\n",
       "        vertical-align: top;\n",
       "    }\n",
       "\n",
       "    .dataframe thead th {\n",
       "        text-align: right;\n",
       "    }\n",
       "</style>\n",
       "<table border=\"1\" class=\"dataframe\">\n",
       "  <thead>\n",
       "    <tr style=\"text-align: right;\">\n",
       "      <th></th>\n",
       "      <th>XGB</th>\n",
       "      <th>LightGB</th>\n",
       "    </tr>\n",
       "  </thead>\n",
       "  <tbody>\n",
       "    <tr>\n",
       "      <th>fit_time</th>\n",
       "      <td>0.563857</td>\n",
       "      <td>0.131155</td>\n",
       "    </tr>\n",
       "    <tr>\n",
       "      <th>pred_time</th>\n",
       "      <td>0.004290</td>\n",
       "      <td>0.013107</td>\n",
       "    </tr>\n",
       "  </tbody>\n",
       "</table>\n",
       "</div>"
      ],
      "text/plain": [
       "                XGB   LightGB\n",
       "fit_time   0.563857  0.131155\n",
       "pred_time  0.004290  0.013107"
      ]
     },
     "execution_count": 58,
     "metadata": {},
     "output_type": "execute_result"
    }
   ],
   "source": [
    "# as XGB and LighGB are almost the same good, we should also check their fit time and prediction time\n",
    "index = ['XGB','LightGB']\n",
    "\n",
    "models = [XGBClassifier(random_state=43),\n",
    "          lgb.LGBMClassifier(objective='binary',random_state=43)]\n",
    "\n",
    "model_dict = dict(zip(index,models))\n",
    "fit_times = []\n",
    "pred_times = []\n",
    "\n",
    "for index, model in model_dict.items():\n",
    "    start = time.time()\n",
    "    model.fit(X_train_oversampled, y_train_oversampled)\n",
    "    end = time.time()\n",
    "    fit_time = end - start\n",
    "    fit_times.append(fit_time)\n",
    "    \n",
    "    start = time.time()\n",
    "    model.predict(X_test)\n",
    "    end = time.time()\n",
    "    pred_time = end - start\n",
    "    pred_times.append(pred_time)\n",
    "\n",
    "pd.DataFrame([fit_times, pred_times],columns=['XGB', 'LightGB'], index=['fit_time','pred_time'])"
   ]
  },
  {
   "cell_type": "code",
   "execution_count": 59,
   "metadata": {},
   "outputs": [
    {
     "name": "stdout",
     "output_type": "stream",
     "text": [
      "precision: 0.965 recall: 0.96 f1score: 0.963\n",
      "roc_auc: 0.998\n"
     ]
    }
   ],
   "source": [
    "# choose XGB as the final model as the pred time is 5 times shorter than LightGB\n",
    "model = XGBClassifier(random_state=43)\n",
    "cv = KFold(n_splits=5)\n",
    "\n",
    "\n",
    "for i, (train, test) in enumerate(cv.split(X_train)):\n",
    "        X_train_fold, y_train_fold = X_train[train], y_train[train]\n",
    "        X_test_fold, y_test_fold = X_train[test], y_train[test]\n",
    "        \n",
    "        os = SMOTE(random_state=43)\n",
    "        X_train_oversampled, y_train_oversampled = os.fit_sample(X_train_fold, y_train_fold)\n",
    "        #model = RandomForestClassifier(random_state=43)\n",
    "        \n",
    "        model.fit(X_train_oversampled, y_train_oversampled)\n",
    "        y_pred = model.predict(X_test_fold)\n",
    "        y_pred_prob = model.predict_proba(X_test_fold)[:,1]\n",
    "        #precision, recall, f1score, support = score(y_test_fold, y_pred, pos_label=1,average='binary')\n",
    "        \n",
    "        \n",
    "yfinal = model.predict(X_test)\n",
    "yfinal_proba = model.predict_proba(X_test)[:,1]\n",
    "precision, recall, f1score, support = score(y_test, yfinal, pos_label=1,average='binary')\n",
    "\n",
    "print('precision:', round(precision,3), 'recall:', round(recall,3), 'f1score:', round(f1score,3))\n",
    "print('roc_auc:', round(roc_auc_score(y_test, yfinal_proba),3))"
   ]
  },
  {
   "cell_type": "code",
   "execution_count": 60,
   "metadata": {},
   "outputs": [
    {
     "data": {
      "image/png": "[encoded data removed]",
      "text/plain": [
       "<Figure size 432x432 with 1 Axes>"
      ]
     },
     "metadata": {
      "needs_background": "light"
     },
     "output_type": "display_data"
    }
   ],
   "source": [
    "fpr,tpr,threshold = roc_curve(y_test,model.predict_proba(X_test)[:,1])\n",
    "roc_auc_ = metrics.auc(fpr,tpr)\n",
    "plt.figure(figsize=(6,6))\n",
    "_=plt.plot([0,1],[0,1],'k--')\n",
    "_=plt.plot(fpr,tpr,'r',label='AUC = %.3f'%roc_auc_)\n",
    "_=plt.title('Receiver Operating Characteristic (ROC) curve of final model')\n",
    "_=plt.xlabel('False Positive Rate (1 - Specificity)',fontsize=12,fontweight='bold')\n",
    "_=plt.ylabel('True Positive Rate (Sensitivity)',fontsize=12,fontweight='bold')\n",
    "_=plt.legend(loc='lower right')"
   ]
  },
  {
   "cell_type": "code",
   "execution_count": 61,
   "metadata": {},
   "outputs": [
    {
     "data": {
      "image/png": "[encoded data removed]",
      "text/plain": [
       "<Figure size 1152x720 with 1 Axes>"
      ]
     },
     "metadata": {
      "needs_background": "light"
     },
     "output_type": "display_data"
    }
   ],
   "source": [
    "# feature importance for xgb\n",
    "from xgboost import plot_importance\n",
    "model.fit(X_train,y_train)\n",
    "fig,ax = plt.subplots(figsize=(16,10))\n",
    "plot_importance(model,ax=ax)\n",
    "plt.show()"
   ]
  },
  {
   "cell_type": "code",
   "execution_count": 62,
   "metadata": {},
   "outputs": [
    {
     "name": "stdout",
     "output_type": "stream",
     "text": [
      "precision: 0.921 recall: 0.933 f1score: 0.927\n",
      "roc_auc: 0.992\n"
     ]
    }
   ],
   "source": [
    "# to compare the feature importance for LightGB \n",
    "model = lgb.LGBMClassifier(objective='binary',random_state=43)\n",
    "cv = KFold(n_splits=5)\n",
    "\n",
    "\n",
    "for i, (train, test) in enumerate(cv.split(X_train)):\n",
    "        X_train_fold, y_train_fold = X_train[train], y_train[train]\n",
    "        X_test_fold, y_test_fold = X_train[test], y_train[test]\n",
    "        \n",
    "        os = SMOTE(random_state=43)\n",
    "        X_train_oversampled, y_train_oversampled = os.fit_sample(X_train_fold, y_train_fold)\n",
    "        #model = RandomForestClassifier(random_state=43)\n",
    "        \n",
    "        model.fit(X_train_oversampled, y_train_oversampled)\n",
    "        y_pred = model.predict(X_test_fold)\n",
    "        y_pred_prob = model.predict_proba(X_test_fold)[:,1]\n",
    "        #precision, recall, f1score, support = score(y_test_fold, y_pred, pos_label=1,average='binary')\n",
    "        \n",
    "        \n",
    "yfinal = model.predict(X_test)\n",
    "yfinal_proba = model.predict_proba(X_test)[:,1]\n",
    "precision, recall, f1score, support = score(y_test, yfinal, pos_label=1,average='binary')\n",
    "\n",
    "print('precision:', round(precision,3), 'recall:', round(recall,3), 'f1score:', round(f1score,3))\n",
    "print('roc_auc:', round(roc_auc_score(y_test, yfinal_proba),3))"
   ]
  },
  {
   "cell_type": "code",
   "execution_count": 63,
   "metadata": {},
   "outputs": [
    {
     "data": {
      "image/png": "[encoded data removed]",
      "text/plain": [
       "<Figure size 1152x720 with 1 Axes>"
      ]
     },
     "metadata": {
      "needs_background": "light"
     },
     "output_type": "display_data"
    }
   ],
   "source": [
    "# # feature importance for lightgb\n",
    "from lightgbm import plot_importance\n",
    "model.fit(X_train,y_train)\n",
    "fig, ax = plt.subplots(figsize=(16, 10))\n",
    "plot_importance(model,ax=ax)\n",
    "plt.show()"
   ]
  },
  {
   "cell_type": "code",
   "execution_count": 64,
   "metadata": {},
   "outputs": [],
   "source": [
    "# # feature importance for DecisionTree\n",
    "# model =  DecisionTreeClassifier(random_state=43)\n",
    "# model.fit(X_train,y_train)\n",
    "\n",
    "# fig,ax = plt.subplots(figsize=(16,10))\n",
    "# plt.barh(df.drop('target',axis=1).columns.tolist(), model.feature_importances_)"
   ]
  },
  {
   "cell_type": "code",
   "execution_count": 65,
   "metadata": {},
   "outputs": [],
   "source": [
    "# # feature importance for RandomForest\n",
    "# #model = RandomForestClassifier(random_state=43)\n",
    "# model.fit(X_train, y_train)\n",
    "# fig,ax = plt.subplots(figsize=(16,10))\n",
    "# plt.barh(df.drop('target',axis=1).columns.tolist(), model.feature_importances_)"
   ]
  },
  {
   "cell_type": "code",
   "execution_count": 66,
   "metadata": {},
   "outputs": [],
   "source": [
    "# # feature importance for GB\n",
    "# model = GradientBoostingClassifier(random_state=43)\n",
    "# model.fit(X_train,y_train)\n",
    "\n",
    "# fig,ax = plt.subplots(figsize=(16,10))\n",
    "# plt.barh(df.drop(['target','city'], axis=1).columns.tolist(), model.feature_importances_)"
   ]
  }
 ],
 "metadata": {
  "kernelspec": {
   "display_name": "Python 3",
   "language": "python",
   "name": "python3"
  },
  "language_info": {
   "codemirror_mode": {
    "name": "ipython",
    "version": 3
   },
   "file_extension": ".py",
   "mimetype": "text/x-python",
   "name": "python",
   "nbconvert_exporter": "python",
   "pygments_lexer": "ipython3",
   "version": "3.8.3"
  }
 },
 "nbformat": 4,
 "nbformat_minor": 4
}
