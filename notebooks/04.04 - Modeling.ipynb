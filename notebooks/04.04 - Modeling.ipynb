{
 "cells": [
  {
   "cell_type": "markdown",
   "metadata": {},
   "source": [
    "## Imports & Setup"
   ]
  },
  {
   "cell_type": "code",
   "execution_count": 1,
   "metadata": {},
   "outputs": [
    {
     "name": "stderr",
     "output_type": "stream",
     "text": [
      "/Users/liuyang/opt/anaconda3/lib/python3.8/site-packages/lightgbm/__init__.py:42: UserWarning: Starting from version 2.2.1, the library file in distribution wheels for macOS is built by the Apple Clang (Xcode_8.3.3) compiler.\n",
      "This means that in case of installing LightGBM from PyPI via the ``pip install lightgbm`` command, you don't need to install the gcc compiler anymore.\n",
      "Instead of that, you need to install the OpenMP library, which is required for running LightGBM on the system with the Apple Clang compiler.\n",
      "You can install the OpenMP library by the following command: ``brew install libomp``.\n",
      "  warnings.warn(\"Starting from version 2.2.1, the library file in distribution wheels for macOS \"\n"
     ]
    }
   ],
   "source": [
    "import os\n",
    "import pandas as pd\n",
    "# import datetime\n",
    "import seaborn as sns\n",
    "sns.set()\n",
    "import matplotlib.pyplot as plt\n",
    "import numpy as np\n",
    "# from scipy import stats\n",
    "# import random\n",
    "from category_encoders import LeaveOneOutEncoder\n",
    "from sklearn.preprocessing import StandardScaler\n",
    "from sklearn.model_selection import train_test_split \n",
    "from sklearn.model_selection import KFold\n",
    "from sklearn import model_selection\n",
    "\n",
    "from sklearn.linear_model import LogisticRegression\n",
    "from sklearn.naive_bayes import GaussianNB\n",
    "from sklearn.neighbors import KNeighborsClassifier\n",
    "from sklearn.svm import SVC\n",
    "from sklearn.tree import DecisionTreeClassifier\n",
    "from sklearn.ensemble import RandomForestClassifier\n",
    "from sklearn.ensemble import GradientBoostingClassifier\n",
    "from xgboost import XGBClassifier\n",
    "import xgboost as xgb\n",
    "from catboost import CatBoostClassifier\n",
    "import lightgbm as lgb\n",
    "\n",
    "import time\n",
    "from sklearn import metrics\n",
    "from sklearn.metrics import roc_auc_score\n",
    "from sklearn.metrics import precision_recall_fscore_support as score, accuracy_score\n",
    "from sklearn.metrics import classification_report, confusion_matrix, roc_curve, auc\n",
    "from imblearn.over_sampling import SMOTE\n",
    "%matplotlib inline"
   ]
  },
  {
   "cell_type": "code",
   "execution_count": 3,
   "metadata": {},
   "outputs": [
    {
     "name": "stdout",
     "output_type": "stream",
     "text": [
      "/Users/liuyang/Desktop/Springboard_Capstone/notebooks\n",
      "/Users/liuyang/Desktop/Springboard_Capstone\n"
     ]
    }
   ],
   "source": [
    "print(os.getcwd())\n",
    "os.chdir('/Users/liuyang/Desktop/Springboard_Capstone') \n",
    "print(os.getcwd())"
   ]
  },
  {
   "cell_type": "code",
   "execution_count": 4,
   "metadata": {},
   "outputs": [],
   "source": [
    "df = pd.read_csv('data/preprocessed_train.csv')"
   ]
  },
  {
   "cell_type": "code",
   "execution_count": 5,
   "metadata": {},
   "outputs": [
    {
     "data": {
      "text/html": [
       "<div>\n",
       "<style scoped>\n",
       "    .dataframe tbody tr th:only-of-type {\n",
       "        vertical-align: middle;\n",
       "    }\n",
       "\n",
       "    .dataframe tbody tr th {\n",
       "        vertical-align: top;\n",
       "    }\n",
       "\n",
       "    .dataframe thead th {\n",
       "        text-align: right;\n",
       "    }\n",
       "</style>\n",
       "<table border=\"1\" class=\"dataframe\">\n",
       "  <thead>\n",
       "    <tr style=\"text-align: right;\">\n",
       "      <th></th>\n",
       "      <th>city</th>\n",
       "      <th>city_development_index</th>\n",
       "      <th>gender</th>\n",
       "      <th>relevent_experience</th>\n",
       "      <th>enrolled_university</th>\n",
       "      <th>education_level</th>\n",
       "      <th>major_discipline</th>\n",
       "      <th>experience</th>\n",
       "      <th>company_size</th>\n",
       "      <th>company_type</th>\n",
       "      <th>last_new_job</th>\n",
       "      <th>training_hours</th>\n",
       "      <th>target</th>\n",
       "    </tr>\n",
       "  </thead>\n",
       "  <tbody>\n",
       "    <tr>\n",
       "      <th>0</th>\n",
       "      <td>city_149</td>\n",
       "      <td>0.689</td>\n",
       "      <td>1</td>\n",
       "      <td>1</td>\n",
       "      <td>0</td>\n",
       "      <td>2</td>\n",
       "      <td>1</td>\n",
       "      <td>1</td>\n",
       "      <td>2</td>\n",
       "      <td>4</td>\n",
       "      <td>1</td>\n",
       "      <td>106</td>\n",
       "      <td>0</td>\n",
       "    </tr>\n",
       "    <tr>\n",
       "      <th>1</th>\n",
       "      <td>city_83</td>\n",
       "      <td>0.923</td>\n",
       "      <td>1</td>\n",
       "      <td>1</td>\n",
       "      <td>0</td>\n",
       "      <td>2</td>\n",
       "      <td>1</td>\n",
       "      <td>3</td>\n",
       "      <td>1</td>\n",
       "      <td>2</td>\n",
       "      <td>1</td>\n",
       "      <td>69</td>\n",
       "      <td>0</td>\n",
       "    </tr>\n",
       "    <tr>\n",
       "      <th>2</th>\n",
       "      <td>city_16</td>\n",
       "      <td>0.910</td>\n",
       "      <td>1</td>\n",
       "      <td>1</td>\n",
       "      <td>0</td>\n",
       "      <td>2</td>\n",
       "      <td>1</td>\n",
       "      <td>2</td>\n",
       "      <td>1</td>\n",
       "      <td>1</td>\n",
       "      <td>1</td>\n",
       "      <td>4</td>\n",
       "      <td>0</td>\n",
       "    </tr>\n",
       "    <tr>\n",
       "      <th>3</th>\n",
       "      <td>city_64</td>\n",
       "      <td>0.666</td>\n",
       "      <td>1</td>\n",
       "      <td>1</td>\n",
       "      <td>0</td>\n",
       "      <td>2</td>\n",
       "      <td>1</td>\n",
       "      <td>3</td>\n",
       "      <td>1</td>\n",
       "      <td>4</td>\n",
       "      <td>1</td>\n",
       "      <td>26</td>\n",
       "      <td>0</td>\n",
       "    </tr>\n",
       "    <tr>\n",
       "      <th>4</th>\n",
       "      <td>city_100</td>\n",
       "      <td>0.887</td>\n",
       "      <td>1</td>\n",
       "      <td>0</td>\n",
       "      <td>0</td>\n",
       "      <td>2</td>\n",
       "      <td>1</td>\n",
       "      <td>2</td>\n",
       "      <td>1</td>\n",
       "      <td>4</td>\n",
       "      <td>1</td>\n",
       "      <td>88</td>\n",
       "      <td>1</td>\n",
       "    </tr>\n",
       "  </tbody>\n",
       "</table>\n",
       "</div>"
      ],
      "text/plain": [
       "       city  city_development_index  gender  relevent_experience  \\\n",
       "0  city_149                   0.689       1                    1   \n",
       "1   city_83                   0.923       1                    1   \n",
       "2   city_16                   0.910       1                    1   \n",
       "3   city_64                   0.666       1                    1   \n",
       "4  city_100                   0.887       1                    0   \n",
       "\n",
       "   enrolled_university  education_level  major_discipline  experience  \\\n",
       "0                    0                2                 1           1   \n",
       "1                    0                2                 1           3   \n",
       "2                    0                2                 1           2   \n",
       "3                    0                2                 1           3   \n",
       "4                    0                2                 1           2   \n",
       "\n",
       "   company_size  company_type  last_new_job  training_hours  target  \n",
       "0             2             4             1             106       0  \n",
       "1             1             2             1              69       0  \n",
       "2             1             1             1               4       0  \n",
       "3             1             4             1              26       0  \n",
       "4             1             4             1              88       1  "
      ]
     },
     "execution_count": 5,
     "metadata": {},
     "output_type": "execute_result"
    }
   ],
   "source": [
    "df.head()"
   ]
  },
  {
   "cell_type": "code",
   "execution_count": 6,
   "metadata": {},
   "outputs": [
    {
     "data": {
      "text/plain": [
       "(18359, 13)"
      ]
     },
     "execution_count": 6,
     "metadata": {},
     "output_type": "execute_result"
    }
   ],
   "source": [
    "df.shape"
   ]
  },
  {
   "cell_type": "code",
   "execution_count": 7,
   "metadata": {},
   "outputs": [],
   "source": [
    "X = df.drop(['target'],axis=1)\n",
    "y = df['target']"
   ]
  },
  {
   "cell_type": "code",
   "execution_count": 8,
   "metadata": {},
   "outputs": [
    {
     "data": {
      "text/html": [
       "<div>\n",
       "<style scoped>\n",
       "    .dataframe tbody tr th:only-of-type {\n",
       "        vertical-align: middle;\n",
       "    }\n",
       "\n",
       "    .dataframe tbody tr th {\n",
       "        vertical-align: top;\n",
       "    }\n",
       "\n",
       "    .dataframe thead th {\n",
       "        text-align: right;\n",
       "    }\n",
       "</style>\n",
       "<table border=\"1\" class=\"dataframe\">\n",
       "  <thead>\n",
       "    <tr style=\"text-align: right;\">\n",
       "      <th></th>\n",
       "      <th>city</th>\n",
       "      <th>city_development_index</th>\n",
       "      <th>gender</th>\n",
       "      <th>relevent_experience</th>\n",
       "      <th>enrolled_university</th>\n",
       "      <th>education_level</th>\n",
       "      <th>major_discipline</th>\n",
       "      <th>experience</th>\n",
       "      <th>company_size</th>\n",
       "      <th>company_type</th>\n",
       "      <th>last_new_job</th>\n",
       "      <th>training_hours</th>\n",
       "    </tr>\n",
       "  </thead>\n",
       "  <tbody>\n",
       "    <tr>\n",
       "      <th>0</th>\n",
       "      <td>0.125000</td>\n",
       "      <td>0.689</td>\n",
       "      <td>1</td>\n",
       "      <td>1</td>\n",
       "      <td>0</td>\n",
       "      <td>2</td>\n",
       "      <td>1</td>\n",
       "      <td>1</td>\n",
       "      <td>2</td>\n",
       "      <td>4</td>\n",
       "      <td>1</td>\n",
       "      <td>106</td>\n",
       "    </tr>\n",
       "    <tr>\n",
       "      <th>1</th>\n",
       "      <td>0.099291</td>\n",
       "      <td>0.923</td>\n",
       "      <td>1</td>\n",
       "      <td>1</td>\n",
       "      <td>0</td>\n",
       "      <td>2</td>\n",
       "      <td>1</td>\n",
       "      <td>3</td>\n",
       "      <td>1</td>\n",
       "      <td>2</td>\n",
       "      <td>1</td>\n",
       "      <td>69</td>\n",
       "    </tr>\n",
       "    <tr>\n",
       "      <th>2</th>\n",
       "      <td>0.093164</td>\n",
       "      <td>0.910</td>\n",
       "      <td>1</td>\n",
       "      <td>1</td>\n",
       "      <td>0</td>\n",
       "      <td>2</td>\n",
       "      <td>1</td>\n",
       "      <td>2</td>\n",
       "      <td>1</td>\n",
       "      <td>1</td>\n",
       "      <td>1</td>\n",
       "      <td>4</td>\n",
       "    </tr>\n",
       "    <tr>\n",
       "      <th>3</th>\n",
       "      <td>0.101695</td>\n",
       "      <td>0.666</td>\n",
       "      <td>1</td>\n",
       "      <td>1</td>\n",
       "      <td>0</td>\n",
       "      <td>2</td>\n",
       "      <td>1</td>\n",
       "      <td>3</td>\n",
       "      <td>1</td>\n",
       "      <td>4</td>\n",
       "      <td>1</td>\n",
       "      <td>26</td>\n",
       "    </tr>\n",
       "    <tr>\n",
       "      <th>4</th>\n",
       "      <td>0.159259</td>\n",
       "      <td>0.887</td>\n",
       "      <td>1</td>\n",
       "      <td>0</td>\n",
       "      <td>0</td>\n",
       "      <td>2</td>\n",
       "      <td>1</td>\n",
       "      <td>2</td>\n",
       "      <td>1</td>\n",
       "      <td>4</td>\n",
       "      <td>1</td>\n",
       "      <td>88</td>\n",
       "    </tr>\n",
       "  </tbody>\n",
       "</table>\n",
       "</div>"
      ],
      "text/plain": [
       "       city  city_development_index  gender  relevent_experience  \\\n",
       "0  0.125000                   0.689       1                    1   \n",
       "1  0.099291                   0.923       1                    1   \n",
       "2  0.093164                   0.910       1                    1   \n",
       "3  0.101695                   0.666       1                    1   \n",
       "4  0.159259                   0.887       1                    0   \n",
       "\n",
       "   enrolled_university  education_level  major_discipline  experience  \\\n",
       "0                    0                2                 1           1   \n",
       "1                    0                2                 1           3   \n",
       "2                    0                2                 1           2   \n",
       "3                    0                2                 1           3   \n",
       "4                    0                2                 1           2   \n",
       "\n",
       "   company_size  company_type  last_new_job  training_hours  \n",
       "0             2             4             1             106  \n",
       "1             1             2             1              69  \n",
       "2             1             1             1               4  \n",
       "3             1             4             1              26  \n",
       "4             1             4             1              88  "
      ]
     },
     "execution_count": 8,
     "metadata": {},
     "output_type": "execute_result"
    }
   ],
   "source": [
    "# Encode column 'city'\n",
    "enc = LeaveOneOutEncoder(cols=['city'])\n",
    "X_enc = enc.fit_transform(X,y)\n",
    "X_enc.head()"
   ]
  },
  {
   "cell_type": "code",
   "execution_count": 9,
   "metadata": {},
   "outputs": [],
   "source": [
    "# Scale X \n",
    "X_scaled = StandardScaler().fit_transform(X_enc)"
   ]
  },
  {
   "cell_type": "code",
   "execution_count": 10,
   "metadata": {},
   "outputs": [],
   "source": [
    "# Split train test set\n",
    "X_train,X_test,y_train,y_test = train_test_split(X_scaled, y, test_size=0.30, stratify=y, random_state=63)"
   ]
  },
  {
   "cell_type": "code",
   "execution_count": 11,
   "metadata": {},
   "outputs": [
    {
     "data": {
      "text/plain": [
       "0    4780\n",
       "1     728\n",
       "Name: target, dtype: int64"
      ]
     },
     "execution_count": 11,
     "metadata": {},
     "output_type": "execute_result"
    }
   ],
   "source": [
    "# Confirm there's positive class in the test set.\n",
    "y_test.value_counts()"
   ]
  },
  {
   "cell_type": "markdown",
   "metadata": {},
   "source": [
    "## 1. Try Logistic regression "
   ]
  },
  {
   "cell_type": "code",
   "execution_count": 11,
   "metadata": {},
   "outputs": [
    {
     "name": "stderr",
     "output_type": "stream",
     "text": [
      "/Users/liuyang/opt/anaconda3/lib/python3.8/site-packages/sklearn/metrics/_classification.py:1221: UndefinedMetricWarning: Precision and F-score are ill-defined and being set to 0.0 due to no predicted samples. Use `zero_division` parameter to control this behavior.\n",
      "  _warn_prf(average, modifier, msg_start, len(result))\n"
     ]
    },
    {
     "data": {
      "text/plain": [
       "array([[   0,  728],\n",
       "       [   0, 4780]])"
      ]
     },
     "execution_count": 11,
     "metadata": {},
     "output_type": "execute_result"
    }
   ],
   "source": [
    "logreg=LogisticRegression()\n",
    "logreg.fit(X_train,y_train)\n",
    "\n",
    "y_pred=logreg.predict(X_test)\n",
    "\n",
    "score(y_test, y_pred, pos_label=1,average='binary') \n",
    "metrics.confusion_matrix(y_test, y_pred,labels=[1,0])"
   ]
  },
  {
   "cell_type": "markdown",
   "metadata": {},
   "source": [
    "As data is imbalanced so there's no positive class predicted, therefore Recall is zero, \n",
    "Precision and fscore are ill-defined."
   ]
  },
  {
   "cell_type": "code",
   "execution_count": 12,
   "metadata": {},
   "outputs": [],
   "source": [
    "y_pred_proba = logreg.predict_proba(X_test)[:,1]\n",
    "fpr, tpr, _ = roc_curve(y_test, y_pred_proba)"
   ]
  },
  {
   "cell_type": "code",
   "execution_count": 13,
   "metadata": {},
   "outputs": [
    {
     "data": {
      "image/png": "[encoded data removed]",
      "text/plain": [
       "<Figure size 432x288 with 1 Axes>"
      ]
     },
     "metadata": {
      "needs_background": "light"
     },
     "output_type": "display_data"
    }
   ],
   "source": [
    "plt.plot([0,1],[0,1],'k--')\n",
    "plt.plot(fpr, tpr)\n",
    "plt.xlabel('False positive rate')\n",
    "plt.ylabel('True positive rate')\n",
    "plt.title('ROC curve')\n",
    "plt.show()"
   ]
  },
  {
   "cell_type": "code",
   "execution_count": 14,
   "metadata": {},
   "outputs": [
    {
     "name": "stdout",
     "output_type": "stream",
     "text": [
      "AUC:0.638\n"
     ]
    }
   ],
   "source": [
    "auc = metrics.auc(fpr,tpr)\n",
    "print('AUC:{0:.3f}'.format(auc))"
   ]
  },
  {
   "cell_type": "markdown",
   "metadata": {},
   "source": [
    "As you can see the overall, the performance from model logistic regression is not very ideal. "
   ]
  },
  {
   "cell_type": "markdown",
   "metadata": {},
   "source": [
    "## 2. Try DecisionTree model"
   ]
  },
  {
   "cell_type": "code",
   "execution_count": 15,
   "metadata": {},
   "outputs": [
    {
     "data": {
      "text/plain": [
       "(0.9904240766073872, 0.9945054945054945, 0.9924605894448253, None)"
      ]
     },
     "execution_count": 15,
     "metadata": {},
     "output_type": "execute_result"
    }
   ],
   "source": [
    "model2 = DecisionTreeClassifier(random_state=63)\n",
    "model2.fit(X_train, y_train)\n",
    "\n",
    "y_pred2 = model2.predict(X_test)\n",
    "\n",
    "# get precision, recall, fscore\n",
    "score(y_test, y_pred2, pos_label=1,average='binary')   "
   ]
  },
  {
   "cell_type": "code",
   "execution_count": 16,
   "metadata": {},
   "outputs": [
    {
     "data": {
      "text/plain": [
       "0.9980029048656499"
      ]
     },
     "execution_count": 16,
     "metadata": {},
     "output_type": "execute_result"
    }
   ],
   "source": [
    "# get accuracy\n",
    "accuracy_score(y_test,y_pred2)"
   ]
  },
  {
   "cell_type": "code",
   "execution_count": 17,
   "metadata": {},
   "outputs": [
    {
     "data": {
      "text/plain": [
       "True     5497\n",
       "False      11\n",
       "Name: target, dtype: int64"
      ]
     },
     "execution_count": 17,
     "metadata": {},
     "output_type": "execute_result"
    }
   ],
   "source": [
    "(y_pred2 == y_test).value_counts()"
   ]
  },
  {
   "cell_type": "markdown",
   "metadata": {},
   "source": [
    "## 3. Train model with SMOTE method"
   ]
  },
  {
   "cell_type": "code",
   "execution_count": 12,
   "metadata": {},
   "outputs": [],
   "source": [
    "os = SMOTE(random_state=63)\n",
    "#columns = X_train.columns\n",
    "\n",
    "#os_data_X,os_data_y=os.fit_sample(X_train, y_train)\n",
    "X_os, y_os=os.fit_sample(X_train, y_train.ravel())"
   ]
  },
  {
   "cell_type": "code",
   "execution_count": 13,
   "metadata": {},
   "outputs": [
    {
     "name": "stdout",
     "output_type": "stream",
     "text": [
      "(22308, 12)\n",
      "(22308,)\n"
     ]
    }
   ],
   "source": [
    "print(X_os.shape)\n",
    "print(y_os.shape)"
   ]
  },
  {
   "cell_type": "code",
   "execution_count": 20,
   "metadata": {},
   "outputs": [
    {
     "data": {
      "text/plain": [
       "(array([0, 1]), array([11154, 11154]))"
      ]
     },
     "execution_count": 20,
     "metadata": {},
     "output_type": "execute_result"
    }
   ],
   "source": [
    "# make sure the numbers of positive and negative class are the same\n",
    "np.unique(y_os,return_counts=True)"
   ]
  },
  {
   "cell_type": "code",
   "execution_count": 14,
   "metadata": {},
   "outputs": [],
   "source": [
    "# Split the over sampled train_data: X_os, y_os to a new train_test set.\n",
    "X_os_train, X_os_test, y_os_train, y_os_test = train_test_split(X_os, y_os, test_size=0.3, random_state=63)"
   ]
  },
  {
   "cell_type": "code",
   "execution_count": 22,
   "metadata": {},
   "outputs": [
    {
     "data": {
      "text/plain": [
       "(array([0, 1]), array([7853, 7762]))"
      ]
     },
     "execution_count": 22,
     "metadata": {},
     "output_type": "execute_result"
    }
   ],
   "source": [
    "np.unique(y_os_train,return_counts=True)"
   ]
  },
  {
   "cell_type": "markdown",
   "metadata": {},
   "source": [
    "### First try logistic regression on the new train data "
   ]
  },
  {
   "cell_type": "code",
   "execution_count": 23,
   "metadata": {},
   "outputs": [
    {
     "data": {
      "text/plain": [
       "LogisticRegression()"
      ]
     },
     "execution_count": 23,
     "metadata": {},
     "output_type": "execute_result"
    }
   ],
   "source": [
    "logreg = LogisticRegression()\n",
    "logreg.fit(X_os_train, y_os_train)"
   ]
  },
  {
   "cell_type": "code",
   "execution_count": 24,
   "metadata": {},
   "outputs": [],
   "source": [
    "y_os_pred = logreg.predict(X_os_test)\n",
    "y_os_pred_proba = logreg.predict_proba(X_os_test)[:,1]\n",
    "fpr, tpr, threshold = roc_curve(y_os_test, y_os_pred_proba)\n",
    "precision, recall, fscore,support = score(y_os_test, y_os_pred, pos_label=1,average='binary')"
   ]
  },
  {
   "cell_type": "code",
   "execution_count": 25,
   "metadata": {},
   "outputs": [
    {
     "name": "stdout",
     "output_type": "stream",
     "text": [
      "precision: 0.635 recall: 0.529 fscore: 0.577 auc: 0.642\n"
     ]
    }
   ],
   "source": [
    "print(\"precision: %s\"%round(precision,3), 'recall:', round(recall,3), 'fscore:', round(fscore,3), 'auc:',round(metrics.auc(fpr,tpr),3))"
   ]
  },
  {
   "cell_type": "code",
   "execution_count": 26,
   "metadata": {},
   "outputs": [
    {
     "data": {
      "image/png": "[encoded data removed]",
      "text/plain": [
       "<Figure size 432x288 with 1 Axes>"
      ]
     },
     "metadata": {
      "needs_background": "light"
     },
     "output_type": "display_data"
    }
   ],
   "source": [
    "plt.plot([0,1],[0,1],'k--')\n",
    "plt.plot(fpr, tpr)\n",
    "plt.xlabel('False positive rate')\n",
    "plt.ylabel('True positive rate')\n",
    "plt.title('ROC curve')\n",
    "plt.show()"
   ]
  },
  {
   "cell_type": "code",
   "execution_count": 27,
   "metadata": {},
   "outputs": [
    {
     "data": {
      "text/html": [
       "<div>\n",
       "<style scoped>\n",
       "    .dataframe tbody tr th:only-of-type {\n",
       "        vertical-align: middle;\n",
       "    }\n",
       "\n",
       "    .dataframe tbody tr th {\n",
       "        vertical-align: top;\n",
       "    }\n",
       "\n",
       "    .dataframe thead th {\n",
       "        text-align: right;\n",
       "    }\n",
       "</style>\n",
       "<table border=\"1\" class=\"dataframe\">\n",
       "  <thead>\n",
       "    <tr style=\"text-align: right;\">\n",
       "      <th></th>\n",
       "      <th>proba</th>\n",
       "      <th>label</th>\n",
       "    </tr>\n",
       "  </thead>\n",
       "  <tbody>\n",
       "    <tr>\n",
       "      <th>0</th>\n",
       "      <td>0.787746</td>\n",
       "      <td>1</td>\n",
       "    </tr>\n",
       "    <tr>\n",
       "      <th>1</th>\n",
       "      <td>0.401585</td>\n",
       "      <td>0</td>\n",
       "    </tr>\n",
       "    <tr>\n",
       "      <th>2</th>\n",
       "      <td>0.383597</td>\n",
       "      <td>0</td>\n",
       "    </tr>\n",
       "    <tr>\n",
       "      <th>3</th>\n",
       "      <td>0.386452</td>\n",
       "      <td>1</td>\n",
       "    </tr>\n",
       "    <tr>\n",
       "      <th>4</th>\n",
       "      <td>0.503373</td>\n",
       "      <td>0</td>\n",
       "    </tr>\n",
       "  </tbody>\n",
       "</table>\n",
       "</div>"
      ],
      "text/plain": [
       "      proba  label\n",
       "0  0.787746      1\n",
       "1  0.401585      0\n",
       "2  0.383597      0\n",
       "3  0.386452      1\n",
       "4  0.503373      0"
      ]
     },
     "execution_count": 27,
     "metadata": {},
     "output_type": "execute_result"
    }
   ],
   "source": [
    "# create a new dataframe for predicted probability and labels(in the y_os_test)\n",
    "predProba_label = pd.DataFrame()\n",
    "predProba_label['proba'] = y_os_pred_proba\n",
    "predProba_label['label'] = np.array(y_os_test)\n",
    "\n",
    "predProba_label.head()"
   ]
  },
  {
   "cell_type": "code",
   "execution_count": 28,
   "metadata": {},
   "outputs": [
    {
     "data": {
      "image/png": "[encoded data removed]",
      "text/plain": [
       "<Figure size 720x504 with 1 Axes>"
      ]
     },
     "metadata": {
      "needs_background": "light"
     },
     "output_type": "display_data"
    }
   ],
   "source": [
    "# Make the histogram\n",
    "plt.figure(figsize=(10,7))\n",
    "plt.hist(predProba_label[predProba_label.label==1].proba, density=True, histtype='step',label='Positive',color='r')\n",
    "plt.hist(predProba_label[predProba_label.label==0].proba, density=True, histtype='step',label='Negative')\n",
    "plt.xlabel('Probability of prediction', fontsize=25)\n",
    "plt.ylabel('Count of observation', fontsize=25)\n",
    "plt.legend(fontsize=15)\n",
    "plt.tick_params(axis='both', labelsize=25, pad=5)\n",
    "plt.show() "
   ]
  },
  {
   "cell_type": "markdown",
   "metadata": {},
   "source": [
    "As we can see from the predicted probability distribution, our two observation classes overlap among most of the probabilities.\n",
    "Which means we can not optimize the model classification accuracy by lowering or raising the threshold/cut-off. (By default it's 0.5). Therefore in the next step we will use other classification models to train the oversampled data and see if we will get better result than logistic regression."
   ]
  },
  {
   "cell_type": "markdown",
   "metadata": {},
   "source": [
    "## 4. Different models on the oversampled data set."
   ]
  },
  {
   "cell_type": "code",
   "execution_count": 29,
   "metadata": {},
   "outputs": [],
   "source": [
    "# model_res = {}\n",
    "\n",
    "# models = {'LR': LogisticRegression(),\n",
    "#          'GNB': GaussianNB(),\n",
    "#          'KNN': KNeighborsClassifier(),\n",
    "#          'SVC': SVC(probability=True, random_state=4),\n",
    "#          'DT': DecisionTreeClassifier(random_state=4),\n",
    "#          'RF': RandomForestClassifier(random_state=4),\n",
    "#          'GB': GradientBoostingClassifier(random_state=4)}\n",
    "\n",
    "# for i, model in models.items():\n",
    "#     start = time.time()\n",
    "#     model.fit(X_os_train, y_os_train)\n",
    "#     end = time.time()\n",
    "#     fit_time = end - start\n",
    "    \n",
    "#     start = time.time()\n",
    "#     y_os_pred = model.predict(X_os_test)\n",
    "#     end = time.time()\n",
    "#     pred_time = end - start\n",
    "    \n",
    "#     y_os_pred_proba = model.predict_proba(X_os_test)[:,1]\n",
    "#     fpr,tpr,_ = roc_curve(y_os_test, y_os_pred_proba,pos_label=1)\n",
    "#     auc = metrics.auc(fpr,tpr)\n",
    "    \n",
    "#     precision, recall, fscore, _ = score(y_os_test, y_os_pred, pos_label=1,average='binary')    \n",
    "#     model_res[i] = accuracy_score(y_os_test,y_os_pred), precision, recall, fscore, auc, fit_time, pred_time\n",
    "\n",
    "# # Put the model evaluation result in a data frame.\n",
    "# df_model_eval = pd.DataFrame(model_res.values(),\n",
    "#                              index=['LogisticRegression','GaussianNaiveBayes','KNeighbors','SVM',\n",
    "#                                                        'DecisionTree','RandomForest','GradientBoosting'],\n",
    "#                              columns=['accuracy','precision','recall','fscore','auc','fit_time','pred_time']).reset_index()\n",
    "\n",
    "# df_model_eval = df_model_eval.round(3)\n",
    "# df_model_eval = df_model_eval.rename(columns={'index':'model'})\n",
    "# df_model_eval"
   ]
  },
  {
   "cell_type": "code",
   "execution_count": 30,
   "metadata": {},
   "outputs": [
    {
     "data": {
      "text/plain": [
       "(array([0, 1]), array([7853, 7762]))"
      ]
     },
     "execution_count": 30,
     "metadata": {},
     "output_type": "execute_result"
    }
   ],
   "source": [
    "np.unique(y_os_train,return_counts=True)"
   ]
  },
  {
   "cell_type": "code",
   "execution_count": 159,
   "metadata": {},
   "outputs": [],
   "source": [
    "from sklearn.model_selection import cross_val_score\n",
    "from sklearn.metrics import make_scorer, accuracy_score, precision_score, recall_score, f1_score, roc_auc_score\n",
    "\n",
    "\n",
    "def model_eval(model_name,X,y):\n",
    "    scoring = {\n",
    "           'accuracy' : make_scorer(accuracy_score), \n",
    "           'precision' : make_scorer(precision_score),\n",
    "           'recall' : make_scorer(recall_score), \n",
    "           'f1_score' : make_scorer(f1_score),\n",
    "           'roc_auc' : make_scorer(roc_auc_score, needs_proba=True)}\n",
    "\n",
    "    kfold = KFold(n_splits=5)\n",
    "    model = model_name\n",
    "\n",
    "    model_res = model_selection.cross_validate(\n",
    "                                          estimator=model,\n",
    "                                          X=X,\n",
    "                                          y=y,\n",
    "                                          cv=kfold,\n",
    "                                          scoring=scoring)\n",
    "    \n",
    "    return pd.DataFrame(model_res).round(3)"
   ]
  },
  {
   "cell_type": "code",
   "execution_count": 58,
   "metadata": {},
   "outputs": [
    {
     "name": "stderr",
     "output_type": "stream",
     "text": [
      "/Users/liuyang/opt/anaconda3/lib/python3.8/site-packages/sklearn/metrics/_classification.py:1221: UndefinedMetricWarning: Precision is ill-defined and being set to 0.0 due to no predicted samples. Use `zero_division` parameter to control this behavior.\n",
      "  _warn_prf(average, modifier, msg_start, len(result))\n",
      "/Users/liuyang/opt/anaconda3/lib/python3.8/site-packages/sklearn/metrics/_classification.py:1221: UndefinedMetricWarning: Precision is ill-defined and being set to 0.0 due to no predicted samples. Use `zero_division` parameter to control this behavior.\n",
      "  _warn_prf(average, modifier, msg_start, len(result))\n",
      "/Users/liuyang/opt/anaconda3/lib/python3.8/site-packages/sklearn/metrics/_classification.py:1221: UndefinedMetricWarning: Precision is ill-defined and being set to 0.0 due to no predicted samples. Use `zero_division` parameter to control this behavior.\n",
      "  _warn_prf(average, modifier, msg_start, len(result))\n",
      "/Users/liuyang/opt/anaconda3/lib/python3.8/site-packages/sklearn/metrics/_classification.py:1221: UndefinedMetricWarning: Precision is ill-defined and being set to 0.0 due to no predicted samples. Use `zero_division` parameter to control this behavior.\n",
      "  _warn_prf(average, modifier, msg_start, len(result))\n",
      "/Users/liuyang/opt/anaconda3/lib/python3.8/site-packages/sklearn/metrics/_classification.py:1221: UndefinedMetricWarning: Precision is ill-defined and being set to 0.0 due to no predicted samples. Use `zero_division` parameter to control this behavior.\n",
      "  _warn_prf(average, modifier, msg_start, len(result))\n",
      "/Users/liuyang/opt/anaconda3/lib/python3.8/site-packages/sklearn/metrics/_classification.py:1221: UndefinedMetricWarning: Precision is ill-defined and being set to 0.0 due to no predicted samples. Use `zero_division` parameter to control this behavior.\n",
      "  _warn_prf(average, modifier, msg_start, len(result))\n",
      "/Users/liuyang/opt/anaconda3/lib/python3.8/site-packages/sklearn/metrics/_classification.py:1221: UndefinedMetricWarning: Precision is ill-defined and being set to 0.0 due to no predicted samples. Use `zero_division` parameter to control this behavior.\n",
      "  _warn_prf(average, modifier, msg_start, len(result))\n",
      "/Users/liuyang/opt/anaconda3/lib/python3.8/site-packages/sklearn/metrics/_classification.py:1221: UndefinedMetricWarning: Precision is ill-defined and being set to 0.0 due to no predicted samples. Use `zero_division` parameter to control this behavior.\n",
      "  _warn_prf(average, modifier, msg_start, len(result))\n",
      "/Users/liuyang/opt/anaconda3/lib/python3.8/site-packages/sklearn/metrics/_classification.py:1221: UndefinedMetricWarning: Precision is ill-defined and being set to 0.0 due to no predicted samples. Use `zero_division` parameter to control this behavior.\n",
      "  _warn_prf(average, modifier, msg_start, len(result))\n",
      "/Users/liuyang/opt/anaconda3/lib/python3.8/site-packages/sklearn/metrics/_classification.py:1221: UndefinedMetricWarning: Precision is ill-defined and being set to 0.0 due to no predicted samples. Use `zero_division` parameter to control this behavior.\n",
      "  _warn_prf(average, modifier, msg_start, len(result))\n"
     ]
    },
    {
     "data": {
      "text/html": [
       "<div>\n",
       "<style scoped>\n",
       "    .dataframe tbody tr th:only-of-type {\n",
       "        vertical-align: middle;\n",
       "    }\n",
       "\n",
       "    .dataframe tbody tr th {\n",
       "        vertical-align: top;\n",
       "    }\n",
       "\n",
       "    .dataframe thead th {\n",
       "        text-align: right;\n",
       "    }\n",
       "</style>\n",
       "<table border=\"1\" class=\"dataframe\">\n",
       "  <thead>\n",
       "    <tr style=\"text-align: right;\">\n",
       "      <th></th>\n",
       "      <th>model</th>\n",
       "      <th>fit_time</th>\n",
       "      <th>score_time</th>\n",
       "      <th>test_accuracy</th>\n",
       "      <th>test_precision</th>\n",
       "      <th>test_recall</th>\n",
       "      <th>test_f1_score</th>\n",
       "      <th>test_roc_auc</th>\n",
       "    </tr>\n",
       "  </thead>\n",
       "  <tbody>\n",
       "    <tr>\n",
       "      <th>0</th>\n",
       "      <td>LR</td>\n",
       "      <td>0.0106</td>\n",
       "      <td>0.0068</td>\n",
       "      <td>0.8680</td>\n",
       "      <td>0.0000</td>\n",
       "      <td>0.0000</td>\n",
       "      <td>0.0000</td>\n",
       "      <td>0.6334</td>\n",
       "    </tr>\n",
       "    <tr>\n",
       "      <th>1</th>\n",
       "      <td>GNB</td>\n",
       "      <td>0.0034</td>\n",
       "      <td>0.0082</td>\n",
       "      <td>0.8068</td>\n",
       "      <td>0.2610</td>\n",
       "      <td>0.2514</td>\n",
       "      <td>0.2560</td>\n",
       "      <td>0.6230</td>\n",
       "    </tr>\n",
       "    <tr>\n",
       "      <th>2</th>\n",
       "      <td>KNN</td>\n",
       "      <td>0.0696</td>\n",
       "      <td>0.3228</td>\n",
       "      <td>0.8518</td>\n",
       "      <td>0.2356</td>\n",
       "      <td>0.0544</td>\n",
       "      <td>0.0874</td>\n",
       "      <td>0.5614</td>\n",
       "    </tr>\n",
       "    <tr>\n",
       "      <th>3</th>\n",
       "      <td>SVC</td>\n",
       "      <td>13.4884</td>\n",
       "      <td>0.3146</td>\n",
       "      <td>0.8680</td>\n",
       "      <td>0.0000</td>\n",
       "      <td>0.0000</td>\n",
       "      <td>0.0000</td>\n",
       "      <td>0.5126</td>\n",
       "    </tr>\n",
       "    <tr>\n",
       "      <th>4</th>\n",
       "      <td>DT</td>\n",
       "      <td>0.0130</td>\n",
       "      <td>0.0048</td>\n",
       "      <td>0.9982</td>\n",
       "      <td>0.9930</td>\n",
       "      <td>0.9954</td>\n",
       "      <td>0.9944</td>\n",
       "      <td>0.9970</td>\n",
       "    </tr>\n",
       "    <tr>\n",
       "      <th>5</th>\n",
       "      <td>RF</td>\n",
       "      <td>0.5076</td>\n",
       "      <td>0.0752</td>\n",
       "      <td>0.9458</td>\n",
       "      <td>0.9980</td>\n",
       "      <td>0.5902</td>\n",
       "      <td>0.7418</td>\n",
       "      <td>0.9818</td>\n",
       "    </tr>\n",
       "    <tr>\n",
       "      <th>6</th>\n",
       "      <td>GB</td>\n",
       "      <td>0.6188</td>\n",
       "      <td>0.0114</td>\n",
       "      <td>0.9776</td>\n",
       "      <td>1.0000</td>\n",
       "      <td>0.8276</td>\n",
       "      <td>0.9048</td>\n",
       "      <td>0.9970</td>\n",
       "    </tr>\n",
       "    <tr>\n",
       "      <th>7</th>\n",
       "      <td>XGB</td>\n",
       "      <td>0.2202</td>\n",
       "      <td>0.0094</td>\n",
       "      <td>0.9998</td>\n",
       "      <td>1.0000</td>\n",
       "      <td>0.9982</td>\n",
       "      <td>0.9990</td>\n",
       "      <td>1.0000</td>\n",
       "    </tr>\n",
       "    <tr>\n",
       "      <th>8</th>\n",
       "      <td>LightGB</td>\n",
       "      <td>0.0786</td>\n",
       "      <td>0.0226</td>\n",
       "      <td>0.9984</td>\n",
       "      <td>1.0000</td>\n",
       "      <td>0.9880</td>\n",
       "      <td>0.9942</td>\n",
       "      <td>1.0000</td>\n",
       "    </tr>\n",
       "  </tbody>\n",
       "</table>\n",
       "</div>"
      ],
      "text/plain": [
       "     model  fit_time  score_time  test_accuracy  test_precision  test_recall  \\\n",
       "0       LR    0.0106      0.0068         0.8680          0.0000       0.0000   \n",
       "1      GNB    0.0034      0.0082         0.8068          0.2610       0.2514   \n",
       "2      KNN    0.0696      0.3228         0.8518          0.2356       0.0544   \n",
       "3      SVC   13.4884      0.3146         0.8680          0.0000       0.0000   \n",
       "4       DT    0.0130      0.0048         0.9982          0.9930       0.9954   \n",
       "5       RF    0.5076      0.0752         0.9458          0.9980       0.5902   \n",
       "6       GB    0.6188      0.0114         0.9776          1.0000       0.8276   \n",
       "7      XGB    0.2202      0.0094         0.9998          1.0000       0.9982   \n",
       "8  LightGB    0.0786      0.0226         0.9984          1.0000       0.9880   \n",
       "\n",
       "   test_f1_score  test_roc_auc  \n",
       "0         0.0000        0.6334  \n",
       "1         0.2560        0.6230  \n",
       "2         0.0874        0.5614  \n",
       "3         0.0000        0.5126  \n",
       "4         0.9944        0.9970  \n",
       "5         0.7418        0.9818  \n",
       "6         0.9048        0.9970  \n",
       "7         0.9990        1.0000  \n",
       "8         0.9942        1.0000  "
      ]
     },
     "execution_count": 58,
     "metadata": {},
     "output_type": "execute_result"
    }
   ],
   "source": [
    "# create a empty list to put the average model test_score from the validation\n",
    "model_score_average = []\n",
    "\n",
    "# list up models we want to explore with.\n",
    "index = ['LR','GNB','KNN','SVC','DT','RF','GB','XGB','LightGB']\n",
    "models = [LogisticRegression(),\n",
    "          GaussianNB(),\n",
    "          KNeighborsClassifier(),\n",
    "          SVC(probability=True, random_state=63),\n",
    "          DecisionTreeClassifier(random_state=63),\n",
    "          RandomForestClassifier(random_state=63),\n",
    "          GradientBoostingClassifier(random_state=63),\n",
    "          XGBClassifier(random_state=63),\n",
    "          lgb.LGBMClassifier(objective='binary',random_state=63)]\n",
    "\n",
    "# Loop inside the models and average the test_score. (test_score contains: accuracy, precision, recall, fscore, roc_auc_score)\n",
    "# Append the avarage score to list 'model_score_average' \n",
    "for model in models:\n",
    "    model_score_average.append(model_eval(model,X_os_train,y_os_train).mean())\n",
    "    #model_score_average.append(model_eval(model,X_train,y_train).mean())\n",
    "\n",
    "# put the model_score_average into a dataframe \n",
    "df_model_eval = pd.DataFrame(model_score_average,index=index).round(5)\n",
    "df_model_eval = df_model_eval.reset_index().rename(columns={'index':'model'})\n",
    "\n",
    "df_model_eval"
   ]
  },
  {
   "cell_type": "code",
   "execution_count": 59,
   "metadata": {},
   "outputs": [
    {
     "data": {
      "image/png": "[encoded data removed]",
      "text/plain": [
       "<Figure size 432x864 with 4 Axes>"
      ]
     },
     "metadata": {
      "needs_background": "light"
     },
     "output_type": "display_data"
    }
   ],
   "source": [
    "fig,axs = plt.subplots(4,1, figsize=(6,12),sharex=True)\n",
    "\n",
    "axs[0].barh('model', 'test_recall', data=df_model_eval)\n",
    "axs[1].barh('model', 'test_f1_score', data=df_model_eval)\n",
    "axs[2].barh('model', 'test_accuracy', data=df_model_eval)\n",
    "axs[3].barh('model', 'test_roc_auc',data=df_model_eval)\n",
    "\n",
    "axs[0].set_xlabel('Recall')\n",
    "axs[1].set_xlabel('fscore')\n",
    "axs[2].set_xlabel('accuracy')\n",
    "axs[3].set_xlabel('roc_auc')\n",
    "\n",
    "\n",
    "axs[0].plot([0.9,0.9],[-1,9],'r--')\n",
    "axs[1].plot([0.9,0.9],[-1,9],'r--')\n",
    "axs[2].plot([0.9,0.9],[-1,9],'r--')\n",
    "axs[3].plot([0.9,0.9],[-1,9],'r--')\n",
    "plt.show()"
   ]
  },
  {
   "cell_type": "code",
   "execution_count": 60,
   "metadata": {},
   "outputs": [],
   "source": [
    "# check std of each model score from the 5fold cross validation\n",
    "model_score_std = []\n",
    "index = ['DT','RF','GB','XGB','LightGB']\n",
    "models = [DecisionTreeClassifier(random_state=63),\n",
    "          RandomForestClassifier(random_state=63),\n",
    "          GradientBoostingClassifier(random_state=63),\n",
    "          XGBClassifier(random_state=63),\n",
    "          lgb.LGBMClassifier(objective='binary',random_state=63)]\n",
    "\n",
    "for model in models:\n",
    "    model_score_std.append(model_eval(model,X_os_train,y_os_train).std())\n",
    "    #model_score_std.append(model_eval(model,X_train,y_train).std())\n",
    "\n",
    "df_model_std = pd.DataFrame(model_score_std,index=index).round(6)\n",
    "df_model_std = df_model_std.reset_index().rename(columns={'index':'model'})"
   ]
  },
  {
   "cell_type": "code",
   "execution_count": 61,
   "metadata": {},
   "outputs": [
    {
     "data": {
      "text/html": [
       "<div>\n",
       "<style scoped>\n",
       "    .dataframe tbody tr th:only-of-type {\n",
       "        vertical-align: middle;\n",
       "    }\n",
       "\n",
       "    .dataframe tbody tr th {\n",
       "        vertical-align: top;\n",
       "    }\n",
       "\n",
       "    .dataframe thead th {\n",
       "        text-align: right;\n",
       "    }\n",
       "</style>\n",
       "<table border=\"1\" class=\"dataframe\">\n",
       "  <thead>\n",
       "    <tr style=\"text-align: right;\">\n",
       "      <th></th>\n",
       "      <th>model</th>\n",
       "      <th>fit_time</th>\n",
       "      <th>score_time</th>\n",
       "      <th>test_accuracy</th>\n",
       "      <th>test_precision</th>\n",
       "      <th>test_recall</th>\n",
       "      <th>test_f1_score</th>\n",
       "      <th>test_roc_auc</th>\n",
       "    </tr>\n",
       "  </thead>\n",
       "  <tbody>\n",
       "    <tr>\n",
       "      <th>3</th>\n",
       "      <td>XGB</td>\n",
       "      <td>0.005020</td>\n",
       "      <td>0.000000</td>\n",
       "      <td>0.000447</td>\n",
       "      <td>0.000000</td>\n",
       "      <td>0.002683</td>\n",
       "      <td>0.001414</td>\n",
       "      <td>0.000000</td>\n",
       "    </tr>\n",
       "    <tr>\n",
       "      <th>0</th>\n",
       "      <td>DT</td>\n",
       "      <td>0.001095</td>\n",
       "      <td>0.001304</td>\n",
       "      <td>0.000837</td>\n",
       "      <td>0.003082</td>\n",
       "      <td>0.005273</td>\n",
       "      <td>0.002966</td>\n",
       "      <td>0.002915</td>\n",
       "    </tr>\n",
       "    <tr>\n",
       "      <th>4</th>\n",
       "      <td>LightGB</td>\n",
       "      <td>0.005612</td>\n",
       "      <td>0.000447</td>\n",
       "      <td>0.000894</td>\n",
       "      <td>0.000000</td>\n",
       "      <td>0.005523</td>\n",
       "      <td>0.002950</td>\n",
       "      <td>0.000000</td>\n",
       "    </tr>\n",
       "    <tr>\n",
       "      <th>1</th>\n",
       "      <td>RF</td>\n",
       "      <td>0.064104</td>\n",
       "      <td>0.001225</td>\n",
       "      <td>0.004919</td>\n",
       "      <td>0.002739</td>\n",
       "      <td>0.008044</td>\n",
       "      <td>0.006943</td>\n",
       "      <td>0.002588</td>\n",
       "    </tr>\n",
       "    <tr>\n",
       "      <th>2</th>\n",
       "      <td>GB</td>\n",
       "      <td>0.011662</td>\n",
       "      <td>0.000548</td>\n",
       "      <td>0.006656</td>\n",
       "      <td>0.000000</td>\n",
       "      <td>0.058462</td>\n",
       "      <td>0.035478</td>\n",
       "      <td>0.001871</td>\n",
       "    </tr>\n",
       "  </tbody>\n",
       "</table>\n",
       "</div>"
      ],
      "text/plain": [
       "     model  fit_time  score_time  test_accuracy  test_precision  test_recall  \\\n",
       "3      XGB  0.005020    0.000000       0.000447        0.000000     0.002683   \n",
       "0       DT  0.001095    0.001304       0.000837        0.003082     0.005273   \n",
       "4  LightGB  0.005612    0.000447       0.000894        0.000000     0.005523   \n",
       "1       RF  0.064104    0.001225       0.004919        0.002739     0.008044   \n",
       "2       GB  0.011662    0.000548       0.006656        0.000000     0.058462   \n",
       "\n",
       "   test_f1_score  test_roc_auc  \n",
       "3       0.001414      0.000000  \n",
       "0       0.002966      0.002915  \n",
       "4       0.002950      0.000000  \n",
       "1       0.006943      0.002588  \n",
       "2       0.035478      0.001871  "
      ]
     },
     "execution_count": 61,
     "metadata": {},
     "output_type": "execute_result"
    }
   ],
   "source": [
    "df_model_std.sort_values(['test_recall','test_accuracy'])"
   ]
  },
  {
   "cell_type": "markdown",
   "metadata": {},
   "source": [
    "We can see among 9 models, LightGB, XGB, GB, RF, DT overall have very good performance. \n",
    "Therefore we will focus on these 5 models and optimize their hyperparameters via BayesianOptimization. "
   ]
  },
  {
   "cell_type": "markdown",
   "metadata": {},
   "source": [
    "## 5. Model optimization: hyperparameter tuning (Bayesian optimization)"
   ]
  },
  {
   "cell_type": "code",
   "execution_count": 19,
   "metadata": {},
   "outputs": [],
   "source": [
    "from bayes_opt import BayesianOptimization"
   ]
  },
  {
   "cell_type": "markdown",
   "metadata": {},
   "source": [
    "### Hyperparameter tuning for Lightgbm"
   ]
  },
  {
   "cell_type": "code",
   "execution_count": 203,
   "metadata": {},
   "outputs": [],
   "source": [
    "def lgb_eval(learning_rate,num_leaves, max_depth, subsample, colsample_bytree, min_child_samples, \n",
    "             min_child_weight, min_data_in_leaf, L2, L1):\n",
    "    \n",
    "    params = {\n",
    "        \"objective\" : \"binary\",\n",
    "        \"is_unbalance\": True,\n",
    "        \"learning_rate\" : learning_rate,\n",
    "        \"num_leaves\" : int(num_leaves),\n",
    "        \"max_depth\" : int(max_depth),\n",
    "        \"subsample\" : subsample,\n",
    "        \"colsample_bytree\" : colsample_bytree,\n",
    "        \"min_child_samples\" : int(min_child_samples),\n",
    "        \"min_child_weight\" : int(min_child_weight),\n",
    "        \"min_data_in_leaf\" : int(min_data_in_leaf),\n",
    "        \"reg_lambda\" : L2,\n",
    "        \"reg_alpha\" : L1,\n",
    "        \"num_threads\" : 20,\n",
    "        \"subsample_freq\" : 5,\n",
    "        \"bagging_seed\" : 42,\n",
    "        \"verbosity\" : -1\n",
    "    }\n",
    "    lgtrain = lgb.Dataset(X_os_train, y_os_train)\n",
    "    #lgtrain = lgb.Dataset(X_train, y_train)\n",
    "    cv_result = lgb.cv(params,\n",
    "                       lgtrain,\n",
    "                       num_boost_round = 1000,\n",
    "                       metrics='auc',\n",
    "                       early_stopping_rounds=100,\n",
    "                       stratified=True,\n",
    "                       nfold=3)\n",
    "    \n",
    "    return cv_result['auc-mean'][-1]"
   ]
  },
  {
   "cell_type": "code",
   "execution_count": 204,
   "metadata": {},
   "outputs": [
    {
     "name": "stdout",
     "output_type": "stream",
     "text": [
      "|   iter    |  target   |    L1     |    L2     | colsam... | learni... | max_depth | min_ch... | min_ch... | min_da... | num_le... | subsample |\n",
      "-------------------------------------------------------------------------------------------------------------------------------------------------\n",
      "| \u001b[0m 1       \u001b[0m | \u001b[0m 0.9073  \u001b[0m | \u001b[0m 0.791   \u001b[0m | \u001b[0m 27.25   \u001b[0m | \u001b[0m 0.7624  \u001b[0m | \u001b[0m 0.3217  \u001b[0m | \u001b[0m 9.341   \u001b[0m | \u001b[0m 3.73e+03\u001b[0m | \u001b[0m 0.03676 \u001b[0m | \u001b[0m 1.882e+0\u001b[0m | \u001b[0m 229.3   \u001b[0m | \u001b[0m 0.5872  \u001b[0m |\n",
      "| \u001b[95m 2       \u001b[0m | \u001b[95m 0.9996  \u001b[0m | \u001b[95m 0.2296  \u001b[0m | \u001b[95m 0.2454  \u001b[0m | \u001b[95m 0.7519  \u001b[0m | \u001b[95m 0.04821 \u001b[0m | \u001b[95m 0.06607 \u001b[0m | \u001b[95m 8.787e+0\u001b[0m | \u001b[95m 0.03111 \u001b[0m | \u001b[95m 164.3   \u001b[0m | \u001b[95m 95.07   \u001b[0m | \u001b[95m 0.7825  \u001b[0m |\n",
      "| \u001b[0m 3       \u001b[0m | \u001b[0m 0.874   \u001b[0m | \u001b[0m 0.1252  \u001b[0m | \u001b[0m 7.725   \u001b[0m | \u001b[0m 0.9069  \u001b[0m | \u001b[0m 0.04259 \u001b[0m | \u001b[0m 70.35   \u001b[0m | \u001b[0m 6.934e+0\u001b[0m | \u001b[0m 0.02472 \u001b[0m | \u001b[0m 1.454e+0\u001b[0m | \u001b[0m 3.894e+0\u001b[0m | \u001b[0m 0.5765  \u001b[0m |\n",
      "| \u001b[0m 4       \u001b[0m | \u001b[0m 0.9703  \u001b[0m | \u001b[0m 0.7193  \u001b[0m | \u001b[0m 57.76   \u001b[0m | \u001b[0m 0.6592  \u001b[0m | \u001b[0m 0.1825  \u001b[0m | \u001b[0m 99.91   \u001b[0m | \u001b[0m 6.055e+0\u001b[0m | \u001b[0m 0.03782 \u001b[0m | \u001b[0m 816.9   \u001b[0m | \u001b[0m 1.463e+0\u001b[0m | \u001b[0m 0.5261  \u001b[0m |\n",
      "| \u001b[0m 5       \u001b[0m | \u001b[0m 0.9995  \u001b[0m | \u001b[0m 0.3089  \u001b[0m | \u001b[0m 6.566   \u001b[0m | \u001b[0m 0.6426  \u001b[0m | \u001b[0m 0.03657 \u001b[0m | \u001b[0m 82.2    \u001b[0m | \u001b[0m 2.207e+0\u001b[0m | \u001b[0m 0.01878 \u001b[0m | \u001b[0m 168.6   \u001b[0m | \u001b[0m 2.831e+0\u001b[0m | \u001b[0m 0.8929  \u001b[0m |\n",
      "| \u001b[0m 6       \u001b[0m | \u001b[0m 0.9756  \u001b[0m | \u001b[0m 0.8478  \u001b[0m | \u001b[0m 57.68   \u001b[0m | \u001b[0m 0.6035  \u001b[0m | \u001b[0m 0.2472  \u001b[0m | \u001b[0m 14.79   \u001b[0m | \u001b[0m 7.262e+0\u001b[0m | \u001b[0m 0.04133 \u001b[0m | \u001b[0m 907.3   \u001b[0m | \u001b[0m 2.328e+0\u001b[0m | \u001b[0m 0.6097  \u001b[0m |\n",
      "| \u001b[0m 7       \u001b[0m | \u001b[0m 0.971   \u001b[0m | \u001b[0m 0.6804  \u001b[0m | \u001b[0m 27.78   \u001b[0m | \u001b[0m 0.5576  \u001b[0m | \u001b[0m 0.02644 \u001b[0m | \u001b[0m 34.73   \u001b[0m | \u001b[0m 8.791e+0\u001b[0m | \u001b[0m 0.04481 \u001b[0m | \u001b[0m 481.2   \u001b[0m | \u001b[0m 49.41   \u001b[0m | \u001b[0m 0.8466  \u001b[0m |\n",
      "| \u001b[0m 8       \u001b[0m | \u001b[0m 0.9799  \u001b[0m | \u001b[0m 0.4804  \u001b[0m | \u001b[0m 8.617   \u001b[0m | \u001b[0m 0.9579  \u001b[0m | \u001b[0m 0.005022\u001b[0m | \u001b[0m 49.75   \u001b[0m | \u001b[0m 4.761e+0\u001b[0m | \u001b[0m 0.01063 \u001b[0m | \u001b[0m 273.5   \u001b[0m | \u001b[0m 294.0   \u001b[0m | \u001b[0m 0.7564  \u001b[0m |\n",
      "| \u001b[95m 9       \u001b[0m | \u001b[95m 0.9998  \u001b[0m | \u001b[95m 0.2817  \u001b[0m | \u001b[95m 39.88   \u001b[0m | \u001b[95m 0.8541  \u001b[0m | \u001b[95m 0.2521  \u001b[0m | \u001b[95m 98.56   \u001b[0m | \u001b[95m 8.194e+0\u001b[0m | \u001b[95m 0.03472 \u001b[0m | \u001b[95m 55.15   \u001b[0m | \u001b[95m 289.5   \u001b[0m | \u001b[95m 0.9512  \u001b[0m |\n",
      "| \u001b[0m 10      \u001b[0m | \u001b[0m 0.909   \u001b[0m | \u001b[0m 0.6528  \u001b[0m | \u001b[0m 7.759   \u001b[0m | \u001b[0m 0.6186  \u001b[0m | \u001b[0m 0.1166  \u001b[0m | \u001b[0m 11.0    \u001b[0m | \u001b[0m 7.674e+0\u001b[0m | \u001b[0m 0.03128 \u001b[0m | \u001b[0m 1.561e+0\u001b[0m | \u001b[0m 2.72e+03\u001b[0m | \u001b[0m 0.6498  \u001b[0m |\n",
      "| \u001b[95m 11      \u001b[0m | \u001b[95m 0.9999  \u001b[0m | \u001b[95m 0.2863  \u001b[0m | \u001b[95m 59.76   \u001b[0m | \u001b[95m 0.7344  \u001b[0m | \u001b[95m 0.3086  \u001b[0m | \u001b[95m 90.52   \u001b[0m | \u001b[95m 7.912e+0\u001b[0m | \u001b[95m 0.04104 \u001b[0m | \u001b[95m 13.47   \u001b[0m | \u001b[95m 2.897e+0\u001b[0m | \u001b[95m 0.9088  \u001b[0m |\n",
      "| \u001b[0m 12      \u001b[0m | \u001b[0m 0.9995  \u001b[0m | \u001b[0m 0.07194 \u001b[0m | \u001b[0m 84.99   \u001b[0m | \u001b[0m 0.6917  \u001b[0m | \u001b[0m 0.3573  \u001b[0m | \u001b[0m 64.31   \u001b[0m | \u001b[0m 7.96e+03\u001b[0m | \u001b[0m 0.04304 \u001b[0m | \u001b[0m 72.86   \u001b[0m | \u001b[0m 1.671e+0\u001b[0m | \u001b[0m 0.564   \u001b[0m |\n",
      "=================================================================================================================================================\n"
     ]
    }
   ],
   "source": [
    "lgbBO = BayesianOptimization(lgb_eval, {'learning_rate': (0.001, 0.4),\n",
    "                                        'num_leaves': (25, 4000),\n",
    "                                        'max_depth': (0, 100),\n",
    "                                        'subsample': (0.5, 1),\n",
    "                                        'colsample_bytree': (0.4,1),\n",
    "                                        'min_child_samples': (50, 10000),\n",
    "                                        'min_child_weight' : (0, 0.05),\n",
    "                                        'min_data_in_leaf': (10, 2000),\n",
    "                                        'L2': (0.0, 100),\n",
    "                                        'L1': (0.0, 1)\n",
    "                                        \n",
    "                                        })\n",
    "\n",
    "lgbBO.maximize(n_iter=10, init_points=2)"
   ]
  },
  {
   "cell_type": "code",
   "execution_count": 226,
   "metadata": {},
   "outputs": [
    {
     "data": {
      "text/plain": [
       "{'target': 0.9998940366523277,\n",
       " 'params': {'L1': 0.2863086833634504,\n",
       "  'L2': 59.75561608407822,\n",
       "  'colsample_bytree': 0.7344041762304885,\n",
       "  'learning_rate': 0.3085611218142796,\n",
       "  'max_depth': 90.5225566378267,\n",
       "  'min_child_samples': 7911.850206227465,\n",
       "  'min_child_weight': 0.041038501347913287,\n",
       "  'min_data_in_leaf': 13.466191265932995,\n",
       "  'num_leaves': 2896.5724908323114,\n",
       "  'subsample': 0.9087773199479944}}"
      ]
     },
     "execution_count": 226,
     "metadata": {},
     "output_type": "execute_result"
    }
   ],
   "source": [
    "lgbBO.max"
   ]
  },
  {
   "cell_type": "code",
   "execution_count": 227,
   "metadata": {},
   "outputs": [
    {
     "data": {
      "text/plain": [
       "fit_time          0.2458\n",
       "score_time        0.0146\n",
       "test_accuracy     0.9930\n",
       "test_precision    0.9996\n",
       "test_recall       0.9860\n",
       "test_f1_score     0.9928\n",
       "test_roc_auc      0.9996\n",
       "dtype: float64"
      ]
     },
     "execution_count": 227,
     "metadata": {},
     "output_type": "execute_result"
    }
   ],
   "source": [
    "# test result of LGBM model with tuned hyperparameter\n",
    "# dataset: X_os_test, y_os_test with crossvalidation(5)\n",
    "model_eval(lgb.LGBMClassifier\n",
    "           (objective='binary', \n",
    "            L1=0.286,\n",
    "            L2=60,\n",
    "            colsample_bytree=0.734,\n",
    "            learning_rate= 0.309,\n",
    "            max_depth = 91,\n",
    "            min_child_samples= 7912,\n",
    "            min_child_weight= 0.041,\n",
    "            min_data_in_leaf= 13,\n",
    "            num_leaves=2897,\n",
    "            subsample= 0.909,random_state=63),\n",
    "            X_os_test,y_os_test).mean()"
   ]
  },
  {
   "cell_type": "code",
   "execution_count": 219,
   "metadata": {},
   "outputs": [
    {
     "data": {
      "text/plain": [
       "fit_time          0.0880\n",
       "score_time        0.0142\n",
       "test_accuracy     0.9898\n",
       "test_precision    0.9998\n",
       "test_recall       0.9800\n",
       "test_f1_score     0.9898\n",
       "test_roc_auc      0.9992\n",
       "dtype: float64"
      ]
     },
     "execution_count": 219,
     "metadata": {},
     "output_type": "execute_result"
    }
   ],
   "source": [
    "# Test result of LGBM model with default value \n",
    "# dataset: X_os_test, y_os_test with crossvalidation(5)\n",
    "model_eval(lgb.LGBMClassifier(objective='binary',random_state=63),X_os_test,y_os_test).mean()"
   ]
  },
  {
   "cell_type": "code",
   "execution_count": 228,
   "metadata": {},
   "outputs": [
    {
     "data": {
      "text/plain": [
       "(1.0, 0.9972527472527473, 0.9986244841815681, None)"
      ]
     },
     "execution_count": 228,
     "metadata": {},
     "output_type": "execute_result"
    }
   ],
   "source": [
    "# final test with tuned hyperparameters on X_test, y_test without crossvalidation.\n",
    "model = lgb.LGBMClassifier(objective='binary', \n",
    "            L1=0.286,\n",
    "            L2=60,\n",
    "            colsample_bytree=0.734,\n",
    "            learning_rate= 0.309,\n",
    "            max_depth = 91,\n",
    "            min_child_samples= 7912,\n",
    "            min_child_weight= 0.041,\n",
    "            min_data_in_leaf= 13,\n",
    "            num_leaves=2897,\n",
    "            subsample= 0.909,random_state=63)\n",
    "    \n",
    "model.fit(X_os_train,y_os_train)\n",
    "y_pred = model.predict(X_test)\n",
    "\n",
    "# get precision, recall, fscore.\n",
    "score(y_test, y_pred, pos_label=1,average='binary') \n"
   ]
  },
  {
   "cell_type": "code",
   "execution_count": 210,
   "metadata": {},
   "outputs": [
    {
     "data": {
      "text/plain": [
       "(1.0, 0.9848901098901099, 0.9923875432525952, None)"
      ]
     },
     "execution_count": 210,
     "metadata": {},
     "output_type": "execute_result"
    }
   ],
   "source": [
    "# final test with default parameter values on X_test, y_test withou crossvalidation.\n",
    "model = lgb.LGBMClassifier(objective='binary', \n",
    "            random_state=63)\n",
    "    \n",
    "model.fit(X_os_train,y_os_train)\n",
    "y_pred = model.predict(X_test)\n",
    "\n",
    "# get precision, recall, fscore.\n",
    "score(y_test, y_pred, pos_label=1,average='binary') "
   ]
  },
  {
   "cell_type": "markdown",
   "metadata": {},
   "source": [
    "## Hyperparameter tuning for XGB"
   ]
  },
  {
   "cell_type": "code",
   "execution_count": 213,
   "metadata": {},
   "outputs": [],
   "source": [
    "def XGB_eval(learning_rate, gamma, subsample, colsample_bytree, max_depth, L2, L1, min_child_weight):\n",
    "    params = {\n",
    "        \"objective\" : \"binary:logistic\",\n",
    "        \"eta\" : learning_rate,\n",
    "        \"gamma\" : gamma,\n",
    "        \"subsample\" : subsample,\n",
    "        \"colsample_bytree\" : colsample_bytree,\n",
    "        \"max_depth\" : int(max_depth),\n",
    "        \"min_child_weight\" : int(min_child_weight),\n",
    "        \"lambda\" : L2,\n",
    "        \"alpha\" : L1,\n",
    "        \"seed\" : 63,\n",
    "        \"nthread\": 4}\n",
    "    \n",
    "    \n",
    "    xgtrain = xgb.DMatrix(X_os_train, label=y_os_train)\n",
    "    #xgtrain = xgb.DMatrix(X_train, label=y_train)\n",
    "    cv_result =xgb.cv(params,\n",
    "                      xgtrain,\n",
    "                      early_stopping_rounds=100,\n",
    "                      num_boost_round=70,\n",
    "                      stratified=True,\n",
    "                      nfold=3,\n",
    "                      metrics= 'auc')\n",
    "                       \n",
    "          \n",
    "    return cv_result['test-auc-mean'].iloc[-1]"
   ]
  },
  {
   "cell_type": "code",
   "execution_count": 214,
   "metadata": {},
   "outputs": [
    {
     "name": "stdout",
     "output_type": "stream",
     "text": [
      "|   iter    |  target   |    L1     |    L2     | colsam... |   gamma   | learni... | max_depth | min_ch... | subsample |\n",
      "-------------------------------------------------------------------------------------------------------------------------\n",
      "| \u001b[0m 1       \u001b[0m | \u001b[0m 0.9913  \u001b[0m | \u001b[0m 0.9615  \u001b[0m | \u001b[0m 30.94   \u001b[0m | \u001b[0m 0.4865  \u001b[0m | \u001b[0m 11.08   \u001b[0m | \u001b[0m 0.3338  \u001b[0m | \u001b[0m 930.9   \u001b[0m | \u001b[0m 7.651   \u001b[0m | \u001b[0m 0.5495  \u001b[0m |\n",
      "| \u001b[95m 2       \u001b[0m | \u001b[95m 0.9991  \u001b[0m | \u001b[95m 0.1339  \u001b[0m | \u001b[95m 22.15   \u001b[0m | \u001b[95m 0.6209  \u001b[0m | \u001b[95m 1.402   \u001b[0m | \u001b[95m 0.3147  \u001b[0m | \u001b[95m 1.429e+0\u001b[0m | \u001b[95m 4.809   \u001b[0m | \u001b[95m 0.5628  \u001b[0m |\n",
      "| \u001b[95m 3       \u001b[0m | \u001b[95m 0.9995  \u001b[0m | \u001b[95m 0.3181  \u001b[0m | \u001b[95m 26.03   \u001b[0m | \u001b[95m 0.8807  \u001b[0m | \u001b[95m 2.223   \u001b[0m | \u001b[95m 0.306   \u001b[0m | \u001b[95m 1.433e+0\u001b[0m | \u001b[95m 2.748   \u001b[0m | \u001b[95m 0.7721  \u001b[0m |\n",
      "| \u001b[0m 4       \u001b[0m | \u001b[0m 0.979   \u001b[0m | \u001b[0m 0.7708  \u001b[0m | \u001b[0m 87.25   \u001b[0m | \u001b[0m 0.9721  \u001b[0m | \u001b[0m 16.41   \u001b[0m | \u001b[0m 0.3393  \u001b[0m | \u001b[0m 1.53e+03\u001b[0m | \u001b[0m 1.288   \u001b[0m | \u001b[0m 0.6264  \u001b[0m |\n",
      "| \u001b[0m 5       \u001b[0m | \u001b[0m 0.9931  \u001b[0m | \u001b[0m 0.9696  \u001b[0m | \u001b[0m 84.98   \u001b[0m | \u001b[0m 0.5585  \u001b[0m | \u001b[0m 8.605   \u001b[0m | \u001b[0m 0.3454  \u001b[0m | \u001b[0m 1.378e+0\u001b[0m | \u001b[0m 1.256   \u001b[0m | \u001b[0m 0.8246  \u001b[0m |\n",
      "| \u001b[0m 6       \u001b[0m | \u001b[0m 0.9993  \u001b[0m | \u001b[0m 0.7402  \u001b[0m | \u001b[0m 1.185   \u001b[0m | \u001b[0m 0.5432  \u001b[0m | \u001b[0m 2.843   \u001b[0m | \u001b[0m 0.09956 \u001b[0m | \u001b[0m 1.293e+0\u001b[0m | \u001b[0m 5.227   \u001b[0m | \u001b[0m 0.5489  \u001b[0m |\n",
      "| \u001b[0m 7       \u001b[0m | \u001b[0m 0.9973  \u001b[0m | \u001b[0m 0.5318  \u001b[0m | \u001b[0m 13.19   \u001b[0m | \u001b[0m 0.4746  \u001b[0m | \u001b[0m 11.0    \u001b[0m | \u001b[0m 0.1364  \u001b[0m | \u001b[0m 1.222e+0\u001b[0m | \u001b[0m 11.29   \u001b[0m | \u001b[0m 0.8458  \u001b[0m |\n",
      "| \u001b[0m 8       \u001b[0m | \u001b[0m 0.9935  \u001b[0m | \u001b[0m 0.08853 \u001b[0m | \u001b[0m 83.44   \u001b[0m | \u001b[0m 0.6987  \u001b[0m | \u001b[0m 0.8601  \u001b[0m | \u001b[0m 0.3085  \u001b[0m | \u001b[0m 1.263e+0\u001b[0m | \u001b[0m 13.17   \u001b[0m | \u001b[0m 0.5644  \u001b[0m |\n",
      "| \u001b[0m 9       \u001b[0m | \u001b[0m 0.999   \u001b[0m | \u001b[0m 0.02018 \u001b[0m | \u001b[0m 1.129   \u001b[0m | \u001b[0m 0.8705  \u001b[0m | \u001b[0m 14.45   \u001b[0m | \u001b[0m 0.2661  \u001b[0m | \u001b[0m 1.125e+0\u001b[0m | \u001b[0m 5.705   \u001b[0m | \u001b[0m 0.6824  \u001b[0m |\n",
      "| \u001b[0m 10      \u001b[0m | \u001b[0m 0.9771  \u001b[0m | \u001b[0m 0.3133  \u001b[0m | \u001b[0m 78.15   \u001b[0m | \u001b[0m 0.6564  \u001b[0m | \u001b[0m 17.06   \u001b[0m | \u001b[0m 0.1576  \u001b[0m | \u001b[0m 1.125e+0\u001b[0m | \u001b[0m 13.55   \u001b[0m | \u001b[0m 0.571   \u001b[0m |\n",
      "| \u001b[0m 11      \u001b[0m | \u001b[0m 0.9898  \u001b[0m | \u001b[0m 0.3969  \u001b[0m | \u001b[0m 0.772   \u001b[0m | \u001b[0m 0.445   \u001b[0m | \u001b[0m 19.25   \u001b[0m | \u001b[0m 0.06585 \u001b[0m | \u001b[0m 1.343e+0\u001b[0m | \u001b[0m 15.13   \u001b[0m | \u001b[0m 0.5069  \u001b[0m |\n",
      "| \u001b[0m 12      \u001b[0m | \u001b[0m 0.9919  \u001b[0m | \u001b[0m 0.9611  \u001b[0m | \u001b[0m 27.85   \u001b[0m | \u001b[0m 0.9456  \u001b[0m | \u001b[0m 18.76   \u001b[0m | \u001b[0m 0.1641  \u001b[0m | \u001b[0m 1.265e+0\u001b[0m | \u001b[0m 15.11   \u001b[0m | \u001b[0m 0.9332  \u001b[0m |\n",
      "=========================================================================================================================\n"
     ]
    }
   ],
   "source": [
    "xgbBO = BayesianOptimization(XGB_eval, {'learning_rate': (0.001,0.4),\n",
    "                                        'gamma': (0,20),\n",
    "                                        'subsample': (0.5,1),\n",
    "                                        'colsample_bytree': (0.4,1),\n",
    "                                        'max_depth': (1,2000),\n",
    "                                        'min_child_weight': (1,20),\n",
    "                                        'L2':(0, 100),\n",
    "                                        'L1': (0, 1),\n",
    "                                        })\n",
    "                                        \n",
    "                                        \n",
    "\n",
    "xgbBO.maximize(n_iter=10, init_points=2)"
   ]
  },
  {
   "cell_type": "code",
   "execution_count": 215,
   "metadata": {},
   "outputs": [
    {
     "data": {
      "text/plain": [
       "{'target': 0.9994549999999999,\n",
       " 'params': {'L1': 0.31812277019823165,\n",
       "  'L2': 26.032587099894876,\n",
       "  'colsample_bytree': 0.880728758550327,\n",
       "  'gamma': 2.2227295555114823,\n",
       "  'learning_rate': 0.30600937266155626,\n",
       "  'max_depth': 1433.4944313030321,\n",
       "  'min_child_weight': 2.7478425233564474,\n",
       "  'subsample': 0.7721187606000149}}"
      ]
     },
     "execution_count": 215,
     "metadata": {},
     "output_type": "execute_result"
    }
   ],
   "source": [
    "xgbBO.max"
   ]
  },
  {
   "cell_type": "code",
   "execution_count": 216,
   "metadata": {},
   "outputs": [
    {
     "data": {
      "text/plain": [
       "dict_items([('target', 0.9994549999999999), ('params', {'L1': 0.31812277019823165, 'L2': 26.032587099894876, 'colsample_bytree': 0.880728758550327, 'gamma': 2.2227295555114823, 'learning_rate': 0.30600937266155626, 'max_depth': 1433.4944313030321, 'min_child_weight': 2.7478425233564474, 'subsample': 0.7721187606000149})])"
      ]
     },
     "execution_count": 216,
     "metadata": {},
     "output_type": "execute_result"
    }
   ],
   "source": [
    "xgbBO.max.items()"
   ]
  },
  {
   "cell_type": "markdown",
   "metadata": {},
   "source": [
    "## Hyperparameter tuning for RF"
   ]
  },
  {
   "cell_type": "code",
   "execution_count": 15,
   "metadata": {},
   "outputs": [],
   "source": [
    "from sklearn.model_selection import cross_val_score"
   ]
  },
  {
   "cell_type": "code",
   "execution_count": 88,
   "metadata": {},
   "outputs": [],
   "source": [
    "def rf_cv(X, y, **kwargs):\n",
    "    estimator = RandomForestClassifier(**kwargs)\n",
    "    cval = cross_val_score(estimator, X, y, scoring = 'roc_auc', cv = 3)\n",
    "    #cval = cross_val_score(estimator, X_train, y_train, scoring = 'roc_auc', cv = 3)\n",
    "    return cval.mean()\n",
    "\n",
    "\n",
    "def BayesianOptimization_rf(X, y):\n",
    "    def rf_crossval(n_estimators,  max_depth, \n",
    "                    min_samples_split, max_leaf_nodes, min_samples_leaf,random_state=63):\n",
    "        \n",
    "        return rf_cv(\n",
    "            X = X,\n",
    "            y = y,\n",
    "            bootstrap = True)\n",
    "    \n",
    "    rfBO = BayesianOptimization(\n",
    "        f = rf_crossval,\n",
    "        pbounds = {\n",
    "            \"n_estimators\" : (10, 400),\n",
    "            #\"max_features\" : \n",
    "            \"max_depth\" : (0,50),\n",
    "            \"min_samples_split\" : (0,5000),\n",
    "            \"max_leaf_nodes\" : (0,200),\n",
    "            \"min_samples_leaf\" : (0,0.5)\n",
    "        }\n",
    "    )\n",
    "    rfBO.maximize(n_iter = 10,init_points=2)\n",
    "    print(\"Final result:\", rfBO.max)"
   ]
  },
  {
   "cell_type": "code",
   "execution_count": 89,
   "metadata": {},
   "outputs": [
    {
     "name": "stdout",
     "output_type": "stream",
     "text": [
      "|   iter    |  target   | max_depth | max_le... | min_sa... | min_sa... | n_esti... |\n",
      "-------------------------------------------------------------------------------------\n",
      "| \u001b[0m 1       \u001b[0m | \u001b[0m 0.9955  \u001b[0m | \u001b[0m 31.41   \u001b[0m | \u001b[0m 44.55   \u001b[0m | \u001b[0m 0.1136  \u001b[0m | \u001b[0m 3.75e+03\u001b[0m | \u001b[0m 87.03   \u001b[0m |\n",
      "| \u001b[95m 2       \u001b[0m | \u001b[95m 0.9958  \u001b[0m | \u001b[95m 6.243   \u001b[0m | \u001b[95m 157.5   \u001b[0m | \u001b[95m 0.07526 \u001b[0m | \u001b[95m 2.216e+0\u001b[0m | \u001b[95m 108.9   \u001b[0m |\n",
      "| \u001b[0m 3       \u001b[0m | \u001b[0m 0.9956  \u001b[0m | \u001b[0m 42.56   \u001b[0m | \u001b[0m 10.11   \u001b[0m | \u001b[0m 0.4791  \u001b[0m | \u001b[0m 3.025e+0\u001b[0m | \u001b[0m 258.3   \u001b[0m |\n",
      "| \u001b[0m 4       \u001b[0m | \u001b[0m 0.9951  \u001b[0m | \u001b[0m 48.14   \u001b[0m | \u001b[0m 174.9   \u001b[0m | \u001b[0m 0.4166  \u001b[0m | \u001b[0m 2.096e+0\u001b[0m | \u001b[0m 85.05   \u001b[0m |\n",
      "| \u001b[0m 5       \u001b[0m | \u001b[0m 0.9953  \u001b[0m | \u001b[0m 0.7472  \u001b[0m | \u001b[0m 34.92   \u001b[0m | \u001b[0m 0.1061  \u001b[0m | \u001b[0m 2.652e+0\u001b[0m | \u001b[0m 389.3   \u001b[0m |\n",
      "| \u001b[0m 6       \u001b[0m | \u001b[0m 0.9957  \u001b[0m | \u001b[0m 1.193   \u001b[0m | \u001b[0m 20.94   \u001b[0m | \u001b[0m 0.3576  \u001b[0m | \u001b[0m 4.064e+0\u001b[0m | \u001b[0m 43.98   \u001b[0m |\n",
      "| \u001b[0m 7       \u001b[0m | \u001b[0m 0.9954  \u001b[0m | \u001b[0m 12.99   \u001b[0m | \u001b[0m 155.4   \u001b[0m | \u001b[0m 0.3845  \u001b[0m | \u001b[0m 2.218e+0\u001b[0m | \u001b[0m 98.81   \u001b[0m |\n",
      "| \u001b[0m 8       \u001b[0m | \u001b[0m 0.9954  \u001b[0m | \u001b[0m 20.55   \u001b[0m | \u001b[0m 21.53   \u001b[0m | \u001b[0m 0.2457  \u001b[0m | \u001b[0m 3.408e+0\u001b[0m | \u001b[0m 399.3   \u001b[0m |\n",
      "| \u001b[0m 9       \u001b[0m | \u001b[0m 0.9954  \u001b[0m | \u001b[0m 3.928   \u001b[0m | \u001b[0m 123.1   \u001b[0m | \u001b[0m 0.3525  \u001b[0m | \u001b[0m 4.945e+0\u001b[0m | \u001b[0m 371.8   \u001b[0m |\n",
      "| \u001b[0m 10      \u001b[0m | \u001b[0m 0.9952  \u001b[0m | \u001b[0m 6.851   \u001b[0m | \u001b[0m 81.22   \u001b[0m | \u001b[0m 0.2636  \u001b[0m | \u001b[0m 4.441e+0\u001b[0m | \u001b[0m 122.0   \u001b[0m |\n",
      "| \u001b[0m 11      \u001b[0m | \u001b[0m 0.995   \u001b[0m | \u001b[0m 10.21   \u001b[0m | \u001b[0m 40.44   \u001b[0m | \u001b[0m 0.2358  \u001b[0m | \u001b[0m 446.3   \u001b[0m | \u001b[0m 82.76   \u001b[0m |\n",
      "| \u001b[0m 12      \u001b[0m | \u001b[0m 0.9952  \u001b[0m | \u001b[0m 21.58   \u001b[0m | \u001b[0m 174.0   \u001b[0m | \u001b[0m 0.1287  \u001b[0m | \u001b[0m 2.212e+0\u001b[0m | \u001b[0m 99.57   \u001b[0m |\n",
      "=====================================================================================\n",
      "Final result: {'target': 0.9957626438003322, 'params': {'max_depth': 6.242800554401478, 'max_leaf_nodes': 157.4871174412274, 'min_samples_leaf': 0.0752610570584829, 'min_samples_split': 2216.2000182762727, 'n_estimators': 108.87793523479365}}\n"
     ]
    }
   ],
   "source": [
    "BayesianOptimization_rf(X_os_train,y_os_train)"
   ]
  },
  {
   "cell_type": "code",
   "execution_count": 90,
   "metadata": {},
   "outputs": [],
   "source": [
    "model = RandomForestClassifier(max_depth=6.24, \n",
    "                               max_leaf_nodes=157, min_samples_leaf=0.075,\n",
    "                               min_samples_split=2216,random_state=63)"
   ]
  },
  {
   "cell_type": "code",
   "execution_count": 80,
   "metadata": {},
   "outputs": [],
   "source": [
    "model = RandomForestClassifier(random_state=63)"
   ]
  },
  {
   "cell_type": "code",
   "execution_count": 173,
   "metadata": {},
   "outputs": [
    {
     "data": {
      "text/html": [
       "<div>\n",
       "<style scoped>\n",
       "    .dataframe tbody tr th:only-of-type {\n",
       "        vertical-align: middle;\n",
       "    }\n",
       "\n",
       "    .dataframe tbody tr th {\n",
       "        vertical-align: top;\n",
       "    }\n",
       "\n",
       "    .dataframe thead th {\n",
       "        text-align: right;\n",
       "    }\n",
       "</style>\n",
       "<table border=\"1\" class=\"dataframe\">\n",
       "  <thead>\n",
       "    <tr style=\"text-align: right;\">\n",
       "      <th></th>\n",
       "      <th>fit_time</th>\n",
       "      <th>score_time</th>\n",
       "      <th>test_accuracy</th>\n",
       "      <th>test_precision</th>\n",
       "      <th>test_recall</th>\n",
       "      <th>test_f1_score</th>\n",
       "      <th>test_roc_auc</th>\n",
       "    </tr>\n",
       "  </thead>\n",
       "  <tbody>\n",
       "    <tr>\n",
       "      <th>0</th>\n",
       "      <td>0.384</td>\n",
       "      <td>0.046</td>\n",
       "      <td>0.672</td>\n",
       "      <td>0.703</td>\n",
       "      <td>0.603</td>\n",
       "      <td>0.649</td>\n",
       "      <td>0.731</td>\n",
       "    </tr>\n",
       "    <tr>\n",
       "      <th>1</th>\n",
       "      <td>0.339</td>\n",
       "      <td>0.043</td>\n",
       "      <td>0.677</td>\n",
       "      <td>0.713</td>\n",
       "      <td>0.609</td>\n",
       "      <td>0.657</td>\n",
       "      <td>0.739</td>\n",
       "    </tr>\n",
       "    <tr>\n",
       "      <th>2</th>\n",
       "      <td>0.334</td>\n",
       "      <td>0.043</td>\n",
       "      <td>0.671</td>\n",
       "      <td>0.699</td>\n",
       "      <td>0.621</td>\n",
       "      <td>0.658</td>\n",
       "      <td>0.747</td>\n",
       "    </tr>\n",
       "    <tr>\n",
       "      <th>3</th>\n",
       "      <td>0.294</td>\n",
       "      <td>0.038</td>\n",
       "      <td>0.660</td>\n",
       "      <td>0.657</td>\n",
       "      <td>0.603</td>\n",
       "      <td>0.629</td>\n",
       "      <td>0.738</td>\n",
       "    </tr>\n",
       "    <tr>\n",
       "      <th>4</th>\n",
       "      <td>0.285</td>\n",
       "      <td>0.037</td>\n",
       "      <td>0.647</td>\n",
       "      <td>0.655</td>\n",
       "      <td>0.586</td>\n",
       "      <td>0.618</td>\n",
       "      <td>0.727</td>\n",
       "    </tr>\n",
       "  </tbody>\n",
       "</table>\n",
       "</div>"
      ],
      "text/plain": [
       "   fit_time  score_time  test_accuracy  test_precision  test_recall  \\\n",
       "0     0.384       0.046          0.672           0.703        0.603   \n",
       "1     0.339       0.043          0.677           0.713        0.609   \n",
       "2     0.334       0.043          0.671           0.699        0.621   \n",
       "3     0.294       0.038          0.660           0.657        0.603   \n",
       "4     0.285       0.037          0.647           0.655        0.586   \n",
       "\n",
       "   test_f1_score  test_roc_auc  \n",
       "0          0.649         0.731  \n",
       "1          0.657         0.739  \n",
       "2          0.658         0.747  \n",
       "3          0.629         0.738  \n",
       "4          0.618         0.727  "
      ]
     },
     "execution_count": 173,
     "metadata": {},
     "output_type": "execute_result"
    }
   ],
   "source": [
    "model_eval(RandomForestClassifier(max_depth=6.24, \n",
    "                               max_leaf_nodes=157, min_samples_leaf=0.075,\n",
    "                               min_samples_split=2216,random_state=63),X_os_train,y_os_train)"
   ]
  },
  {
   "cell_type": "code",
   "execution_count": 92,
   "metadata": {},
   "outputs": [
    {
     "data": {
      "text/plain": [
       "array([[ 426,  302],\n",
       "       [1264, 3516]])"
      ]
     },
     "execution_count": 92,
     "metadata": {},
     "output_type": "execute_result"
    }
   ],
   "source": [
    "metrics.confusion_matrix(y_test, y_pred,labels=[1,0])"
   ]
  },
  {
   "cell_type": "code",
   "execution_count": 93,
   "metadata": {},
   "outputs": [
    {
     "data": {
      "text/plain": [
       "(0.25207100591715975, 0.5851648351648352, 0.3523573200992556, None)"
      ]
     },
     "execution_count": 93,
     "metadata": {},
     "output_type": "execute_result"
    }
   ],
   "source": [
    "score(y_test, y_pred, pos_label=1,average='binary')   "
   ]
  },
  {
   "cell_type": "markdown",
   "metadata": {},
   "source": [
    "## Hyperparameter tuning for LogisticRegression"
   ]
  },
  {
   "cell_type": "code",
   "execution_count": 160,
   "metadata": {},
   "outputs": [],
   "source": [
    "def lr_cv(X, y, **kwargs):\n",
    "    estimator = LogisticRegression(**kwargs)\n",
    "    cval = cross_val_score(estimator, X, y, scoring = 'recall', cv = 3)\n",
    "    return cval.mean()\n",
    "\n",
    "\n",
    "def BayesianOptimization_lr(X, y):\n",
    "    def lr_crossval(C):\n",
    "        \n",
    "        return rf_cv(\n",
    "            X = X,\n",
    "            y = y)\n",
    "    \n",
    "    lrBO = BayesianOptimization(\n",
    "        f = lr_crossval,\n",
    "        pbounds = {\n",
    "            \"C\" : (0, 1000)\n",
    "            #\"l2\" : (0,100)\n",
    "        }\n",
    "    )\n",
    "    lrBO.maximize(n_iter = 10,init_points=2)\n",
    "    print(\"Final result:\", lrBO.max)"
   ]
  },
  {
   "cell_type": "code",
   "execution_count": 161,
   "metadata": {},
   "outputs": [
    {
     "name": "stdout",
     "output_type": "stream",
     "text": [
      "|   iter    |  target   |     C     |\n",
      "-------------------------------------\n",
      "| \u001b[0m 1       \u001b[0m | \u001b[0m 0.9953  \u001b[0m | \u001b[0m 251.2   \u001b[0m |\n",
      "| \u001b[0m 2       \u001b[0m | \u001b[0m 0.9951  \u001b[0m | \u001b[0m 470.1   \u001b[0m |\n",
      "| \u001b[0m 3       \u001b[0m | \u001b[0m 0.995   \u001b[0m | \u001b[0m 249.9   \u001b[0m |\n",
      "| \u001b[0m 4       \u001b[0m | \u001b[0m 0.9952  \u001b[0m | \u001b[0m 251.4   \u001b[0m |\n",
      "| \u001b[95m 5       \u001b[0m | \u001b[95m 0.9953  \u001b[0m | \u001b[95m 251.1   \u001b[0m |\n",
      "| \u001b[0m 6       \u001b[0m | \u001b[0m 0.9953  \u001b[0m | \u001b[0m 250.7   \u001b[0m |\n",
      "| \u001b[0m 7       \u001b[0m | \u001b[0m 0.9949  \u001b[0m | \u001b[0m 172.8   \u001b[0m |\n",
      "| \u001b[95m 8       \u001b[0m | \u001b[95m 0.9955  \u001b[0m | \u001b[95m 612.9   \u001b[0m |\n",
      "| \u001b[95m 9       \u001b[0m | \u001b[95m 0.9956  \u001b[0m | \u001b[95m 194.9   \u001b[0m |\n",
      "| \u001b[0m 10      \u001b[0m | \u001b[0m 0.9953  \u001b[0m | \u001b[0m 194.6   \u001b[0m |\n",
      "| \u001b[95m 11      \u001b[0m | \u001b[95m 0.9956  \u001b[0m | \u001b[95m 195.2   \u001b[0m |\n",
      "| \u001b[0m 12      \u001b[0m | \u001b[0m 0.9954  \u001b[0m | \u001b[0m 612.5   \u001b[0m |\n",
      "=====================================\n",
      "Final result: {'target': 0.9955883919488554, 'params': {'C': 195.22672000342865}}\n"
     ]
    }
   ],
   "source": [
    "BayesianOptimization_lr(X_os_train,y_os_train)"
   ]
  },
  {
   "cell_type": "code",
   "execution_count": 157,
   "metadata": {},
   "outputs": [],
   "source": [
    "model = LogisticRegression(C=934)\n",
    "model.fit(X_os_train,y_os_train)\n",
    "y_pred = model.predict(X_os_test)\n",
    "\n"
   ]
  },
  {
   "cell_type": "code",
   "execution_count": 158,
   "metadata": {},
   "outputs": [
    {
     "data": {
      "text/plain": [
       "array([[1795, 1597],\n",
       "       [1033, 2268]])"
      ]
     },
     "execution_count": 158,
     "metadata": {},
     "output_type": "execute_result"
    }
   ],
   "source": [
    "metrics.confusion_matrix(y_os_test, y_pred,labels=[1,0])"
   ]
  },
  {
   "cell_type": "code",
   "execution_count": 159,
   "metadata": {},
   "outputs": [
    {
     "data": {
      "text/plain": [
       "(0.6347241867043847, 0.5291863207547169, 0.5771704180064309, None)"
      ]
     },
     "execution_count": 159,
     "metadata": {},
     "output_type": "execute_result"
    }
   ],
   "source": [
    "score(y_os_test, y_pred, pos_label=1,average='binary')   "
   ]
  },
  {
   "cell_type": "code",
   "execution_count": 75,
   "metadata": {},
   "outputs": [
    {
     "data": {
      "text/plain": [
       "(0.9958847736625515, 0.9972527472527473, 0.9965682910089224, None)"
      ]
     },
     "execution_count": 75,
     "metadata": {},
     "output_type": "execute_result"
    }
   ],
   "source": [
    "finmodel = DecisionTreeClassifier(random_state=63)\n",
    "finmodel.fit(X_os_train, y_os_train)\n",
    "fin_y_pred = finmodel.predict(X_test)\n",
    "\n",
    "# get precision, recall, fscore\n",
    "score(y_test, fin_y_pred, pos_label=1,average='binary')    "
   ]
  },
  {
   "cell_type": "code",
   "execution_count": 76,
   "metadata": {},
   "outputs": [
    {
     "data": {
      "text/plain": [
       "(0.9958847736625515, 0.9972527472527473, 0.9965682910089224, None)"
      ]
     },
     "execution_count": 76,
     "metadata": {},
     "output_type": "execute_result"
    }
   ],
   "source": [
    "finmodel = DecisionTreeClassifier(random_state=63)\n",
    "finmodel.fit(X_os_train, y_os_train)\n",
    "fin_y_pred = finmodel.predict(X_test)\n",
    "\n",
    "# get precision, recall, fscore\n",
    "score(y_test, fin_y_pred, pos_label=1,average='binary')  "
   ]
  },
  {
   "cell_type": "code",
   "execution_count": 77,
   "metadata": {},
   "outputs": [
    {
     "data": {
      "text/plain": [
       "(array([False,  True]), array([   5, 5503]))"
      ]
     },
     "execution_count": 77,
     "metadata": {},
     "output_type": "execute_result"
    }
   ],
   "source": [
    "np.unique((fin_y_pred == y_test),return_counts=True)"
   ]
  },
  {
   "cell_type": "code",
   "execution_count": 78,
   "metadata": {},
   "outputs": [
    {
     "data": {
      "text/plain": [
       "(6693,)"
      ]
     },
     "execution_count": 78,
     "metadata": {},
     "output_type": "execute_result"
    }
   ],
   "source": [
    "y_os_test.shape"
   ]
  },
  {
   "cell_type": "markdown",
   "metadata": {},
   "source": [
    "## What shall I do for the next step? I am a bit lost now as it didn't go as I planned.\n",
    "\n",
    "## My plan was to: \n",
    "1. train multiple models on the original data set (without oversampling), \n",
    "2. get model results\n",
    "3. try to optimize the model performance by adopting SMOTE\n",
    "4. get model results again and pick the best model\n",
    "5. use gridsearchcv to tune best model's hyper parameters to optimize model.\n",
    "\n",
    "\n",
    "\n",
    "Questions from me:\n",
    "1) as now I figured out the DecisionTree model is performing so well on the original data, so I am not sure if it still makes sense to \n",
    "do the SMOTE trick with other models.\n",
    "\n",
    "2) as I've asked you earlier in this note book, when the model performs perfectly on the test set, what shall we do for the next? As I've  never run into this situation so far..."
   ]
  },
  {
   "cell_type": "code",
   "execution_count": 79,
   "metadata": {},
   "outputs": [
    {
     "data": {
      "text/plain": [
       "0.6438432857326432"
      ]
     },
     "execution_count": 79,
     "metadata": {},
     "output_type": "execute_result"
    }
   ],
   "source": [
    "rf_cv(X_os_train,y_os_train)"
   ]
  },
  {
   "cell_type": "code",
   "execution_count": 80,
   "metadata": {},
   "outputs": [],
   "source": [
    "def rf_cv(min_samples_leaf, min_samples_split):\n",
    "    params={\"min_samples_leaf\":min_samples_leaf,\n",
    "            \"min_samples_split\" :min_samples_split}\n",
    "    \n",
    "    estimator = RandomForestClassifier()\n",
    "    cval = cross_val_score(estimator, X_os_train, y_os_train, scoring = 'roc_auc', cv = 3, n_jobs = -1)\n",
    "    return cval.mean()"
   ]
  },
  {
   "cell_type": "code",
   "execution_count": 81,
   "metadata": {},
   "outputs": [
    {
     "data": {
      "text/plain": [
       "0.9950582301729614"
      ]
     },
     "execution_count": 81,
     "metadata": {},
     "output_type": "execute_result"
    }
   ],
   "source": [
    "rf_cv(25,6)"
   ]
  },
  {
   "cell_type": "code",
   "execution_count": 82,
   "metadata": {},
   "outputs": [
    {
     "name": "stdout",
     "output_type": "stream",
     "text": [
      "|   iter    |  target   | min_sa... | min_sa... |\n",
      "-------------------------------------------------\n",
      "| \u001b[0m 1       \u001b[0m | \u001b[0m 0.9957  \u001b[0m | \u001b[0m 88.85   \u001b[0m | \u001b[0m 13.13   \u001b[0m |\n",
      "| \u001b[0m 2       \u001b[0m | \u001b[0m 0.9953  \u001b[0m | \u001b[0m 52.9    \u001b[0m | \u001b[0m 46.48   \u001b[0m |\n",
      "| \u001b[0m 3       \u001b[0m | \u001b[0m 0.9956  \u001b[0m | \u001b[0m 90.05   \u001b[0m | \u001b[0m 12.98   \u001b[0m |\n",
      "| \u001b[0m 4       \u001b[0m | \u001b[0m 0.9954  \u001b[0m | \u001b[0m 84.71   \u001b[0m | \u001b[0m 14.18   \u001b[0m |\n",
      "| \u001b[0m 5       \u001b[0m | \u001b[0m 0.9954  \u001b[0m | \u001b[0m 88.56   \u001b[0m | \u001b[0m 10.72   \u001b[0m |\n",
      "| \u001b[0m 6       \u001b[0m | \u001b[0m 0.9954  \u001b[0m | \u001b[0m 88.72   \u001b[0m | \u001b[0m 13.99   \u001b[0m |\n",
      "| \u001b[0m 7       \u001b[0m | \u001b[0m 0.9952  \u001b[0m | \u001b[0m 89.07   \u001b[0m | \u001b[0m 12.87   \u001b[0m |\n",
      "| \u001b[0m 8       \u001b[0m | \u001b[0m 0.9952  \u001b[0m | \u001b[0m 26.98   \u001b[0m | \u001b[0m 74.19   \u001b[0m |\n",
      "| \u001b[0m 9       \u001b[0m | \u001b[0m 0.9954  \u001b[0m | \u001b[0m 10.12   \u001b[0m | \u001b[0m 84.17   \u001b[0m |\n",
      "| \u001b[0m 10      \u001b[0m | \u001b[0m 0.9951  \u001b[0m | \u001b[0m 56.58   \u001b[0m | \u001b[0m 73.5    \u001b[0m |\n",
      "| \u001b[0m 11      \u001b[0m | \u001b[0m 0.9951  \u001b[0m | \u001b[0m 79.64   \u001b[0m | \u001b[0m 57.56   \u001b[0m |\n",
      "| \u001b[0m 12      \u001b[0m | \u001b[0m 0.9954  \u001b[0m | \u001b[0m 91.56   \u001b[0m | \u001b[0m 11.57   \u001b[0m |\n",
      "=================================================\n"
     ]
    }
   ],
   "source": [
    "rfBO = BayesianOptimization(rf_cv, {'min_samples_leaf': (1,100),\n",
    "                                     'min_samples_split': (1,100)\n",
    "                                        })\n",
    "\n",
    "rfBO.maximize(n_iter=10, init_points=2)"
   ]
  },
  {
   "cell_type": "code",
   "execution_count": null,
   "metadata": {},
   "outputs": [],
   "source": []
  }
 ],
 "metadata": {
  "kernelspec": {
   "display_name": "Python 3",
   "language": "python",
   "name": "python3"
  },
  "language_info": {
   "codemirror_mode": {
    "name": "ipython",
    "version": 3
   },
   "file_extension": ".py",
   "mimetype": "text/x-python",
   "name": "python",
   "nbconvert_exporter": "python",
   "pygments_lexer": "ipython3",
   "version": "3.8.3"
  }
 },
 "nbformat": 4,
 "nbformat_minor": 4
}
