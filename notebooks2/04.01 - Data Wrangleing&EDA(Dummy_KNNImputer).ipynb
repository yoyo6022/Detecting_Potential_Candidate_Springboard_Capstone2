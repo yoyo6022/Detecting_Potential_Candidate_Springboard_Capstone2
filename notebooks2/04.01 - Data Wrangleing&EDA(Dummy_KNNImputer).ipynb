{
 "cells": [
  {
   "cell_type": "markdown",
   "metadata": {},
   "source": [
    "## Imports & Setup"
   ]
  },
  {
   "cell_type": "code",
   "execution_count": 696,
   "metadata": {},
   "outputs": [],
   "source": [
    "import os\n",
    "import warnings\n",
    "warnings.filterwarnings(\"ignore\")\n",
    "\n",
    "import pandas as pd\n",
    "# import datetime\n",
    "import seaborn as sns\n",
    "sns.set()\n",
    "import matplotlib.pyplot as plt\n",
    "import numpy as np\n",
    "# from scipy import stats\n",
    "# import random\n",
    "import category_encoders as ce\n",
    "from category_encoders import LeaveOneOutEncoder, TargetEncoder\n",
    "from sklearn.preprocessing import StandardScaler\n",
    "from sklearn.model_selection import train_test_split \n",
    "from sklearn.model_selection import KFold\n",
    "from sklearn.model_selection import cross_val_score\n",
    "from sklearn import model_selection\n",
    "\n",
    "from sklearn.linear_model import LogisticRegression\n",
    "from sklearn.naive_bayes import GaussianNB\n",
    "from sklearn.neighbors import KNeighborsClassifier\n",
    "from sklearn.svm import SVC\n",
    "from sklearn.tree import DecisionTreeClassifier\n",
    "from sklearn.ensemble import RandomForestClassifier\n",
    "from sklearn.ensemble import GradientBoostingClassifier\n",
    "from xgboost import XGBClassifier\n",
    "import xgboost as xgb\n",
    "from catboost import CatBoostClassifier\n",
    "import lightgbm as lgb\n",
    "\n",
    "import time\n",
    "from sklearn.metrics import recall_score\n",
    "from sklearn.metrics import precision_score\n",
    "from sklearn.metrics import f1_score\n",
    "from sklearn import metrics\n",
    "from sklearn.metrics import f1_score\n",
    "from sklearn.metrics import make_scorer, accuracy_score, precision_score, recall_score, f1_score, roc_auc_score\n",
    "from sklearn.metrics import roc_auc_score\n",
    "from sklearn.metrics import precision_recall_fscore_support as score, accuracy_score\n",
    "from sklearn.metrics import classification_report, confusion_matrix, roc_curve, auc\n",
    "from imblearn.over_sampling import SMOTE\n",
    "\n",
    "from tabulate import tabulate\n",
    "%matplotlib inline"
   ]
  },
  {
   "cell_type": "code",
   "execution_count": 307,
   "metadata": {},
   "outputs": [
    {
     "name": "stdout",
     "output_type": "stream",
     "text": [
      "/Users/liuyang/Desktop/Springboard_Capstone\n",
      "/Users/liuyang/Desktop/Springboard_Capstone\n"
     ]
    }
   ],
   "source": [
    "print(os.getcwd())\n",
    "os.chdir('/Users/liuyang/Desktop/Springboard_Capstone') \n",
    "print(os.getcwd())"
   ]
  },
  {
   "cell_type": "code",
   "execution_count": 308,
   "metadata": {},
   "outputs": [],
   "source": [
    "df = pd.read_csv('data/train.csv')"
   ]
  },
  {
   "cell_type": "code",
   "execution_count": 309,
   "metadata": {},
   "outputs": [
    {
     "data": {
      "text/plain": [
       "(18359, 14)"
      ]
     },
     "execution_count": 309,
     "metadata": {},
     "output_type": "execute_result"
    }
   ],
   "source": [
    "df.shape"
   ]
  },
  {
   "cell_type": "code",
   "execution_count": 310,
   "metadata": {},
   "outputs": [
    {
     "data": {
      "text/html": [
       "<div>\n",
       "<style scoped>\n",
       "    .dataframe tbody tr th:only-of-type {\n",
       "        vertical-align: middle;\n",
       "    }\n",
       "\n",
       "    .dataframe tbody tr th {\n",
       "        vertical-align: top;\n",
       "    }\n",
       "\n",
       "    .dataframe thead th {\n",
       "        text-align: right;\n",
       "    }\n",
       "</style>\n",
       "<table border=\"1\" class=\"dataframe\">\n",
       "  <thead>\n",
       "    <tr style=\"text-align: right;\">\n",
       "      <th></th>\n",
       "      <th>enrollee_id</th>\n",
       "      <th>city</th>\n",
       "      <th>city_development_index</th>\n",
       "      <th>gender</th>\n",
       "      <th>relevent_experience</th>\n",
       "      <th>enrolled_university</th>\n",
       "      <th>education_level</th>\n",
       "      <th>major_discipline</th>\n",
       "      <th>experience</th>\n",
       "      <th>company_size</th>\n",
       "      <th>company_type</th>\n",
       "      <th>last_new_job</th>\n",
       "      <th>training_hours</th>\n",
       "      <th>target</th>\n",
       "    </tr>\n",
       "  </thead>\n",
       "  <tbody>\n",
       "    <tr>\n",
       "      <th>0</th>\n",
       "      <td>23798</td>\n",
       "      <td>city_149</td>\n",
       "      <td>0.689</td>\n",
       "      <td>Male</td>\n",
       "      <td>Has relevent experience</td>\n",
       "      <td>no_enrollment</td>\n",
       "      <td>Graduate</td>\n",
       "      <td>STEM</td>\n",
       "      <td>3</td>\n",
       "      <td>100-500</td>\n",
       "      <td>Pvt Ltd</td>\n",
       "      <td>1</td>\n",
       "      <td>106</td>\n",
       "      <td>0</td>\n",
       "    </tr>\n",
       "    <tr>\n",
       "      <th>1</th>\n",
       "      <td>29166</td>\n",
       "      <td>city_83</td>\n",
       "      <td>0.923</td>\n",
       "      <td>Male</td>\n",
       "      <td>Has relevent experience</td>\n",
       "      <td>no_enrollment</td>\n",
       "      <td>Graduate</td>\n",
       "      <td>STEM</td>\n",
       "      <td>14</td>\n",
       "      <td>&lt;10</td>\n",
       "      <td>Funded Startup</td>\n",
       "      <td>1</td>\n",
       "      <td>69</td>\n",
       "      <td>0</td>\n",
       "    </tr>\n",
       "    <tr>\n",
       "      <th>2</th>\n",
       "      <td>46</td>\n",
       "      <td>city_16</td>\n",
       "      <td>0.910</td>\n",
       "      <td>NaN</td>\n",
       "      <td>Has relevent experience</td>\n",
       "      <td>no_enrollment</td>\n",
       "      <td>Graduate</td>\n",
       "      <td>STEM</td>\n",
       "      <td>6</td>\n",
       "      <td>50-99</td>\n",
       "      <td>Public Sector</td>\n",
       "      <td>2</td>\n",
       "      <td>4</td>\n",
       "      <td>0</td>\n",
       "    </tr>\n",
       "    <tr>\n",
       "      <th>3</th>\n",
       "      <td>18527</td>\n",
       "      <td>city_64</td>\n",
       "      <td>0.666</td>\n",
       "      <td>Male</td>\n",
       "      <td>Has relevent experience</td>\n",
       "      <td>no_enrollment</td>\n",
       "      <td>Graduate</td>\n",
       "      <td>STEM</td>\n",
       "      <td>14</td>\n",
       "      <td>50-99</td>\n",
       "      <td>Pvt Ltd</td>\n",
       "      <td>1</td>\n",
       "      <td>26</td>\n",
       "      <td>0</td>\n",
       "    </tr>\n",
       "    <tr>\n",
       "      <th>4</th>\n",
       "      <td>21751</td>\n",
       "      <td>city_100</td>\n",
       "      <td>0.887</td>\n",
       "      <td>NaN</td>\n",
       "      <td>No relevent experience</td>\n",
       "      <td>no_enrollment</td>\n",
       "      <td>Masters</td>\n",
       "      <td>STEM</td>\n",
       "      <td>8</td>\n",
       "      <td>NaN</td>\n",
       "      <td>NaN</td>\n",
       "      <td>2</td>\n",
       "      <td>88</td>\n",
       "      <td>1</td>\n",
       "    </tr>\n",
       "  </tbody>\n",
       "</table>\n",
       "</div>"
      ],
      "text/plain": [
       "   enrollee_id      city  city_development_index gender  \\\n",
       "0        23798  city_149                   0.689   Male   \n",
       "1        29166   city_83                   0.923   Male   \n",
       "2           46   city_16                   0.910    NaN   \n",
       "3        18527   city_64                   0.666   Male   \n",
       "4        21751  city_100                   0.887    NaN   \n",
       "\n",
       "       relevent_experience enrolled_university education_level  \\\n",
       "0  Has relevent experience       no_enrollment        Graduate   \n",
       "1  Has relevent experience       no_enrollment        Graduate   \n",
       "2  Has relevent experience       no_enrollment        Graduate   \n",
       "3  Has relevent experience       no_enrollment        Graduate   \n",
       "4   No relevent experience       no_enrollment         Masters   \n",
       "\n",
       "  major_discipline experience company_size    company_type last_new_job  \\\n",
       "0             STEM          3      100-500         Pvt Ltd            1   \n",
       "1             STEM         14          <10  Funded Startup            1   \n",
       "2             STEM          6        50-99   Public Sector            2   \n",
       "3             STEM         14        50-99         Pvt Ltd            1   \n",
       "4             STEM          8          NaN             NaN            2   \n",
       "\n",
       "   training_hours  target  \n",
       "0             106       0  \n",
       "1              69       0  \n",
       "2               4       0  \n",
       "3              26       0  \n",
       "4              88       1  "
      ]
     },
     "execution_count": 310,
     "metadata": {},
     "output_type": "execute_result"
    }
   ],
   "source": [
    "df.head()"
   ]
  },
  {
   "cell_type": "markdown",
   "metadata": {},
   "source": [
    "## Count of unique values"
   ]
  },
  {
   "cell_type": "code",
   "execution_count": 311,
   "metadata": {},
   "outputs": [],
   "source": [
    "# creata a function to calculate unique value count and percentage for the whole dataset\n",
    "# and check the data type for each column\n",
    "def data_info(data):\n",
    "    count = data.nunique()\n",
    "    va_pct = round(count/(data.shape[0])*100,2)\n",
    "    nan_p = round(data.isnull().sum()/data.shape[0]*100,2)\n",
    "    frame = pd.DataFrame(zip(count,va_pct,nan_p), index=count.index, \n",
    "                         columns=['counts','unique_value_pct', 'nan_pct']).reset_index().rename(columns={'index': 'column'})\n",
    "    \n",
    "  \n",
    "    frame['data_type']= df.dtypes.tolist()\n",
    "    return frame"
   ]
  },
  {
   "cell_type": "code",
   "execution_count": 312,
   "metadata": {},
   "outputs": [
    {
     "data": {
      "text/html": [
       "<div>\n",
       "<style scoped>\n",
       "    .dataframe tbody tr th:only-of-type {\n",
       "        vertical-align: middle;\n",
       "    }\n",
       "\n",
       "    .dataframe tbody tr th {\n",
       "        vertical-align: top;\n",
       "    }\n",
       "\n",
       "    .dataframe thead th {\n",
       "        text-align: right;\n",
       "    }\n",
       "</style>\n",
       "<table border=\"1\" class=\"dataframe\">\n",
       "  <thead>\n",
       "    <tr style=\"text-align: right;\">\n",
       "      <th></th>\n",
       "      <th>column</th>\n",
       "      <th>counts</th>\n",
       "      <th>unique_value_pct</th>\n",
       "      <th>nan_pct</th>\n",
       "      <th>data_type</th>\n",
       "    </tr>\n",
       "  </thead>\n",
       "  <tbody>\n",
       "    <tr>\n",
       "      <th>0</th>\n",
       "      <td>enrollee_id</td>\n",
       "      <td>18359</td>\n",
       "      <td>100.00</td>\n",
       "      <td>0.00</td>\n",
       "      <td>int64</td>\n",
       "    </tr>\n",
       "    <tr>\n",
       "      <th>12</th>\n",
       "      <td>training_hours</td>\n",
       "      <td>241</td>\n",
       "      <td>1.31</td>\n",
       "      <td>0.00</td>\n",
       "      <td>int64</td>\n",
       "    </tr>\n",
       "    <tr>\n",
       "      <th>1</th>\n",
       "      <td>city</td>\n",
       "      <td>123</td>\n",
       "      <td>0.67</td>\n",
       "      <td>0.00</td>\n",
       "      <td>object</td>\n",
       "    </tr>\n",
       "    <tr>\n",
       "      <th>2</th>\n",
       "      <td>city_development_index</td>\n",
       "      <td>93</td>\n",
       "      <td>0.51</td>\n",
       "      <td>0.00</td>\n",
       "      <td>float64</td>\n",
       "    </tr>\n",
       "    <tr>\n",
       "      <th>8</th>\n",
       "      <td>experience</td>\n",
       "      <td>22</td>\n",
       "      <td>0.12</td>\n",
       "      <td>0.32</td>\n",
       "      <td>object</td>\n",
       "    </tr>\n",
       "    <tr>\n",
       "      <th>9</th>\n",
       "      <td>company_size</td>\n",
       "      <td>8</td>\n",
       "      <td>0.04</td>\n",
       "      <td>26.03</td>\n",
       "      <td>object</td>\n",
       "    </tr>\n",
       "    <tr>\n",
       "      <th>7</th>\n",
       "      <td>major_discipline</td>\n",
       "      <td>6</td>\n",
       "      <td>0.03</td>\n",
       "      <td>15.46</td>\n",
       "      <td>object</td>\n",
       "    </tr>\n",
       "    <tr>\n",
       "      <th>10</th>\n",
       "      <td>company_type</td>\n",
       "      <td>6</td>\n",
       "      <td>0.03</td>\n",
       "      <td>27.45</td>\n",
       "      <td>object</td>\n",
       "    </tr>\n",
       "    <tr>\n",
       "      <th>11</th>\n",
       "      <td>last_new_job</td>\n",
       "      <td>6</td>\n",
       "      <td>0.03</td>\n",
       "      <td>2.00</td>\n",
       "      <td>object</td>\n",
       "    </tr>\n",
       "    <tr>\n",
       "      <th>6</th>\n",
       "      <td>education_level</td>\n",
       "      <td>5</td>\n",
       "      <td>0.03</td>\n",
       "      <td>2.49</td>\n",
       "      <td>object</td>\n",
       "    </tr>\n",
       "    <tr>\n",
       "      <th>3</th>\n",
       "      <td>gender</td>\n",
       "      <td>3</td>\n",
       "      <td>0.02</td>\n",
       "      <td>22.32</td>\n",
       "      <td>object</td>\n",
       "    </tr>\n",
       "    <tr>\n",
       "      <th>5</th>\n",
       "      <td>enrolled_university</td>\n",
       "      <td>3</td>\n",
       "      <td>0.02</td>\n",
       "      <td>1.86</td>\n",
       "      <td>object</td>\n",
       "    </tr>\n",
       "    <tr>\n",
       "      <th>4</th>\n",
       "      <td>relevent_experience</td>\n",
       "      <td>2</td>\n",
       "      <td>0.01</td>\n",
       "      <td>0.00</td>\n",
       "      <td>object</td>\n",
       "    </tr>\n",
       "    <tr>\n",
       "      <th>13</th>\n",
       "      <td>target</td>\n",
       "      <td>2</td>\n",
       "      <td>0.01</td>\n",
       "      <td>0.00</td>\n",
       "      <td>int64</td>\n",
       "    </tr>\n",
       "  </tbody>\n",
       "</table>\n",
       "</div>"
      ],
      "text/plain": [
       "                    column  counts  unique_value_pct  nan_pct data_type\n",
       "0              enrollee_id   18359            100.00     0.00     int64\n",
       "12          training_hours     241              1.31     0.00     int64\n",
       "1                     city     123              0.67     0.00    object\n",
       "2   city_development_index      93              0.51     0.00   float64\n",
       "8               experience      22              0.12     0.32    object\n",
       "9             company_size       8              0.04    26.03    object\n",
       "7         major_discipline       6              0.03    15.46    object\n",
       "10            company_type       6              0.03    27.45    object\n",
       "11            last_new_job       6              0.03     2.00    object\n",
       "6          education_level       5              0.03     2.49    object\n",
       "3                   gender       3              0.02    22.32    object\n",
       "5      enrolled_university       3              0.02     1.86    object\n",
       "4      relevent_experience       2              0.01     0.00    object\n",
       "13                  target       2              0.01     0.00     int64"
      ]
     },
     "execution_count": 312,
     "metadata": {},
     "output_type": "execute_result"
    }
   ],
   "source": [
    "data_info(df).sort_values('counts', ascending=False)"
   ]
  },
  {
   "cell_type": "markdown",
   "metadata": {},
   "source": [
    "## Range of values per column"
   ]
  },
  {
   "cell_type": "code",
   "execution_count": 313,
   "metadata": {},
   "outputs": [
    {
     "data": {
      "text/html": [
       "<div>\n",
       "<style scoped>\n",
       "    .dataframe tbody tr th:only-of-type {\n",
       "        vertical-align: middle;\n",
       "    }\n",
       "\n",
       "    .dataframe tbody tr th {\n",
       "        vertical-align: top;\n",
       "    }\n",
       "\n",
       "    .dataframe thead th {\n",
       "        text-align: right;\n",
       "    }\n",
       "</style>\n",
       "<table border=\"1\" class=\"dataframe\">\n",
       "  <thead>\n",
       "    <tr style=\"text-align: right;\">\n",
       "      <th></th>\n",
       "      <th>min</th>\n",
       "      <th>max</th>\n",
       "    </tr>\n",
       "  </thead>\n",
       "  <tbody>\n",
       "    <tr>\n",
       "      <th>enrollee_id</th>\n",
       "      <td>1</td>\n",
       "      <td>33380</td>\n",
       "    </tr>\n",
       "    <tr>\n",
       "      <th>city</th>\n",
       "      <td>city_1</td>\n",
       "      <td>city_99</td>\n",
       "    </tr>\n",
       "    <tr>\n",
       "      <th>city_development_index</th>\n",
       "      <td>0.448</td>\n",
       "      <td>0.949</td>\n",
       "    </tr>\n",
       "    <tr>\n",
       "      <th>relevent_experience</th>\n",
       "      <td>Has relevent experience</td>\n",
       "      <td>No relevent experience</td>\n",
       "    </tr>\n",
       "    <tr>\n",
       "      <th>training_hours</th>\n",
       "      <td>1</td>\n",
       "      <td>336</td>\n",
       "    </tr>\n",
       "    <tr>\n",
       "      <th>target</th>\n",
       "      <td>0</td>\n",
       "      <td>1</td>\n",
       "    </tr>\n",
       "  </tbody>\n",
       "</table>\n",
       "</div>"
      ],
      "text/plain": [
       "                                            min                     max\n",
       "enrollee_id                                   1                   33380\n",
       "city                                     city_1                 city_99\n",
       "city_development_index                    0.448                   0.949\n",
       "relevent_experience     Has relevent experience  No relevent experience\n",
       "training_hours                                1                     336\n",
       "target                                        0                       1"
      ]
     },
     "execution_count": 313,
     "metadata": {},
     "output_type": "execute_result"
    }
   ],
   "source": [
    "# This only contains numerical variables.\n",
    "df.agg([min,max]).T"
   ]
  },
  {
   "cell_type": "code",
   "execution_count": 314,
   "metadata": {},
   "outputs": [
    {
     "data": {
      "text/html": [
       "<div>\n",
       "<style scoped>\n",
       "    .dataframe tbody tr th:only-of-type {\n",
       "        vertical-align: middle;\n",
       "    }\n",
       "\n",
       "    .dataframe tbody tr th {\n",
       "        vertical-align: top;\n",
       "    }\n",
       "\n",
       "    .dataframe thead th {\n",
       "        text-align: right;\n",
       "    }\n",
       "</style>\n",
       "<table border=\"1\" class=\"dataframe\">\n",
       "  <thead>\n",
       "    <tr style=\"text-align: right;\">\n",
       "      <th></th>\n",
       "      <th>enrollee_id</th>\n",
       "      <th>city_development_index</th>\n",
       "      <th>training_hours</th>\n",
       "      <th>target</th>\n",
       "    </tr>\n",
       "  </thead>\n",
       "  <tbody>\n",
       "    <tr>\n",
       "      <th>count</th>\n",
       "      <td>18359.000000</td>\n",
       "      <td>18359.000000</td>\n",
       "      <td>18359.000000</td>\n",
       "      <td>18359.000000</td>\n",
       "    </tr>\n",
       "    <tr>\n",
       "      <th>mean</th>\n",
       "      <td>16729.360096</td>\n",
       "      <td>0.847140</td>\n",
       "      <td>65.899014</td>\n",
       "      <td>0.132088</td>\n",
       "    </tr>\n",
       "    <tr>\n",
       "      <th>std</th>\n",
       "      <td>9643.749725</td>\n",
       "      <td>0.110189</td>\n",
       "      <td>60.885300</td>\n",
       "      <td>0.338595</td>\n",
       "    </tr>\n",
       "    <tr>\n",
       "      <th>min</th>\n",
       "      <td>1.000000</td>\n",
       "      <td>0.448000</td>\n",
       "      <td>1.000000</td>\n",
       "      <td>0.000000</td>\n",
       "    </tr>\n",
       "    <tr>\n",
       "      <th>25%</th>\n",
       "      <td>8378.500000</td>\n",
       "      <td>0.796000</td>\n",
       "      <td>23.000000</td>\n",
       "      <td>0.000000</td>\n",
       "    </tr>\n",
       "    <tr>\n",
       "      <th>50%</th>\n",
       "      <td>16706.000000</td>\n",
       "      <td>0.910000</td>\n",
       "      <td>47.000000</td>\n",
       "      <td>0.000000</td>\n",
       "    </tr>\n",
       "    <tr>\n",
       "      <th>75%</th>\n",
       "      <td>25148.500000</td>\n",
       "      <td>0.920000</td>\n",
       "      <td>89.000000</td>\n",
       "      <td>0.000000</td>\n",
       "    </tr>\n",
       "    <tr>\n",
       "      <th>max</th>\n",
       "      <td>33380.000000</td>\n",
       "      <td>0.949000</td>\n",
       "      <td>336.000000</td>\n",
       "      <td>1.000000</td>\n",
       "    </tr>\n",
       "  </tbody>\n",
       "</table>\n",
       "</div>"
      ],
      "text/plain": [
       "        enrollee_id  city_development_index  training_hours        target\n",
       "count  18359.000000            18359.000000    18359.000000  18359.000000\n",
       "mean   16729.360096                0.847140       65.899014      0.132088\n",
       "std     9643.749725                0.110189       60.885300      0.338595\n",
       "min        1.000000                0.448000        1.000000      0.000000\n",
       "25%     8378.500000                0.796000       23.000000      0.000000\n",
       "50%    16706.000000                0.910000       47.000000      0.000000\n",
       "75%    25148.500000                0.920000       89.000000      0.000000\n",
       "max    33380.000000                0.949000      336.000000      1.000000"
      ]
     },
     "execution_count": 314,
     "metadata": {},
     "output_type": "execute_result"
    }
   ],
   "source": [
    "# This only contains numerical variables.\n",
    "df.describe()"
   ]
  },
  {
   "cell_type": "markdown",
   "metadata": {},
   "source": [
    "## Detecting missing values"
   ]
  },
  {
   "cell_type": "code",
   "execution_count": 315,
   "metadata": {},
   "outputs": [
    {
     "data": {
      "text/html": [
       "<div>\n",
       "<style scoped>\n",
       "    .dataframe tbody tr th:only-of-type {\n",
       "        vertical-align: middle;\n",
       "    }\n",
       "\n",
       "    .dataframe tbody tr th {\n",
       "        vertical-align: top;\n",
       "    }\n",
       "\n",
       "    .dataframe thead th {\n",
       "        text-align: right;\n",
       "    }\n",
       "</style>\n",
       "<table border=\"1\" class=\"dataframe\">\n",
       "  <thead>\n",
       "    <tr style=\"text-align: right;\">\n",
       "      <th></th>\n",
       "      <th>column</th>\n",
       "      <th>counts</th>\n",
       "      <th>unique_value_pct</th>\n",
       "      <th>nan_pct</th>\n",
       "      <th>data_type</th>\n",
       "    </tr>\n",
       "  </thead>\n",
       "  <tbody>\n",
       "    <tr>\n",
       "      <th>10</th>\n",
       "      <td>company_type</td>\n",
       "      <td>6</td>\n",
       "      <td>0.03</td>\n",
       "      <td>27.45</td>\n",
       "      <td>object</td>\n",
       "    </tr>\n",
       "    <tr>\n",
       "      <th>9</th>\n",
       "      <td>company_size</td>\n",
       "      <td>8</td>\n",
       "      <td>0.04</td>\n",
       "      <td>26.03</td>\n",
       "      <td>object</td>\n",
       "    </tr>\n",
       "    <tr>\n",
       "      <th>3</th>\n",
       "      <td>gender</td>\n",
       "      <td>3</td>\n",
       "      <td>0.02</td>\n",
       "      <td>22.32</td>\n",
       "      <td>object</td>\n",
       "    </tr>\n",
       "    <tr>\n",
       "      <th>7</th>\n",
       "      <td>major_discipline</td>\n",
       "      <td>6</td>\n",
       "      <td>0.03</td>\n",
       "      <td>15.46</td>\n",
       "      <td>object</td>\n",
       "    </tr>\n",
       "    <tr>\n",
       "      <th>6</th>\n",
       "      <td>education_level</td>\n",
       "      <td>5</td>\n",
       "      <td>0.03</td>\n",
       "      <td>2.49</td>\n",
       "      <td>object</td>\n",
       "    </tr>\n",
       "    <tr>\n",
       "      <th>11</th>\n",
       "      <td>last_new_job</td>\n",
       "      <td>6</td>\n",
       "      <td>0.03</td>\n",
       "      <td>2.00</td>\n",
       "      <td>object</td>\n",
       "    </tr>\n",
       "    <tr>\n",
       "      <th>5</th>\n",
       "      <td>enrolled_university</td>\n",
       "      <td>3</td>\n",
       "      <td>0.02</td>\n",
       "      <td>1.86</td>\n",
       "      <td>object</td>\n",
       "    </tr>\n",
       "    <tr>\n",
       "      <th>8</th>\n",
       "      <td>experience</td>\n",
       "      <td>22</td>\n",
       "      <td>0.12</td>\n",
       "      <td>0.32</td>\n",
       "      <td>object</td>\n",
       "    </tr>\n",
       "  </tbody>\n",
       "</table>\n",
       "</div>"
      ],
      "text/plain": [
       "                 column  counts  unique_value_pct  nan_pct data_type\n",
       "10         company_type       6              0.03    27.45    object\n",
       "9          company_size       8              0.04    26.03    object\n",
       "3                gender       3              0.02    22.32    object\n",
       "7      major_discipline       6              0.03    15.46    object\n",
       "6       education_level       5              0.03     2.49    object\n",
       "11         last_new_job       6              0.03     2.00    object\n",
       "5   enrolled_university       3              0.02     1.86    object\n",
       "8            experience      22              0.12     0.32    object"
      ]
     },
     "execution_count": 315,
     "metadata": {},
     "output_type": "execute_result"
    }
   ],
   "source": [
    "data_info(df)[data_info(df).nan_pct !=0].sort_values('nan_pct', ascending=False)"
   ]
  },
  {
   "cell_type": "code",
   "execution_count": 316,
   "metadata": {},
   "outputs": [
    {
     "data": {
      "image/png": "[encoded data removed]",
      "text/plain": [
       "<Figure size 576x432 with 2 Axes>"
      ]
     },
     "metadata": {
      "needs_background": "light"
     },
     "output_type": "display_data"
    }
   ],
   "source": [
    "plt.figure(figsize=(8,6))\n",
    "sns.heatmap(df.isnull(), cbar=True)\n",
    "plt.show()"
   ]
  },
  {
   "cell_type": "markdown",
   "metadata": {},
   "source": [
    "## Data inspection and data grouping (without filling NaN value)"
   ]
  },
  {
   "cell_type": "markdown",
   "metadata": {},
   "source": [
    "Check the details of values within each colum/variable:\n",
    "what are the unique values and their percentage, and detecting incorrect input\n",
    "<br>Group some of the values in categorical varaibles"
   ]
  },
  {
   "cell_type": "code",
   "execution_count": 317,
   "metadata": {},
   "outputs": [],
   "source": [
    "# create a function to check the value_counts and value_counts ratio/pct for each variable \n",
    "def var_pct(data, column):\n",
    "    count = data.value_counts(dropna=False)\n",
    "    pct = round(count/(data.shape[0])*100,2)\n",
    "    frame = pd.DataFrame(zip(count,pct), index=count.index, \n",
    "                         columns=['counts','pct']).reset_index().rename(columns={'index': column})\n",
    "    \n",
    "    return frame.sort_values('pct',ascending=False)"
   ]
  },
  {
   "cell_type": "code",
   "execution_count": 318,
   "metadata": {},
   "outputs": [
    {
     "name": "stdout",
     "output_type": "stream",
     "text": [
      "   label  counts    pct\n",
      "0      0   15934  86.79\n",
      "1      1    2425  13.21\n"
     ]
    },
    {
     "data": {
      "image/png": "[encoded data removed]",
      "text/plain": [
       "<Figure size 432x288 with 1 Axes>"
      ]
     },
     "metadata": {},
     "output_type": "display_data"
    }
   ],
   "source": [
    "# Call function var_pct() on column 'target', enrollee who is open to a new employment is labeled as 1\n",
    "# label 1 is also considered as 'target' in this dataset, label 0 is considered as 'non-target'\n",
    "print(var_pct(df['target'], 'label'))\n",
    "\n",
    "# Let's check the percentage in a pie graph, we can see the ratio of value 1 and 0 is about 1:6. \n",
    "df_target = var_pct(df['target'], 'label')\n",
    "plt.pie(df_target.counts, labels= df_target.label, autopct='%.2f%%')\n",
    "plt.show()\n"
   ]
  },
  {
   "cell_type": "markdown",
   "metadata": {},
   "source": [
    "We can see the data is imbalanced. The ratio of the positive class (1) and negative class (0) is about 1:6"
   ]
  },
  {
   "cell_type": "code",
   "execution_count": 319,
   "metadata": {},
   "outputs": [
    {
     "data": {
      "text/html": [
       "<div>\n",
       "<style scoped>\n",
       "    .dataframe tbody tr th:only-of-type {\n",
       "        vertical-align: middle;\n",
       "    }\n",
       "\n",
       "    .dataframe tbody tr th {\n",
       "        vertical-align: top;\n",
       "    }\n",
       "\n",
       "    .dataframe thead th {\n",
       "        text-align: right;\n",
       "    }\n",
       "</style>\n",
       "<table border=\"1\" class=\"dataframe\">\n",
       "  <thead>\n",
       "    <tr style=\"text-align: right;\">\n",
       "      <th></th>\n",
       "      <th>city</th>\n",
       "      <th>counts</th>\n",
       "      <th>pct</th>\n",
       "    </tr>\n",
       "  </thead>\n",
       "  <tbody>\n",
       "    <tr>\n",
       "      <th>0</th>\n",
       "      <td>city_103</td>\n",
       "      <td>4358</td>\n",
       "      <td>23.74</td>\n",
       "    </tr>\n",
       "    <tr>\n",
       "      <th>1</th>\n",
       "      <td>city_21</td>\n",
       "      <td>1672</td>\n",
       "      <td>9.11</td>\n",
       "    </tr>\n",
       "    <tr>\n",
       "      <th>2</th>\n",
       "      <td>city_16</td>\n",
       "      <td>1654</td>\n",
       "      <td>9.01</td>\n",
       "    </tr>\n",
       "    <tr>\n",
       "      <th>3</th>\n",
       "      <td>city_114</td>\n",
       "      <td>1472</td>\n",
       "      <td>8.02</td>\n",
       "    </tr>\n",
       "    <tr>\n",
       "      <th>4</th>\n",
       "      <td>city_160</td>\n",
       "      <td>827</td>\n",
       "      <td>4.50</td>\n",
       "    </tr>\n",
       "    <tr>\n",
       "      <th>5</th>\n",
       "      <td>city_136</td>\n",
       "      <td>624</td>\n",
       "      <td>3.40</td>\n",
       "    </tr>\n",
       "    <tr>\n",
       "      <th>6</th>\n",
       "      <td>city_67</td>\n",
       "      <td>455</td>\n",
       "      <td>2.48</td>\n",
       "    </tr>\n",
       "    <tr>\n",
       "      <th>7</th>\n",
       "      <td>city_75</td>\n",
       "      <td>332</td>\n",
       "      <td>1.81</td>\n",
       "    </tr>\n",
       "    <tr>\n",
       "      <th>8</th>\n",
       "      <td>city_104</td>\n",
       "      <td>318</td>\n",
       "      <td>1.73</td>\n",
       "    </tr>\n",
       "    <tr>\n",
       "      <th>9</th>\n",
       "      <td>city_102</td>\n",
       "      <td>313</td>\n",
       "      <td>1.70</td>\n",
       "    </tr>\n",
       "  </tbody>\n",
       "</table>\n",
       "</div>"
      ],
      "text/plain": [
       "       city  counts    pct\n",
       "0  city_103    4358  23.74\n",
       "1   city_21    1672   9.11\n",
       "2   city_16    1654   9.01\n",
       "3  city_114    1472   8.02\n",
       "4  city_160     827   4.50\n",
       "5  city_136     624   3.40\n",
       "6   city_67     455   2.48\n",
       "7   city_75     332   1.81\n",
       "8  city_104     318   1.73\n",
       "9  city_102     313   1.70"
      ]
     },
     "execution_count": 319,
     "metadata": {},
     "output_type": "execute_result"
    }
   ],
   "source": [
    "# check the value_counts pct for top 10 cities.\n",
    "var_pct(df.city,'city').nlargest(10,'pct')"
   ]
  },
  {
   "cell_type": "code",
   "execution_count": 320,
   "metadata": {},
   "outputs": [],
   "source": [
    "# if the city's value_count ratio is lower than 1.7 then group them to 'Others'\n",
    "df.city = df.city.map(lambda x: x.split('_')[1] if (df['city']==x).sum()/df.shape[0]*100 >= 1.7\n",
    "                      else 'others').astype('str')"
   ]
  },
  {
   "cell_type": "code",
   "execution_count": 321,
   "metadata": {},
   "outputs": [
    {
     "data": {
      "text/html": [
       "<div>\n",
       "<style scoped>\n",
       "    .dataframe tbody tr th:only-of-type {\n",
       "        vertical-align: middle;\n",
       "    }\n",
       "\n",
       "    .dataframe tbody tr th {\n",
       "        vertical-align: top;\n",
       "    }\n",
       "\n",
       "    .dataframe thead th {\n",
       "        text-align: right;\n",
       "    }\n",
       "</style>\n",
       "<table border=\"1\" class=\"dataframe\">\n",
       "  <thead>\n",
       "    <tr style=\"text-align: right;\">\n",
       "      <th></th>\n",
       "      <th>company_size</th>\n",
       "      <th>counts</th>\n",
       "      <th>pct</th>\n",
       "    </tr>\n",
       "  </thead>\n",
       "  <tbody>\n",
       "    <tr>\n",
       "      <th>0</th>\n",
       "      <td>NaN</td>\n",
       "      <td>4779</td>\n",
       "      <td>26.03</td>\n",
       "    </tr>\n",
       "    <tr>\n",
       "      <th>1</th>\n",
       "      <td>50-99</td>\n",
       "      <td>3120</td>\n",
       "      <td>16.99</td>\n",
       "    </tr>\n",
       "    <tr>\n",
       "      <th>2</th>\n",
       "      <td>100-500</td>\n",
       "      <td>2698</td>\n",
       "      <td>14.70</td>\n",
       "    </tr>\n",
       "    <tr>\n",
       "      <th>3</th>\n",
       "      <td>10000+</td>\n",
       "      <td>2044</td>\n",
       "      <td>11.13</td>\n",
       "    </tr>\n",
       "    <tr>\n",
       "      <th>4</th>\n",
       "      <td>10/49</td>\n",
       "      <td>1466</td>\n",
       "      <td>7.99</td>\n",
       "    </tr>\n",
       "    <tr>\n",
       "      <th>5</th>\n",
       "      <td>1000-4999</td>\n",
       "      <td>1399</td>\n",
       "      <td>7.62</td>\n",
       "    </tr>\n",
       "    <tr>\n",
       "      <th>6</th>\n",
       "      <td>&lt;10</td>\n",
       "      <td>1360</td>\n",
       "      <td>7.41</td>\n",
       "    </tr>\n",
       "    <tr>\n",
       "      <th>7</th>\n",
       "      <td>500-999</td>\n",
       "      <td>902</td>\n",
       "      <td>4.91</td>\n",
       "    </tr>\n",
       "    <tr>\n",
       "      <th>8</th>\n",
       "      <td>5000-9999</td>\n",
       "      <td>591</td>\n",
       "      <td>3.22</td>\n",
       "    </tr>\n",
       "  </tbody>\n",
       "</table>\n",
       "</div>"
      ],
      "text/plain": [
       "  company_size  counts    pct\n",
       "0          NaN    4779  26.03\n",
       "1        50-99    3120  16.99\n",
       "2      100-500    2698  14.70\n",
       "3       10000+    2044  11.13\n",
       "4        10/49    1466   7.99\n",
       "5    1000-4999    1399   7.62\n",
       "6          <10    1360   7.41\n",
       "7      500-999     902   4.91\n",
       "8    5000-9999     591   3.22"
      ]
     },
     "execution_count": 321,
     "metadata": {},
     "output_type": "execute_result"
    }
   ],
   "source": [
    "var_pct(df.company_size, 'company_size')"
   ]
  },
  {
   "cell_type": "code",
   "execution_count": 322,
   "metadata": {},
   "outputs": [],
   "source": [
    "# we can see value '10/49' should be '10-49', value '100-500' should be '100-499'\n",
    "df.company_size = df.company_size.map(lambda x: '1' if x in ['<10','10/49','50-99'] \n",
    "                                      else '2' if x in['100-500', '500-999'] \n",
    "                                      else '3' if x in ['1000-4999', '5000-9999', '10000+']\n",
    "                                      else None)"
   ]
  },
  {
   "cell_type": "code",
   "execution_count": 323,
   "metadata": {},
   "outputs": [
    {
     "data": {
      "text/html": [
       "<div>\n",
       "<style scoped>\n",
       "    .dataframe tbody tr th:only-of-type {\n",
       "        vertical-align: middle;\n",
       "    }\n",
       "\n",
       "    .dataframe tbody tr th {\n",
       "        vertical-align: top;\n",
       "    }\n",
       "\n",
       "    .dataframe thead th {\n",
       "        text-align: right;\n",
       "    }\n",
       "</style>\n",
       "<table border=\"1\" class=\"dataframe\">\n",
       "  <thead>\n",
       "    <tr style=\"text-align: right;\">\n",
       "      <th></th>\n",
       "      <th>experience</th>\n",
       "      <th>counts</th>\n",
       "      <th>pct</th>\n",
       "    </tr>\n",
       "  </thead>\n",
       "  <tbody>\n",
       "    <tr>\n",
       "      <th>0</th>\n",
       "      <td>&gt;20</td>\n",
       "      <td>3437</td>\n",
       "      <td>18.72</td>\n",
       "    </tr>\n",
       "    <tr>\n",
       "      <th>1</th>\n",
       "      <td>5</td>\n",
       "      <td>1309</td>\n",
       "      <td>7.13</td>\n",
       "    </tr>\n",
       "    <tr>\n",
       "      <th>2</th>\n",
       "      <td>4</td>\n",
       "      <td>1250</td>\n",
       "      <td>6.81</td>\n",
       "    </tr>\n",
       "    <tr>\n",
       "      <th>3</th>\n",
       "      <td>3</td>\n",
       "      <td>1159</td>\n",
       "      <td>6.31</td>\n",
       "    </tr>\n",
       "    <tr>\n",
       "      <th>4</th>\n",
       "      <td>6</td>\n",
       "      <td>1125</td>\n",
       "      <td>6.13</td>\n",
       "    </tr>\n",
       "    <tr>\n",
       "      <th>5</th>\n",
       "      <td>2</td>\n",
       "      <td>992</td>\n",
       "      <td>5.40</td>\n",
       "    </tr>\n",
       "    <tr>\n",
       "      <th>6</th>\n",
       "      <td>9</td>\n",
       "      <td>979</td>\n",
       "      <td>5.33</td>\n",
       "    </tr>\n",
       "    <tr>\n",
       "      <th>7</th>\n",
       "      <td>10</td>\n",
       "      <td>967</td>\n",
       "      <td>5.27</td>\n",
       "    </tr>\n",
       "    <tr>\n",
       "      <th>8</th>\n",
       "      <td>7</td>\n",
       "      <td>950</td>\n",
       "      <td>5.17</td>\n",
       "    </tr>\n",
       "    <tr>\n",
       "      <th>9</th>\n",
       "      <td>8</td>\n",
       "      <td>755</td>\n",
       "      <td>4.11</td>\n",
       "    </tr>\n",
       "    <tr>\n",
       "      <th>10</th>\n",
       "      <td>15</td>\n",
       "      <td>695</td>\n",
       "      <td>3.79</td>\n",
       "    </tr>\n",
       "    <tr>\n",
       "      <th>11</th>\n",
       "      <td>11</td>\n",
       "      <td>667</td>\n",
       "      <td>3.63</td>\n",
       "    </tr>\n",
       "    <tr>\n",
       "      <th>12</th>\n",
       "      <td>14</td>\n",
       "      <td>602</td>\n",
       "      <td>3.28</td>\n",
       "    </tr>\n",
       "    <tr>\n",
       "      <th>13</th>\n",
       "      <td>16</td>\n",
       "      <td>549</td>\n",
       "      <td>2.99</td>\n",
       "    </tr>\n",
       "    <tr>\n",
       "      <th>14</th>\n",
       "      <td>12</td>\n",
       "      <td>497</td>\n",
       "      <td>2.71</td>\n",
       "    </tr>\n",
       "    <tr>\n",
       "      <th>15</th>\n",
       "      <td>1</td>\n",
       "      <td>452</td>\n",
       "      <td>2.46</td>\n",
       "    </tr>\n",
       "    <tr>\n",
       "      <th>16</th>\n",
       "      <td>&lt;1</td>\n",
       "      <td>416</td>\n",
       "      <td>2.27</td>\n",
       "    </tr>\n",
       "    <tr>\n",
       "      <th>17</th>\n",
       "      <td>13</td>\n",
       "      <td>412</td>\n",
       "      <td>2.24</td>\n",
       "    </tr>\n",
       "    <tr>\n",
       "      <th>18</th>\n",
       "      <td>17</td>\n",
       "      <td>347</td>\n",
       "      <td>1.89</td>\n",
       "    </tr>\n",
       "    <tr>\n",
       "      <th>19</th>\n",
       "      <td>19</td>\n",
       "      <td>308</td>\n",
       "      <td>1.68</td>\n",
       "    </tr>\n",
       "    <tr>\n",
       "      <th>20</th>\n",
       "      <td>18</td>\n",
       "      <td>286</td>\n",
       "      <td>1.56</td>\n",
       "    </tr>\n",
       "    <tr>\n",
       "      <th>21</th>\n",
       "      <td>20</td>\n",
       "      <td>146</td>\n",
       "      <td>0.80</td>\n",
       "    </tr>\n",
       "    <tr>\n",
       "      <th>22</th>\n",
       "      <td>NaN</td>\n",
       "      <td>59</td>\n",
       "      <td>0.32</td>\n",
       "    </tr>\n",
       "  </tbody>\n",
       "</table>\n",
       "</div>"
      ],
      "text/plain": [
       "   experience  counts    pct\n",
       "0         >20    3437  18.72\n",
       "1           5    1309   7.13\n",
       "2           4    1250   6.81\n",
       "3           3    1159   6.31\n",
       "4           6    1125   6.13\n",
       "5           2     992   5.40\n",
       "6           9     979   5.33\n",
       "7          10     967   5.27\n",
       "8           7     950   5.17\n",
       "9           8     755   4.11\n",
       "10         15     695   3.79\n",
       "11         11     667   3.63\n",
       "12         14     602   3.28\n",
       "13         16     549   2.99\n",
       "14         12     497   2.71\n",
       "15          1     452   2.46\n",
       "16         <1     416   2.27\n",
       "17         13     412   2.24\n",
       "18         17     347   1.89\n",
       "19         19     308   1.68\n",
       "20         18     286   1.56\n",
       "21         20     146   0.80\n",
       "22        NaN      59   0.32"
      ]
     },
     "execution_count": 323,
     "metadata": {},
     "output_type": "execute_result"
    }
   ],
   "source": [
    "var_pct(df.experience, 'experience')"
   ]
  },
  {
   "cell_type": "code",
   "execution_count": 324,
   "metadata": {},
   "outputs": [],
   "source": [
    "df.experience = df.experience.map(lambda x: '0' if x == '<1'\n",
    "                                  else '21' if x == '>20'\n",
    "                                  else x if x is not None\n",
    "                                  else None)"
   ]
  },
  {
   "cell_type": "code",
   "execution_count": 325,
   "metadata": {},
   "outputs": [
    {
     "data": {
      "text/html": [
       "<div>\n",
       "<style scoped>\n",
       "    .dataframe tbody tr th:only-of-type {\n",
       "        vertical-align: middle;\n",
       "    }\n",
       "\n",
       "    .dataframe tbody tr th {\n",
       "        vertical-align: top;\n",
       "    }\n",
       "\n",
       "    .dataframe thead th {\n",
       "        text-align: right;\n",
       "    }\n",
       "</style>\n",
       "<table border=\"1\" class=\"dataframe\">\n",
       "  <thead>\n",
       "    <tr style=\"text-align: right;\">\n",
       "      <th></th>\n",
       "      <th>major</th>\n",
       "      <th>counts</th>\n",
       "      <th>pct</th>\n",
       "    </tr>\n",
       "  </thead>\n",
       "  <tbody>\n",
       "    <tr>\n",
       "      <th>0</th>\n",
       "      <td>STEM</td>\n",
       "      <td>13738</td>\n",
       "      <td>74.83</td>\n",
       "    </tr>\n",
       "    <tr>\n",
       "      <th>1</th>\n",
       "      <td>NaN</td>\n",
       "      <td>2838</td>\n",
       "      <td>15.46</td>\n",
       "    </tr>\n",
       "    <tr>\n",
       "      <th>2</th>\n",
       "      <td>Humanities</td>\n",
       "      <td>688</td>\n",
       "      <td>3.75</td>\n",
       "    </tr>\n",
       "    <tr>\n",
       "      <th>3</th>\n",
       "      <td>Other</td>\n",
       "      <td>343</td>\n",
       "      <td>1.87</td>\n",
       "    </tr>\n",
       "    <tr>\n",
       "      <th>4</th>\n",
       "      <td>Business Degree</td>\n",
       "      <td>307</td>\n",
       "      <td>1.67</td>\n",
       "    </tr>\n",
       "    <tr>\n",
       "      <th>5</th>\n",
       "      <td>Arts</td>\n",
       "      <td>239</td>\n",
       "      <td>1.30</td>\n",
       "    </tr>\n",
       "    <tr>\n",
       "      <th>6</th>\n",
       "      <td>No Major</td>\n",
       "      <td>206</td>\n",
       "      <td>1.12</td>\n",
       "    </tr>\n",
       "  </tbody>\n",
       "</table>\n",
       "</div>"
      ],
      "text/plain": [
       "             major  counts    pct\n",
       "0             STEM   13738  74.83\n",
       "1              NaN    2838  15.46\n",
       "2       Humanities     688   3.75\n",
       "3            Other     343   1.87\n",
       "4  Business Degree     307   1.67\n",
       "5             Arts     239   1.30\n",
       "6         No Major     206   1.12"
      ]
     },
     "execution_count": 325,
     "metadata": {},
     "output_type": "execute_result"
    }
   ],
   "source": [
    "var_pct(df.major_discipline, 'major')"
   ]
  },
  {
   "cell_type": "code",
   "execution_count": 326,
   "metadata": {},
   "outputs": [],
   "source": [
    "df.major_discipline = df.major_discipline.map(lambda x: '1' if x == 'STEM' \n",
    "                                              else '0' if x in ['Humanities','Other','Business Degree', 'Arts', 'No Major']\n",
    "                                              else None )"
   ]
  },
  {
   "cell_type": "code",
   "execution_count": 327,
   "metadata": {},
   "outputs": [
    {
     "data": {
      "text/html": [
       "<div>\n",
       "<style scoped>\n",
       "    .dataframe tbody tr th:only-of-type {\n",
       "        vertical-align: middle;\n",
       "    }\n",
       "\n",
       "    .dataframe tbody tr th {\n",
       "        vertical-align: top;\n",
       "    }\n",
       "\n",
       "    .dataframe thead th {\n",
       "        text-align: right;\n",
       "    }\n",
       "</style>\n",
       "<table border=\"1\" class=\"dataframe\">\n",
       "  <thead>\n",
       "    <tr style=\"text-align: right;\">\n",
       "      <th></th>\n",
       "      <th>last new job</th>\n",
       "      <th>counts</th>\n",
       "      <th>pct</th>\n",
       "    </tr>\n",
       "  </thead>\n",
       "  <tbody>\n",
       "    <tr>\n",
       "      <th>0</th>\n",
       "      <td>1</td>\n",
       "      <td>7567</td>\n",
       "      <td>41.22</td>\n",
       "    </tr>\n",
       "    <tr>\n",
       "      <th>1</th>\n",
       "      <td>&gt;4</td>\n",
       "      <td>3339</td>\n",
       "      <td>18.19</td>\n",
       "    </tr>\n",
       "    <tr>\n",
       "      <th>2</th>\n",
       "      <td>2</td>\n",
       "      <td>2835</td>\n",
       "      <td>15.44</td>\n",
       "    </tr>\n",
       "    <tr>\n",
       "      <th>3</th>\n",
       "      <td>never</td>\n",
       "      <td>2186</td>\n",
       "      <td>11.91</td>\n",
       "    </tr>\n",
       "    <tr>\n",
       "      <th>4</th>\n",
       "      <td>4</td>\n",
       "      <td>1038</td>\n",
       "      <td>5.65</td>\n",
       "    </tr>\n",
       "    <tr>\n",
       "      <th>5</th>\n",
       "      <td>3</td>\n",
       "      <td>1027</td>\n",
       "      <td>5.59</td>\n",
       "    </tr>\n",
       "    <tr>\n",
       "      <th>6</th>\n",
       "      <td>NaN</td>\n",
       "      <td>367</td>\n",
       "      <td>2.00</td>\n",
       "    </tr>\n",
       "  </tbody>\n",
       "</table>\n",
       "</div>"
      ],
      "text/plain": [
       "  last new job  counts    pct\n",
       "0            1    7567  41.22\n",
       "1           >4    3339  18.19\n",
       "2            2    2835  15.44\n",
       "3        never    2186  11.91\n",
       "4            4    1038   5.65\n",
       "5            3    1027   5.59\n",
       "6          NaN     367   2.00"
      ]
     },
     "execution_count": 327,
     "metadata": {},
     "output_type": "execute_result"
    }
   ],
   "source": [
    "var_pct(df.last_new_job, 'last new job')"
   ]
  },
  {
   "cell_type": "code",
   "execution_count": 328,
   "metadata": {},
   "outputs": [],
   "source": [
    "df.last_new_job = df.last_new_job.map(lambda x: '0' if x == 'never' \n",
    "                                      else '5' if x == '>4'\n",
    "                                      else x if x is not None\n",
    "                                      else None)"
   ]
  },
  {
   "cell_type": "code",
   "execution_count": 329,
   "metadata": {},
   "outputs": [
    {
     "data": {
      "text/html": [
       "<div>\n",
       "<style scoped>\n",
       "    .dataframe tbody tr th:only-of-type {\n",
       "        vertical-align: middle;\n",
       "    }\n",
       "\n",
       "    .dataframe tbody tr th {\n",
       "        vertical-align: top;\n",
       "    }\n",
       "\n",
       "    .dataframe thead th {\n",
       "        text-align: right;\n",
       "    }\n",
       "</style>\n",
       "<table border=\"1\" class=\"dataframe\">\n",
       "  <thead>\n",
       "    <tr style=\"text-align: right;\">\n",
       "      <th></th>\n",
       "      <th>company type</th>\n",
       "      <th>counts</th>\n",
       "      <th>pct</th>\n",
       "    </tr>\n",
       "  </thead>\n",
       "  <tbody>\n",
       "    <tr>\n",
       "      <th>0</th>\n",
       "      <td>Pvt Ltd</td>\n",
       "      <td>10051</td>\n",
       "      <td>54.75</td>\n",
       "    </tr>\n",
       "    <tr>\n",
       "      <th>1</th>\n",
       "      <td>NaN</td>\n",
       "      <td>5039</td>\n",
       "      <td>27.45</td>\n",
       "    </tr>\n",
       "    <tr>\n",
       "      <th>2</th>\n",
       "      <td>Funded Startup</td>\n",
       "      <td>1038</td>\n",
       "      <td>5.65</td>\n",
       "    </tr>\n",
       "    <tr>\n",
       "      <th>3</th>\n",
       "      <td>Public Sector</td>\n",
       "      <td>996</td>\n",
       "      <td>5.43</td>\n",
       "    </tr>\n",
       "    <tr>\n",
       "      <th>4</th>\n",
       "      <td>Early Stage Startup</td>\n",
       "      <td>582</td>\n",
       "      <td>3.17</td>\n",
       "    </tr>\n",
       "    <tr>\n",
       "      <th>5</th>\n",
       "      <td>NGO</td>\n",
       "      <td>534</td>\n",
       "      <td>2.91</td>\n",
       "    </tr>\n",
       "    <tr>\n",
       "      <th>6</th>\n",
       "      <td>Other</td>\n",
       "      <td>119</td>\n",
       "      <td>0.65</td>\n",
       "    </tr>\n",
       "  </tbody>\n",
       "</table>\n",
       "</div>"
      ],
      "text/plain": [
       "          company type  counts    pct\n",
       "0              Pvt Ltd   10051  54.75\n",
       "1                  NaN    5039  27.45\n",
       "2       Funded Startup    1038   5.65\n",
       "3        Public Sector     996   5.43\n",
       "4  Early Stage Startup     582   3.17\n",
       "5                  NGO     534   2.91\n",
       "6                Other     119   0.65"
      ]
     },
     "execution_count": 329,
     "metadata": {},
     "output_type": "execute_result"
    }
   ],
   "source": [
    "var_pct(df.company_type, 'company type')"
   ]
  },
  {
   "cell_type": "code",
   "execution_count": 330,
   "metadata": {},
   "outputs": [],
   "source": [
    "df.company_type = df.company_type.map(lambda x: '1' if x in ['Funded Startup', 'Early Stage Startup'] \n",
    "                                      else '2' if x in ['Public Sector', 'NGO', 'Other']\n",
    "                                      else '3' if x == 'Pvt Ltd'\n",
    "                                      else None)"
   ]
  },
  {
   "cell_type": "code",
   "execution_count": 331,
   "metadata": {},
   "outputs": [
    {
     "data": {
      "text/html": [
       "<div>\n",
       "<style scoped>\n",
       "    .dataframe tbody tr th:only-of-type {\n",
       "        vertical-align: middle;\n",
       "    }\n",
       "\n",
       "    .dataframe tbody tr th {\n",
       "        vertical-align: top;\n",
       "    }\n",
       "\n",
       "    .dataframe thead th {\n",
       "        text-align: right;\n",
       "    }\n",
       "</style>\n",
       "<table border=\"1\" class=\"dataframe\">\n",
       "  <thead>\n",
       "    <tr style=\"text-align: right;\">\n",
       "      <th></th>\n",
       "      <th>relevent experience</th>\n",
       "      <th>counts</th>\n",
       "      <th>pct</th>\n",
       "    </tr>\n",
       "  </thead>\n",
       "  <tbody>\n",
       "    <tr>\n",
       "      <th>0</th>\n",
       "      <td>Has relevent experience</td>\n",
       "      <td>13596</td>\n",
       "      <td>74.06</td>\n",
       "    </tr>\n",
       "    <tr>\n",
       "      <th>1</th>\n",
       "      <td>No relevent experience</td>\n",
       "      <td>4763</td>\n",
       "      <td>25.94</td>\n",
       "    </tr>\n",
       "  </tbody>\n",
       "</table>\n",
       "</div>"
      ],
      "text/plain": [
       "       relevent experience  counts    pct\n",
       "0  Has relevent experience   13596  74.06\n",
       "1   No relevent experience    4763  25.94"
      ]
     },
     "execution_count": 331,
     "metadata": {},
     "output_type": "execute_result"
    }
   ],
   "source": [
    "var_pct(df.relevent_experience, 'relevent experience')"
   ]
  },
  {
   "cell_type": "code",
   "execution_count": 332,
   "metadata": {},
   "outputs": [],
   "source": [
    "df.relevent_experience = df.relevent_experience.map(lambda x: '0' if x=='No relevent experience'\n",
    "                                                   else '1')"
   ]
  },
  {
   "cell_type": "code",
   "execution_count": 333,
   "metadata": {},
   "outputs": [
    {
     "data": {
      "text/html": [
       "<div>\n",
       "<style scoped>\n",
       "    .dataframe tbody tr th:only-of-type {\n",
       "        vertical-align: middle;\n",
       "    }\n",
       "\n",
       "    .dataframe tbody tr th {\n",
       "        vertical-align: top;\n",
       "    }\n",
       "\n",
       "    .dataframe thead th {\n",
       "        text-align: right;\n",
       "    }\n",
       "</style>\n",
       "<table border=\"1\" class=\"dataframe\">\n",
       "  <thead>\n",
       "    <tr style=\"text-align: right;\">\n",
       "      <th></th>\n",
       "      <th>univeristy enrollment</th>\n",
       "      <th>counts</th>\n",
       "      <th>pct</th>\n",
       "    </tr>\n",
       "  </thead>\n",
       "  <tbody>\n",
       "    <tr>\n",
       "      <th>0</th>\n",
       "      <td>no_enrollment</td>\n",
       "      <td>13659</td>\n",
       "      <td>74.40</td>\n",
       "    </tr>\n",
       "    <tr>\n",
       "      <th>1</th>\n",
       "      <td>Full time course</td>\n",
       "      <td>3187</td>\n",
       "      <td>17.36</td>\n",
       "    </tr>\n",
       "    <tr>\n",
       "      <th>2</th>\n",
       "      <td>Part time course</td>\n",
       "      <td>1171</td>\n",
       "      <td>6.38</td>\n",
       "    </tr>\n",
       "    <tr>\n",
       "      <th>3</th>\n",
       "      <td>NaN</td>\n",
       "      <td>342</td>\n",
       "      <td>1.86</td>\n",
       "    </tr>\n",
       "  </tbody>\n",
       "</table>\n",
       "</div>"
      ],
      "text/plain": [
       "  univeristy enrollment  counts    pct\n",
       "0         no_enrollment   13659  74.40\n",
       "1      Full time course    3187  17.36\n",
       "2      Part time course    1171   6.38\n",
       "3                   NaN     342   1.86"
      ]
     },
     "execution_count": 333,
     "metadata": {},
     "output_type": "execute_result"
    }
   ],
   "source": [
    "var_pct(df.enrolled_university, 'univeristy enrollment')"
   ]
  },
  {
   "cell_type": "code",
   "execution_count": 334,
   "metadata": {},
   "outputs": [],
   "source": [
    "df.enrolled_university = df.enrolled_university .map(lambda x: '0' if x=='no_enrollment'\n",
    "                                                    else '1' if x in ['Full time course', 'Part time course']\n",
    "                                                    else None)"
   ]
  },
  {
   "cell_type": "code",
   "execution_count": 335,
   "metadata": {},
   "outputs": [
    {
     "data": {
      "text/html": [
       "<div>\n",
       "<style scoped>\n",
       "    .dataframe tbody tr th:only-of-type {\n",
       "        vertical-align: middle;\n",
       "    }\n",
       "\n",
       "    .dataframe tbody tr th {\n",
       "        vertical-align: top;\n",
       "    }\n",
       "\n",
       "    .dataframe thead th {\n",
       "        text-align: right;\n",
       "    }\n",
       "</style>\n",
       "<table border=\"1\" class=\"dataframe\">\n",
       "  <thead>\n",
       "    <tr style=\"text-align: right;\">\n",
       "      <th></th>\n",
       "      <th>education level</th>\n",
       "      <th>counts</th>\n",
       "      <th>pct</th>\n",
       "    </tr>\n",
       "  </thead>\n",
       "  <tbody>\n",
       "    <tr>\n",
       "      <th>0</th>\n",
       "      <td>Graduate</td>\n",
       "      <td>10769</td>\n",
       "      <td>58.66</td>\n",
       "    </tr>\n",
       "    <tr>\n",
       "      <th>1</th>\n",
       "      <td>Masters</td>\n",
       "      <td>4319</td>\n",
       "      <td>23.53</td>\n",
       "    </tr>\n",
       "    <tr>\n",
       "      <th>2</th>\n",
       "      <td>High School</td>\n",
       "      <td>2032</td>\n",
       "      <td>11.07</td>\n",
       "    </tr>\n",
       "    <tr>\n",
       "      <th>3</th>\n",
       "      <td>Phd</td>\n",
       "      <td>459</td>\n",
       "      <td>2.50</td>\n",
       "    </tr>\n",
       "    <tr>\n",
       "      <th>4</th>\n",
       "      <td>NaN</td>\n",
       "      <td>457</td>\n",
       "      <td>2.49</td>\n",
       "    </tr>\n",
       "    <tr>\n",
       "      <th>5</th>\n",
       "      <td>Primary School</td>\n",
       "      <td>323</td>\n",
       "      <td>1.76</td>\n",
       "    </tr>\n",
       "  </tbody>\n",
       "</table>\n",
       "</div>"
      ],
      "text/plain": [
       "  education level  counts    pct\n",
       "0        Graduate   10769  58.66\n",
       "1         Masters    4319  23.53\n",
       "2     High School    2032  11.07\n",
       "3             Phd     459   2.50\n",
       "4             NaN     457   2.49\n",
       "5  Primary School     323   1.76"
      ]
     },
     "execution_count": 335,
     "metadata": {},
     "output_type": "execute_result"
    }
   ],
   "source": [
    "var_pct(df.education_level, 'education level')"
   ]
  },
  {
   "cell_type": "code",
   "execution_count": 336,
   "metadata": {},
   "outputs": [],
   "source": [
    "df.education_level = df.education_level.map(lambda x: '1' if x in ['Primary School','High School']\n",
    "                                           else '2' if x == 'Graduate'\n",
    "                                           else '3' if x in ['Masters', 'Phd']\n",
    "                                           else None)"
   ]
  },
  {
   "cell_type": "code",
   "execution_count": 337,
   "metadata": {},
   "outputs": [],
   "source": [
    "df.gender = df.gender.map(lambda x: '1' if x == 'Male' \n",
    "                         else '2' if x == 'Female'\n",
    "                         else '3' if x == 'Other'\n",
    "                         else None)"
   ]
  },
  {
   "cell_type": "code",
   "execution_count": 338,
   "metadata": {},
   "outputs": [
    {
     "data": {
      "text/html": [
       "<div>\n",
       "<style scoped>\n",
       "    .dataframe tbody tr th:only-of-type {\n",
       "        vertical-align: middle;\n",
       "    }\n",
       "\n",
       "    .dataframe tbody tr th {\n",
       "        vertical-align: top;\n",
       "    }\n",
       "\n",
       "    .dataframe thead th {\n",
       "        text-align: right;\n",
       "    }\n",
       "</style>\n",
       "<table border=\"1\" class=\"dataframe\">\n",
       "  <thead>\n",
       "    <tr style=\"text-align: right;\">\n",
       "      <th></th>\n",
       "      <th>column</th>\n",
       "      <th>counts</th>\n",
       "      <th>unique_value_pct</th>\n",
       "      <th>nan_pct</th>\n",
       "      <th>data_type</th>\n",
       "    </tr>\n",
       "  </thead>\n",
       "  <tbody>\n",
       "    <tr>\n",
       "      <th>10</th>\n",
       "      <td>company_type</td>\n",
       "      <td>3</td>\n",
       "      <td>0.02</td>\n",
       "      <td>27.45</td>\n",
       "      <td>object</td>\n",
       "    </tr>\n",
       "    <tr>\n",
       "      <th>9</th>\n",
       "      <td>company_size</td>\n",
       "      <td>3</td>\n",
       "      <td>0.02</td>\n",
       "      <td>26.03</td>\n",
       "      <td>object</td>\n",
       "    </tr>\n",
       "    <tr>\n",
       "      <th>3</th>\n",
       "      <td>gender</td>\n",
       "      <td>3</td>\n",
       "      <td>0.02</td>\n",
       "      <td>22.32</td>\n",
       "      <td>object</td>\n",
       "    </tr>\n",
       "    <tr>\n",
       "      <th>7</th>\n",
       "      <td>major_discipline</td>\n",
       "      <td>2</td>\n",
       "      <td>0.01</td>\n",
       "      <td>15.46</td>\n",
       "      <td>object</td>\n",
       "    </tr>\n",
       "    <tr>\n",
       "      <th>6</th>\n",
       "      <td>education_level</td>\n",
       "      <td>3</td>\n",
       "      <td>0.02</td>\n",
       "      <td>2.49</td>\n",
       "      <td>object</td>\n",
       "    </tr>\n",
       "    <tr>\n",
       "      <th>11</th>\n",
       "      <td>last_new_job</td>\n",
       "      <td>6</td>\n",
       "      <td>0.03</td>\n",
       "      <td>2.00</td>\n",
       "      <td>object</td>\n",
       "    </tr>\n",
       "    <tr>\n",
       "      <th>5</th>\n",
       "      <td>enrolled_university</td>\n",
       "      <td>2</td>\n",
       "      <td>0.01</td>\n",
       "      <td>1.86</td>\n",
       "      <td>object</td>\n",
       "    </tr>\n",
       "    <tr>\n",
       "      <th>8</th>\n",
       "      <td>experience</td>\n",
       "      <td>22</td>\n",
       "      <td>0.12</td>\n",
       "      <td>0.32</td>\n",
       "      <td>object</td>\n",
       "    </tr>\n",
       "  </tbody>\n",
       "</table>\n",
       "</div>"
      ],
      "text/plain": [
       "                 column  counts  unique_value_pct  nan_pct data_type\n",
       "10         company_type       3              0.02    27.45    object\n",
       "9          company_size       3              0.02    26.03    object\n",
       "3                gender       3              0.02    22.32    object\n",
       "7      major_discipline       2              0.01    15.46    object\n",
       "6       education_level       3              0.02     2.49    object\n",
       "11         last_new_job       6              0.03     2.00    object\n",
       "5   enrolled_university       2              0.01     1.86    object\n",
       "8            experience      22              0.12     0.32    object"
      ]
     },
     "execution_count": 338,
     "metadata": {},
     "output_type": "execute_result"
    }
   ],
   "source": [
    "data_info(df)[data_info(df).nan_pct !=0].sort_values('nan_pct', ascending=False)"
   ]
  },
  {
   "cell_type": "code",
   "execution_count": 339,
   "metadata": {},
   "outputs": [
    {
     "data": {
      "text/plain": [
       "['gender',\n",
       " 'enrolled_university',\n",
       " 'education_level',\n",
       " 'major_discipline',\n",
       " 'experience',\n",
       " 'company_size',\n",
       " 'company_type',\n",
       " 'last_new_job']"
      ]
     },
     "execution_count": 339,
     "metadata": {},
     "output_type": "execute_result"
    }
   ],
   "source": [
    "impute_list = data_info(df)[data_info(df).nan_pct !=0].column.tolist()\n",
    "impute_list "
   ]
  },
  {
   "cell_type": "markdown",
   "metadata": {},
   "source": [
    "## Missing value imputation"
   ]
  },
  {
   "cell_type": "markdown",
   "metadata": {},
   "source": [
    "Fill missing value with KNN imputer"
   ]
  },
  {
   "cell_type": "code",
   "execution_count": 340,
   "metadata": {},
   "outputs": [],
   "source": [
    "from sklearn.impute import KNNImputer\n",
    "\n",
    "imputer = KNNImputer(n_neighbors=1, weights=\"uniform\")\n",
    "df[impute_list] = imputer.fit_transform(df[impute_list]) "
   ]
  },
  {
   "cell_type": "code",
   "execution_count": 341,
   "metadata": {},
   "outputs": [
    {
     "data": {
      "text/html": [
       "<div>\n",
       "<style scoped>\n",
       "    .dataframe tbody tr th:only-of-type {\n",
       "        vertical-align: middle;\n",
       "    }\n",
       "\n",
       "    .dataframe tbody tr th {\n",
       "        vertical-align: top;\n",
       "    }\n",
       "\n",
       "    .dataframe thead th {\n",
       "        text-align: right;\n",
       "    }\n",
       "</style>\n",
       "<table border=\"1\" class=\"dataframe\">\n",
       "  <thead>\n",
       "    <tr style=\"text-align: right;\">\n",
       "      <th></th>\n",
       "      <th>column</th>\n",
       "      <th>counts</th>\n",
       "      <th>unique_value_pct</th>\n",
       "      <th>nan_pct</th>\n",
       "      <th>data_type</th>\n",
       "    </tr>\n",
       "  </thead>\n",
       "  <tbody>\n",
       "    <tr>\n",
       "      <th>0</th>\n",
       "      <td>enrollee_id</td>\n",
       "      <td>18359</td>\n",
       "      <td>100.00</td>\n",
       "      <td>0.0</td>\n",
       "      <td>int64</td>\n",
       "    </tr>\n",
       "    <tr>\n",
       "      <th>12</th>\n",
       "      <td>training_hours</td>\n",
       "      <td>241</td>\n",
       "      <td>1.31</td>\n",
       "      <td>0.0</td>\n",
       "      <td>int64</td>\n",
       "    </tr>\n",
       "    <tr>\n",
       "      <th>2</th>\n",
       "      <td>city_development_index</td>\n",
       "      <td>93</td>\n",
       "      <td>0.51</td>\n",
       "      <td>0.0</td>\n",
       "      <td>float64</td>\n",
       "    </tr>\n",
       "    <tr>\n",
       "      <th>8</th>\n",
       "      <td>experience</td>\n",
       "      <td>22</td>\n",
       "      <td>0.12</td>\n",
       "      <td>0.0</td>\n",
       "      <td>float64</td>\n",
       "    </tr>\n",
       "    <tr>\n",
       "      <th>1</th>\n",
       "      <td>city</td>\n",
       "      <td>11</td>\n",
       "      <td>0.06</td>\n",
       "      <td>0.0</td>\n",
       "      <td>object</td>\n",
       "    </tr>\n",
       "    <tr>\n",
       "      <th>11</th>\n",
       "      <td>last_new_job</td>\n",
       "      <td>6</td>\n",
       "      <td>0.03</td>\n",
       "      <td>0.0</td>\n",
       "      <td>float64</td>\n",
       "    </tr>\n",
       "    <tr>\n",
       "      <th>3</th>\n",
       "      <td>gender</td>\n",
       "      <td>3</td>\n",
       "      <td>0.02</td>\n",
       "      <td>0.0</td>\n",
       "      <td>float64</td>\n",
       "    </tr>\n",
       "    <tr>\n",
       "      <th>6</th>\n",
       "      <td>education_level</td>\n",
       "      <td>3</td>\n",
       "      <td>0.02</td>\n",
       "      <td>0.0</td>\n",
       "      <td>float64</td>\n",
       "    </tr>\n",
       "    <tr>\n",
       "      <th>9</th>\n",
       "      <td>company_size</td>\n",
       "      <td>3</td>\n",
       "      <td>0.02</td>\n",
       "      <td>0.0</td>\n",
       "      <td>float64</td>\n",
       "    </tr>\n",
       "    <tr>\n",
       "      <th>10</th>\n",
       "      <td>company_type</td>\n",
       "      <td>3</td>\n",
       "      <td>0.02</td>\n",
       "      <td>0.0</td>\n",
       "      <td>float64</td>\n",
       "    </tr>\n",
       "    <tr>\n",
       "      <th>4</th>\n",
       "      <td>relevent_experience</td>\n",
       "      <td>2</td>\n",
       "      <td>0.01</td>\n",
       "      <td>0.0</td>\n",
       "      <td>object</td>\n",
       "    </tr>\n",
       "    <tr>\n",
       "      <th>5</th>\n",
       "      <td>enrolled_university</td>\n",
       "      <td>2</td>\n",
       "      <td>0.01</td>\n",
       "      <td>0.0</td>\n",
       "      <td>float64</td>\n",
       "    </tr>\n",
       "    <tr>\n",
       "      <th>7</th>\n",
       "      <td>major_discipline</td>\n",
       "      <td>2</td>\n",
       "      <td>0.01</td>\n",
       "      <td>0.0</td>\n",
       "      <td>float64</td>\n",
       "    </tr>\n",
       "    <tr>\n",
       "      <th>13</th>\n",
       "      <td>target</td>\n",
       "      <td>2</td>\n",
       "      <td>0.01</td>\n",
       "      <td>0.0</td>\n",
       "      <td>int64</td>\n",
       "    </tr>\n",
       "  </tbody>\n",
       "</table>\n",
       "</div>"
      ],
      "text/plain": [
       "                    column  counts  unique_value_pct  nan_pct data_type\n",
       "0              enrollee_id   18359            100.00      0.0     int64\n",
       "12          training_hours     241              1.31      0.0     int64\n",
       "2   city_development_index      93              0.51      0.0   float64\n",
       "8               experience      22              0.12      0.0   float64\n",
       "1                     city      11              0.06      0.0    object\n",
       "11            last_new_job       6              0.03      0.0   float64\n",
       "3                   gender       3              0.02      0.0   float64\n",
       "6          education_level       3              0.02      0.0   float64\n",
       "9             company_size       3              0.02      0.0   float64\n",
       "10            company_type       3              0.02      0.0   float64\n",
       "4      relevent_experience       2              0.01      0.0    object\n",
       "5      enrolled_university       2              0.01      0.0   float64\n",
       "7         major_discipline       2              0.01      0.0   float64\n",
       "13                  target       2              0.01      0.0     int64"
      ]
     },
     "execution_count": 341,
     "metadata": {},
     "output_type": "execute_result"
    }
   ],
   "source": [
    "# make sure there's no more missing values\n",
    "data_info(df).sort_values('counts', ascending=False)"
   ]
  },
  {
   "cell_type": "code",
   "execution_count": 342,
   "metadata": {},
   "outputs": [],
   "source": [
    "# We will not use enrolle_id as predictor, so drop this column from the dataset\n",
    "df = df.drop('enrollee_id',axis=1)"
   ]
  },
  {
   "cell_type": "code",
   "execution_count": 343,
   "metadata": {},
   "outputs": [
    {
     "name": "stdout",
     "output_type": "stream",
     "text": [
      "categorical list is: ['city', 'relevent_experience']\n",
      "int64 columns are:  ['training_hours', 'target']\n"
     ]
    }
   ],
   "source": [
    "# check the columns that are not float.\n",
    "cat_col=data_info(df)[data_info(df).data_type=='object'].column.tolist()\n",
    "int_col = data_info(df)[data_info(df).data_type=='int64'].column.tolist()\n",
    "print(\"categorical list is:\", cat_col)\n",
    "print(\"int64 columns are: \", int_col)"
   ]
  },
  {
   "cell_type": "code",
   "execution_count": 344,
   "metadata": {},
   "outputs": [],
   "source": [
    "# convert relevent_experience from object to float, and use dummy encoder to encode 'city' later.\n",
    "df.relevent_experience = df.relevent_experience.astype('float')"
   ]
  },
  {
   "cell_type": "code",
   "execution_count": 345,
   "metadata": {},
   "outputs": [],
   "source": [
    "# convert all the int64 to float data type. \n",
    "df[int_col] = df[int_col].astype('float')"
   ]
  },
  {
   "cell_type": "code",
   "execution_count": 346,
   "metadata": {},
   "outputs": [
    {
     "data": {
      "text/html": [
       "<div>\n",
       "<style scoped>\n",
       "    .dataframe tbody tr th:only-of-type {\n",
       "        vertical-align: middle;\n",
       "    }\n",
       "\n",
       "    .dataframe tbody tr th {\n",
       "        vertical-align: top;\n",
       "    }\n",
       "\n",
       "    .dataframe thead th {\n",
       "        text-align: right;\n",
       "    }\n",
       "</style>\n",
       "<table border=\"1\" class=\"dataframe\">\n",
       "  <thead>\n",
       "    <tr style=\"text-align: right;\">\n",
       "      <th></th>\n",
       "      <th>column</th>\n",
       "      <th>counts</th>\n",
       "      <th>unique_value_pct</th>\n",
       "      <th>nan_pct</th>\n",
       "      <th>data_type</th>\n",
       "    </tr>\n",
       "  </thead>\n",
       "  <tbody>\n",
       "    <tr>\n",
       "      <th>11</th>\n",
       "      <td>training_hours</td>\n",
       "      <td>241</td>\n",
       "      <td>1.31</td>\n",
       "      <td>0.0</td>\n",
       "      <td>float64</td>\n",
       "    </tr>\n",
       "    <tr>\n",
       "      <th>1</th>\n",
       "      <td>city_development_index</td>\n",
       "      <td>93</td>\n",
       "      <td>0.51</td>\n",
       "      <td>0.0</td>\n",
       "      <td>float64</td>\n",
       "    </tr>\n",
       "    <tr>\n",
       "      <th>7</th>\n",
       "      <td>experience</td>\n",
       "      <td>22</td>\n",
       "      <td>0.12</td>\n",
       "      <td>0.0</td>\n",
       "      <td>float64</td>\n",
       "    </tr>\n",
       "    <tr>\n",
       "      <th>0</th>\n",
       "      <td>city</td>\n",
       "      <td>11</td>\n",
       "      <td>0.06</td>\n",
       "      <td>0.0</td>\n",
       "      <td>object</td>\n",
       "    </tr>\n",
       "    <tr>\n",
       "      <th>10</th>\n",
       "      <td>last_new_job</td>\n",
       "      <td>6</td>\n",
       "      <td>0.03</td>\n",
       "      <td>0.0</td>\n",
       "      <td>float64</td>\n",
       "    </tr>\n",
       "    <tr>\n",
       "      <th>2</th>\n",
       "      <td>gender</td>\n",
       "      <td>3</td>\n",
       "      <td>0.02</td>\n",
       "      <td>0.0</td>\n",
       "      <td>float64</td>\n",
       "    </tr>\n",
       "    <tr>\n",
       "      <th>5</th>\n",
       "      <td>education_level</td>\n",
       "      <td>3</td>\n",
       "      <td>0.02</td>\n",
       "      <td>0.0</td>\n",
       "      <td>float64</td>\n",
       "    </tr>\n",
       "    <tr>\n",
       "      <th>8</th>\n",
       "      <td>company_size</td>\n",
       "      <td>3</td>\n",
       "      <td>0.02</td>\n",
       "      <td>0.0</td>\n",
       "      <td>float64</td>\n",
       "    </tr>\n",
       "    <tr>\n",
       "      <th>9</th>\n",
       "      <td>company_type</td>\n",
       "      <td>3</td>\n",
       "      <td>0.02</td>\n",
       "      <td>0.0</td>\n",
       "      <td>float64</td>\n",
       "    </tr>\n",
       "    <tr>\n",
       "      <th>3</th>\n",
       "      <td>relevent_experience</td>\n",
       "      <td>2</td>\n",
       "      <td>0.01</td>\n",
       "      <td>0.0</td>\n",
       "      <td>float64</td>\n",
       "    </tr>\n",
       "    <tr>\n",
       "      <th>4</th>\n",
       "      <td>enrolled_university</td>\n",
       "      <td>2</td>\n",
       "      <td>0.01</td>\n",
       "      <td>0.0</td>\n",
       "      <td>float64</td>\n",
       "    </tr>\n",
       "    <tr>\n",
       "      <th>6</th>\n",
       "      <td>major_discipline</td>\n",
       "      <td>2</td>\n",
       "      <td>0.01</td>\n",
       "      <td>0.0</td>\n",
       "      <td>float64</td>\n",
       "    </tr>\n",
       "    <tr>\n",
       "      <th>12</th>\n",
       "      <td>target</td>\n",
       "      <td>2</td>\n",
       "      <td>0.01</td>\n",
       "      <td>0.0</td>\n",
       "      <td>float64</td>\n",
       "    </tr>\n",
       "  </tbody>\n",
       "</table>\n",
       "</div>"
      ],
      "text/plain": [
       "                    column  counts  unique_value_pct  nan_pct data_type\n",
       "11          training_hours     241              1.31      0.0   float64\n",
       "1   city_development_index      93              0.51      0.0   float64\n",
       "7               experience      22              0.12      0.0   float64\n",
       "0                     city      11              0.06      0.0    object\n",
       "10            last_new_job       6              0.03      0.0   float64\n",
       "2                   gender       3              0.02      0.0   float64\n",
       "5          education_level       3              0.02      0.0   float64\n",
       "8             company_size       3              0.02      0.0   float64\n",
       "9             company_type       3              0.02      0.0   float64\n",
       "3      relevent_experience       2              0.01      0.0   float64\n",
       "4      enrolled_university       2              0.01      0.0   float64\n",
       "6         major_discipline       2              0.01      0.0   float64\n",
       "12                  target       2              0.01      0.0   float64"
      ]
     },
     "execution_count": 346,
     "metadata": {},
     "output_type": "execute_result"
    }
   ],
   "source": [
    "data_info(df).sort_values('counts',ascending=False)"
   ]
  },
  {
   "cell_type": "code",
   "execution_count": 347,
   "metadata": {},
   "outputs": [
    {
     "data": {
      "text/html": [
       "<div>\n",
       "<style scoped>\n",
       "    .dataframe tbody tr th:only-of-type {\n",
       "        vertical-align: middle;\n",
       "    }\n",
       "\n",
       "    .dataframe tbody tr th {\n",
       "        vertical-align: top;\n",
       "    }\n",
       "\n",
       "    .dataframe thead th {\n",
       "        text-align: right;\n",
       "    }\n",
       "</style>\n",
       "<table border=\"1\" class=\"dataframe\">\n",
       "  <thead>\n",
       "    <tr style=\"text-align: right;\">\n",
       "      <th></th>\n",
       "      <th>count</th>\n",
       "      <th>mean</th>\n",
       "      <th>std</th>\n",
       "      <th>min</th>\n",
       "      <th>25%</th>\n",
       "      <th>50%</th>\n",
       "      <th>75%</th>\n",
       "      <th>max</th>\n",
       "    </tr>\n",
       "  </thead>\n",
       "  <tbody>\n",
       "    <tr>\n",
       "      <th>city_development_index</th>\n",
       "      <td>18359.0</td>\n",
       "      <td>0.847140</td>\n",
       "      <td>0.110189</td>\n",
       "      <td>0.448</td>\n",
       "      <td>0.796</td>\n",
       "      <td>0.91</td>\n",
       "      <td>0.92</td>\n",
       "      <td>0.949</td>\n",
       "    </tr>\n",
       "    <tr>\n",
       "      <th>gender</th>\n",
       "      <td>18359.0</td>\n",
       "      <td>1.125552</td>\n",
       "      <td>0.384893</td>\n",
       "      <td>1.000</td>\n",
       "      <td>1.000</td>\n",
       "      <td>1.00</td>\n",
       "      <td>1.00</td>\n",
       "      <td>3.000</td>\n",
       "    </tr>\n",
       "    <tr>\n",
       "      <th>relevent_experience</th>\n",
       "      <td>18359.0</td>\n",
       "      <td>0.740563</td>\n",
       "      <td>0.438338</td>\n",
       "      <td>0.000</td>\n",
       "      <td>0.000</td>\n",
       "      <td>1.00</td>\n",
       "      <td>1.00</td>\n",
       "      <td>1.000</td>\n",
       "    </tr>\n",
       "    <tr>\n",
       "      <th>enrolled_university</th>\n",
       "      <td>18359.0</td>\n",
       "      <td>0.242606</td>\n",
       "      <td>0.428670</td>\n",
       "      <td>0.000</td>\n",
       "      <td>0.000</td>\n",
       "      <td>0.00</td>\n",
       "      <td>0.00</td>\n",
       "      <td>1.000</td>\n",
       "    </tr>\n",
       "    <tr>\n",
       "      <th>education_level</th>\n",
       "      <td>18359.0</td>\n",
       "      <td>2.133885</td>\n",
       "      <td>0.618509</td>\n",
       "      <td>1.000</td>\n",
       "      <td>2.000</td>\n",
       "      <td>2.00</td>\n",
       "      <td>3.00</td>\n",
       "      <td>3.000</td>\n",
       "    </tr>\n",
       "    <tr>\n",
       "      <th>major_discipline</th>\n",
       "      <td>18359.0</td>\n",
       "      <td>0.884743</td>\n",
       "      <td>0.319340</td>\n",
       "      <td>0.000</td>\n",
       "      <td>1.000</td>\n",
       "      <td>1.00</td>\n",
       "      <td>1.00</td>\n",
       "      <td>1.000</td>\n",
       "    </tr>\n",
       "    <tr>\n",
       "      <th>experience</th>\n",
       "      <td>18359.0</td>\n",
       "      <td>10.574269</td>\n",
       "      <td>6.791145</td>\n",
       "      <td>0.000</td>\n",
       "      <td>5.000</td>\n",
       "      <td>9.00</td>\n",
       "      <td>16.00</td>\n",
       "      <td>21.000</td>\n",
       "    </tr>\n",
       "    <tr>\n",
       "      <th>company_size</th>\n",
       "      <td>18359.0</td>\n",
       "      <td>1.877826</td>\n",
       "      <td>0.848438</td>\n",
       "      <td>1.000</td>\n",
       "      <td>1.000</td>\n",
       "      <td>2.00</td>\n",
       "      <td>3.00</td>\n",
       "      <td>3.000</td>\n",
       "    </tr>\n",
       "    <tr>\n",
       "      <th>company_type</th>\n",
       "      <td>18359.0</td>\n",
       "      <td>2.642954</td>\n",
       "      <td>0.679512</td>\n",
       "      <td>1.000</td>\n",
       "      <td>3.000</td>\n",
       "      <td>3.00</td>\n",
       "      <td>3.00</td>\n",
       "      <td>3.000</td>\n",
       "    </tr>\n",
       "    <tr>\n",
       "      <th>last_new_job</th>\n",
       "      <td>18359.0</td>\n",
       "      <td>2.049077</td>\n",
       "      <td>1.691168</td>\n",
       "      <td>0.000</td>\n",
       "      <td>1.000</td>\n",
       "      <td>1.00</td>\n",
       "      <td>3.00</td>\n",
       "      <td>5.000</td>\n",
       "    </tr>\n",
       "    <tr>\n",
       "      <th>training_hours</th>\n",
       "      <td>18359.0</td>\n",
       "      <td>65.899014</td>\n",
       "      <td>60.885300</td>\n",
       "      <td>1.000</td>\n",
       "      <td>23.000</td>\n",
       "      <td>47.00</td>\n",
       "      <td>89.00</td>\n",
       "      <td>336.000</td>\n",
       "    </tr>\n",
       "    <tr>\n",
       "      <th>target</th>\n",
       "      <td>18359.0</td>\n",
       "      <td>0.132088</td>\n",
       "      <td>0.338595</td>\n",
       "      <td>0.000</td>\n",
       "      <td>0.000</td>\n",
       "      <td>0.00</td>\n",
       "      <td>0.00</td>\n",
       "      <td>1.000</td>\n",
       "    </tr>\n",
       "  </tbody>\n",
       "</table>\n",
       "</div>"
      ],
      "text/plain": [
       "                          count       mean        std    min     25%    50%  \\\n",
       "city_development_index  18359.0   0.847140   0.110189  0.448   0.796   0.91   \n",
       "gender                  18359.0   1.125552   0.384893  1.000   1.000   1.00   \n",
       "relevent_experience     18359.0   0.740563   0.438338  0.000   0.000   1.00   \n",
       "enrolled_university     18359.0   0.242606   0.428670  0.000   0.000   0.00   \n",
       "education_level         18359.0   2.133885   0.618509  1.000   2.000   2.00   \n",
       "major_discipline        18359.0   0.884743   0.319340  0.000   1.000   1.00   \n",
       "experience              18359.0  10.574269   6.791145  0.000   5.000   9.00   \n",
       "company_size            18359.0   1.877826   0.848438  1.000   1.000   2.00   \n",
       "company_type            18359.0   2.642954   0.679512  1.000   3.000   3.00   \n",
       "last_new_job            18359.0   2.049077   1.691168  0.000   1.000   1.00   \n",
       "training_hours          18359.0  65.899014  60.885300  1.000  23.000  47.00   \n",
       "target                  18359.0   0.132088   0.338595  0.000   0.000   0.00   \n",
       "\n",
       "                          75%      max  \n",
       "city_development_index   0.92    0.949  \n",
       "gender                   1.00    3.000  \n",
       "relevent_experience      1.00    1.000  \n",
       "enrolled_university      0.00    1.000  \n",
       "education_level          3.00    3.000  \n",
       "major_discipline         1.00    1.000  \n",
       "experience              16.00   21.000  \n",
       "company_size             3.00    3.000  \n",
       "company_type             3.00    3.000  \n",
       "last_new_job             3.00    5.000  \n",
       "training_hours          89.00  336.000  \n",
       "target                   0.00    1.000  "
      ]
     },
     "execution_count": 347,
     "metadata": {},
     "output_type": "execute_result"
    }
   ],
   "source": [
    "df.describe().T"
   ]
  },
  {
   "cell_type": "markdown",
   "metadata": {},
   "source": [
    "## EDA"
   ]
  },
  {
   "cell_type": "code",
   "execution_count": 902,
   "metadata": {},
   "outputs": [],
   "source": [
    "def var_target_df(data,col):\n",
    "    dataframe = pd.crosstab(data[col],df['target'])\n",
    "    dataframe['target pct'] = dataframe[1]/dataframe.sum(axis=1)*100\n",
    "    dataframe = round(dataframe,2)\n",
    "    dataframe.columns.name=None\n",
    "    dataframe = dataframe.rename(columns={0:'non-target', 1:'target'})\n",
    "    dataframe.index.name = None\n",
    "    dataframe['sum'] = dataframe.sum(axis=1)\n",
    "    dataframe = dataframe.sort_values('sum',ascending=False)\n",
    "    dataframe = dataframe.drop('sum',axis=1)\n",
    "    return dataframe\n",
    "    "
   ]
  },
  {
   "cell_type": "code",
   "execution_count": 813,
   "metadata": {},
   "outputs": [],
   "source": [
    "def barplot(data, col, labels):\n",
    "    fig, ax = plt.subplots(figsize=(10,6))\n",
    "    sns.countplot(x=col, hue=\"target\", data=df, order = data[col].value_counts().index, ax=ax)\n",
    "    ax.set_title('target vs %s'%col, fontsize=16, fontweight='bold')\n",
    "    ax.set_xticklabels(labels)\n",
    "    ax.set_xlabel(col,fontsize=14)\n",
    "    ax.set_ylabel('count', fontsize=14)\n",
    "    ax.legend(['non-target', 'target'])\n",
    "    plt.show()\n"
   ]
  },
  {
   "cell_type": "code",
   "execution_count": 742,
   "metadata": {},
   "outputs": [],
   "source": [
    "# create function to make histogram with min, max, 1st, 2nd(median), 3rd quantile.\n",
    "def create_hist_withquantile(data,col,n):\n",
    "    per50 = df[col].describe()['50%']\n",
    "    per25 = df[col].describe()['25%']\n",
    "    per75 = df[col].describe()['75%']\n",
    "    min = df[col].describe()['min']\n",
    "    max = df[col].describe()['max']\n",
    "    cityidx = sns.displot(df,x=col,hue='target', multiple='stack', bins=n)\n",
    "    cityidx.fig.set_figwidth(11)\n",
    "    cityidx.fig.set_figheight(6)\n",
    "    plt.axvline(per50,color='r')\n",
    "    plt.axvline(per25,color='r',linestyle='--')\n",
    "    plt.axvline(per75,color='r',linestyle='--')\n",
    "    plt.axvline(min,color='r',linestyle='-.')\n",
    "    plt.axvline(max,color='r',linestyle='-.')\n",
    "    plt.xlabel(col)\n",
    "    plt.ylabel('count')\n",
    "    plt.show()"
   ]
  },
  {
   "cell_type": "code",
   "execution_count": 904,
   "metadata": {},
   "outputs": [
    {
     "name": "stdout",
     "output_type": "stream",
     "text": [
      "|        |   non-target |   target |   target pct |\n",
      "|:-------|-------------:|---------:|-------------:|\n",
      "| others |         5500 |      834 |        13.17 |\n",
      "| 103    |         3795 |      563 |        12.92 |\n",
      "| 21     |         1219 |      453 |        27.09 |\n",
      "| 16     |         1500 |      154 |         9.31 |\n",
      "| 114    |         1336 |      136 |         9.24 |\n",
      "| 160    |          729 |       98 |        11.85 |\n",
      "| 136    |          575 |       49 |         7.85 |\n",
      "| 67     |          406 |       49 |        10.77 |\n",
      "| 75     |          300 |       32 |         9.64 |\n",
      "| 104    |          297 |       21 |         6.6  |\n",
      "| 102    |          277 |       36 |        11.5  |\n"
     ]
    },
    {
     "data": {
      "image/png": "[encoded data removed]",
      "text/plain": [
       "<Figure size 720x432 with 1 Axes>"
      ]
     },
     "metadata": {},
     "output_type": "display_data"
    }
   ],
   "source": [
    "# plot table and barplot for city\n",
    "print(var_target_df(df,'city').to_markdown())\n",
    "barplot(df, 'city', df.city.value_counts().index)"
   ]
  },
  {
   "cell_type": "code",
   "execution_count": 806,
   "metadata": {},
   "outputs": [
    {
     "data": {
      "text/html": [
       "<div>\n",
       "<style scoped>\n",
       "    .dataframe tbody tr th:only-of-type {\n",
       "        vertical-align: middle;\n",
       "    }\n",
       "\n",
       "    .dataframe tbody tr th {\n",
       "        vertical-align: top;\n",
       "    }\n",
       "\n",
       "    .dataframe thead th {\n",
       "        text-align: right;\n",
       "    }\n",
       "</style>\n",
       "<table border=\"1\" class=\"dataframe\">\n",
       "  <thead>\n",
       "    <tr style=\"text-align: right;\">\n",
       "      <th></th>\n",
       "      <th>non-target</th>\n",
       "      <th>target</th>\n",
       "      <th>target pct</th>\n",
       "    </tr>\n",
       "  </thead>\n",
       "  <tbody>\n",
       "    <tr>\n",
       "      <th>21</th>\n",
       "      <td>1219</td>\n",
       "      <td>453</td>\n",
       "      <td>27.09</td>\n",
       "    </tr>\n",
       "    <tr>\n",
       "      <th>others</th>\n",
       "      <td>5500</td>\n",
       "      <td>834</td>\n",
       "      <td>13.17</td>\n",
       "    </tr>\n",
       "    <tr>\n",
       "      <th>103</th>\n",
       "      <td>3795</td>\n",
       "      <td>563</td>\n",
       "      <td>12.92</td>\n",
       "    </tr>\n",
       "  </tbody>\n",
       "</table>\n",
       "</div>"
      ],
      "text/plain": [
       "        non-target  target  target pct\n",
       "21            1219     453       27.09\n",
       "others        5500     834       13.17\n",
       "103           3795     563       12.92"
      ]
     },
     "execution_count": 806,
     "metadata": {},
     "output_type": "execute_result"
    }
   ],
   "source": [
    "# Top 3 city that has the highest ratio of target(class 1.0)\n",
    "var_target_df(df,'city').nlargest(columns='target pct', n=3)"
   ]
  },
  {
   "cell_type": "code",
   "execution_count": 905,
   "metadata": {},
   "outputs": [
    {
     "name": "stdout",
     "output_type": "stream",
     "text": [
      "|       |   non-target |   target |   target pct |\n",
      "|------:|-------------:|---------:|-------------:|\n",
      "| 0.92  |         4524 |      661 |        12.75 |\n",
      "| 0.624 |         1219 |      453 |        27.09 |\n",
      "| 0.91  |         1500 |      154 |         9.31 |\n",
      "| 0.926 |         1336 |      136 |         9.24 |\n",
      "| 0.698 |          554 |      101 |        15.42 |\n",
      "| 0.897 |          575 |       49 |         7.85 |\n",
      "| 0.855 |          406 |       49 |        10.77 |\n",
      "| 0.939 |          496 |       48 |         8.82 |\n",
      "| 0.887 |          227 |       44 |        16.24 |\n",
      "| 0.754 |          226 |       38 |        14.39 |\n"
     ]
    },
    {
     "data": {
      "image/png": "[encoded data removed]",
      "text/plain": [
       "<Figure size 792x432 with 1 Axes>"
      ]
     },
     "metadata": {},
     "output_type": "display_data"
    }
   ],
   "source": [
    "# plot table and histogram for city_development_index top 10\n",
    "print(var_target_df(df,'city_development_index').nlargest(columns='target', n=10).to_markdown())\n",
    "create_hist_withquantile(df, 'city_development_index', 20)"
   ]
  },
  {
   "cell_type": "code",
   "execution_count": 689,
   "metadata": {},
   "outputs": [
    {
     "data": {
      "text/plain": [
       "103    4358\n",
       "160     827\n",
       "Name: city, dtype: int64"
      ]
     },
     "execution_count": 689,
     "metadata": {},
     "output_type": "execute_result"
    }
   ],
   "source": [
    "df[df.city_development_index == 0.920].city.value_counts()"
   ]
  },
  {
   "cell_type": "code",
   "execution_count": 690,
   "metadata": {},
   "outputs": [
    {
     "name": "stdout",
     "output_type": "stream",
     "text": [
      "Index(['103', '160'], dtype='object')\n",
      "Index(['21'], dtype='object')\n",
      "Index(['16'], dtype='object')\n",
      "Index(['114'], dtype='object')\n",
      "Index(['others'], dtype='object')\n",
      "Index(['136'], dtype='object')\n",
      "Index(['67'], dtype='object')\n",
      "Index(['75', 'others'], dtype='object')\n",
      "Index(['others'], dtype='object')\n",
      "Index(['others'], dtype='object')\n"
     ]
    }
   ],
   "source": [
    "indexlist = var_target_df(df,'city_development_index').nlargest(columns='target', n=10).index\n",
    "for i in indexlist:\n",
    "        print (df[df.city_development_index == i].city.value_counts().index)"
   ]
  },
  {
   "cell_type": "code",
   "execution_count": 815,
   "metadata": {},
   "outputs": [
    {
     "name": "stdout",
     "output_type": "stream",
     "text": [
      "|                         |   non-target |   target |   target pct |\n",
      "|:------------------------|-------------:|---------:|-------------:|\n",
      "| Has relevent experience |        12002 |     1594 |        11.72 |\n",
      "| No relevent experience  |         3932 |      831 |        17.45 |\n"
     ]
    },
    {
     "data": {
      "image/png": "[encoded data removed]",
      "text/plain": [
       "<Figure size 720x432 with 1 Axes>"
      ]
     },
     "metadata": {},
     "output_type": "display_data"
    }
   ],
   "source": [
    "# table and bar plot for relevent_experience\n",
    "print(var_target_df(df , 'relevent_experience').rename(index = {1: 'Has relevent experience' , 0: 'No relevent experience'}).to_markdown())\n",
    "barplot(df, 'relevent_experience', ['Has relevent experience', 'No relevent experience'])"
   ]
  },
  {
   "cell_type": "code",
   "execution_count": 816,
   "metadata": {},
   "outputs": [
    {
     "name": "stdout",
     "output_type": "stream",
     "text": [
      "|                   |   non-target |   target |   target pct |\n",
      "|:------------------|-------------:|---------:|-------------:|\n",
      "| No enrollment     |        12280 |     1625 |        11.69 |\n",
      "| Full or part time |         3654 |      800 |        17.96 |\n"
     ]
    },
    {
     "data": {
      "image/png": "[encoded data removed]",
      "text/plain": [
       "<Figure size 720x432 with 1 Axes>"
      ]
     },
     "metadata": {},
     "output_type": "display_data"
    }
   ],
   "source": [
    "# table and bar plot for univeristy enrollment\n",
    "print(var_target_df(df, 'enrolled_university').rename(index = {1: 'Full or part time' , 0: 'No enrollment'}).to_markdown())\n",
    "barplot(df, 'enrolled_university', ['No enrollment', 'Full or part time'])"
   ]
  },
  {
   "cell_type": "code",
   "execution_count": 817,
   "metadata": {},
   "outputs": [
    {
     "name": "stdout",
     "output_type": "stream",
     "text": [
      "|                     |   non-target |   target |   target pct |\n",
      "|:--------------------|-------------:|---------:|-------------:|\n",
      "| Graduate            |         9449 |     1558 |        14.15 |\n",
      "| Master or higher    |         4317 |      588 |        11.99 |\n",
      "| Highschool or lower |         2168 |      279 |        11.4  |\n"
     ]
    },
    {
     "data": {
      "image/png": "[encoded data removed]",
      "text/plain": [
       "<Figure size 720x432 with 1 Axes>"
      ]
     },
     "metadata": {},
     "output_type": "display_data"
    }
   ],
   "source": [
    "# table and bar plot for education_level\n",
    "print(var_target_df(df, 'education_level').rename(index = {1:'Highschool or lower' , 2: 'Graduate', 3: 'Master or higher'}).to_markdown())\n",
    "barplot(df, 'education_level', ['Graduate', 'Master or higher', 'Highschool or lower'])"
   ]
  },
  {
   "cell_type": "code",
   "execution_count": 818,
   "metadata": {},
   "outputs": [
    {
     "name": "stdout",
     "output_type": "stream",
     "text": [
      "|          |   non-target |   target |   target pct |\n",
      "|:---------|-------------:|---------:|-------------:|\n",
      "| Pvt Ltd  |        12126 |     1809 |        12.98 |\n",
      "| Others   |         1936 |      357 |        15.57 |\n",
      "| Start up |         1872 |      259 |        12.15 |\n"
     ]
    },
    {
     "data": {
      "image/png": "[encoded data removed]",
      "text/plain": [
       "<Figure size 720x432 with 1 Axes>"
      ]
     },
     "metadata": {},
     "output_type": "display_data"
    }
   ],
   "source": [
    "# table and bar plot for company_type\n",
    "print(var_target_df(df, 'company_type').rename(index = {1:'Start up' , 2: 'Others', 3: 'Pvt Ltd'}).to_markdown())\n",
    "barplot(df, 'company_type', ['Pvt Ltd', 'Others', 'Start up'])"
   ]
  },
  {
   "cell_type": "code",
   "execution_count": 918,
   "metadata": {},
   "outputs": [
    {
     "name": "stdout",
     "output_type": "stream",
     "text": [
      "|         |   non-target |   target |   target pct |\n",
      "|:--------|-------------:|---------:|-------------:|\n",
      "| 0-99    |         6871 |      995 |        12.65 |\n",
      "| 1000+   |         4834 |      789 |        14.03 |\n",
      "| 100-999 |         4229 |      641 |        13.16 |\n"
     ]
    },
    {
     "data": {
      "image/png": "[encoded data removed]",
      "text/plain": [
       "<Figure size 720x432 with 1 Axes>"
      ]
     },
     "metadata": {},
     "output_type": "display_data"
    }
   ],
   "source": [
    "print(var_target_df(df, 'company_size').rename(index = {1:'0-99' , 2: '100-999', 3: '1000+'}).to_markdown())\n",
    "barplot(df, 'company_size', ['0-99', '1000+', '100-999'])"
   ]
  },
  {
   "cell_type": "code",
   "execution_count": 917,
   "metadata": {},
   "outputs": [
    {
     "name": "stdout",
     "output_type": "stream",
     "text": [
      "|       |   non-target |   target |   target pct |\n",
      "|:------|-------------:|---------:|-------------:|\n",
      "| 1.0   |         6643 |     1045 |        13.59 |\n",
      "| 4+    |         3004 |      369 |        10.94 |\n",
      "| 2.0   |         2500 |      395 |        13.64 |\n",
      "| never |         1988 |      337 |        14.49 |\n",
      "| 4.0   |          894 |      148 |        14.2  |\n",
      "| 3.0   |          905 |      131 |        12.64 |\n"
     ]
    },
    {
     "data": {
      "image/png": "[encoded data removed]",
      "text/plain": [
       "<Figure size 720x432 with 1 Axes>"
      ]
     },
     "metadata": {},
     "output_type": "display_data"
    }
   ],
   "source": [
    "print(var_target_df(df, 'last_new_job').rename(index = {0:'never' , 5:'4+'}).to_markdown())\n",
    "barplot(df, 'last_new_job', ['1', '4+', '2', 'never', '4', '3'])"
   ]
  },
  {
   "cell_type": "code",
   "execution_count": 916,
   "metadata": {},
   "outputs": [
    {
     "name": "stdout",
     "output_type": "stream",
     "text": [
      "|        |   non-target |   target |   target pct |\n",
      "|:-------|-------------:|---------:|-------------:|\n",
      "| STEM   |        14077 |     2166 |        13.33 |\n",
      "| Others |         1857 |      259 |        12.24 |\n"
     ]
    },
    {
     "data": {
      "image/png": "[encoded data removed]",
      "text/plain": [
       "<Figure size 720x432 with 1 Axes>"
      ]
     },
     "metadata": {},
     "output_type": "display_data"
    }
   ],
   "source": [
    "print(var_target_df(df, 'major_discipline').rename(index = {0:'Others' , 1:'STEM'}).to_markdown())\n",
    "barplot(df, 'major_discipline', ['STEM', 'Others'])"
   ]
  },
  {
   "cell_type": "code",
   "execution_count": 915,
   "metadata": {},
   "outputs": [
    {
     "name": "stdout",
     "output_type": "stream",
     "text": [
      "|        |   non-target |   target |   target pct |\n",
      "|:-------|-------------:|---------:|-------------:|\n",
      "| Male   |        14293 |     2113 |        12.88 |\n",
      "| Female |         1345 |      256 |        15.99 |\n",
      "| Others |          296 |       56 |        15.91 |\n"
     ]
    },
    {
     "data": {
      "image/png": "[encoded data removed]",
      "text/plain": [
       "<Figure size 720x432 with 1 Axes>"
      ]
     },
     "metadata": {},
     "output_type": "display_data"
    }
   ],
   "source": [
    "print(var_target_df(df, 'gender').rename(index = {1:'Male' , 2:'Female', 3:'Others'}).to_markdown())\n",
    "barplot(df, 'gender', ['Male', 'Female', 'Others'])"
   ]
  },
  {
   "cell_type": "code",
   "execution_count": 845,
   "metadata": {},
   "outputs": [
    {
     "name": "stdout",
     "output_type": "stream",
     "text": [
      "| target     |   count |     mean |     std |   min |   25% |   50% |   75% |   max |\n",
      "|:-----------|--------:|---------:|--------:|------:|------:|------:|------:|------:|\n",
      "| non-target |   15934 | 10.8054  | 6.78175 |     0 |     5 |    10 |    17 |    21 |\n",
      "| target     |    2425 |  9.05567 | 6.6572  |     0 |     4 |     7 |    14 |    21 |\n"
     ]
    },
    {
     "data": {
      "image/png": "[encoded data removed]",
      "text/plain": [
       "<Figure size 720x576 with 1 Axes>"
      ]
     },
     "metadata": {},
     "output_type": "display_data"
    }
   ],
   "source": [
    "# Plot boxplot for experience vs target\n",
    "print(df.groupby('target')['experience'].describe().rename(index = {0:'non-target' , 1:'target'}).to_markdown())\n",
    "fig, ax = plt.subplots(figsize=(10,8))\n",
    "ax = sns.boxplot(x='target', y='experience', data=df)\n",
    "ax.set_title('target vs experience' , fontsize=16, fontweight='bold')\n",
    "ax.set_xticklabels(['non-target', 'target'],rotation=0)\n",
    "ax.set_xlabel('target',fontsize=14)\n",
    "ax.set_ylabel('experience', fontsize=14)\n",
    "plt.show()"
   ]
  },
  {
   "cell_type": "code",
   "execution_count": 848,
   "metadata": {},
   "outputs": [
    {
     "data": {
      "image/png": "[encoded data removed]",
      "text/plain": [
       "<Figure size 792x432 with 1 Axes>"
      ]
     },
     "metadata": {},
     "output_type": "display_data"
    }
   ],
   "source": [
    "create_hist_withquantile(df,'training_hours',100)"
   ]
  },
  {
   "cell_type": "code",
   "execution_count": 42,
   "metadata": {},
   "outputs": [
    {
     "data": {
      "text/html": [
       "<div>\n",
       "<style scoped>\n",
       "    .dataframe tbody tr th:only-of-type {\n",
       "        vertical-align: middle;\n",
       "    }\n",
       "\n",
       "    .dataframe tbody tr th {\n",
       "        vertical-align: top;\n",
       "    }\n",
       "\n",
       "    .dataframe thead th {\n",
       "        text-align: right;\n",
       "    }\n",
       "</style>\n",
       "<table border=\"1\" class=\"dataframe\">\n",
       "  <thead>\n",
       "    <tr style=\"text-align: right;\">\n",
       "      <th></th>\n",
       "      <th>city_development_index</th>\n",
       "      <th>gender</th>\n",
       "      <th>relevent_experience</th>\n",
       "      <th>enrolled_university</th>\n",
       "      <th>education_level</th>\n",
       "      <th>major_discipline</th>\n",
       "      <th>experience</th>\n",
       "      <th>company_size</th>\n",
       "      <th>company_type</th>\n",
       "      <th>last_new_job</th>\n",
       "      <th>...</th>\n",
       "      <th>city_103</th>\n",
       "      <th>city_104</th>\n",
       "      <th>city_114</th>\n",
       "      <th>city_136</th>\n",
       "      <th>city_16</th>\n",
       "      <th>city_160</th>\n",
       "      <th>city_21</th>\n",
       "      <th>city_67</th>\n",
       "      <th>city_75</th>\n",
       "      <th>city_others</th>\n",
       "    </tr>\n",
       "  </thead>\n",
       "  <tbody>\n",
       "    <tr>\n",
       "      <th>0</th>\n",
       "      <td>0.689</td>\n",
       "      <td>1.0</td>\n",
       "      <td>1.0</td>\n",
       "      <td>0.0</td>\n",
       "      <td>2.0</td>\n",
       "      <td>1.0</td>\n",
       "      <td>3.0</td>\n",
       "      <td>2.0</td>\n",
       "      <td>3.0</td>\n",
       "      <td>1.0</td>\n",
       "      <td>...</td>\n",
       "      <td>0</td>\n",
       "      <td>0</td>\n",
       "      <td>0</td>\n",
       "      <td>0</td>\n",
       "      <td>0</td>\n",
       "      <td>0</td>\n",
       "      <td>0</td>\n",
       "      <td>0</td>\n",
       "      <td>0</td>\n",
       "      <td>1</td>\n",
       "    </tr>\n",
       "    <tr>\n",
       "      <th>1</th>\n",
       "      <td>0.923</td>\n",
       "      <td>1.0</td>\n",
       "      <td>1.0</td>\n",
       "      <td>0.0</td>\n",
       "      <td>2.0</td>\n",
       "      <td>1.0</td>\n",
       "      <td>14.0</td>\n",
       "      <td>1.0</td>\n",
       "      <td>1.0</td>\n",
       "      <td>1.0</td>\n",
       "      <td>...</td>\n",
       "      <td>0</td>\n",
       "      <td>0</td>\n",
       "      <td>0</td>\n",
       "      <td>0</td>\n",
       "      <td>0</td>\n",
       "      <td>0</td>\n",
       "      <td>0</td>\n",
       "      <td>0</td>\n",
       "      <td>0</td>\n",
       "      <td>1</td>\n",
       "    </tr>\n",
       "    <tr>\n",
       "      <th>2</th>\n",
       "      <td>0.910</td>\n",
       "      <td>1.0</td>\n",
       "      <td>1.0</td>\n",
       "      <td>0.0</td>\n",
       "      <td>2.0</td>\n",
       "      <td>1.0</td>\n",
       "      <td>6.0</td>\n",
       "      <td>1.0</td>\n",
       "      <td>2.0</td>\n",
       "      <td>2.0</td>\n",
       "      <td>...</td>\n",
       "      <td>0</td>\n",
       "      <td>0</td>\n",
       "      <td>0</td>\n",
       "      <td>0</td>\n",
       "      <td>1</td>\n",
       "      <td>0</td>\n",
       "      <td>0</td>\n",
       "      <td>0</td>\n",
       "      <td>0</td>\n",
       "      <td>0</td>\n",
       "    </tr>\n",
       "    <tr>\n",
       "      <th>3</th>\n",
       "      <td>0.666</td>\n",
       "      <td>1.0</td>\n",
       "      <td>1.0</td>\n",
       "      <td>0.0</td>\n",
       "      <td>2.0</td>\n",
       "      <td>1.0</td>\n",
       "      <td>14.0</td>\n",
       "      <td>1.0</td>\n",
       "      <td>3.0</td>\n",
       "      <td>1.0</td>\n",
       "      <td>...</td>\n",
       "      <td>0</td>\n",
       "      <td>0</td>\n",
       "      <td>0</td>\n",
       "      <td>0</td>\n",
       "      <td>0</td>\n",
       "      <td>0</td>\n",
       "      <td>0</td>\n",
       "      <td>0</td>\n",
       "      <td>0</td>\n",
       "      <td>1</td>\n",
       "    </tr>\n",
       "    <tr>\n",
       "      <th>4</th>\n",
       "      <td>0.887</td>\n",
       "      <td>1.0</td>\n",
       "      <td>0.0</td>\n",
       "      <td>0.0</td>\n",
       "      <td>3.0</td>\n",
       "      <td>1.0</td>\n",
       "      <td>8.0</td>\n",
       "      <td>2.0</td>\n",
       "      <td>3.0</td>\n",
       "      <td>2.0</td>\n",
       "      <td>...</td>\n",
       "      <td>0</td>\n",
       "      <td>0</td>\n",
       "      <td>0</td>\n",
       "      <td>0</td>\n",
       "      <td>0</td>\n",
       "      <td>0</td>\n",
       "      <td>0</td>\n",
       "      <td>0</td>\n",
       "      <td>0</td>\n",
       "      <td>1</td>\n",
       "    </tr>\n",
       "  </tbody>\n",
       "</table>\n",
       "<p>5 rows × 23 columns</p>\n",
       "</div>"
      ],
      "text/plain": [
       "   city_development_index  gender  relevent_experience  enrolled_university  \\\n",
       "0                   0.689     1.0                  1.0                  0.0   \n",
       "1                   0.923     1.0                  1.0                  0.0   \n",
       "2                   0.910     1.0                  1.0                  0.0   \n",
       "3                   0.666     1.0                  1.0                  0.0   \n",
       "4                   0.887     1.0                  0.0                  0.0   \n",
       "\n",
       "   education_level  major_discipline  experience  company_size  company_type  \\\n",
       "0              2.0               1.0         3.0           2.0           3.0   \n",
       "1              2.0               1.0        14.0           1.0           1.0   \n",
       "2              2.0               1.0         6.0           1.0           2.0   \n",
       "3              2.0               1.0        14.0           1.0           3.0   \n",
       "4              3.0               1.0         8.0           2.0           3.0   \n",
       "\n",
       "   last_new_job  ...  city_103  city_104  city_114  city_136  city_16  \\\n",
       "0           1.0  ...         0         0         0         0        0   \n",
       "1           1.0  ...         0         0         0         0        0   \n",
       "2           2.0  ...         0         0         0         0        1   \n",
       "3           1.0  ...         0         0         0         0        0   \n",
       "4           2.0  ...         0         0         0         0        0   \n",
       "\n",
       "   city_160  city_21  city_67  city_75  city_others  \n",
       "0         0        0        0        0            1  \n",
       "1         0        0        0        0            1  \n",
       "2         0        0        0        0            0  \n",
       "3         0        0        0        0            1  \n",
       "4         0        0        0        0            1  \n",
       "\n",
       "[5 rows x 23 columns]"
      ]
     },
     "execution_count": 42,
     "metadata": {},
     "output_type": "execute_result"
    }
   ],
   "source": [
    "# encode the last object column 'city' via dummy encoding\n",
    "cat_col= data_info(df)[data_info(df).data_type=='object'].column.tolist()\n",
    "df = pd.get_dummies(df,columns=cat_col)\n",
    "df.head()"
   ]
  },
  {
   "cell_type": "code",
   "execution_count": 43,
   "metadata": {},
   "outputs": [
    {
     "data": {
      "text/plain": [
       "(18359, 23)"
      ]
     },
     "execution_count": 43,
     "metadata": {},
     "output_type": "execute_result"
    }
   ],
   "source": [
    "df.shape"
   ]
  },
  {
   "cell_type": "code",
   "execution_count": 46,
   "metadata": {},
   "outputs": [
    {
     "data": {
      "text/html": [
       "<div>\n",
       "<style scoped>\n",
       "    .dataframe tbody tr th:only-of-type {\n",
       "        vertical-align: middle;\n",
       "    }\n",
       "\n",
       "    .dataframe tbody tr th {\n",
       "        vertical-align: top;\n",
       "    }\n",
       "\n",
       "    .dataframe thead th {\n",
       "        text-align: right;\n",
       "    }\n",
       "</style>\n",
       "<table border=\"1\" class=\"dataframe\">\n",
       "  <thead>\n",
       "    <tr style=\"text-align: right;\">\n",
       "      <th></th>\n",
       "      <th>column</th>\n",
       "      <th>counts</th>\n",
       "      <th>unique_value_pct</th>\n",
       "      <th>nan_pct</th>\n",
       "      <th>data_type</th>\n",
       "    </tr>\n",
       "  </thead>\n",
       "  <tbody>\n",
       "    <tr>\n",
       "      <th>0</th>\n",
       "      <td>city_development_index</td>\n",
       "      <td>93</td>\n",
       "      <td>0.51</td>\n",
       "      <td>0.0</td>\n",
       "      <td>float64</td>\n",
       "    </tr>\n",
       "    <tr>\n",
       "      <th>1</th>\n",
       "      <td>gender</td>\n",
       "      <td>3</td>\n",
       "      <td>0.02</td>\n",
       "      <td>0.0</td>\n",
       "      <td>float64</td>\n",
       "    </tr>\n",
       "    <tr>\n",
       "      <th>2</th>\n",
       "      <td>relevent_experience</td>\n",
       "      <td>2</td>\n",
       "      <td>0.01</td>\n",
       "      <td>0.0</td>\n",
       "      <td>float64</td>\n",
       "    </tr>\n",
       "    <tr>\n",
       "      <th>3</th>\n",
       "      <td>enrolled_university</td>\n",
       "      <td>2</td>\n",
       "      <td>0.01</td>\n",
       "      <td>0.0</td>\n",
       "      <td>float64</td>\n",
       "    </tr>\n",
       "    <tr>\n",
       "      <th>4</th>\n",
       "      <td>education_level</td>\n",
       "      <td>3</td>\n",
       "      <td>0.02</td>\n",
       "      <td>0.0</td>\n",
       "      <td>float64</td>\n",
       "    </tr>\n",
       "    <tr>\n",
       "      <th>5</th>\n",
       "      <td>major_discipline</td>\n",
       "      <td>2</td>\n",
       "      <td>0.01</td>\n",
       "      <td>0.0</td>\n",
       "      <td>float64</td>\n",
       "    </tr>\n",
       "    <tr>\n",
       "      <th>6</th>\n",
       "      <td>experience</td>\n",
       "      <td>22</td>\n",
       "      <td>0.12</td>\n",
       "      <td>0.0</td>\n",
       "      <td>float64</td>\n",
       "    </tr>\n",
       "    <tr>\n",
       "      <th>7</th>\n",
       "      <td>company_size</td>\n",
       "      <td>3</td>\n",
       "      <td>0.02</td>\n",
       "      <td>0.0</td>\n",
       "      <td>float64</td>\n",
       "    </tr>\n",
       "    <tr>\n",
       "      <th>8</th>\n",
       "      <td>company_type</td>\n",
       "      <td>3</td>\n",
       "      <td>0.02</td>\n",
       "      <td>0.0</td>\n",
       "      <td>float64</td>\n",
       "    </tr>\n",
       "    <tr>\n",
       "      <th>9</th>\n",
       "      <td>last_new_job</td>\n",
       "      <td>6</td>\n",
       "      <td>0.03</td>\n",
       "      <td>0.0</td>\n",
       "      <td>float64</td>\n",
       "    </tr>\n",
       "    <tr>\n",
       "      <th>10</th>\n",
       "      <td>training_hours</td>\n",
       "      <td>241</td>\n",
       "      <td>1.31</td>\n",
       "      <td>0.0</td>\n",
       "      <td>float64</td>\n",
       "    </tr>\n",
       "    <tr>\n",
       "      <th>11</th>\n",
       "      <td>target</td>\n",
       "      <td>2</td>\n",
       "      <td>0.01</td>\n",
       "      <td>0.0</td>\n",
       "      <td>float64</td>\n",
       "    </tr>\n",
       "    <tr>\n",
       "      <th>12</th>\n",
       "      <td>city_102</td>\n",
       "      <td>2</td>\n",
       "      <td>0.01</td>\n",
       "      <td>0.0</td>\n",
       "      <td>uint8</td>\n",
       "    </tr>\n",
       "    <tr>\n",
       "      <th>13</th>\n",
       "      <td>city_103</td>\n",
       "      <td>2</td>\n",
       "      <td>0.01</td>\n",
       "      <td>0.0</td>\n",
       "      <td>uint8</td>\n",
       "    </tr>\n",
       "    <tr>\n",
       "      <th>14</th>\n",
       "      <td>city_104</td>\n",
       "      <td>2</td>\n",
       "      <td>0.01</td>\n",
       "      <td>0.0</td>\n",
       "      <td>uint8</td>\n",
       "    </tr>\n",
       "    <tr>\n",
       "      <th>15</th>\n",
       "      <td>city_114</td>\n",
       "      <td>2</td>\n",
       "      <td>0.01</td>\n",
       "      <td>0.0</td>\n",
       "      <td>uint8</td>\n",
       "    </tr>\n",
       "    <tr>\n",
       "      <th>16</th>\n",
       "      <td>city_136</td>\n",
       "      <td>2</td>\n",
       "      <td>0.01</td>\n",
       "      <td>0.0</td>\n",
       "      <td>uint8</td>\n",
       "    </tr>\n",
       "    <tr>\n",
       "      <th>17</th>\n",
       "      <td>city_16</td>\n",
       "      <td>2</td>\n",
       "      <td>0.01</td>\n",
       "      <td>0.0</td>\n",
       "      <td>uint8</td>\n",
       "    </tr>\n",
       "    <tr>\n",
       "      <th>18</th>\n",
       "      <td>city_160</td>\n",
       "      <td>2</td>\n",
       "      <td>0.01</td>\n",
       "      <td>0.0</td>\n",
       "      <td>uint8</td>\n",
       "    </tr>\n",
       "    <tr>\n",
       "      <th>19</th>\n",
       "      <td>city_21</td>\n",
       "      <td>2</td>\n",
       "      <td>0.01</td>\n",
       "      <td>0.0</td>\n",
       "      <td>uint8</td>\n",
       "    </tr>\n",
       "    <tr>\n",
       "      <th>20</th>\n",
       "      <td>city_67</td>\n",
       "      <td>2</td>\n",
       "      <td>0.01</td>\n",
       "      <td>0.0</td>\n",
       "      <td>uint8</td>\n",
       "    </tr>\n",
       "    <tr>\n",
       "      <th>21</th>\n",
       "      <td>city_75</td>\n",
       "      <td>2</td>\n",
       "      <td>0.01</td>\n",
       "      <td>0.0</td>\n",
       "      <td>uint8</td>\n",
       "    </tr>\n",
       "    <tr>\n",
       "      <th>22</th>\n",
       "      <td>city_others</td>\n",
       "      <td>2</td>\n",
       "      <td>0.01</td>\n",
       "      <td>0.0</td>\n",
       "      <td>uint8</td>\n",
       "    </tr>\n",
       "  </tbody>\n",
       "</table>\n",
       "</div>"
      ],
      "text/plain": [
       "                    column  counts  unique_value_pct  nan_pct data_type\n",
       "0   city_development_index      93              0.51      0.0   float64\n",
       "1                   gender       3              0.02      0.0   float64\n",
       "2      relevent_experience       2              0.01      0.0   float64\n",
       "3      enrolled_university       2              0.01      0.0   float64\n",
       "4          education_level       3              0.02      0.0   float64\n",
       "5         major_discipline       2              0.01      0.0   float64\n",
       "6               experience      22              0.12      0.0   float64\n",
       "7             company_size       3              0.02      0.0   float64\n",
       "8             company_type       3              0.02      0.0   float64\n",
       "9             last_new_job       6              0.03      0.0   float64\n",
       "10          training_hours     241              1.31      0.0   float64\n",
       "11                  target       2              0.01      0.0   float64\n",
       "12                city_102       2              0.01      0.0     uint8\n",
       "13                city_103       2              0.01      0.0     uint8\n",
       "14                city_104       2              0.01      0.0     uint8\n",
       "15                city_114       2              0.01      0.0     uint8\n",
       "16                city_136       2              0.01      0.0     uint8\n",
       "17                 city_16       2              0.01      0.0     uint8\n",
       "18                city_160       2              0.01      0.0     uint8\n",
       "19                 city_21       2              0.01      0.0     uint8\n",
       "20                 city_67       2              0.01      0.0     uint8\n",
       "21                 city_75       2              0.01      0.0     uint8\n",
       "22             city_others       2              0.01      0.0     uint8"
      ]
     },
     "execution_count": 46,
     "metadata": {},
     "output_type": "execute_result"
    }
   ],
   "source": [
    "data_info(df)"
   ]
  },
  {
   "cell_type": "code",
   "execution_count": 47,
   "metadata": {},
   "outputs": [
    {
     "data": {
      "image/png": "[encoded data removed]",
      "text/plain": [
       "<Figure size 864x504 with 2 Axes>"
      ]
     },
     "metadata": {
      "needs_background": "light"
     },
     "output_type": "display_data"
    }
   ],
   "source": [
    "# check correlation between each variable\n",
    "_= plt.subplots(figsize=(12,7))\n",
    "sns.heatmap(df.corr(),cmap='coolwarm') \n",
    "plt.show()"
   ]
  },
  {
   "cell_type": "markdown",
   "metadata": {},
   "source": [
    "X = df.drop('target',axis=1)\n",
    "y = df['target'].ravel()"
   ]
  },
  {
   "cell_type": "markdown",
   "metadata": {},
   "source": [
    "X.head()"
   ]
  },
  {
   "cell_type": "markdown",
   "metadata": {},
   "source": [
    "X_scaled = StandardScaler().fit_transform(X)\n",
    "\n",
    "X_train,X_test,y_train,y_test = train_test_split(X_scaled, y, test_size=0.30, stratify=y, random_state=43)"
   ]
  },
  {
   "cell_type": "markdown",
   "metadata": {},
   "source": [
    "# check target count in full, train, test dataset \n",
    "target_test_set = np.unique(y_test,return_counts=True)[1]\n",
    "target_train_set = np.unique(y_train,return_counts=True)[1]\n",
    "target_full_set= np.unique(df.target,return_counts=True)[1]"
   ]
  },
  {
   "cell_type": "markdown",
   "metadata": {},
   "source": [
    "df_target = pd.DataFrame([target_full_set,target_train_set,target_test_set ], \n",
    "                         index=['Full Dataset', 'Training set', 'Testing set'], \n",
    "                         columns=['non-target count', 'target count'])\n",
    "\n",
    "df_target['target %'] = round(df_target['target count']/df_target.sum(axis=1)*100,3)\n",
    "df_target"
   ]
  },
  {
   "cell_type": "markdown",
   "metadata": {},
   "source": [
    "# Check how imbalanced the data is in y_train.\n",
    "np.unique(y_train, return_counts=True)[1][0]/np.unique(y_train, return_counts=True)[1][1]"
   ]
  },
  {
   "cell_type": "markdown",
   "metadata": {},
   "source": [
    "we can see in our y_train, the ratio between negative and positive classes are 6.6 : 1 \n",
    "This class imbalance may cause some negative effect when we train the model.\n",
    "As our models look at the data and cleverly decide that the best thing to do is to always predict negative class and achieve high accuracy.\n",
    "If that happens we will normally get high accuracy but low recall or sometimes even zero recall, precision as the model will only predict negative class."
   ]
  },
  {
   "cell_type": "markdown",
   "metadata": {},
   "source": [
    "index = ['LR','GNB','KNN','SVC','DT','RF','GB','XGB','LightGB']\n",
    "\n",
    "models = [LogisticRegression(),\n",
    "          GaussianNB(),\n",
    "          KNeighborsClassifier(),\n",
    "          SVC(probability=True, random_state=43),\n",
    "          DecisionTreeClassifier(random_state=43),\n",
    "          RandomForestClassifier(random_state=43),\n",
    "          GradientBoostingClassifier(random_state=43),\n",
    "          XGBClassifier(random_state=43),\n",
    "          lgb.LGBMClassifier(objective='binary',random_state=43)]\n",
    "\n",
    "    # combine index and models to a dictionary\n",
    "model_dict = dict(zip(index,models))"
   ]
  },
  {
   "cell_type": "markdown",
   "metadata": {},
   "source": [
    "# create a function to train model with n fold cv and return the result\n",
    "def model_eval(model_name, X, y, n):\n",
    "    scoring = {\n",
    "           'accuracy' : make_scorer(accuracy_score), \n",
    "           'precision' : make_scorer(precision_score),\n",
    "           'recall' : make_scorer(recall_score), \n",
    "           'f1_score' : make_scorer(f1_score),\n",
    "           'roc_auc' : make_scorer(roc_auc_score, needs_proba=True)}\n",
    "\n",
    "    kfold = KFold(n_splits=n)\n",
    "    model = model_name\n",
    "\n",
    "    model_res = model_selection.cross_validate(\n",
    "                                          estimator=model,\n",
    "                                          X=X,\n",
    "                                          y=y,\n",
    "                                          cv=kfold,\n",
    "                                          scoring=scoring)\n",
    "    \n",
    "    res = pd.DataFrame(model_res).round(3)\n",
    "    return res"
   ]
  },
  {
   "cell_type": "markdown",
   "metadata": {},
   "source": [
    "# create a function to return the test result for all models\n",
    "def allmodel_perform(X, y, n, model_eval):\n",
    "    # create a empty list to put the average model test_score from the validation\n",
    "    model_score_average = []\n",
    "    \n",
    "    # Loop inside the model_dict and average the test_score by calling function model_eval()\n",
    "    # (test_score contains: accuracy, precision, recall, fscore, roc_auc_score)\n",
    "    # Append the avarage score to list 'model_score_average' \n",
    "    for model in model_dict.values():\n",
    "        model_score_average.append(model_eval(model,X,y,n).mean())\n",
    "\n",
    "\n",
    "    # put the model_score_average into a dataframe \n",
    "    df_model_eval = pd.DataFrame(model_score_average,index=list(model_dict.keys())).round(3)\n",
    "    df_model_eval = df_model_eval.reset_index().rename(columns={'index':'model'})\n",
    "    return df_model_eval"
   ]
  },
  {
   "cell_type": "markdown",
   "metadata": {},
   "source": [
    "model_res = allmodel_perform(X_train, y_train, 5, model_eval)\n",
    "model_res"
   ]
  },
  {
   "cell_type": "markdown",
   "metadata": {},
   "source": [
    "# plot barh plot to check the average score of recall, fscore, accuracy, roc_auc from cross validation\n",
    "fig,axs = plt.subplots(4,1, figsize=(6,15))\n",
    "\n",
    "axs[0].barh('model', 'test_recall', data=model_res)\n",
    "axs[1].barh('model', 'test_f1_score', data=model_res)\n",
    "axs[2].barh('model', 'test_accuracy', data=model_res)\n",
    "axs[3].barh('model', 'test_roc_auc',data=model_res)\n",
    "\n",
    "axs[0].set_xlabel('Recall')\n",
    "axs[1].set_xlabel('F1score')\n",
    "axs[2].set_xlabel('Accuracy')\n",
    "axs[3].set_xlabel('ROC_AUC')\n",
    "\n",
    "\n",
    "axs[0].plot([0.3,0.3],[-1,9],'r--')\n",
    "axs[1].plot([0.2,0.2],[-1,9],'r--')\n",
    "axs[2].plot([0.8,0.8],[-1,9],'r--')\n",
    "axs[3].plot([0.6,0.6],[-1,9],'r--')\n",
    "plt.show()"
   ]
  },
  {
   "cell_type": "markdown",
   "metadata": {},
   "source": [
    "# create function to train models with n fold cross validation and oversample data only on the train fold in each cross validation \n",
    "# and return test result of score precision, recall, f1score, auc, roc_auc\n",
    "def model_eval_os(model_name, X, y, n):\n",
    "    \n",
    "    precisions = []\n",
    "    recalls = []\n",
    "    f1scores = []\n",
    "    aucs = []\n",
    "    roc_aucs=[]\n",
    "    \n",
    "    cv = KFold(n_splits=n)\n",
    "    for i, (train, test) in enumerate(cv.split(X, y)):\n",
    "        X_train_fold, y_train_fold = X[train], y[train]\n",
    "        X_test_fold, y_test_fold = X[test], y[test]\n",
    "        \n",
    "        os = SMOTE(random_state=43)\n",
    "        X_train_oversampled, y_train_oversampled = os.fit_sample(X_train_fold, y_train_fold)\n",
    "        model = model_name\n",
    "        \n",
    "        model.fit(X_train_oversampled, y_train_oversampled)\n",
    "        \n",
    "        y_pred = model.predict(X_test_fold)\n",
    "        y_pred_proba = model.predict_proba(X_test_fold)[:,1]\n",
    "        \n",
    "       \n",
    "        recalls.append(recall_score(y_test_fold, y_pred, pos_label=1,average='binary'))\n",
    "        precisions.append(precision_score(y_test_fold, y_pred, pos_label=1,average='binary'))\n",
    "        f1scores.append(f1_score(y_test_fold, y_pred, pos_label=1,average='binary'))\n",
    "        roc_aucs.append(roc_auc_score(y_test_fold, y_pred_proba))\n",
    "        aucs.append(model.score(X_test_fold, y_test_fold))\n",
    "     \n",
    "    \n",
    "    res = pd.DataFrame([precisions,recalls,f1scores,aucs,roc_aucs]).T\n",
    "    res.columns = ['test_precison', 'test_recall', 'test_f1score', 'test_accuracy', 'test_roc_auc']\n",
    "    \n",
    "    return res"
   ]
  },
  {
   "cell_type": "markdown",
   "metadata": {},
   "source": [
    "# call function allmodel_perform() to get the test for all models \n",
    "# using model_eval_os() function to get result after oversampling dataset\n",
    "\n",
    "model_res_os = allmodel_perform(X_train, y_train, 5, model_eval_os)"
   ]
  },
  {
   "cell_type": "markdown",
   "metadata": {},
   "source": [
    "model_res_os.sort_values('test_recall', ascending=False)"
   ]
  },
  {
   "cell_type": "markdown",
   "metadata": {},
   "source": [
    "# create a function to train final model on oversampled data with n fold cross validation and return final model.\n",
    "def trainmodel_os_cv(model, X, y, n):\n",
    "    \n",
    "    cv = KFold(n_splits=n)\n",
    "    for i, (train, test) in enumerate(cv.split(X,y)):\n",
    "        X_train_fold, y_train_fold = X[train], y[train]\n",
    "        X_test_fold, y_test_fold = X[test], y[test]\n",
    "        \n",
    "        os = SMOTE(random_state=43)\n",
    "        X_train_oversampled, y_train_oversampled = os.fit_sample(X_train_fold, y_train_fold)\n",
    "        model.fit(X_train_oversampled, y_train_oversampled)\n",
    "    \n",
    "    return model"
   ]
  },
  {
   "cell_type": "markdown",
   "metadata": {},
   "source": [
    "# train model on oversampled data with n cross validation \n",
    "# then plot lift curve and 'predicted probability' vs 'label of test data' histogram based on model prediction \n",
    "# then return model score on test data \n",
    "import scikitplot as skplt \n",
    "\n",
    "def liftcurve_probahisto_score(model, model_name, n, Xtest, ytest, ylim1, ylim2):\n",
    "    \n",
    "    # use function trainmodel_os_cv() to train model on oversampled X_train, y_train with n cv \n",
    "    final_model = trainmodel_os_cv(model, X_train, y_train, n)\n",
    "    \n",
    "    # get prediction from test dataset\n",
    "    yfinal = final_model.predict(Xtest)\n",
    "    yfinal_proba = final_model.predict_proba(Xtest)[:,1]\n",
    "    y_probas = final_model.predict_proba(Xtest)\n",
    "    \n",
    "    figure, (ax1,ax2) = plt.subplots(1,2, figsize=(16,4))\n",
    "    skplt.metrics.plot_lift_curve(y_true=ytest, y_probas=y_probas, ax=ax1)\n",
    "    ax1.set_ylim([0, ylim1])\n",
    "    ax1.set_xlabel('Percentage of sample', fontsize=12)\n",
    "    ax1.set_ylabel('Lift', fontsize=12)\n",
    "\n",
    "    \n",
    "    predProba_label = pd.DataFrame()\n",
    "    predProba_label['proba'] =(yfinal_proba - yfinal_proba.min())/(yfinal_proba.max() - yfinal_proba.min())\n",
    "    #predProba_label['proba'] = yfinal_proba\n",
    "    predProba_label['label'] = ytest\n",
    "    percent20 = round(len(ytest)*0.2)\n",
    "    percent50 = round(len(ytest)*0.5)\n",
    "    positive_in_top20pct = round(predProba_label,4).sort_values('proba', ascending=False).nlargest(percent20,'proba').label.sum()\n",
    "    positive_in_top50pct = round(predProba_label,4).sort_values('proba', ascending=False).nlargest(percent50,'proba').label.sum()\n",
    "    \n",
    "    \n",
    "    weights_1 = np.ones_like(predProba_label[predProba_label['label']==1].proba.index)/len(predProba_label[predProba_label['label']==1].proba.index)\n",
    "    predProba_label[predProba_label['label']==1].proba.plot(kind='hist',\n",
    "                                                                      bins=10,\n",
    "                                                                      color='r',\n",
    "                                                                      label='positive',\n",
    "                                                                      histtype='step',\n",
    "                                                                      stacked=False,\n",
    "                                                                      lw=2,\n",
    "                                                                      weights=weights_1,\n",
    "                                                                      ax=ax2)\n",
    "\n",
    "\n",
    "    weights_2 = np.ones_like(predProba_label[predProba_label['label']==0].proba.index)/len(predProba_label[predProba_label['label']==0].proba.index)\n",
    "    predProba_label[predProba_label['label']==0].proba.plot(kind='hist',\n",
    "                                                                     bins=10,\n",
    "                                                                     label='negative',\n",
    "                                                                     histtype='step',\n",
    "                                                                     stacked=False,\n",
    "                                                                     lw=2,\n",
    "                                                                     weights=weights_2,\n",
    "                                                                     ax=ax2)\n",
    "    \n",
    "#    sns.histplot(predProba_label, x='proba', hue='label', stat='probability', element='step',bins=10, ax=ax2)\n",
    "#     ax2.hist(predProba_label[predProba_label.label==1].proba, density=True, histtype='step',label='Positive',color='r' , lw=2)\n",
    "#     ax2.hist(predProba_label[predProba_label.label==0].proba, density=True, histtype='step',label='Negative', lw=2)\n",
    "#     ax2.set_ylim([0,10.0])\n",
    "    ax2.set_xlabel('Probability of prediction', fontsize=12)\n",
    "    ax2.set_ylabel('Fraction of observation', fontsize=12)\n",
    "    ax2.set_ylim([0, ylim2])\n",
    "    ax2.legend()\n",
    "    ax2.set_title('Predicted probability vs class',fontsize=12)\n",
    "    \n",
    "    #plt.suptitle(model,fontsize=12,fontweight='bold')\n",
    "    precision, recall, f1score, support = score(ytest, yfinal, pos_label=1,average='binary')\n",
    "    roc_auc = roc_auc_score(ytest, yfinal_proba)\n",
    "    dataframe = pd.DataFrame([precision, recall, f1score, roc_auc, positive_in_top20pct, positive_in_top50pct],\n",
    "                       index=['precison','recall','f1score','roc_auc', 'positive_in_top20pct', 'positive_in_top50pct'], \n",
    "                       columns=[model_name]).T\n",
    "    \n",
    "    return round(dataframe, 3)"
   ]
  },
  {
   "cell_type": "markdown",
   "metadata": {},
   "source": [
    "There's 728 positive datapoints(label=1) in y_test which contains 5508 datapoints.\n",
    "<br>If we use LogisticRegression we can capture 264, 469 <b>label1</b> among the top 20%, top50% of the predicted result,\n",
    "<br>meaning we can capture 36.3%, 64.4% of <b>label1</b> from the top20%,  top50% predicted result. (264/728=0.363)\n",
    "<br>While using GaussianNB we can only capture 250, 449 label1 among the top 20%, top50% of the predicted result.\n",
    "<br>meaning we can capture 34.3%,  61.7% of <b>label1</b> from the top20%, top50% predicted result.\n",
    "<br>* Question 1: Therefore we should choose LogisticRegression as the final model?\n",
    "<br>* Question 2: As my dataset contains both continuous variables and discrete variables, so I am no very sure if I can use GaussianNB classifier in this case\n"
   ]
  },
  {
   "cell_type": "markdown",
   "metadata": {},
   "source": [
    "# get liftcurve, probahisto and scores on X_train, y_train for model LR\n",
    "\n",
    "liftcurve_probahisto_score(LogisticRegression(), 'LogisticRegression', 5, X_train, y_train, 8, 0.3)"
   ]
  },
  {
   "cell_type": "markdown",
   "metadata": {},
   "source": [
    "# get liftcurve, probahisto and scores on X_test, y_test for model LR\n",
    "liftcurve_probahisto_score(LogisticRegression(), 'LogisticRegression', 5, X_test, y_test, 8, 0.3)"
   ]
  },
  {
   "cell_type": "markdown",
   "metadata": {},
   "source": [
    "# get liftcurve, probahisto and scores on X_train, y_train for model GaussianNB\n",
    "liftcurve_probahisto_score(GaussianNB(), 'GaussianNB',  5, X_train, y_train, 8, 0.35)"
   ]
  },
  {
   "cell_type": "markdown",
   "metadata": {},
   "source": [
    "# get liftcurve, probahisto and scores on X_test, y_test for model GaussianNB\n",
    "liftcurve_probahisto_score(GaussianNB(), 'GaussianNB', 5, X_test, y_test, 8, 0.35)"
   ]
  },
  {
   "cell_type": "markdown",
   "metadata": {},
   "source": [
    "liftcurve_probahisto_score(KNeighborsClassifier(), 'KNN',  5, X_train, y_train, 8, 0.5)"
   ]
  },
  {
   "cell_type": "markdown",
   "metadata": {},
   "source": [
    "liftcurve_probahisto_score(KNeighborsClassifier(), 'KNN',  5, X_test, y_test, 8, 0.5)"
   ]
  },
  {
   "cell_type": "markdown",
   "metadata": {},
   "source": [
    "liftcurve_probahisto_score(DecisionTreeClassifier(random_state=43), 'DT', 5,  X_train, y_train, 8, 1.0)"
   ]
  },
  {
   "cell_type": "markdown",
   "metadata": {},
   "source": [
    "liftcurve_probahisto_score(DecisionTreeClassifier(random_state=43), 'DT',  5, X_test, y_test, 8, 1.0)"
   ]
  },
  {
   "cell_type": "markdown",
   "metadata": {},
   "source": [
    "liftcurve_probahisto_score(RandomForestClassifier(random_state=43), 'RF',  5, X_train, y_train, 8, 0.7)"
   ]
  },
  {
   "cell_type": "markdown",
   "metadata": {},
   "source": [
    "liftcurve_probahisto_score(RandomForestClassifier(random_state=43), 'RF',  5, X_test, y_test, 8, 0.7)"
   ]
  },
  {
   "cell_type": "markdown",
   "metadata": {},
   "source": [
    "liftcurve_probahisto_score(GradientBoostingClassifier(random_state=43), 'GB',  5, X_train, y_train, 8, 0.3)"
   ]
  },
  {
   "cell_type": "markdown",
   "metadata": {},
   "source": [
    "liftcurve_probahisto_score(GradientBoostingClassifier(random_state=43), 'GB',  5, X_test, y_test, 8, 0.3)"
   ]
  },
  {
   "cell_type": "markdown",
   "metadata": {},
   "source": [
    "liftcurve_probahisto_score(XGBClassifier(random_state=43), 'XGB',  5, X_train, y_train, 8, 0.5)"
   ]
  },
  {
   "cell_type": "markdown",
   "metadata": {},
   "source": [
    "liftcurve_probahisto_score(XGBClassifier(random_state=43), 'XGB',  5, X_test, y_test, 8, 0.5)"
   ]
  },
  {
   "cell_type": "markdown",
   "metadata": {},
   "source": [
    "liftcurve_probahisto_score(lgb.LGBMClassifier(objective='binary',random_state=43), 'LightGB',  5, X_train, y_train, 8, 0.4)"
   ]
  },
  {
   "cell_type": "markdown",
   "metadata": {},
   "source": [
    "liftcurve_probahisto_score(lgb.LGBMClassifier(objective='binary',random_state=43), 'LightGB',  5, X_test, y_test, 8, 0.4)"
   ]
  },
  {
   "cell_type": "markdown",
   "metadata": {},
   "source": [
    "liftcurve_probahisto_score(SVC(probability=True, random_state=43), 'SVC',  5,  X_train, y_train, 6, 0.3)"
   ]
  },
  {
   "cell_type": "markdown",
   "metadata": {},
   "source": [
    "liftcurve_probahisto_score(SVC(probability=True, random_state=43), 'SVC',  5,  X_test, y_test, 6, 0.3)"
   ]
  },
  {
   "cell_type": "markdown",
   "metadata": {},
   "source": [
    "## Check feature importance for model GaussianNB and LogisticRegression"
   ]
  },
  {
   "cell_type": "markdown",
   "metadata": {},
   "source": [
    "# check feature importance for LogisticRegression\n",
    "model = trainmodel_os_cv(LogisticRegression(), X_train, y_train, 5)\n",
    "len(model.coef_[0])\n",
    "\n",
    "fig,ax = plt.subplots(figsize=(16,10))\n",
    "    \n",
    "plt.barh(df.drop('target',axis=1).columns.tolist(), abs(model.coef_[0]))"
   ]
  },
  {
   "cell_type": "markdown",
   "metadata": {},
   "source": [
    "# check feature importance for GaussianNB\n",
    "from sklearn.inspection import permutation_importance\n",
    "model = trainmodel_os_cv(GaussianNB(), X_train, y_train, 5)\n",
    "\n",
    "imps = permutation_importance(model, X_train, y_train)\n",
    "fig,ax = plt.subplots(figsize=(16,10))\n",
    "plt.barh(df.drop('target',axis=1).columns.tolist(), abs(imps.importances_mean))\n",
    "plt.show()"
   ]
  },
  {
   "cell_type": "markdown",
   "metadata": {},
   "source": [
    "model = trainmodel_os_cv(GradientBoostingClassifier(random_state=43), X_train, y_train, 5)\n",
    "\n",
    "fig,ax = plt.subplots(figsize=(16,10))\n",
    "plt.barh(df.drop('target',axis=1).columns.tolist(), model.feature_importances_)"
   ]
  },
  {
   "cell_type": "markdown",
   "metadata": {},
   "source": [
    "# feature importance for lighgbm\n",
    "from lightgbm import plot_importance\n",
    "model = trainmodel_os_cv(lgb.LGBMClassifier(objective='binary',random_state=43), X_train, y_train, 5)\n",
    "fig, ax = plt.subplots(figsize=(16, 10))\n",
    "plot_importance(model,ax=ax)\n",
    "plt.show()"
   ]
  },
  {
   "cell_type": "markdown",
   "metadata": {},
   "source": [
    "# feature importance for XGB\n",
    "from xgboost import plot_importance\n",
    "model = trainmodel_os_cv(XGBClassifier(random_state=43), X_train, y_train, 5)\n",
    "fig, ax = plt.subplots(figsize=(16, 10))\n",
    "plot_importance(model,ax=ax)\n",
    "plt.show()"
   ]
  },
  {
   "cell_type": "markdown",
   "metadata": {},
   "source": [
    "model = trainmodel_os_cv(XGBClassifier(random_state=43), X_train, y_train, 5)\n",
    "\n",
    "\n",
    "y_probas = model.predict_proba(X_test)\n",
    "skplt.metrics.plot_lift_curve(y_test, y_probas)"
   ]
  },
  {
   "cell_type": "markdown",
   "metadata": {},
   "source": [
    "\n",
    "from __future__ import absolute_import\n",
    "import matplotlib.pyplot as plt\n",
    "from sklearn.linear_model import LogisticRegression\n",
    "from sklearn.datasets import load_breast_cancer as load_data\n",
    "import scikitplot as skplt\n",
    "\n",
    "\n",
    "X, y = load_data(return_X_y=True)\n",
    "lr = LogisticRegression()\n",
    "lr.fit(X, y)\n",
    "probas = lr.predict_proba(X)\n",
    "skplt.metrics.plot_lift_curve(y_true=y, y_probas=probas)\n",
    "plt.show()"
   ]
  },
  {
   "cell_type": "markdown",
   "metadata": {},
   "source": [
    "y.shape"
   ]
  },
  {
   "cell_type": "markdown",
   "metadata": {},
   "source": []
  }
 ],
 "metadata": {
  "kernelspec": {
   "display_name": "Python 3",
   "language": "python",
   "name": "python3"
  },
  "language_info": {
   "codemirror_mode": {
    "name": "ipython",
    "version": 3
   },
   "file_extension": ".py",
   "mimetype": "text/x-python",
   "name": "python",
   "nbconvert_exporter": "python",
   "pygments_lexer": "ipython3",
   "version": "3.8.3"
  }
 },
 "nbformat": 4,
 "nbformat_minor": 4
}
