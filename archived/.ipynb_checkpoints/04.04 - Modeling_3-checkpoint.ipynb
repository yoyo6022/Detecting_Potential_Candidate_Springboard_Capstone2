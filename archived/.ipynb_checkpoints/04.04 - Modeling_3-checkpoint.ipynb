{
 "cells": [
  {
   "cell_type": "markdown",
   "metadata": {},
   "source": [
    "## Pre Explanation"
   ]
  },
  {
   "cell_type": "markdown",
   "metadata": {},
   "source": [
    "In this version I tried to use dummy encoding on column 'city', and dropped column 'city_development_index',\n",
    "<br>as when I check the corr heatmap, 'city_development_index' cause multicollinearity problem with some other columns.\n",
    "<br> The change in the results:\n",
    "+ 1) For all models, score dropped significantly and even trained model with oversampling dataset, \n",
    "<br> the performance didn't get much better. LogisticRegression and GaussianNB are the only 2 models have acceptable \n",
    "<br> recall and roc_auc score, while the other models' score (recall) are all under 0.55.\n",
    "+ 2) The feature importance ratio also changed, after I changed the encoding method to dummy encoding.\n",
    "<br> In the case of model decision tree, random forest, xgb and lightgb, the 9th feature which is 'training time' became the most important feature,while other models, cities have high ratio of positive classes are the most important feature, such as city21, city16 etc."
   ]
  },
  {
   "cell_type": "markdown",
   "metadata": {},
   "source": [
    "## Imports & Setup"
   ]
  },
  {
   "cell_type": "code",
   "execution_count": 249,
   "metadata": {},
   "outputs": [],
   "source": [
    "import os\n",
    "import pandas as pd\n",
    "# import datetime\n",
    "import seaborn as sns\n",
    "sns.set()\n",
    "import matplotlib.pyplot as plt\n",
    "import numpy as np\n",
    "# from scipy import stats\n",
    "# import random\n",
    "import category_encoders as ce\n",
    "from category_encoders import LeaveOneOutEncoder, TargetEncoder\n",
    "from sklearn.preprocessing import StandardScaler\n",
    "from sklearn.model_selection import train_test_split \n",
    "from sklearn.model_selection import KFold\n",
    "from sklearn.model_selection import cross_val_score\n",
    "from sklearn import model_selection\n",
    "\n",
    "from sklearn.linear_model import LogisticRegression\n",
    "from sklearn.naive_bayes import GaussianNB\n",
    "from sklearn.neighbors import KNeighborsClassifier\n",
    "from sklearn.svm import SVC\n",
    "from sklearn.tree import DecisionTreeClassifier\n",
    "from sklearn.ensemble import RandomForestClassifier\n",
    "from sklearn.ensemble import GradientBoostingClassifier\n",
    "from xgboost import XGBClassifier\n",
    "import xgboost as xgb\n",
    "#from catboost import CatBoostClassifier\n",
    "import lightgbm as lgb\n",
    "\n",
    "import time\n",
    "from sklearn.metrics import recall_score\n",
    "from sklearn.metrics import precision_score\n",
    "from sklearn.metrics import f1_score\n",
    "from sklearn import metrics\n",
    "from sklearn.metrics import f1_score\n",
    "from sklearn.metrics import make_scorer, accuracy_score, precision_score, recall_score, f1_score, roc_auc_score\n",
    "from sklearn.metrics import roc_auc_score\n",
    "from sklearn.metrics import precision_recall_fscore_support as score, accuracy_score\n",
    "from sklearn.metrics import classification_report, confusion_matrix, roc_curve, auc\n",
    "from imblearn.over_sampling import SMOTE\n",
    "%matplotlib inline"
   ]
  },
  {
   "cell_type": "code",
   "execution_count": 250,
   "metadata": {},
   "outputs": [
    {
     "name": "stdout",
     "output_type": "stream",
     "text": [
      "/Users/liuyang/Desktop/Springboard_Capstone\n",
      "/Users/liuyang/Desktop/Springboard_Capstone\n"
     ]
    }
   ],
   "source": [
    "print(os.getcwd())\n",
    "os.chdir('/Users/liuyang/Desktop/Springboard_Capstone') \n",
    "print(os.getcwd())"
   ]
  },
  {
   "cell_type": "code",
   "execution_count": 251,
   "metadata": {},
   "outputs": [],
   "source": [
    "df = pd.read_csv('data/train.csv')"
   ]
  },
  {
   "cell_type": "code",
   "execution_count": 252,
   "metadata": {},
   "outputs": [
    {
     "data": {
      "text/plain": [
       "(18359, 14)"
      ]
     },
     "execution_count": 252,
     "metadata": {},
     "output_type": "execute_result"
    }
   ],
   "source": [
    "df.shape"
   ]
  },
  {
   "cell_type": "code",
   "execution_count": 253,
   "metadata": {},
   "outputs": [
    {
     "data": {
      "text/html": [
       "<div>\n",
       "<style scoped>\n",
       "    .dataframe tbody tr th:only-of-type {\n",
       "        vertical-align: middle;\n",
       "    }\n",
       "\n",
       "    .dataframe tbody tr th {\n",
       "        vertical-align: top;\n",
       "    }\n",
       "\n",
       "    .dataframe thead th {\n",
       "        text-align: right;\n",
       "    }\n",
       "</style>\n",
       "<table border=\"1\" class=\"dataframe\">\n",
       "  <thead>\n",
       "    <tr style=\"text-align: right;\">\n",
       "      <th></th>\n",
       "      <th>enrollee_id</th>\n",
       "      <th>city</th>\n",
       "      <th>city_development_index</th>\n",
       "      <th>gender</th>\n",
       "      <th>relevent_experience</th>\n",
       "      <th>enrolled_university</th>\n",
       "      <th>education_level</th>\n",
       "      <th>major_discipline</th>\n",
       "      <th>experience</th>\n",
       "      <th>company_size</th>\n",
       "      <th>company_type</th>\n",
       "      <th>last_new_job</th>\n",
       "      <th>training_hours</th>\n",
       "      <th>target</th>\n",
       "    </tr>\n",
       "  </thead>\n",
       "  <tbody>\n",
       "    <tr>\n",
       "      <th>0</th>\n",
       "      <td>23798</td>\n",
       "      <td>city_149</td>\n",
       "      <td>0.689</td>\n",
       "      <td>Male</td>\n",
       "      <td>Has relevent experience</td>\n",
       "      <td>no_enrollment</td>\n",
       "      <td>Graduate</td>\n",
       "      <td>STEM</td>\n",
       "      <td>3</td>\n",
       "      <td>100-500</td>\n",
       "      <td>Pvt Ltd</td>\n",
       "      <td>1</td>\n",
       "      <td>106</td>\n",
       "      <td>0</td>\n",
       "    </tr>\n",
       "    <tr>\n",
       "      <th>1</th>\n",
       "      <td>29166</td>\n",
       "      <td>city_83</td>\n",
       "      <td>0.923</td>\n",
       "      <td>Male</td>\n",
       "      <td>Has relevent experience</td>\n",
       "      <td>no_enrollment</td>\n",
       "      <td>Graduate</td>\n",
       "      <td>STEM</td>\n",
       "      <td>14</td>\n",
       "      <td>&lt;10</td>\n",
       "      <td>Funded Startup</td>\n",
       "      <td>1</td>\n",
       "      <td>69</td>\n",
       "      <td>0</td>\n",
       "    </tr>\n",
       "    <tr>\n",
       "      <th>2</th>\n",
       "      <td>46</td>\n",
       "      <td>city_16</td>\n",
       "      <td>0.910</td>\n",
       "      <td>NaN</td>\n",
       "      <td>Has relevent experience</td>\n",
       "      <td>no_enrollment</td>\n",
       "      <td>Graduate</td>\n",
       "      <td>STEM</td>\n",
       "      <td>6</td>\n",
       "      <td>50-99</td>\n",
       "      <td>Public Sector</td>\n",
       "      <td>2</td>\n",
       "      <td>4</td>\n",
       "      <td>0</td>\n",
       "    </tr>\n",
       "    <tr>\n",
       "      <th>3</th>\n",
       "      <td>18527</td>\n",
       "      <td>city_64</td>\n",
       "      <td>0.666</td>\n",
       "      <td>Male</td>\n",
       "      <td>Has relevent experience</td>\n",
       "      <td>no_enrollment</td>\n",
       "      <td>Graduate</td>\n",
       "      <td>STEM</td>\n",
       "      <td>14</td>\n",
       "      <td>50-99</td>\n",
       "      <td>Pvt Ltd</td>\n",
       "      <td>1</td>\n",
       "      <td>26</td>\n",
       "      <td>0</td>\n",
       "    </tr>\n",
       "    <tr>\n",
       "      <th>4</th>\n",
       "      <td>21751</td>\n",
       "      <td>city_100</td>\n",
       "      <td>0.887</td>\n",
       "      <td>NaN</td>\n",
       "      <td>No relevent experience</td>\n",
       "      <td>no_enrollment</td>\n",
       "      <td>Masters</td>\n",
       "      <td>STEM</td>\n",
       "      <td>8</td>\n",
       "      <td>NaN</td>\n",
       "      <td>NaN</td>\n",
       "      <td>2</td>\n",
       "      <td>88</td>\n",
       "      <td>1</td>\n",
       "    </tr>\n",
       "  </tbody>\n",
       "</table>\n",
       "</div>"
      ],
      "text/plain": [
       "   enrollee_id      city  city_development_index gender  \\\n",
       "0        23798  city_149                   0.689   Male   \n",
       "1        29166   city_83                   0.923   Male   \n",
       "2           46   city_16                   0.910    NaN   \n",
       "3        18527   city_64                   0.666   Male   \n",
       "4        21751  city_100                   0.887    NaN   \n",
       "\n",
       "       relevent_experience enrolled_university education_level  \\\n",
       "0  Has relevent experience       no_enrollment        Graduate   \n",
       "1  Has relevent experience       no_enrollment        Graduate   \n",
       "2  Has relevent experience       no_enrollment        Graduate   \n",
       "3  Has relevent experience       no_enrollment        Graduate   \n",
       "4   No relevent experience       no_enrollment         Masters   \n",
       "\n",
       "  major_discipline experience company_size    company_type last_new_job  \\\n",
       "0             STEM          3      100-500         Pvt Ltd            1   \n",
       "1             STEM         14          <10  Funded Startup            1   \n",
       "2             STEM          6        50-99   Public Sector            2   \n",
       "3             STEM         14        50-99         Pvt Ltd            1   \n",
       "4             STEM          8          NaN             NaN            2   \n",
       "\n",
       "   training_hours  target  \n",
       "0             106       0  \n",
       "1              69       0  \n",
       "2               4       0  \n",
       "3              26       0  \n",
       "4              88       1  "
      ]
     },
     "execution_count": 253,
     "metadata": {},
     "output_type": "execute_result"
    }
   ],
   "source": [
    "df.head()"
   ]
  },
  {
   "cell_type": "code",
   "execution_count": 254,
   "metadata": {},
   "outputs": [
    {
     "data": {
      "text/plain": [
       "enrollee_id                  0\n",
       "city                         0\n",
       "city_development_index       0\n",
       "gender                    4098\n",
       "relevent_experience          0\n",
       "enrolled_university        342\n",
       "education_level            457\n",
       "major_discipline          2838\n",
       "experience                  59\n",
       "company_size              4779\n",
       "company_type              5039\n",
       "last_new_job               367\n",
       "training_hours               0\n",
       "target                       0\n",
       "dtype: int64"
      ]
     },
     "execution_count": 254,
     "metadata": {},
     "output_type": "execute_result"
    }
   ],
   "source": [
    "df.isnull().sum()"
   ]
  },
  {
   "cell_type": "code",
   "execution_count": 255,
   "metadata": {},
   "outputs": [],
   "source": [
    "def fill_na(data):\n",
    "    for i in data.columns:\n",
    "        data[i].fillna(data[i].mode()[0],inplace=True)\n",
    "        \n",
    "        \n",
    "fill_na(df)"
   ]
  },
  {
   "cell_type": "code",
   "execution_count": 256,
   "metadata": {},
   "outputs": [
    {
     "data": {
      "text/plain": [
       "enrollee_id               0\n",
       "city                      0\n",
       "city_development_index    0\n",
       "gender                    0\n",
       "relevent_experience       0\n",
       "enrolled_university       0\n",
       "education_level           0\n",
       "major_discipline          0\n",
       "experience                0\n",
       "company_size              0\n",
       "company_type              0\n",
       "last_new_job              0\n",
       "training_hours            0\n",
       "target                    0\n",
       "dtype: int64"
      ]
     },
     "execution_count": 256,
     "metadata": {},
     "output_type": "execute_result"
    }
   ],
   "source": [
    "df.isnull().sum()"
   ]
  },
  {
   "cell_type": "code",
   "execution_count": 257,
   "metadata": {},
   "outputs": [
    {
     "data": {
      "text/plain": [
       "city_103    4358\n",
       "city_21     1672\n",
       "city_16     1654\n",
       "city_114    1472\n",
       "city_160     827\n",
       "            ... \n",
       "city_121       3\n",
       "city_111       3\n",
       "city_129       3\n",
       "city_171       2\n",
       "city_140       1\n",
       "Name: city, Length: 123, dtype: int64"
      ]
     },
     "execution_count": 257,
     "metadata": {},
     "output_type": "execute_result"
    }
   ],
   "source": [
    "df.city.value_counts()"
   ]
  },
  {
   "cell_type": "code",
   "execution_count": 258,
   "metadata": {},
   "outputs": [],
   "source": [
    "df.city = df.city.map(lambda x: 'others' if df[df['city']==x].count()[0] < 50 else x)"
   ]
  },
  {
   "cell_type": "code",
   "execution_count": 259,
   "metadata": {},
   "outputs": [],
   "source": [
    "#df.city.value_counts()"
   ]
  },
  {
   "cell_type": "code",
   "execution_count": 260,
   "metadata": {},
   "outputs": [],
   "source": [
    "df.company_size = df.company_size.map(lambda x: 'small' if x in ['<10','10/49','50-99'] else 'medium' if x in['100-500', '500-999'] else 'large')"
   ]
  },
  {
   "cell_type": "code",
   "execution_count": 261,
   "metadata": {},
   "outputs": [
    {
     "data": {
      "text/plain": [
       "small     10725\n",
       "large      4034\n",
       "medium     3600\n",
       "Name: company_size, dtype: int64"
      ]
     },
     "execution_count": 261,
     "metadata": {},
     "output_type": "execute_result"
    }
   ],
   "source": [
    "df.company_size.value_counts()"
   ]
  },
  {
   "cell_type": "code",
   "execution_count": 262,
   "metadata": {},
   "outputs": [],
   "source": [
    "df.experience = df.experience .map(lambda x: 'junior' if x in ['<1', '1', '2','3', '4','5'] else 'senior' if x in ['6','7','8','9','10'] else 'expert')"
   ]
  },
  {
   "cell_type": "code",
   "execution_count": 263,
   "metadata": {},
   "outputs": [
    {
     "data": {
      "text/plain": [
       "expert    8005\n",
       "junior    5578\n",
       "senior    4776\n",
       "Name: experience, dtype: int64"
      ]
     },
     "execution_count": 263,
     "metadata": {},
     "output_type": "execute_result"
    }
   ],
   "source": [
    "df.experience.value_counts()"
   ]
  },
  {
   "cell_type": "code",
   "execution_count": 264,
   "metadata": {},
   "outputs": [],
   "source": [
    "df = df.drop('enrollee_id',axis=1)"
   ]
  },
  {
   "cell_type": "code",
   "execution_count": 265,
   "metadata": {},
   "outputs": [],
   "source": [
    "cat_col = df.select_dtypes(include=['object']).columns.tolist()"
   ]
  },
  {
   "cell_type": "code",
   "execution_count": 266,
   "metadata": {},
   "outputs": [
    {
     "data": {
      "text/html": [
       "<div>\n",
       "<style scoped>\n",
       "    .dataframe tbody tr th:only-of-type {\n",
       "        vertical-align: middle;\n",
       "    }\n",
       "\n",
       "    .dataframe tbody tr th {\n",
       "        vertical-align: top;\n",
       "    }\n",
       "\n",
       "    .dataframe thead th {\n",
       "        text-align: right;\n",
       "    }\n",
       "</style>\n",
       "<table border=\"1\" class=\"dataframe\">\n",
       "  <thead>\n",
       "    <tr style=\"text-align: right;\">\n",
       "      <th></th>\n",
       "      <th>city</th>\n",
       "      <th>city_development_index</th>\n",
       "      <th>gender</th>\n",
       "      <th>relevent_experience</th>\n",
       "      <th>enrolled_university</th>\n",
       "      <th>education_level</th>\n",
       "      <th>major_discipline</th>\n",
       "      <th>experience</th>\n",
       "      <th>company_size</th>\n",
       "      <th>company_type</th>\n",
       "      <th>last_new_job</th>\n",
       "      <th>training_hours</th>\n",
       "      <th>target</th>\n",
       "    </tr>\n",
       "  </thead>\n",
       "  <tbody>\n",
       "    <tr>\n",
       "      <th>0</th>\n",
       "      <td>city_149</td>\n",
       "      <td>0.689</td>\n",
       "      <td>Male</td>\n",
       "      <td>Has relevent experience</td>\n",
       "      <td>no_enrollment</td>\n",
       "      <td>Graduate</td>\n",
       "      <td>STEM</td>\n",
       "      <td>junior</td>\n",
       "      <td>medium</td>\n",
       "      <td>Pvt Ltd</td>\n",
       "      <td>1</td>\n",
       "      <td>106</td>\n",
       "      <td>0</td>\n",
       "    </tr>\n",
       "    <tr>\n",
       "      <th>1</th>\n",
       "      <td>city_83</td>\n",
       "      <td>0.923</td>\n",
       "      <td>Male</td>\n",
       "      <td>Has relevent experience</td>\n",
       "      <td>no_enrollment</td>\n",
       "      <td>Graduate</td>\n",
       "      <td>STEM</td>\n",
       "      <td>expert</td>\n",
       "      <td>small</td>\n",
       "      <td>Funded Startup</td>\n",
       "      <td>1</td>\n",
       "      <td>69</td>\n",
       "      <td>0</td>\n",
       "    </tr>\n",
       "    <tr>\n",
       "      <th>2</th>\n",
       "      <td>city_16</td>\n",
       "      <td>0.910</td>\n",
       "      <td>Male</td>\n",
       "      <td>Has relevent experience</td>\n",
       "      <td>no_enrollment</td>\n",
       "      <td>Graduate</td>\n",
       "      <td>STEM</td>\n",
       "      <td>senior</td>\n",
       "      <td>small</td>\n",
       "      <td>Public Sector</td>\n",
       "      <td>2</td>\n",
       "      <td>4</td>\n",
       "      <td>0</td>\n",
       "    </tr>\n",
       "    <tr>\n",
       "      <th>3</th>\n",
       "      <td>city_64</td>\n",
       "      <td>0.666</td>\n",
       "      <td>Male</td>\n",
       "      <td>Has relevent experience</td>\n",
       "      <td>no_enrollment</td>\n",
       "      <td>Graduate</td>\n",
       "      <td>STEM</td>\n",
       "      <td>expert</td>\n",
       "      <td>small</td>\n",
       "      <td>Pvt Ltd</td>\n",
       "      <td>1</td>\n",
       "      <td>26</td>\n",
       "      <td>0</td>\n",
       "    </tr>\n",
       "    <tr>\n",
       "      <th>4</th>\n",
       "      <td>city_100</td>\n",
       "      <td>0.887</td>\n",
       "      <td>Male</td>\n",
       "      <td>No relevent experience</td>\n",
       "      <td>no_enrollment</td>\n",
       "      <td>Masters</td>\n",
       "      <td>STEM</td>\n",
       "      <td>senior</td>\n",
       "      <td>small</td>\n",
       "      <td>Pvt Ltd</td>\n",
       "      <td>2</td>\n",
       "      <td>88</td>\n",
       "      <td>1</td>\n",
       "    </tr>\n",
       "  </tbody>\n",
       "</table>\n",
       "</div>"
      ],
      "text/plain": [
       "       city  city_development_index gender      relevent_experience  \\\n",
       "0  city_149                   0.689   Male  Has relevent experience   \n",
       "1   city_83                   0.923   Male  Has relevent experience   \n",
       "2   city_16                   0.910   Male  Has relevent experience   \n",
       "3   city_64                   0.666   Male  Has relevent experience   \n",
       "4  city_100                   0.887   Male   No relevent experience   \n",
       "\n",
       "  enrolled_university education_level major_discipline experience  \\\n",
       "0       no_enrollment        Graduate             STEM     junior   \n",
       "1       no_enrollment        Graduate             STEM     expert   \n",
       "2       no_enrollment        Graduate             STEM     senior   \n",
       "3       no_enrollment        Graduate             STEM     expert   \n",
       "4       no_enrollment         Masters             STEM     senior   \n",
       "\n",
       "  company_size    company_type last_new_job  training_hours  target  \n",
       "0       medium         Pvt Ltd            1             106       0  \n",
       "1        small  Funded Startup            1              69       0  \n",
       "2        small   Public Sector            2               4       0  \n",
       "3        small         Pvt Ltd            1              26       0  \n",
       "4        small         Pvt Ltd            2              88       1  "
      ]
     },
     "execution_count": 266,
     "metadata": {},
     "output_type": "execute_result"
    }
   ],
   "source": [
    "### df = pd.get_dummies(df,columns=cat_col)\n",
    "df.head()"
   ]
  },
  {
   "cell_type": "code",
   "execution_count": 267,
   "metadata": {},
   "outputs": [
    {
     "data": {
      "text/plain": [
       "Index(['city', 'city_development_index', 'gender', 'relevent_experience',\n",
       "       'enrolled_university', 'education_level', 'major_discipline',\n",
       "       'experience', 'company_size', 'company_type', 'last_new_job',\n",
       "       'training_hours', 'target'],\n",
       "      dtype='object')"
      ]
     },
     "execution_count": 267,
     "metadata": {},
     "output_type": "execute_result"
    }
   ],
   "source": [
    "df.columns"
   ]
  },
  {
   "cell_type": "code",
   "execution_count": 268,
   "metadata": {},
   "outputs": [
    {
     "data": {
      "text/plain": [
       "(18359, 13)"
      ]
     },
     "execution_count": 268,
     "metadata": {},
     "output_type": "execute_result"
    }
   ],
   "source": [
    "df.shape"
   ]
  },
  {
   "cell_type": "code",
   "execution_count": 269,
   "metadata": {},
   "outputs": [],
   "source": [
    "X = df.drop(['target'],axis=1)\n",
    "y = df['target']"
   ]
  },
  {
   "cell_type": "code",
   "execution_count": 270,
   "metadata": {},
   "outputs": [],
   "source": [
    "# enc =ce.WOEEncoder(cols=cat_col)\n",
    "# X_enc = enc.fit_transform(X,y)\n",
    "# X_enc.head()"
   ]
  },
  {
   "cell_type": "code",
   "execution_count": 271,
   "metadata": {},
   "outputs": [],
   "source": [
    "# enc = TargetEncoder(cols=cat_col)\n",
    "# X_enc = enc.fit_transform(X,y)\n",
    "# X_enc.head()"
   ]
  },
  {
   "cell_type": "code",
   "execution_count": 272,
   "metadata": {},
   "outputs": [
    {
     "data": {
      "text/html": [
       "<div>\n",
       "<style scoped>\n",
       "    .dataframe tbody tr th:only-of-type {\n",
       "        vertical-align: middle;\n",
       "    }\n",
       "\n",
       "    .dataframe tbody tr th {\n",
       "        vertical-align: top;\n",
       "    }\n",
       "\n",
       "    .dataframe thead th {\n",
       "        text-align: right;\n",
       "    }\n",
       "</style>\n",
       "<table border=\"1\" class=\"dataframe\">\n",
       "  <thead>\n",
       "    <tr style=\"text-align: right;\">\n",
       "      <th></th>\n",
       "      <th>city</th>\n",
       "      <th>city_development_index</th>\n",
       "      <th>gender</th>\n",
       "      <th>relevent_experience</th>\n",
       "      <th>enrolled_university</th>\n",
       "      <th>education_level</th>\n",
       "      <th>major_discipline</th>\n",
       "      <th>experience</th>\n",
       "      <th>company_size</th>\n",
       "      <th>company_type</th>\n",
       "      <th>last_new_job</th>\n",
       "      <th>training_hours</th>\n",
       "    </tr>\n",
       "  </thead>\n",
       "  <tbody>\n",
       "    <tr>\n",
       "      <th>0</th>\n",
       "      <td>0.125000</td>\n",
       "      <td>0.689</td>\n",
       "      <td>0.130558</td>\n",
       "      <td>0.117249</td>\n",
       "      <td>0.117429</td>\n",
       "      <td>0.141915</td>\n",
       "      <td>0.133394</td>\n",
       "      <td>0.173211</td>\n",
       "      <td>0.106974</td>\n",
       "      <td>0.133541</td>\n",
       "      <td>0.137149</td>\n",
       "      <td>106</td>\n",
       "    </tr>\n",
       "    <tr>\n",
       "      <th>1</th>\n",
       "      <td>0.099291</td>\n",
       "      <td>0.923</td>\n",
       "      <td>0.130558</td>\n",
       "      <td>0.117249</td>\n",
       "      <td>0.117429</td>\n",
       "      <td>0.141915</td>\n",
       "      <td>0.133394</td>\n",
       "      <td>0.105322</td>\n",
       "      <td>0.146028</td>\n",
       "      <td>0.092575</td>\n",
       "      <td>0.137149</td>\n",
       "      <td>69</td>\n",
       "    </tr>\n",
       "    <tr>\n",
       "      <th>2</th>\n",
       "      <td>0.093164</td>\n",
       "      <td>0.910</td>\n",
       "      <td>0.130558</td>\n",
       "      <td>0.117249</td>\n",
       "      <td>0.117429</td>\n",
       "      <td>0.141915</td>\n",
       "      <td>0.133394</td>\n",
       "      <td>0.129005</td>\n",
       "      <td>0.146028</td>\n",
       "      <td>0.152764</td>\n",
       "      <td>0.137262</td>\n",
       "      <td>4</td>\n",
       "    </tr>\n",
       "    <tr>\n",
       "      <th>3</th>\n",
       "      <td>0.101695</td>\n",
       "      <td>0.666</td>\n",
       "      <td>0.130558</td>\n",
       "      <td>0.117249</td>\n",
       "      <td>0.117429</td>\n",
       "      <td>0.141915</td>\n",
       "      <td>0.133394</td>\n",
       "      <td>0.105322</td>\n",
       "      <td>0.146028</td>\n",
       "      <td>0.133541</td>\n",
       "      <td>0.137149</td>\n",
       "      <td>26</td>\n",
       "    </tr>\n",
       "    <tr>\n",
       "      <th>4</th>\n",
       "      <td>0.159259</td>\n",
       "      <td>0.887</td>\n",
       "      <td>0.130499</td>\n",
       "      <td>0.174297</td>\n",
       "      <td>0.117357</td>\n",
       "      <td>0.118573</td>\n",
       "      <td>0.133333</td>\n",
       "      <td>0.128796</td>\n",
       "      <td>0.145934</td>\n",
       "      <td>0.133475</td>\n",
       "      <td>0.136909</td>\n",
       "      <td>88</td>\n",
       "    </tr>\n",
       "  </tbody>\n",
       "</table>\n",
       "</div>"
      ],
      "text/plain": [
       "       city  city_development_index    gender  relevent_experience  \\\n",
       "0  0.125000                   0.689  0.130558             0.117249   \n",
       "1  0.099291                   0.923  0.130558             0.117249   \n",
       "2  0.093164                   0.910  0.130558             0.117249   \n",
       "3  0.101695                   0.666  0.130558             0.117249   \n",
       "4  0.159259                   0.887  0.130499             0.174297   \n",
       "\n",
       "   enrolled_university  education_level  major_discipline  experience  \\\n",
       "0             0.117429         0.141915          0.133394    0.173211   \n",
       "1             0.117429         0.141915          0.133394    0.105322   \n",
       "2             0.117429         0.141915          0.133394    0.129005   \n",
       "3             0.117429         0.141915          0.133394    0.105322   \n",
       "4             0.117357         0.118573          0.133333    0.128796   \n",
       "\n",
       "   company_size  company_type  last_new_job  training_hours  \n",
       "0      0.106974      0.133541      0.137149             106  \n",
       "1      0.146028      0.092575      0.137149              69  \n",
       "2      0.146028      0.152764      0.137262               4  \n",
       "3      0.146028      0.133541      0.137149              26  \n",
       "4      0.145934      0.133475      0.136909              88  "
      ]
     },
     "execution_count": 272,
     "metadata": {},
     "output_type": "execute_result"
    }
   ],
   "source": [
    "enc = LeaveOneOutEncoder(cols=cat_col)\n",
    "X_enc = enc.fit_transform(X,y)\n",
    "X_enc.head()"
   ]
  },
  {
   "cell_type": "code",
   "execution_count": 273,
   "metadata": {},
   "outputs": [],
   "source": [
    "df = pd.concat([X_enc,y],axis=1)"
   ]
  },
  {
   "cell_type": "code",
   "execution_count": 274,
   "metadata": {},
   "outputs": [
    {
     "data": {
      "image/png": "[encoded data removed]",
      "text/plain": [
       "<Figure size 864x504 with 2 Axes>"
      ]
     },
     "metadata": {
      "needs_background": "light"
     },
     "output_type": "display_data"
    }
   ],
   "source": [
    "_= plt.subplots(figsize=(12,7))\n",
    "sns.heatmap(df.corr(),annot=True,cmap='coolwarm') \n",
    "plt.show()"
   ]
  },
  {
   "cell_type": "code",
   "execution_count": 275,
   "metadata": {},
   "outputs": [],
   "source": [
    "X = df.drop(['target'],axis=1)\n",
    "y = df['target'].ravel()"
   ]
  },
  {
   "cell_type": "code",
   "execution_count": 276,
   "metadata": {},
   "outputs": [],
   "source": [
    "X_scaled = StandardScaler().fit_transform(X)\n",
    "\n",
    "X_train,X_test,y_train,y_test = train_test_split(X_scaled, y, test_size=0.30, stratify=y, random_state=43)"
   ]
  },
  {
   "cell_type": "code",
   "execution_count": 277,
   "metadata": {},
   "outputs": [
    {
     "data": {
      "text/plain": [
       "(array([0, 1]), array([4780,  728]))"
      ]
     },
     "execution_count": 277,
     "metadata": {},
     "output_type": "execute_result"
    }
   ],
   "source": [
    "np.unique(y_test,return_counts=True)"
   ]
  },
  {
   "cell_type": "code",
   "execution_count": 278,
   "metadata": {},
   "outputs": [],
   "source": [
    "index = ['LR','GNB','KNN','SVC','DT','RF','GB','XGB','LightGB']\n",
    "models = [LogisticRegression(),\n",
    "          GaussianNB(),\n",
    "          KNeighborsClassifier(),\n",
    "          SVC(probability=True, random_state=43),\n",
    "          DecisionTreeClassifier(random_state=43),\n",
    "          RandomForestClassifier(random_state=43),\n",
    "          GradientBoostingClassifier(random_state=43),\n",
    "          XGBClassifier(random_state=43),\n",
    "          lgb.LGBMClassifier(objective='binary',random_state=43)]\n",
    "\n",
    "    # combine index and models to a dictionary\n",
    "model_dict = dict(zip(index,models))"
   ]
  },
  {
   "cell_type": "code",
   "execution_count": 279,
   "metadata": {},
   "outputs": [],
   "source": [
    "def model_eval(model_name, X, y, n):\n",
    "    scoring = {\n",
    "           'accuracy' : make_scorer(accuracy_score), \n",
    "           'precision' : make_scorer(precision_score),\n",
    "           'recall' : make_scorer(recall_score), \n",
    "           'f1_score' : make_scorer(f1_score),\n",
    "           'roc_auc' : make_scorer(roc_auc_score, needs_proba=True)}\n",
    "\n",
    "    kfold = KFold(n_splits=n)\n",
    "    model = model_name\n",
    "\n",
    "    model_res = model_selection.cross_validate(\n",
    "                                          estimator=model,\n",
    "                                          X=X,\n",
    "                                          y=y,\n",
    "                                          cv=kfold,\n",
    "                                          scoring=scoring)\n",
    "    \n",
    "    return pd.DataFrame(model_res).round(3)"
   ]
  },
  {
   "cell_type": "code",
   "execution_count": 280,
   "metadata": {},
   "outputs": [],
   "source": [
    "def allmodel_perform(X, y, n):\n",
    "    # create a empty list to put the average model test_score from the validation\n",
    "    model_score_average = []\n",
    "    \n",
    "    # Loop inside the model_dict and average the test_score. (test_score contains: accuracy, precision, recall, fscore, roc_auc_score)\n",
    "    # Append the avarage score to list 'model_score_average' \n",
    "    for model in model_dict.values():\n",
    "        model_score_average.append(model_eval(model,X,y,n).mean())\n",
    "\n",
    "\n",
    "    # put the model_score_average into a dataframe \n",
    "    df_model_eval = pd.DataFrame(model_score_average,index=list(model_dict.keys())).round(5)\n",
    "    df_model_eval = df_model_eval.reset_index().rename(columns={'index':'model'})\n",
    "    return df_model_eval"
   ]
  },
  {
   "cell_type": "code",
   "execution_count": 281,
   "metadata": {},
   "outputs": [
    {
     "name": "stderr",
     "output_type": "stream",
     "text": [
      "/Users/liuyang/opt/anaconda3/lib/python3.8/site-packages/sklearn/metrics/_classification.py:1221: UndefinedMetricWarning: Precision is ill-defined and being set to 0.0 due to no predicted samples. Use `zero_division` parameter to control this behavior.\n",
      "  _warn_prf(average, modifier, msg_start, len(result))\n",
      "/Users/liuyang/opt/anaconda3/lib/python3.8/site-packages/sklearn/metrics/_classification.py:1221: UndefinedMetricWarning: Precision is ill-defined and being set to 0.0 due to no predicted samples. Use `zero_division` parameter to control this behavior.\n",
      "  _warn_prf(average, modifier, msg_start, len(result))\n",
      "/Users/liuyang/opt/anaconda3/lib/python3.8/site-packages/sklearn/metrics/_classification.py:1221: UndefinedMetricWarning: Precision is ill-defined and being set to 0.0 due to no predicted samples. Use `zero_division` parameter to control this behavior.\n",
      "  _warn_prf(average, modifier, msg_start, len(result))\n",
      "/Users/liuyang/opt/anaconda3/lib/python3.8/site-packages/sklearn/metrics/_classification.py:1221: UndefinedMetricWarning: Precision is ill-defined and being set to 0.0 due to no predicted samples. Use `zero_division` parameter to control this behavior.\n",
      "  _warn_prf(average, modifier, msg_start, len(result))\n",
      "/Users/liuyang/opt/anaconda3/lib/python3.8/site-packages/sklearn/metrics/_classification.py:1221: UndefinedMetricWarning: Precision is ill-defined and being set to 0.0 due to no predicted samples. Use `zero_division` parameter to control this behavior.\n",
      "  _warn_prf(average, modifier, msg_start, len(result))\n",
      "/Users/liuyang/opt/anaconda3/lib/python3.8/site-packages/sklearn/metrics/_classification.py:1221: UndefinedMetricWarning: Precision is ill-defined and being set to 0.0 due to no predicted samples. Use `zero_division` parameter to control this behavior.\n",
      "  _warn_prf(average, modifier, msg_start, len(result))\n",
      "/Users/liuyang/opt/anaconda3/lib/python3.8/site-packages/sklearn/metrics/_classification.py:1221: UndefinedMetricWarning: Precision is ill-defined and being set to 0.0 due to no predicted samples. Use `zero_division` parameter to control this behavior.\n",
      "  _warn_prf(average, modifier, msg_start, len(result))\n",
      "/Users/liuyang/opt/anaconda3/lib/python3.8/site-packages/sklearn/metrics/_classification.py:1221: UndefinedMetricWarning: Precision is ill-defined and being set to 0.0 due to no predicted samples. Use `zero_division` parameter to control this behavior.\n",
      "  _warn_prf(average, modifier, msg_start, len(result))\n",
      "/Users/liuyang/opt/anaconda3/lib/python3.8/site-packages/sklearn/metrics/_classification.py:1221: UndefinedMetricWarning: Precision is ill-defined and being set to 0.0 due to no predicted samples. Use `zero_division` parameter to control this behavior.\n",
      "  _warn_prf(average, modifier, msg_start, len(result))\n"
     ]
    },
    {
     "data": {
      "text/html": [
       "<div>\n",
       "<style scoped>\n",
       "    .dataframe tbody tr th:only-of-type {\n",
       "        vertical-align: middle;\n",
       "    }\n",
       "\n",
       "    .dataframe tbody tr th {\n",
       "        vertical-align: top;\n",
       "    }\n",
       "\n",
       "    .dataframe thead th {\n",
       "        text-align: right;\n",
       "    }\n",
       "</style>\n",
       "<table border=\"1\" class=\"dataframe\">\n",
       "  <thead>\n",
       "    <tr style=\"text-align: right;\">\n",
       "      <th></th>\n",
       "      <th>model</th>\n",
       "      <th>fit_time</th>\n",
       "      <th>score_time</th>\n",
       "      <th>test_accuracy</th>\n",
       "      <th>test_precision</th>\n",
       "      <th>test_recall</th>\n",
       "      <th>test_f1_score</th>\n",
       "      <th>test_roc_auc</th>\n",
       "    </tr>\n",
       "  </thead>\n",
       "  <tbody>\n",
       "    <tr>\n",
       "      <th>0</th>\n",
       "      <td>LR</td>\n",
       "      <td>0.0122</td>\n",
       "      <td>0.0072</td>\n",
       "      <td>0.8678</td>\n",
       "      <td>0.0000</td>\n",
       "      <td>0.0000</td>\n",
       "      <td>0.0000</td>\n",
       "      <td>0.6404</td>\n",
       "    </tr>\n",
       "    <tr>\n",
       "      <th>1</th>\n",
       "      <td>GNB</td>\n",
       "      <td>0.0040</td>\n",
       "      <td>0.0086</td>\n",
       "      <td>0.8092</td>\n",
       "      <td>0.2586</td>\n",
       "      <td>0.2376</td>\n",
       "      <td>0.2474</td>\n",
       "      <td>0.6292</td>\n",
       "    </tr>\n",
       "    <tr>\n",
       "      <th>2</th>\n",
       "      <td>KNN</td>\n",
       "      <td>0.0534</td>\n",
       "      <td>0.4444</td>\n",
       "      <td>0.8546</td>\n",
       "      <td>0.2700</td>\n",
       "      <td>0.0612</td>\n",
       "      <td>0.0996</td>\n",
       "      <td>0.5708</td>\n",
       "    </tr>\n",
       "    <tr>\n",
       "      <th>3</th>\n",
       "      <td>SVC</td>\n",
       "      <td>13.8478</td>\n",
       "      <td>0.3096</td>\n",
       "      <td>0.8676</td>\n",
       "      <td>0.0000</td>\n",
       "      <td>0.0000</td>\n",
       "      <td>0.0000</td>\n",
       "      <td>0.6250</td>\n",
       "    </tr>\n",
       "    <tr>\n",
       "      <th>4</th>\n",
       "      <td>DT</td>\n",
       "      <td>0.0164</td>\n",
       "      <td>0.0054</td>\n",
       "      <td>1.0000</td>\n",
       "      <td>1.0000</td>\n",
       "      <td>0.9988</td>\n",
       "      <td>0.9996</td>\n",
       "      <td>0.9996</td>\n",
       "    </tr>\n",
       "    <tr>\n",
       "      <th>5</th>\n",
       "      <td>RF</td>\n",
       "      <td>0.3316</td>\n",
       "      <td>0.0344</td>\n",
       "      <td>1.0000</td>\n",
       "      <td>1.0000</td>\n",
       "      <td>1.0000</td>\n",
       "      <td>1.0000</td>\n",
       "      <td>1.0000</td>\n",
       "    </tr>\n",
       "    <tr>\n",
       "      <th>6</th>\n",
       "      <td>GB</td>\n",
       "      <td>0.6978</td>\n",
       "      <td>0.0092</td>\n",
       "      <td>1.0000</td>\n",
       "      <td>1.0000</td>\n",
       "      <td>1.0000</td>\n",
       "      <td>1.0000</td>\n",
       "      <td>1.0000</td>\n",
       "    </tr>\n",
       "    <tr>\n",
       "      <th>7</th>\n",
       "      <td>XGB</td>\n",
       "      <td>0.1228</td>\n",
       "      <td>0.0078</td>\n",
       "      <td>1.0000</td>\n",
       "      <td>1.0000</td>\n",
       "      <td>1.0000</td>\n",
       "      <td>1.0000</td>\n",
       "      <td>1.0000</td>\n",
       "    </tr>\n",
       "    <tr>\n",
       "      <th>8</th>\n",
       "      <td>LightGB</td>\n",
       "      <td>0.1028</td>\n",
       "      <td>0.0130</td>\n",
       "      <td>1.0000</td>\n",
       "      <td>1.0000</td>\n",
       "      <td>0.9994</td>\n",
       "      <td>0.9998</td>\n",
       "      <td>1.0000</td>\n",
       "    </tr>\n",
       "  </tbody>\n",
       "</table>\n",
       "</div>"
      ],
      "text/plain": [
       "     model  fit_time  score_time  test_accuracy  test_precision  test_recall  \\\n",
       "0       LR    0.0122      0.0072         0.8678          0.0000       0.0000   \n",
       "1      GNB    0.0040      0.0086         0.8092          0.2586       0.2376   \n",
       "2      KNN    0.0534      0.4444         0.8546          0.2700       0.0612   \n",
       "3      SVC   13.8478      0.3096         0.8676          0.0000       0.0000   \n",
       "4       DT    0.0164      0.0054         1.0000          1.0000       0.9988   \n",
       "5       RF    0.3316      0.0344         1.0000          1.0000       1.0000   \n",
       "6       GB    0.6978      0.0092         1.0000          1.0000       1.0000   \n",
       "7      XGB    0.1228      0.0078         1.0000          1.0000       1.0000   \n",
       "8  LightGB    0.1028      0.0130         1.0000          1.0000       0.9994   \n",
       "\n",
       "   test_f1_score  test_roc_auc  \n",
       "0         0.0000        0.6404  \n",
       "1         0.2474        0.6292  \n",
       "2         0.0996        0.5708  \n",
       "3         0.0000        0.6250  \n",
       "4         0.9996        0.9996  \n",
       "5         1.0000        1.0000  \n",
       "6         1.0000        1.0000  \n",
       "7         1.0000        1.0000  \n",
       "8         0.9998        1.0000  "
      ]
     },
     "execution_count": 281,
     "metadata": {},
     "output_type": "execute_result"
    }
   ],
   "source": [
    "model_res = allmodel_perform(X_train, y_train, 5)\n",
    "model_res"
   ]
  },
  {
   "cell_type": "code",
   "execution_count": 238,
   "metadata": {},
   "outputs": [],
   "source": [
    "def model_eval_os(model_name, n):\n",
    "    \n",
    "    precisions = []\n",
    "    recalls = []\n",
    "    f1scores = []\n",
    "    aucs = []\n",
    "    roc_aucs=[]\n",
    "    y_proba = []\n",
    "    y_pred = []\n",
    "    \n",
    "    cv = KFold(n_splits=n)\n",
    "    for i, (train, test) in enumerate(cv.split(X_train, y_train)):\n",
    "        X_train_fold, y_train_fold = X_train[train], y_train[train]\n",
    "        X_test_fold, y_test_fold = X_train[test], y_train[test]\n",
    "        \n",
    "        os = SMOTE(random_state=43)\n",
    "        X_train_oversampled, y_train_oversampled = os.fit_sample(X_train_fold, y_train_fold)\n",
    "        model = model_name\n",
    "        \n",
    "        model.fit(X_train_oversampled, y_train_oversampled)\n",
    "        \n",
    "        y_pred = model.predict(X_test_fold)\n",
    "        y_pred_proba = model.predict_proba(X_test_fold)[:,1]\n",
    "        \n",
    "       \n",
    "        recalls.append(recall_score(y_test_fold, y_pred, pos_label=1,average='binary'))\n",
    "        precisions.append(precision_score(y_test_fold, y_pred, pos_label=1,average='binary'))\n",
    "        f1scores.append(f1_score(y_test_fold, y_pred, pos_label=1,average='binary'))\n",
    "        roc_aucs.append(roc_auc_score(y_test_fold, y_pred_proba))\n",
    "        aucs.append(model.score(X_test_fold, y_test_fold))\n",
    "        y_proba.append(y_pred_proba)\n",
    "    \n",
    "    res = pd.DataFrame([precisions,recalls,f1scores,aucs,roc_aucs]).T\n",
    "    res.columns = ['test_precison', 'test_recall', 'test_f1score', 'test_accuracy', 'test_roc_auc']\n",
    "    return res"
   ]
  },
  {
   "cell_type": "code",
   "execution_count": null,
   "metadata": {},
   "outputs": [],
   "source": [
    "def allmodel_perform_os(n):\n",
    "\n",
    "    model_score_average = []\n",
    "\n",
    "    for model in model_dict.values():\n",
    "        model_score_average.append(model_eval_os(model,n).mean())\n",
    "\n",
    "    df_model_eval = pd.DataFrame(model_score_average,index=list(model_dict.keys())).round(5)\n",
    "    df_model_eval = df_model_eval.reset_index().rename(columns={'index':'model'})\n",
    "    return df_model_eval"
   ]
  },
  {
   "cell_type": "code",
   "execution_count": null,
   "metadata": {},
   "outputs": [],
   "source": [
    "model_res_os = allmodel_perform_os(5)\n",
    "model_res_os"
   ]
  },
  {
   "cell_type": "code",
   "execution_count": 248,
   "metadata": {},
   "outputs": [
    {
     "name": "stdout",
     "output_type": "stream",
     "text": [
      "precision: 0.203 recall: 0.514 f1score: 0.292\n",
      "roc_auc: 0.635\n"
     ]
    }
   ],
   "source": [
    "model = GaussianNB(var_smoothing = 50)\n",
    "cv = KFold(n_splits=5)\n",
    "\n",
    "\n",
    "for i, (train, test) in enumerate(cv.split(X_train)):\n",
    "        X_train_fold, y_train_fold = X_train[train], y_train[train]\n",
    "        X_test_fold, y_test_fold = X_train[test], y_train[test]\n",
    "        \n",
    "        os = SMOTE(random_state=43)\n",
    "        X_train_oversampled, y_train_oversampled = os.fit_sample(X_train_fold, y_train_fold)\n",
    "        #model = RandomForestClassifier(random_state=43)\n",
    "        \n",
    "        model.fit(X_train_oversampled, y_train_oversampled)\n",
    "        y_pred = model.predict(X_test_fold)\n",
    "        y_pred_prob = model.predict_proba(X_test_fold)[:,1]\n",
    "        #precision, recall, f1score, support = score(y_test_fold, y_pred, pos_label=1,average='binary')\n",
    "        \n",
    "        \n",
    "yfinal = model.predict(X_test)\n",
    "yfinal_proba = model.predict_proba(X_test)[:,1]\n",
    "precision, recall, f1score, support = score(y_test, yfinal, pos_label=1,average='binary')\n",
    "\n",
    "print('precision:', round(precision,3), 'recall:', round(recall,3), 'f1score:', round(f1score,3))\n",
    "print('roc_auc:', round(roc_auc_score(y_test, yfinal_proba),3))"
   ]
  },
  {
   "cell_type": "code",
   "execution_count": 282,
   "metadata": {},
   "outputs": [
    {
     "name": "stdout",
     "output_type": "stream",
     "text": [
      "precision: 1.0 recall: 1.0 f1score: 1.0\n",
      "roc_auc: 1.0\n"
     ]
    }
   ],
   "source": [
    "model = lgb.LGBMClassifier(objective='binary',random_state=43)\n",
    "cv = KFold(n_splits=5)\n",
    "\n",
    "\n",
    "for i, (train, test) in enumerate(cv.split(X_train)):\n",
    "        X_train_fold, y_train_fold = X_train[train], y_train[train]\n",
    "        X_test_fold, y_test_fold = X_train[test], y_train[test]\n",
    "        \n",
    "        os = SMOTE(random_state=43)\n",
    "        X_train_oversampled, y_train_oversampled = os.fit_sample(X_train_fold, y_train_fold)\n",
    "        #model = RandomForestClassifier(random_state=43)\n",
    "        \n",
    "        model.fit(X_train_oversampled, y_train_oversampled)\n",
    "        y_pred = model.predict(X_test_fold)\n",
    "        y_pred_prob = model.predict_proba(X_test_fold)[:,1]\n",
    "        #precision, recall, f1score, support = score(y_test_fold, y_pred, pos_label=1,average='binary')\n",
    "        \n",
    "        \n",
    "yfinal = model.predict(X_test)\n",
    "yfinal_proba = model.predict_proba(X_test)[:,1]\n",
    "precision, recall, f1score, support = score(y_test, yfinal, pos_label=1,average='binary')\n",
    "\n",
    "print('precision:', round(precision,3), 'recall:', round(recall,3), 'f1score:', round(f1score,3))\n",
    "print('roc_auc:', round(roc_auc_score(y_test, yfinal_proba),3))"
   ]
  },
  {
   "cell_type": "code",
   "execution_count": 44,
   "metadata": {},
   "outputs": [
    {
     "data": {
      "image/png": "[encoded data removed]",
      "text/plain": [
       "<Figure size 432x432 with 1 Axes>"
      ]
     },
     "metadata": {
      "needs_background": "light"
     },
     "output_type": "display_data"
    }
   ],
   "source": [
    "fpr,tpr,threshold = roc_curve(y_test,model.predict_proba(X_test)[:,1])\n",
    "roc_auc_ = metrics.auc(fpr,tpr)\n",
    "plt.figure(figsize=(6,6))\n",
    "_=plt.plot([0,1],[0,1],'k--')\n",
    "_=plt.plot(fpr,tpr,'r',label='AUC = %.3f'%roc_auc_)\n",
    "_=plt.title('Receiver Operating Characteristic (ROC) curve of final model')\n",
    "_=plt.xlabel('False Positive Rate (1 - Specificity)',fontsize=12,fontweight='bold')\n",
    "_=plt.ylabel('True Positive Rate (Sensitivity)',fontsize=12,fontweight='bold')\n",
    "_=plt.legend(loc='lower right')"
   ]
  },
  {
   "cell_type": "code",
   "execution_count": 371,
   "metadata": {},
   "outputs": [
    {
     "name": "stdout",
     "output_type": "stream",
     "text": [
      "precision: 0.19 recall: 0.534 f1score: 0.28\n",
      "roc_auc: 0.623\n"
     ]
    }
   ],
   "source": [
    "model = LogisticRegression(C=100)\n",
    "cv = KFold(n_splits=5)\n",
    "\n",
    "\n",
    "for i, (train, test) in enumerate(cv.split(X_train)):\n",
    "        X_train_fold, y_train_fold = X_train[train], y_train[train]\n",
    "        X_test_fold, y_test_fold = X_train[test], y_train[test]\n",
    "        \n",
    "        os = SMOTE(random_state=43)\n",
    "        X_train_oversampled, y_train_oversampled = os.fit_sample(X_train_fold, y_train_fold)\n",
    "        #model = RandomForestClassifier(random_state=43)\n",
    "        \n",
    "        model.fit(X_train_oversampled, y_train_oversampled)\n",
    "        y_pred = model.predict(X_test_fold)\n",
    "        y_pred_prob = model.predict_proba(X_test_fold)[:,1]\n",
    "        #precision, recall, f1score, support = score(y_test_fold, y_pred, pos_label=1,average='binary')\n",
    "        \n",
    "        \n",
    "yfinal = model.predict(X_test)\n",
    "yfinal_proba = model.predict_proba(X_test)[:,1]\n",
    "precision, recall, f1score, support = score(y_test, yfinal, pos_label=1,average='binary')\n",
    "\n",
    "print('precision:', round(precision,3), 'recall:', round(recall,3), 'f1score:', round(f1score,3))\n",
    "print('roc_auc:', round(roc_auc_score(y_test, yfinal_proba),3))"
   ]
  },
  {
   "cell_type": "markdown",
   "metadata": {},
   "source": [
    "### Here"
   ]
  },
  {
   "cell_type": "code",
   "execution_count": 316,
   "metadata": {},
   "outputs": [
    {
     "name": "stdout",
     "output_type": "stream",
     "text": [
      "Fitting 5 folds for each of 100 candidates, totalling 500 fits\n"
     ]
    },
    {
     "name": "stderr",
     "output_type": "stream",
     "text": [
      "[Parallel(n_jobs=1)]: Using backend SequentialBackend with 1 concurrent workers.\n",
      "[Parallel(n_jobs=1)]: Done 500 out of 500 | elapsed:    3.1s finished\n"
     ]
    },
    {
     "data": {
      "text/plain": [
       "GridSearchCV(estimator=GaussianNB(),\n",
       "             param_grid={'var_smoothing': array([1.00000000e+00, 8.11130831e-01, 6.57933225e-01, 5.33669923e-01,\n",
       "       4.32876128e-01, 3.51119173e-01, 2.84803587e-01, 2.31012970e-01,\n",
       "       1.87381742e-01, 1.51991108e-01, 1.23284674e-01, 1.00000000e-01,\n",
       "       8.11130831e-02, 6.57933225e-02, 5.33669923e-02, 4.32876128e-02,\n",
       "       3.51119173e-02, 2.84803587e-02, 2.3101297...\n",
       "       1.23284674e-07, 1.00000000e-07, 8.11130831e-08, 6.57933225e-08,\n",
       "       5.33669923e-08, 4.32876128e-08, 3.51119173e-08, 2.84803587e-08,\n",
       "       2.31012970e-08, 1.87381742e-08, 1.51991108e-08, 1.23284674e-08,\n",
       "       1.00000000e-08, 8.11130831e-09, 6.57933225e-09, 5.33669923e-09,\n",
       "       4.32876128e-09, 3.51119173e-09, 2.84803587e-09, 2.31012970e-09,\n",
       "       1.87381742e-09, 1.51991108e-09, 1.23284674e-09, 1.00000000e-09])},\n",
       "             scoring='recall', verbose=1)"
      ]
     },
     "execution_count": 316,
     "metadata": {},
     "output_type": "execute_result"
    }
   ],
   "source": [
    "from sklearn.model_selection import GridSearchCV\n",
    "params_NB = {'var_smoothing': np.logspace(0,-9, num=100)}\n",
    "\n",
    "gs_NB = GridSearchCV(estimator=model, \n",
    "                     param_grid=params_NB, \n",
    "                     verbose=1, \n",
    "                     scoring='recall')\n",
    "\n",
    "gs_NB.fit(X_train, y_train)"
   ]
  },
  {
   "cell_type": "code",
   "execution_count": 318,
   "metadata": {},
   "outputs": [
    {
     "data": {
      "text/plain": [
       "{'var_smoothing': 0.0015199110829529332}"
      ]
     },
     "execution_count": 318,
     "metadata": {},
     "output_type": "execute_result"
    }
   ],
   "source": [
    "gs_NB.best_score_\n",
    "gs_NB.best_params_"
   ]
  },
  {
   "cell_type": "code",
   "execution_count": 343,
   "metadata": {},
   "outputs": [
    {
     "name": "stdout",
     "output_type": "stream",
     "text": [
      "precision: 0.139 recall: 0.93 f1score: 0.242\n",
      "roc_auc: 0.6\n"
     ]
    }
   ],
   "source": [
    "\n",
    "yfinal = model.predict(X_test)\n",
    "yfinal_proba = model.predict_proba(X_test)[:,1]\n",
    "precision, recall, f1score, support = score(y_test, yfinal, pos_label=1,average='binary')\n",
    "\n",
    "print('precision:', round(precision,3), 'recall:', round(recall,3), 'f1score:', round(f1score,3))\n",
    "print('roc_auc:', round(roc_auc_score(y_test, yfinal_proba),3))"
   ]
  },
  {
   "cell_type": "code",
   "execution_count": null,
   "metadata": {},
   "outputs": [],
   "source": [
    "# check the how many city we have in the dataset.\n",
    "len(df.city.unique())"
   ]
  },
  {
   "cell_type": "code",
   "execution_count": 44,
   "metadata": {},
   "outputs": [],
   "source": [
    "# dummy encode 'city' column and drop 'city' column in the original df together with 'city_development_index' due to multicollinearity\n",
    "city_dummy = pd.get_dummies(df.city)\n",
    "\n",
    "df = pd.concat([df.drop(['city','city_development_index'],axis=1),city_dummy], axis=1)"
   ]
  },
  {
   "cell_type": "code",
   "execution_count": null,
   "metadata": {},
   "outputs": [],
   "source": [
    "# df columns increased from 13 to 59. (13 + 48 -2)\n",
    "df.shape"
   ]
  },
  {
   "cell_type": "code",
   "execution_count": null,
   "metadata": {},
   "outputs": [],
   "source": [
    "df.head()"
   ]
  },
  {
   "cell_type": "code",
   "execution_count": null,
   "metadata": {},
   "outputs": [],
   "source": [
    "# plot heatmap make sure no more multicollinearity exists \n",
    "\n",
    "_= plt.subplots(figsize=(12,7))\n",
    "sns.heatmap(df.corr(),cmap='coolwarm') \n",
    "plt.show()"
   ]
  },
  {
   "cell_type": "code",
   "execution_count": 45,
   "metadata": {},
   "outputs": [],
   "source": [
    "X = df.drop(['target'],axis=1)\n",
    "y = df['target'].ravel()"
   ]
  },
  {
   "cell_type": "markdown",
   "metadata": {},
   "source": [
    "## Encode 'city' column via LeaveOneOutEncoder"
   ]
  },
  {
   "cell_type": "code",
   "execution_count": 46,
   "metadata": {},
   "outputs": [],
   "source": [
    "# Scale X \n",
    "X_scaled = StandardScaler().fit_transform(X)"
   ]
  },
  {
   "cell_type": "code",
   "execution_count": 47,
   "metadata": {},
   "outputs": [],
   "source": [
    "# Split train test set\n",
    "X_train,X_test,y_train,y_test = train_test_split(X_scaled, y, test_size=0.30, stratify=y, random_state=43)"
   ]
  },
  {
   "cell_type": "code",
   "execution_count": null,
   "metadata": {},
   "outputs": [],
   "source": [
    "# Confirm there's positive class in the test set.\n",
    "np.unique(y_test,return_counts=True)"
   ]
  },
  {
   "cell_type": "code",
   "execution_count": null,
   "metadata": {},
   "outputs": [],
   "source": [
    "# Check how imbalanced the data is in y_train.\n",
    "np.unique(y_train, return_counts=True)[1][0]/np.unique(y_train, return_counts=True)[1][1]"
   ]
  },
  {
   "cell_type": "markdown",
   "metadata": {},
   "source": [
    "we can see in our y_train, the ratio between negative and positive classes are 6.6 : 1 \n",
    "This class imbalance may cause some negative effect when we train the model.\n",
    "As our models look at the data and cleverly decide that the best thing to do is to always predict negative class and achieve high accuracy.\n",
    "If that happens we will normally get high accuracy but low recall or sometimes even zero recall, precision as the model will only predict negative class."
   ]
  },
  {
   "cell_type": "markdown",
   "metadata": {},
   "source": [
    "## Train Models with Defaul Settings"
   ]
  },
  {
   "cell_type": "markdown",
   "metadata": {},
   "source": [
    "### Select Models"
   ]
  },
  {
   "cell_type": "code",
   "execution_count": null,
   "metadata": {},
   "outputs": [],
   "source": [
    "index = ['LR','GNB','KNN','SVC','DT','RF','GB','XGB','LightGB']\n",
    "models = [LogisticRegression(),\n",
    "          GaussianNB(),\n",
    "          KNeighborsClassifier(),\n",
    "          SVC(probability=True, random_state=43),\n",
    "          DecisionTreeClassifier(random_state=43),\n",
    "          RandomForestClassifier(random_state=43),\n",
    "          GradientBoostingClassifier(random_state=43),\n",
    "          XGBClassifier(random_state=43),\n",
    "          lgb.LGBMClassifier(objective='binary',random_state=43)]\n",
    "\n",
    "    # combine index and models to a dictionary\n",
    "model_dict = dict(zip(index,models))"
   ]
  },
  {
   "cell_type": "code",
   "execution_count": null,
   "metadata": {},
   "outputs": [],
   "source": [
    "# cv before oversampling\n",
    "\n",
    "def model_eval(model_name, X, y, n):\n",
    "    scoring = {\n",
    "           'accuracy' : make_scorer(accuracy_score), \n",
    "           'precision' : make_scorer(precision_score),\n",
    "           'recall' : make_scorer(recall_score), \n",
    "           'f1_score' : make_scorer(f1_score),\n",
    "           'roc_auc' : make_scorer(roc_auc_score, needs_proba=True)}\n",
    "\n",
    "    kfold = KFold(n_splits=n)\n",
    "    model = model_name\n",
    "\n",
    "    model_res = model_selection.cross_validate(\n",
    "                                          estimator=model,\n",
    "                                          X=X,\n",
    "                                          y=y,\n",
    "                                          cv=kfold,\n",
    "                                          scoring=scoring)\n",
    "    \n",
    "    return pd.DataFrame(model_res).round(3)"
   ]
  },
  {
   "cell_type": "code",
   "execution_count": null,
   "metadata": {},
   "outputs": [],
   "source": [
    "# create a function to collect all test scores for all the models before oversampling\n",
    "def allmodel_perform(X, y, n):\n",
    "    # create a empty list to put the average model test_score from the validation\n",
    "    model_score_average = []\n",
    "    \n",
    "    # Loop inside the model_dict and average the test_score. (test_score contains: accuracy, precision, recall, fscore, roc_auc_score)\n",
    "    # Append the avarage score to list 'model_score_average' \n",
    "    for model in model_dict.values():\n",
    "        model_score_average.append(model_eval(model,X,y,n).mean())\n",
    "\n",
    "\n",
    "    # put the model_score_average into a dataframe \n",
    "    df_model_eval = pd.DataFrame(model_score_average,index=list(model_dict.keys())).round(5)\n",
    "    df_model_eval = df_model_eval.reset_index().rename(columns={'index':'model'})\n",
    "    return df_model_eval"
   ]
  },
  {
   "cell_type": "code",
   "execution_count": null,
   "metadata": {},
   "outputs": [],
   "source": [
    "# plot test result for all models\n",
    "model_res = allmodel_perform(X_train, y_train, 5)\n",
    "model_res"
   ]
  },
  {
   "cell_type": "code",
   "execution_count": 62,
   "metadata": {},
   "outputs": [],
   "source": [
    "# oversampling inside cross validation train_fold\n",
    "\n",
    "def model_eval_os(model_name, n):\n",
    "    \n",
    "    precisions = []\n",
    "    recalls = []\n",
    "    f1scores = []\n",
    "    aucs = []\n",
    "    roc_aucs=[]\n",
    "    y_proba = []\n",
    "    y_pred = []\n",
    "    \n",
    "    cv = KFold(n_splits=n)\n",
    "    for i, (train, test) in enumerate(cv.split(X_train, y_train)):\n",
    "        X_train_fold, y_train_fold = X_train[train], y_train[train]\n",
    "        X_test_fold, y_test_fold = X_train[test], y_train[test]\n",
    "        \n",
    "        os = SMOTE(random_state=43)\n",
    "        X_train_oversampled, y_train_oversampled = os.fit_sample(X_train_fold, y_train_fold)\n",
    "        model = model_name\n",
    "        \n",
    "        model.fit(X_train_oversampled, y_train_oversampled)\n",
    "        \n",
    "        y_pred = model.predict(X_test_fold)\n",
    "        y_pred_proba = model.predict_proba(X_test_fold)[:,1]\n",
    "        \n",
    "       \n",
    "        recalls.append(recall_score(y_test_fold, y_pred, pos_label=1,average='binary'))\n",
    "        precisions.append(precision_score(y_test_fold, y_pred, pos_label=1,average='binary'))\n",
    "        f1scores.append(f1_score(y_test_fold, y_pred, pos_label=1,average='binary'))\n",
    "        roc_aucs.append(roc_auc_score(y_test_fold, y_pred_proba))\n",
    "        aucs.append(model.score(X_test_fold, y_test_fold))\n",
    "        y_proba.append(y_pred_proba)\n",
    "    \n",
    "    res = pd.DataFrame([precisions,recalls,f1scores,aucs,roc_aucs]).T\n",
    "    res.columns = ['test_precison', 'test_recall', 'test_f1score', 'test_accuracy', 'test_roc_auc']\n",
    "    return res\n",
    "    "
   ]
  },
  {
   "cell_type": "code",
   "execution_count": null,
   "metadata": {},
   "outputs": [],
   "source": [
    "def allmodel_perform_os(n):\n",
    "\n",
    "    model_score_average = []\n",
    "\n",
    "    for model in model_dict.values():\n",
    "        model_score_average.append(model_eval_os(model,n).mean())\n",
    "\n",
    "    df_model_eval = pd.DataFrame(model_score_average,index=list(model_dict.keys())).round(5)\n",
    "    df_model_eval = df_model_eval.reset_index().rename(columns={'index':'model'})\n",
    "    return df_model_eval"
   ]
  },
  {
   "cell_type": "code",
   "execution_count": null,
   "metadata": {},
   "outputs": [],
   "source": [
    "# plot result after oversampling inside cv train dataset\n",
    "model_res_os = allmodel_perform_os(5)\n",
    "model_res_os"
   ]
  },
  {
   "cell_type": "code",
   "execution_count": null,
   "metadata": {},
   "outputs": [],
   "source": [
    "# plot barh plot to check the average score of recall, fscore, accuracy, roc_auc from cross validation\n",
    "fig,axs = plt.subplots(4,1, figsize=(6,12),sharex=True)\n",
    "\n",
    "axs[0].barh('model', 'test_recall', data=model_res_os)\n",
    "axs[1].barh('model', 'test_f1score', data=model_res_os)\n",
    "axs[2].barh('model', 'test_accuracy', data=model_res_os)\n",
    "axs[3].barh('model', 'test_roc_auc',data=model_res_os)\n",
    "\n",
    "axs[0].set_xlabel('Recall')\n",
    "axs[1].set_xlabel('F1score')\n",
    "axs[2].set_xlabel('Accuracy')\n",
    "axs[3].set_xlabel('ROC_AUC')\n",
    "\n",
    "\n",
    "axs[0].plot([0.6,0.6],[-1,9],'r--')\n",
    "axs[1].plot([0.6,0.6],[-1,9],'r--')\n",
    "axs[2].plot([0.6,0.6],[-1,9],'r--')\n",
    "axs[3].plot([0.6,0.6],[-1,9],'r--')\n",
    "plt.show()"
   ]
  },
  {
   "cell_type": "code",
   "execution_count": null,
   "metadata": {},
   "outputs": [],
   "source": [
    "from sklearn.inspection import permutation_importance\n",
    "model = GaussianNB()\n",
    "model.fit(X_train, y_train)\n",
    "\n",
    "imps = permutation_importance(model, X_train, y_train)\n",
    "fig,ax = plt.subplots(figsize=(16,10))\n",
    "plt.barh(df.drop('target',axis=1).columns.tolist(), abs(imps.importances_mean))"
   ]
  },
  {
   "cell_type": "code",
   "execution_count": null,
   "metadata": {},
   "outputs": [],
   "source": [
    "model = LogisticRegression()\n",
    "model.fit(X_train, y_train)\n",
    "len(model.coef_[0])\n",
    "\n",
    "fig,ax = plt.subplots(figsize=(16,10))\n",
    "    \n",
    "plt.barh(df.drop('target',axis=1).columns.tolist(), abs(model.coef_[0]))"
   ]
  },
  {
   "cell_type": "markdown",
   "metadata": {},
   "source": [
    "Next, Check feature importance for model: DecisionTree, RandomForest, GB, XGB, LightGB \n",
    "As their test score outperformed the other 4 models."
   ]
  },
  {
   "cell_type": "code",
   "execution_count": null,
   "metadata": {},
   "outputs": [],
   "source": [
    "# feature importance for DecisionTree\n",
    "model =  DecisionTreeClassifier(random_state=43)\n",
    "model.fit(X_train,y_train)\n",
    "\n",
    "fig,ax = plt.subplots(figsize=(16,10))\n",
    "plt.barh(df.drop('target',axis=1).columns.tolist(), model.feature_importances_)"
   ]
  },
  {
   "cell_type": "code",
   "execution_count": null,
   "metadata": {},
   "outputs": [],
   "source": [
    "# feature importance for RandomForest\n",
    "model = RandomForestClassifier(random_state=43)\n",
    "model.fit(X_train, y_train)\n",
    "fig,ax = plt.subplots(figsize=(16,10))\n",
    "plt.barh(df.drop('target',axis=1).columns.tolist(), model.feature_importances_)"
   ]
  },
  {
   "cell_type": "code",
   "execution_count": null,
   "metadata": {},
   "outputs": [],
   "source": [
    "# feature importance for GB\n",
    "model = GradientBoostingClassifier(random_state=43)\n",
    "model.fit(X_train,y_train)\n",
    "\n",
    "fig,ax = plt.subplots(figsize=(16,10))\n",
    "plt.barh(df.drop('target',axis=1).columns.tolist(), model.feature_importances_)"
   ]
  },
  {
   "cell_type": "code",
   "execution_count": null,
   "metadata": {},
   "outputs": [],
   "source": [
    "# feature importance for xgb\n",
    "from xgboost import plot_importance\n",
    "model = XGBClassifier(random_state=43)\n",
    "model.fit(X_train,y_train)\n",
    "fig,ax = plt.subplots(figsize=(16,10))\n",
    "plot_importance(model,ax=ax)\n",
    "plt.show()"
   ]
  },
  {
   "cell_type": "code",
   "execution_count": null,
   "metadata": {},
   "outputs": [],
   "source": [
    "df.columns[9]"
   ]
  },
  {
   "cell_type": "code",
   "execution_count": 216,
   "metadata": {},
   "outputs": [
    {
     "data": {
      "image/png": "[encoded data removed]",
      "text/plain": [
       "<Figure size 1152x720 with 1 Axes>"
      ]
     },
     "metadata": {
      "needs_background": "light"
     },
     "output_type": "display_data"
    }
   ],
   "source": [
    "# # feature importance for lightgb\n",
    "from lightgbm import plot_importance\n",
    "model = lgb.LGBMClassifier(objective='binary',random_state=43)\n",
    "model.fit(X_train,y_train)\n",
    "fig, ax = plt.subplots(figsize=(16, 10))\n",
    "plot_importance(model,ax=ax)\n",
    "plt.show()"
   ]
  },
  {
   "cell_type": "code",
   "execution_count": 217,
   "metadata": {},
   "outputs": [
    {
     "data": {
      "text/plain": [
       "'training_hours'"
      ]
     },
     "execution_count": 217,
     "metadata": {},
     "output_type": "execute_result"
    }
   ],
   "source": [
    "df.columns[11]"
   ]
  },
  {
   "cell_type": "code",
   "execution_count": null,
   "metadata": {},
   "outputs": [],
   "source": []
  }
 ],
 "metadata": {
  "kernelspec": {
   "display_name": "Python 3",
   "language": "python",
   "name": "python3"
  },
  "language_info": {
   "codemirror_mode": {
    "name": "ipython",
    "version": 3
   },
   "file_extension": ".py",
   "mimetype": "text/x-python",
   "name": "python",
   "nbconvert_exporter": "python",
   "pygments_lexer": "ipython3",
   "version": "3.8.3"
  }
 },
 "nbformat": 4,
 "nbformat_minor": 4
}
