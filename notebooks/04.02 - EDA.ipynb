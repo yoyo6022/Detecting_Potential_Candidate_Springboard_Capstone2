{
 "cells": [
  {
   "cell_type": "code",
   "execution_count": 1,
   "metadata": {},
   "outputs": [],
   "source": [
    "import os\n",
    "import pandas as pd\n",
    "import datetime\n",
    "import seaborn as sns; sns.set()\n",
    "import matplotlib.pyplot as plt\n",
    "import numpy as np\n",
    "from scipy import stats\n",
    "import random\n",
    "from sklearn.model_selection import train_test_split \n",
    "from sklearn.linear_model import LogisticRegression\n",
    "from sklearn import metrics\n",
    "%matplotlib inline"
   ]
  },
  {
   "cell_type": "code",
   "execution_count": 2,
   "metadata": {},
   "outputs": [
    {
     "name": "stdout",
     "output_type": "stream",
     "text": [
      "/Users/liuyang/Desktop/Springboard_Capstone/notebooks\n",
      "/Users/liuyang/Desktop/Springboard_Capstone/data\n"
     ]
    }
   ],
   "source": [
    "print(os.getcwd())\n",
    "os.chdir('/Users/liuyang/Desktop/Springboard_Capstone/data') \n",
    "print(os.getcwd())"
   ]
  },
  {
   "cell_type": "code",
   "execution_count": 3,
   "metadata": {},
   "outputs": [],
   "source": [
    "%run func.py"
   ]
  },
  {
   "cell_type": "code",
   "execution_count": 4,
   "metadata": {},
   "outputs": [],
   "source": [
    "df = pd.read_csv('EDA_data.csv')"
   ]
  },
  {
   "cell_type": "code",
   "execution_count": 5,
   "metadata": {},
   "outputs": [
    {
     "data": {
      "text/html": [
       "<div>\n",
       "<style scoped>\n",
       "    .dataframe tbody tr th:only-of-type {\n",
       "        vertical-align: middle;\n",
       "    }\n",
       "\n",
       "    .dataframe tbody tr th {\n",
       "        vertical-align: top;\n",
       "    }\n",
       "\n",
       "    .dataframe thead th {\n",
       "        text-align: right;\n",
       "    }\n",
       "</style>\n",
       "<table border=\"1\" class=\"dataframe\">\n",
       "  <thead>\n",
       "    <tr style=\"text-align: right;\">\n",
       "      <th></th>\n",
       "      <th>enrollee_id</th>\n",
       "      <th>city</th>\n",
       "      <th>city_development_index</th>\n",
       "      <th>gender</th>\n",
       "      <th>relevent_experience</th>\n",
       "      <th>enrolled_university</th>\n",
       "      <th>education_level</th>\n",
       "      <th>major_discipline</th>\n",
       "      <th>experience</th>\n",
       "      <th>company_size</th>\n",
       "      <th>company_type</th>\n",
       "      <th>last_new_job</th>\n",
       "      <th>training_hours</th>\n",
       "      <th>target</th>\n",
       "    </tr>\n",
       "  </thead>\n",
       "  <tbody>\n",
       "    <tr>\n",
       "      <th>0</th>\n",
       "      <td>23798</td>\n",
       "      <td>city_149</td>\n",
       "      <td>0.689</td>\n",
       "      <td>Male</td>\n",
       "      <td>Has relevent experience</td>\n",
       "      <td>no_enrollment</td>\n",
       "      <td>Graduate</td>\n",
       "      <td>STEM</td>\n",
       "      <td>0~5 years</td>\n",
       "      <td>less than 1000</td>\n",
       "      <td>Pvt Ltd</td>\n",
       "      <td>1</td>\n",
       "      <td>106</td>\n",
       "      <td>0</td>\n",
       "    </tr>\n",
       "    <tr>\n",
       "      <th>1</th>\n",
       "      <td>29166</td>\n",
       "      <td>city_83</td>\n",
       "      <td>0.923</td>\n",
       "      <td>Male</td>\n",
       "      <td>Has relevent experience</td>\n",
       "      <td>no_enrollment</td>\n",
       "      <td>Graduate</td>\n",
       "      <td>STEM</td>\n",
       "      <td>11~20 years</td>\n",
       "      <td>less than 100</td>\n",
       "      <td>Funded Startup</td>\n",
       "      <td>1</td>\n",
       "      <td>69</td>\n",
       "      <td>0</td>\n",
       "    </tr>\n",
       "    <tr>\n",
       "      <th>2</th>\n",
       "      <td>46</td>\n",
       "      <td>city_16</td>\n",
       "      <td>0.910</td>\n",
       "      <td>Male</td>\n",
       "      <td>Has relevent experience</td>\n",
       "      <td>no_enrollment</td>\n",
       "      <td>Graduate</td>\n",
       "      <td>STEM</td>\n",
       "      <td>6~10 years</td>\n",
       "      <td>less than 100</td>\n",
       "      <td>Public Sector</td>\n",
       "      <td>2</td>\n",
       "      <td>4</td>\n",
       "      <td>0</td>\n",
       "    </tr>\n",
       "    <tr>\n",
       "      <th>3</th>\n",
       "      <td>18527</td>\n",
       "      <td>city_64</td>\n",
       "      <td>0.666</td>\n",
       "      <td>Male</td>\n",
       "      <td>Has relevent experience</td>\n",
       "      <td>no_enrollment</td>\n",
       "      <td>Graduate</td>\n",
       "      <td>STEM</td>\n",
       "      <td>11~20 years</td>\n",
       "      <td>less than 100</td>\n",
       "      <td>Pvt Ltd</td>\n",
       "      <td>1</td>\n",
       "      <td>26</td>\n",
       "      <td>0</td>\n",
       "    </tr>\n",
       "    <tr>\n",
       "      <th>4</th>\n",
       "      <td>21751</td>\n",
       "      <td>city_100</td>\n",
       "      <td>0.887</td>\n",
       "      <td>Male</td>\n",
       "      <td>No relevent experience</td>\n",
       "      <td>no_enrollment</td>\n",
       "      <td>Masters</td>\n",
       "      <td>STEM</td>\n",
       "      <td>6~10 years</td>\n",
       "      <td>less than 100</td>\n",
       "      <td>Pvt Ltd</td>\n",
       "      <td>2</td>\n",
       "      <td>88</td>\n",
       "      <td>1</td>\n",
       "    </tr>\n",
       "  </tbody>\n",
       "</table>\n",
       "</div>"
      ],
      "text/plain": [
       "   enrollee_id      city  city_development_index gender  \\\n",
       "0        23798  city_149                   0.689   Male   \n",
       "1        29166   city_83                   0.923   Male   \n",
       "2           46   city_16                   0.910   Male   \n",
       "3        18527   city_64                   0.666   Male   \n",
       "4        21751  city_100                   0.887   Male   \n",
       "\n",
       "       relevent_experience enrolled_university education_level  \\\n",
       "0  Has relevent experience       no_enrollment        Graduate   \n",
       "1  Has relevent experience       no_enrollment        Graduate   \n",
       "2  Has relevent experience       no_enrollment        Graduate   \n",
       "3  Has relevent experience       no_enrollment        Graduate   \n",
       "4   No relevent experience       no_enrollment         Masters   \n",
       "\n",
       "  major_discipline   experience    company_size    company_type last_new_job  \\\n",
       "0             STEM    0~5 years  less than 1000         Pvt Ltd            1   \n",
       "1             STEM  11~20 years   less than 100  Funded Startup            1   \n",
       "2             STEM   6~10 years   less than 100   Public Sector            2   \n",
       "3             STEM  11~20 years   less than 100         Pvt Ltd            1   \n",
       "4             STEM   6~10 years   less than 100         Pvt Ltd            2   \n",
       "\n",
       "   training_hours  target  \n",
       "0             106       0  \n",
       "1              69       0  \n",
       "2               4       0  \n",
       "3              26       0  \n",
       "4              88       1  "
      ]
     },
     "execution_count": 5,
     "metadata": {},
     "output_type": "execute_result"
    }
   ],
   "source": [
    "df.head()"
   ]
  },
  {
   "cell_type": "code",
   "execution_count": 6,
   "metadata": {},
   "outputs": [
    {
     "data": {
      "text/plain": [
       "(18359, 14)"
      ]
     },
     "execution_count": 6,
     "metadata": {},
     "output_type": "execute_result"
    }
   ],
   "source": [
    "df.shape"
   ]
  },
  {
   "cell_type": "code",
   "execution_count": 7,
   "metadata": {},
   "outputs": [
    {
     "data": {
      "text/html": [
       "<div>\n",
       "<style scoped>\n",
       "    .dataframe tbody tr th:only-of-type {\n",
       "        vertical-align: middle;\n",
       "    }\n",
       "\n",
       "    .dataframe tbody tr th {\n",
       "        vertical-align: top;\n",
       "    }\n",
       "\n",
       "    .dataframe thead th {\n",
       "        text-align: right;\n",
       "    }\n",
       "</style>\n",
       "<table border=\"1\" class=\"dataframe\">\n",
       "  <thead>\n",
       "    <tr style=\"text-align: right;\">\n",
       "      <th></th>\n",
       "      <th>number</th>\n",
       "      <th>percentage</th>\n",
       "    </tr>\n",
       "  </thead>\n",
       "  <tbody>\n",
       "    <tr>\n",
       "      <th>0</th>\n",
       "      <td>15934</td>\n",
       "      <td>86.79</td>\n",
       "    </tr>\n",
       "    <tr>\n",
       "      <th>1</th>\n",
       "      <td>2425</td>\n",
       "      <td>13.21</td>\n",
       "    </tr>\n",
       "  </tbody>\n",
       "</table>\n",
       "</div>"
      ],
      "text/plain": [
       "   number  percentage\n",
       "0   15934       86.79\n",
       "1    2425       13.21"
      ]
     },
     "execution_count": 7,
     "metadata": {},
     "output_type": "execute_result"
    }
   ],
   "source": [
    "# Check the value counts and percentage of the target value. \n",
    "# 0 represents enrollees who are not open to new job, 1 represents who are open to new job.\n",
    "var_pct(df['target'])"
   ]
  },
  {
   "cell_type": "code",
   "execution_count": 8,
   "metadata": {},
   "outputs": [
    {
     "data": {
      "image/png": "[encoded data removed]",
      "text/plain": [
       "<Figure size 432x288 with 1 Axes>"
      ]
     },
     "metadata": {},
     "output_type": "display_data"
    }
   ],
   "source": [
    "# Visualizing with pie plot.\n",
    "plt.style.use('ggplot')\n",
    "target_df = var_pct(df['target'])\n",
    "plt.pie(target_df.number, labels=target_df.index, autopct='%.2f%%')\n",
    "plt.show()"
   ]
  },
  {
   "cell_type": "code",
   "execution_count": 9,
   "metadata": {},
   "outputs": [],
   "source": [
    "def var_target_df(data,col,n):\n",
    "    col_top_n = pd.crosstab(df[col],df['target']).reset_index().sort_values(1,ascending=False).reset_index(drop=True)[0:n]\n",
    "    col_top_n['pct'] = round(col_top_n[1]/(col_top_n[0]+col_top_n[1])*100,2)\n",
    "    return col_top_n.sort_values('pct',ascending=False).set_index(col,drop=True)\n",
    "    "
   ]
  },
  {
   "cell_type": "code",
   "execution_count": 10,
   "metadata": {},
   "outputs": [
    {
     "data": {
      "text/html": [
       "<div>\n",
       "<style scoped>\n",
       "    .dataframe tbody tr th:only-of-type {\n",
       "        vertical-align: middle;\n",
       "    }\n",
       "\n",
       "    .dataframe tbody tr th {\n",
       "        vertical-align: top;\n",
       "    }\n",
       "\n",
       "    .dataframe thead th {\n",
       "        text-align: right;\n",
       "    }\n",
       "</style>\n",
       "<table border=\"1\" class=\"dataframe\">\n",
       "  <thead>\n",
       "    <tr style=\"text-align: right;\">\n",
       "      <th>target</th>\n",
       "      <th>0</th>\n",
       "      <th>1</th>\n",
       "      <th>pct</th>\n",
       "    </tr>\n",
       "    <tr>\n",
       "      <th>city</th>\n",
       "      <th></th>\n",
       "      <th></th>\n",
       "      <th></th>\n",
       "    </tr>\n",
       "  </thead>\n",
       "  <tbody>\n",
       "    <tr>\n",
       "      <th>city_21</th>\n",
       "      <td>1219</td>\n",
       "      <td>453</td>\n",
       "      <td>27.09</td>\n",
       "    </tr>\n",
       "    <tr>\n",
       "      <th>city_11</th>\n",
       "      <td>114</td>\n",
       "      <td>36</td>\n",
       "      <td>24.00</td>\n",
       "    </tr>\n",
       "    <tr>\n",
       "      <th>city_100</th>\n",
       "      <td>227</td>\n",
       "      <td>44</td>\n",
       "      <td>16.24</td>\n",
       "    </tr>\n",
       "    <tr>\n",
       "      <th>city_73</th>\n",
       "      <td>226</td>\n",
       "      <td>38</td>\n",
       "      <td>14.39</td>\n",
       "    </tr>\n",
       "    <tr>\n",
       "      <th>city_103</th>\n",
       "      <td>3795</td>\n",
       "      <td>563</td>\n",
       "      <td>12.92</td>\n",
       "    </tr>\n",
       "    <tr>\n",
       "      <th>city_160</th>\n",
       "      <td>729</td>\n",
       "      <td>98</td>\n",
       "      <td>11.85</td>\n",
       "    </tr>\n",
       "    <tr>\n",
       "      <th>city_67</th>\n",
       "      <td>406</td>\n",
       "      <td>49</td>\n",
       "      <td>10.77</td>\n",
       "    </tr>\n",
       "    <tr>\n",
       "      <th>city_16</th>\n",
       "      <td>1500</td>\n",
       "      <td>154</td>\n",
       "      <td>9.31</td>\n",
       "    </tr>\n",
       "    <tr>\n",
       "      <th>city_114</th>\n",
       "      <td>1336</td>\n",
       "      <td>136</td>\n",
       "      <td>9.24</td>\n",
       "    </tr>\n",
       "    <tr>\n",
       "      <th>city_136</th>\n",
       "      <td>575</td>\n",
       "      <td>49</td>\n",
       "      <td>7.85</td>\n",
       "    </tr>\n",
       "  </tbody>\n",
       "</table>\n",
       "</div>"
      ],
      "text/plain": [
       "target       0    1    pct\n",
       "city                      \n",
       "city_21   1219  453  27.09\n",
       "city_11    114   36  24.00\n",
       "city_100   227   44  16.24\n",
       "city_73    226   38  14.39\n",
       "city_103  3795  563  12.92\n",
       "city_160   729   98  11.85\n",
       "city_67    406   49  10.77\n",
       "city_16   1500  154   9.31\n",
       "city_114  1336  136   9.24\n",
       "city_136   575   49   7.85"
      ]
     },
     "execution_count": 10,
     "metadata": {},
     "output_type": "execute_result"
    }
   ],
   "source": [
    "var_target_df(df,'city',10)"
   ]
  },
  {
   "cell_type": "code",
   "execution_count": 11,
   "metadata": {},
   "outputs": [],
   "source": [
    "city_targetTop10 = var_target_df(df,'city',10)"
   ]
  },
  {
   "cell_type": "code",
   "execution_count": 12,
   "metadata": {},
   "outputs": [
    {
     "data": {
      "image/png": "[encoded data removed]",
      "text/plain": [
       "<Figure size 720x576 with 1 Axes>"
      ]
     },
     "metadata": {},
     "output_type": "display_data"
    }
   ],
   "source": [
    "city_targetTop10.drop('pct',axis=1).plot(kind='bar',figsize=(10,8),rot=45)\n",
    "plt.xlabel('City VS Target (Top10)')\n",
    "plt.ylabel('count')\n",
    "plt.legend(['non_target (0)','target (1)'])\n",
    "plt.show()"
   ]
  },
  {
   "cell_type": "code",
   "execution_count": 13,
   "metadata": {},
   "outputs": [],
   "source": [
    "def create_hist(data,col,n):\n",
    "    mean = df[col].describe()['mean']\n",
    "    per25 = df[col].describe()['25%']\n",
    "    per75 = df[col].describe()['75%']\n",
    "    min = df[col].describe()['min']\n",
    "    max = df[col].describe()['max']\n",
    "    df[col].hist(bins=n,figsize=(10,8))\n",
    "    plt.axvline(mean,color='b')\n",
    "    plt.axvline(per25,color='b',linestyle='--')\n",
    "    plt.axvline(per75,color='b',linestyle='--')\n",
    "    plt.axvline(min,color='b',linestyle='-.')\n",
    "    plt.axvline(max,color='b',linestyle='-.')\n",
    "    plt.show()"
   ]
  },
  {
   "cell_type": "code",
   "execution_count": 14,
   "metadata": {},
   "outputs": [],
   "source": [
    "# plt.hist(df['city_development_index'],bins=10,stacked=True,density=True)\n",
    "# plt.show()"
   ]
  },
  {
   "cell_type": "code",
   "execution_count": 15,
   "metadata": {},
   "outputs": [
    {
     "data": {
      "text/plain": [
       "count    18359.000000\n",
       "mean         0.847140\n",
       "std          0.110189\n",
       "min          0.448000\n",
       "25%          0.796000\n",
       "50%          0.910000\n",
       "75%          0.920000\n",
       "max          0.949000\n",
       "Name: city_development_index, dtype: float64"
      ]
     },
     "execution_count": 15,
     "metadata": {},
     "output_type": "execute_result"
    }
   ],
   "source": [
    "df['city_development_index'].describe()"
   ]
  },
  {
   "cell_type": "code",
   "execution_count": 16,
   "metadata": {},
   "outputs": [
    {
     "data": {
      "image/png": "[encoded data removed]",
      "text/plain": [
       "<Figure size 720x576 with 1 Axes>"
      ]
     },
     "metadata": {},
     "output_type": "display_data"
    }
   ],
   "source": [
    "create_hist(df,'city_development_index',20)"
   ]
  },
  {
   "cell_type": "code",
   "execution_count": 17,
   "metadata": {},
   "outputs": [
    {
     "data": {
      "text/html": [
       "<div>\n",
       "<style scoped>\n",
       "    .dataframe tbody tr th:only-of-type {\n",
       "        vertical-align: middle;\n",
       "    }\n",
       "\n",
       "    .dataframe tbody tr th {\n",
       "        vertical-align: top;\n",
       "    }\n",
       "\n",
       "    .dataframe thead th {\n",
       "        text-align: right;\n",
       "    }\n",
       "</style>\n",
       "<table border=\"1\" class=\"dataframe\">\n",
       "  <thead>\n",
       "    <tr style=\"text-align: right;\">\n",
       "      <th>target</th>\n",
       "      <th>0</th>\n",
       "      <th>1</th>\n",
       "      <th>pct</th>\n",
       "    </tr>\n",
       "    <tr>\n",
       "      <th>city_development_index</th>\n",
       "      <th></th>\n",
       "      <th></th>\n",
       "      <th></th>\n",
       "    </tr>\n",
       "  </thead>\n",
       "  <tbody>\n",
       "    <tr>\n",
       "      <th>0.624</th>\n",
       "      <td>1219</td>\n",
       "      <td>453</td>\n",
       "      <td>27.09</td>\n",
       "    </tr>\n",
       "    <tr>\n",
       "      <th>0.887</th>\n",
       "      <td>227</td>\n",
       "      <td>44</td>\n",
       "      <td>16.24</td>\n",
       "    </tr>\n",
       "    <tr>\n",
       "      <th>0.698</th>\n",
       "      <td>554</td>\n",
       "      <td>101</td>\n",
       "      <td>15.42</td>\n",
       "    </tr>\n",
       "    <tr>\n",
       "      <th>0.754</th>\n",
       "      <td>226</td>\n",
       "      <td>38</td>\n",
       "      <td>14.39</td>\n",
       "    </tr>\n",
       "    <tr>\n",
       "      <th>0.920</th>\n",
       "      <td>4524</td>\n",
       "      <td>661</td>\n",
       "      <td>12.75</td>\n",
       "    </tr>\n",
       "    <tr>\n",
       "      <th>0.855</th>\n",
       "      <td>406</td>\n",
       "      <td>49</td>\n",
       "      <td>10.77</td>\n",
       "    </tr>\n",
       "    <tr>\n",
       "      <th>0.910</th>\n",
       "      <td>1500</td>\n",
       "      <td>154</td>\n",
       "      <td>9.31</td>\n",
       "    </tr>\n",
       "    <tr>\n",
       "      <th>0.926</th>\n",
       "      <td>1336</td>\n",
       "      <td>136</td>\n",
       "      <td>9.24</td>\n",
       "    </tr>\n",
       "    <tr>\n",
       "      <th>0.939</th>\n",
       "      <td>496</td>\n",
       "      <td>48</td>\n",
       "      <td>8.82</td>\n",
       "    </tr>\n",
       "    <tr>\n",
       "      <th>0.897</th>\n",
       "      <td>575</td>\n",
       "      <td>49</td>\n",
       "      <td>7.85</td>\n",
       "    </tr>\n",
       "  </tbody>\n",
       "</table>\n",
       "</div>"
      ],
      "text/plain": [
       "target                     0    1    pct\n",
       "city_development_index                  \n",
       "0.624                   1219  453  27.09\n",
       "0.887                    227   44  16.24\n",
       "0.698                    554  101  15.42\n",
       "0.754                    226   38  14.39\n",
       "0.920                   4524  661  12.75\n",
       "0.855                    406   49  10.77\n",
       "0.910                   1500  154   9.31\n",
       "0.926                   1336  136   9.24\n",
       "0.939                    496   48   8.82\n",
       "0.897                    575   49   7.85"
      ]
     },
     "execution_count": 17,
     "metadata": {},
     "output_type": "execute_result"
    }
   ],
   "source": [
    "var_target_df(df,'city_development_index',10)"
   ]
  },
  {
   "cell_type": "code",
   "execution_count": 18,
   "metadata": {},
   "outputs": [],
   "source": [
    "city_devidx_targetTop10=var_target_df(df,'city_development_index',10)"
   ]
  },
  {
   "cell_type": "code",
   "execution_count": 19,
   "metadata": {},
   "outputs": [
    {
     "data": {
      "image/png": "[encoded data removed]",
      "text/plain": [
       "<Figure size 720x576 with 1 Axes>"
      ]
     },
     "metadata": {},
     "output_type": "display_data"
    }
   ],
   "source": [
    "city_devidx_targetTop10.drop('pct',axis=1).plot(kind='bar',figsize=(10,8),rot=45)\n",
    "plt.xlabel('City_DevIdx VS Target (Top10)')\n",
    "plt.ylabel('count')\n",
    "plt.legend(['non_target (0)','target (1)'])\n",
    "plt.show()"
   ]
  },
  {
   "cell_type": "code",
   "execution_count": 20,
   "metadata": {},
   "outputs": [
    {
     "data": {
      "text/html": [
       "<div>\n",
       "<style scoped>\n",
       "    .dataframe tbody tr th:only-of-type {\n",
       "        vertical-align: middle;\n",
       "    }\n",
       "\n",
       "    .dataframe tbody tr th {\n",
       "        vertical-align: top;\n",
       "    }\n",
       "\n",
       "    .dataframe thead th {\n",
       "        text-align: right;\n",
       "    }\n",
       "</style>\n",
       "<table border=\"1\" class=\"dataframe\">\n",
       "  <thead>\n",
       "    <tr style=\"text-align: right;\">\n",
       "      <th>target</th>\n",
       "      <th>0</th>\n",
       "      <th>1</th>\n",
       "      <th>pct</th>\n",
       "    </tr>\n",
       "    <tr>\n",
       "      <th>gender</th>\n",
       "      <th></th>\n",
       "      <th></th>\n",
       "      <th></th>\n",
       "    </tr>\n",
       "  </thead>\n",
       "  <tbody>\n",
       "    <tr>\n",
       "      <th>Other</th>\n",
       "      <td>160</td>\n",
       "      <td>29</td>\n",
       "      <td>15.34</td>\n",
       "    </tr>\n",
       "    <tr>\n",
       "      <th>Female</th>\n",
       "      <td>1009</td>\n",
       "      <td>179</td>\n",
       "      <td>15.07</td>\n",
       "    </tr>\n",
       "    <tr>\n",
       "      <th>Male</th>\n",
       "      <td>14765</td>\n",
       "      <td>2217</td>\n",
       "      <td>13.05</td>\n",
       "    </tr>\n",
       "  </tbody>\n",
       "</table>\n",
       "</div>"
      ],
      "text/plain": [
       "target      0     1    pct\n",
       "gender                    \n",
       "Other     160    29  15.34\n",
       "Female   1009   179  15.07\n",
       "Male    14765  2217  13.05"
      ]
     },
     "execution_count": 20,
     "metadata": {},
     "output_type": "execute_result"
    }
   ],
   "source": [
    "var_target_df(df,'gender',3)"
   ]
  },
  {
   "cell_type": "code",
   "execution_count": 21,
   "metadata": {},
   "outputs": [],
   "source": [
    "gender_target = var_target_df(df,'gender',3)"
   ]
  },
  {
   "cell_type": "code",
   "execution_count": 22,
   "metadata": {},
   "outputs": [
    {
     "data": {
      "image/png": "[encoded data removed]",
      "text/plain": [
       "<Figure size 720x576 with 1 Axes>"
      ]
     },
     "metadata": {},
     "output_type": "display_data"
    }
   ],
   "source": [
    "gender_target.drop('pct',axis=1).plot(kind='bar',figsize=(10,8),rot=360)\n",
    "plt.xlabel('Gender VS Target (Top10)')\n",
    "plt.ylabel('count')\n",
    "plt.legend(['non_target (0)','target (1)'])\n",
    "plt.show()"
   ]
  },
  {
   "cell_type": "code",
   "execution_count": 23,
   "metadata": {},
   "outputs": [
    {
     "data": {
      "text/html": [
       "<div>\n",
       "<style scoped>\n",
       "    .dataframe tbody tr th:only-of-type {\n",
       "        vertical-align: middle;\n",
       "    }\n",
       "\n",
       "    .dataframe tbody tr th {\n",
       "        vertical-align: top;\n",
       "    }\n",
       "\n",
       "    .dataframe thead th {\n",
       "        text-align: right;\n",
       "    }\n",
       "</style>\n",
       "<table border=\"1\" class=\"dataframe\">\n",
       "  <thead>\n",
       "    <tr style=\"text-align: right;\">\n",
       "      <th>target</th>\n",
       "      <th>0</th>\n",
       "      <th>1</th>\n",
       "      <th>pct</th>\n",
       "    </tr>\n",
       "    <tr>\n",
       "      <th>relevent_experience</th>\n",
       "      <th></th>\n",
       "      <th></th>\n",
       "      <th></th>\n",
       "    </tr>\n",
       "  </thead>\n",
       "  <tbody>\n",
       "    <tr>\n",
       "      <th>No relevent experience</th>\n",
       "      <td>3932</td>\n",
       "      <td>831</td>\n",
       "      <td>17.45</td>\n",
       "    </tr>\n",
       "    <tr>\n",
       "      <th>Has relevent experience</th>\n",
       "      <td>12002</td>\n",
       "      <td>1594</td>\n",
       "      <td>11.72</td>\n",
       "    </tr>\n",
       "  </tbody>\n",
       "</table>\n",
       "</div>"
      ],
      "text/plain": [
       "target                       0     1    pct\n",
       "relevent_experience                        \n",
       "No relevent experience    3932   831  17.45\n",
       "Has relevent experience  12002  1594  11.72"
      ]
     },
     "execution_count": 23,
     "metadata": {},
     "output_type": "execute_result"
    }
   ],
   "source": [
    "var_target_df(df,'relevent_experience',2)"
   ]
  },
  {
   "cell_type": "code",
   "execution_count": 24,
   "metadata": {},
   "outputs": [],
   "source": [
    "relevent_experience_target = var_target_df(df,'relevent_experience',2)"
   ]
  },
  {
   "cell_type": "code",
   "execution_count": 25,
   "metadata": {},
   "outputs": [
    {
     "data": {
      "image/png": "[encoded data removed]",
      "text/plain": [
       "<Figure size 720x576 with 1 Axes>"
      ]
     },
     "metadata": {},
     "output_type": "display_data"
    }
   ],
   "source": [
    "relevent_experience_target.drop('pct',axis=1).plot(kind='bar',figsize=(10,8),rot=360)\n",
    "plt.xlabel('Relevent_Experience VS Target (Top10)')\n",
    "plt.ylabel('count')\n",
    "plt.legend(['non_target (0)','target (1)'])\n",
    "plt.show()"
   ]
  },
  {
   "cell_type": "code",
   "execution_count": 26,
   "metadata": {},
   "outputs": [
    {
     "data": {
      "text/html": [
       "<div>\n",
       "<style scoped>\n",
       "    .dataframe tbody tr th:only-of-type {\n",
       "        vertical-align: middle;\n",
       "    }\n",
       "\n",
       "    .dataframe tbody tr th {\n",
       "        vertical-align: top;\n",
       "    }\n",
       "\n",
       "    .dataframe thead th {\n",
       "        text-align: right;\n",
       "    }\n",
       "</style>\n",
       "<table border=\"1\" class=\"dataframe\">\n",
       "  <thead>\n",
       "    <tr style=\"text-align: right;\">\n",
       "      <th>target</th>\n",
       "      <th>0</th>\n",
       "      <th>1</th>\n",
       "      <th>pct</th>\n",
       "    </tr>\n",
       "    <tr>\n",
       "      <th>enrolled_university</th>\n",
       "      <th></th>\n",
       "      <th></th>\n",
       "      <th></th>\n",
       "    </tr>\n",
       "  </thead>\n",
       "  <tbody>\n",
       "    <tr>\n",
       "      <th>Full time course</th>\n",
       "      <td>2580</td>\n",
       "      <td>607</td>\n",
       "      <td>19.05</td>\n",
       "    </tr>\n",
       "    <tr>\n",
       "      <th>Part time course</th>\n",
       "      <td>997</td>\n",
       "      <td>174</td>\n",
       "      <td>14.86</td>\n",
       "    </tr>\n",
       "    <tr>\n",
       "      <th>no_enrollment</th>\n",
       "      <td>12357</td>\n",
       "      <td>1644</td>\n",
       "      <td>11.74</td>\n",
       "    </tr>\n",
       "  </tbody>\n",
       "</table>\n",
       "</div>"
      ],
      "text/plain": [
       "target                   0     1    pct\n",
       "enrolled_university                    \n",
       "Full time course      2580   607  19.05\n",
       "Part time course       997   174  14.86\n",
       "no_enrollment        12357  1644  11.74"
      ]
     },
     "execution_count": 26,
     "metadata": {},
     "output_type": "execute_result"
    }
   ],
   "source": [
    "var_target_df(df,'enrolled_university',3)"
   ]
  },
  {
   "cell_type": "code",
   "execution_count": 27,
   "metadata": {},
   "outputs": [],
   "source": [
    "uniEnroll_target = var_target_df(df,'enrolled_university',3)"
   ]
  },
  {
   "cell_type": "code",
   "execution_count": 28,
   "metadata": {},
   "outputs": [
    {
     "data": {
      "image/png": "[encoded data removed]",
      "text/plain": [
       "<Figure size 720x576 with 1 Axes>"
      ]
     },
     "metadata": {},
     "output_type": "display_data"
    }
   ],
   "source": [
    "uniEnroll_target.drop('pct',axis=1).plot(kind='bar',figsize=(10,8),rot=360)\n",
    "plt.xlabel('University Enrollment VS Target (Top10)')\n",
    "plt.ylabel('count')\n",
    "plt.legend(['non_target (0)','target (1)'])\n",
    "plt.show()"
   ]
  },
  {
   "cell_type": "code",
   "execution_count": 29,
   "metadata": {},
   "outputs": [
    {
     "data": {
      "text/html": [
       "<div>\n",
       "<style scoped>\n",
       "    .dataframe tbody tr th:only-of-type {\n",
       "        vertical-align: middle;\n",
       "    }\n",
       "\n",
       "    .dataframe tbody tr th {\n",
       "        vertical-align: top;\n",
       "    }\n",
       "\n",
       "    .dataframe thead th {\n",
       "        text-align: right;\n",
       "    }\n",
       "</style>\n",
       "<table border=\"1\" class=\"dataframe\">\n",
       "  <thead>\n",
       "    <tr style=\"text-align: right;\">\n",
       "      <th>target</th>\n",
       "      <th>0</th>\n",
       "      <th>1</th>\n",
       "      <th>pct</th>\n",
       "    </tr>\n",
       "    <tr>\n",
       "      <th>education_level</th>\n",
       "      <th></th>\n",
       "      <th></th>\n",
       "      <th></th>\n",
       "    </tr>\n",
       "  </thead>\n",
       "  <tbody>\n",
       "    <tr>\n",
       "      <th>Graduate</th>\n",
       "      <td>9633</td>\n",
       "      <td>1593</td>\n",
       "      <td>14.19</td>\n",
       "    </tr>\n",
       "    <tr>\n",
       "      <th>Masters</th>\n",
       "      <td>3806</td>\n",
       "      <td>513</td>\n",
       "      <td>11.88</td>\n",
       "    </tr>\n",
       "    <tr>\n",
       "      <th>High School</th>\n",
       "      <td>1791</td>\n",
       "      <td>241</td>\n",
       "      <td>11.86</td>\n",
       "    </tr>\n",
       "    <tr>\n",
       "      <th>Phd</th>\n",
       "      <td>406</td>\n",
       "      <td>53</td>\n",
       "      <td>11.55</td>\n",
       "    </tr>\n",
       "    <tr>\n",
       "      <th>Primary School</th>\n",
       "      <td>298</td>\n",
       "      <td>25</td>\n",
       "      <td>7.74</td>\n",
       "    </tr>\n",
       "  </tbody>\n",
       "</table>\n",
       "</div>"
      ],
      "text/plain": [
       "target              0     1    pct\n",
       "education_level                   \n",
       "Graduate         9633  1593  14.19\n",
       "Masters          3806   513  11.88\n",
       "High School      1791   241  11.86\n",
       "Phd               406    53  11.55\n",
       "Primary School    298    25   7.74"
      ]
     },
     "execution_count": 29,
     "metadata": {},
     "output_type": "execute_result"
    }
   ],
   "source": [
    "var_target_df(df,'education_level',5)"
   ]
  },
  {
   "cell_type": "code",
   "execution_count": 30,
   "metadata": {},
   "outputs": [],
   "source": [
    "Edulevel_target = var_target_df(df,'education_level',5)"
   ]
  },
  {
   "cell_type": "code",
   "execution_count": 31,
   "metadata": {},
   "outputs": [
    {
     "data": {
      "image/png": "[encoded data removed]",
      "text/plain": [
       "<Figure size 720x576 with 1 Axes>"
      ]
     },
     "metadata": {},
     "output_type": "display_data"
    }
   ],
   "source": [
    "Edulevel_target.drop('pct',axis=1).plot(kind='bar',figsize=(10,8),rot=360)\n",
    "plt.xlabel('Education Level VS Target (Top10)')\n",
    "plt.ylabel('count')\n",
    "plt.legend(['non_target (0)','target (1)'])\n",
    "plt.show()"
   ]
  },
  {
   "cell_type": "code",
   "execution_count": 32,
   "metadata": {},
   "outputs": [
    {
     "data": {
      "text/html": [
       "<div>\n",
       "<style scoped>\n",
       "    .dataframe tbody tr th:only-of-type {\n",
       "        vertical-align: middle;\n",
       "    }\n",
       "\n",
       "    .dataframe tbody tr th {\n",
       "        vertical-align: top;\n",
       "    }\n",
       "\n",
       "    .dataframe thead th {\n",
       "        text-align: right;\n",
       "    }\n",
       "</style>\n",
       "<table border=\"1\" class=\"dataframe\">\n",
       "  <thead>\n",
       "    <tr style=\"text-align: right;\">\n",
       "      <th>target</th>\n",
       "      <th>0</th>\n",
       "      <th>1</th>\n",
       "      <th>pct</th>\n",
       "    </tr>\n",
       "    <tr>\n",
       "      <th>major_discipline</th>\n",
       "      <th></th>\n",
       "      <th></th>\n",
       "      <th></th>\n",
       "    </tr>\n",
       "  </thead>\n",
       "  <tbody>\n",
       "    <tr>\n",
       "      <th>Humanities</th>\n",
       "      <td>595</td>\n",
       "      <td>93</td>\n",
       "      <td>13.52</td>\n",
       "    </tr>\n",
       "    <tr>\n",
       "      <th>STEM</th>\n",
       "      <td>14365</td>\n",
       "      <td>2211</td>\n",
       "      <td>13.34</td>\n",
       "    </tr>\n",
       "    <tr>\n",
       "      <th>Business Degree</th>\n",
       "      <td>268</td>\n",
       "      <td>39</td>\n",
       "      <td>12.70</td>\n",
       "    </tr>\n",
       "    <tr>\n",
       "      <th>Other</th>\n",
       "      <td>306</td>\n",
       "      <td>37</td>\n",
       "      <td>10.79</td>\n",
       "    </tr>\n",
       "    <tr>\n",
       "      <th>Arts</th>\n",
       "      <td>214</td>\n",
       "      <td>25</td>\n",
       "      <td>10.46</td>\n",
       "    </tr>\n",
       "    <tr>\n",
       "      <th>No Major</th>\n",
       "      <td>186</td>\n",
       "      <td>20</td>\n",
       "      <td>9.71</td>\n",
       "    </tr>\n",
       "  </tbody>\n",
       "</table>\n",
       "</div>"
      ],
      "text/plain": [
       "target                0     1    pct\n",
       "major_discipline                    \n",
       "Humanities          595    93  13.52\n",
       "STEM              14365  2211  13.34\n",
       "Business Degree     268    39  12.70\n",
       "Other               306    37  10.79\n",
       "Arts                214    25  10.46\n",
       "No Major            186    20   9.71"
      ]
     },
     "execution_count": 32,
     "metadata": {},
     "output_type": "execute_result"
    }
   ],
   "source": [
    "var_target_df(df,'major_discipline',6)"
   ]
  },
  {
   "cell_type": "code",
   "execution_count": 33,
   "metadata": {},
   "outputs": [],
   "source": [
    "major_target = var_target_df(df,'major_discipline',6)"
   ]
  },
  {
   "cell_type": "code",
   "execution_count": 34,
   "metadata": {},
   "outputs": [
    {
     "data": {
      "image/png": "[encoded data removed]",
      "text/plain": [
       "<Figure size 720x576 with 1 Axes>"
      ]
     },
     "metadata": {},
     "output_type": "display_data"
    }
   ],
   "source": [
    "major_target.drop('pct',axis=1).plot(kind='bar',figsize=(10,8),rot=360)\n",
    "plt.xlabel('Major VS Target (Top10)')\n",
    "plt.ylabel('count')\n",
    "plt.legend(['non_target (0)','target (1)'])\n",
    "plt.show()"
   ]
  },
  {
   "cell_type": "code",
   "execution_count": 35,
   "metadata": {},
   "outputs": [
    {
     "data": {
      "text/html": [
       "<div>\n",
       "<style scoped>\n",
       "    .dataframe tbody tr th:only-of-type {\n",
       "        vertical-align: middle;\n",
       "    }\n",
       "\n",
       "    .dataframe tbody tr th {\n",
       "        vertical-align: top;\n",
       "    }\n",
       "\n",
       "    .dataframe thead th {\n",
       "        text-align: right;\n",
       "    }\n",
       "</style>\n",
       "<table border=\"1\" class=\"dataframe\">\n",
       "  <thead>\n",
       "    <tr style=\"text-align: right;\">\n",
       "      <th>target</th>\n",
       "      <th>0</th>\n",
       "      <th>1</th>\n",
       "      <th>pct</th>\n",
       "    </tr>\n",
       "    <tr>\n",
       "      <th>experience</th>\n",
       "      <th></th>\n",
       "      <th></th>\n",
       "      <th></th>\n",
       "    </tr>\n",
       "  </thead>\n",
       "  <tbody>\n",
       "    <tr>\n",
       "      <th>0~5 years</th>\n",
       "      <td>4612</td>\n",
       "      <td>966</td>\n",
       "      <td>17.32</td>\n",
       "    </tr>\n",
       "    <tr>\n",
       "      <th>6~10 years</th>\n",
       "      <td>4160</td>\n",
       "      <td>616</td>\n",
       "      <td>12.90</td>\n",
       "    </tr>\n",
       "    <tr>\n",
       "      <th>11~20 years</th>\n",
       "      <td>4008</td>\n",
       "      <td>501</td>\n",
       "      <td>11.11</td>\n",
       "    </tr>\n",
       "    <tr>\n",
       "      <th>&gt; 20 years</th>\n",
       "      <td>3154</td>\n",
       "      <td>342</td>\n",
       "      <td>9.78</td>\n",
       "    </tr>\n",
       "  </tbody>\n",
       "</table>\n",
       "</div>"
      ],
      "text/plain": [
       "target          0    1    pct\n",
       "experience                   \n",
       "0~5 years    4612  966  17.32\n",
       "6~10 years   4160  616  12.90\n",
       "11~20 years  4008  501  11.11\n",
       "> 20 years   3154  342   9.78"
      ]
     },
     "execution_count": 35,
     "metadata": {},
     "output_type": "execute_result"
    }
   ],
   "source": [
    "var_target_df(df,'experience',4)"
   ]
  },
  {
   "cell_type": "code",
   "execution_count": 36,
   "metadata": {},
   "outputs": [
    {
     "data": {
      "image/png": "[encoded data removed]",
      "text/plain": [
       "<Figure size 720x576 with 1 Axes>"
      ]
     },
     "metadata": {},
     "output_type": "display_data"
    }
   ],
   "source": [
    "experience_target = var_target_df(df,'experience',4)\n",
    "experience_target.drop('pct',axis=1).plot(kind='bar',figsize=(10,8),rot=360)\n",
    "plt.xlabel('Experience VS Target (Top10)')\n",
    "plt.ylabel('count')\n",
    "plt.legend(['non_target (0)','target (1)'])\n",
    "plt.show()"
   ]
  },
  {
   "cell_type": "code",
   "execution_count": 37,
   "metadata": {},
   "outputs": [
    {
     "data": {
      "text/html": [
       "<div>\n",
       "<style scoped>\n",
       "    .dataframe tbody tr th:only-of-type {\n",
       "        vertical-align: middle;\n",
       "    }\n",
       "\n",
       "    .dataframe tbody tr th {\n",
       "        vertical-align: top;\n",
       "    }\n",
       "\n",
       "    .dataframe thead th {\n",
       "        text-align: right;\n",
       "    }\n",
       "</style>\n",
       "<table border=\"1\" class=\"dataframe\">\n",
       "  <thead>\n",
       "    <tr style=\"text-align: right;\">\n",
       "      <th>target</th>\n",
       "      <th>0</th>\n",
       "      <th>1</th>\n",
       "      <th>pct</th>\n",
       "    </tr>\n",
       "    <tr>\n",
       "      <th>company_size</th>\n",
       "      <th></th>\n",
       "      <th></th>\n",
       "      <th></th>\n",
       "    </tr>\n",
       "  </thead>\n",
       "  <tbody>\n",
       "    <tr>\n",
       "      <th>less than 100</th>\n",
       "      <td>9159</td>\n",
       "      <td>1566</td>\n",
       "      <td>14.60</td>\n",
       "    </tr>\n",
       "    <tr>\n",
       "      <th>1000 +</th>\n",
       "      <td>3560</td>\n",
       "      <td>474</td>\n",
       "      <td>11.75</td>\n",
       "    </tr>\n",
       "    <tr>\n",
       "      <th>less than 1000</th>\n",
       "      <td>3215</td>\n",
       "      <td>385</td>\n",
       "      <td>10.69</td>\n",
       "    </tr>\n",
       "  </tbody>\n",
       "</table>\n",
       "</div>"
      ],
      "text/plain": [
       "target             0     1    pct\n",
       "company_size                     \n",
       "less than 100   9159  1566  14.60\n",
       "1000 +          3560   474  11.75\n",
       "less than 1000  3215   385  10.69"
      ]
     },
     "execution_count": 37,
     "metadata": {},
     "output_type": "execute_result"
    }
   ],
   "source": [
    "var_target_df(df,'company_size',3)"
   ]
  },
  {
   "cell_type": "code",
   "execution_count": 38,
   "metadata": {},
   "outputs": [
    {
     "data": {
      "image/png": "[encoded data removed]",
      "text/plain": [
       "<Figure size 720x576 with 1 Axes>"
      ]
     },
     "metadata": {},
     "output_type": "display_data"
    }
   ],
   "source": [
    "companySize_target = var_target_df(df,'company_size',3)\n",
    "companySize_target.drop('pct',axis=1).plot(kind='bar',figsize=(10,8),rot=360)\n",
    "plt.xlabel('Company Size VS Target (Top10)')\n",
    "plt.ylabel('count')\n",
    "plt.legend(['non_target (0)','target (1)'])\n",
    "plt.show()"
   ]
  },
  {
   "cell_type": "code",
   "execution_count": 39,
   "metadata": {},
   "outputs": [
    {
     "data": {
      "text/html": [
       "<div>\n",
       "<style scoped>\n",
       "    .dataframe tbody tr th:only-of-type {\n",
       "        vertical-align: middle;\n",
       "    }\n",
       "\n",
       "    .dataframe tbody tr th {\n",
       "        vertical-align: top;\n",
       "    }\n",
       "\n",
       "    .dataframe thead th {\n",
       "        text-align: right;\n",
       "    }\n",
       "</style>\n",
       "<table border=\"1\" class=\"dataframe\">\n",
       "  <thead>\n",
       "    <tr style=\"text-align: right;\">\n",
       "      <th>target</th>\n",
       "      <th>0</th>\n",
       "      <th>1</th>\n",
       "      <th>pct</th>\n",
       "    </tr>\n",
       "    <tr>\n",
       "      <th>company_type</th>\n",
       "      <th></th>\n",
       "      <th></th>\n",
       "      <th></th>\n",
       "    </tr>\n",
       "  </thead>\n",
       "  <tbody>\n",
       "    <tr>\n",
       "      <th>Other</th>\n",
       "      <td>100</td>\n",
       "      <td>19</td>\n",
       "      <td>15.97</td>\n",
       "    </tr>\n",
       "    <tr>\n",
       "      <th>Public Sector</th>\n",
       "      <td>844</td>\n",
       "      <td>152</td>\n",
       "      <td>15.26</td>\n",
       "    </tr>\n",
       "    <tr>\n",
       "      <th>Pvt Ltd</th>\n",
       "      <td>13075</td>\n",
       "      <td>2015</td>\n",
       "      <td>13.35</td>\n",
       "    </tr>\n",
       "    <tr>\n",
       "      <th>NGO</th>\n",
       "      <td>465</td>\n",
       "      <td>69</td>\n",
       "      <td>12.92</td>\n",
       "    </tr>\n",
       "    <tr>\n",
       "      <th>Early Stage Startup</th>\n",
       "      <td>508</td>\n",
       "      <td>74</td>\n",
       "      <td>12.71</td>\n",
       "    </tr>\n",
       "    <tr>\n",
       "      <th>Funded Startup</th>\n",
       "      <td>942</td>\n",
       "      <td>96</td>\n",
       "      <td>9.25</td>\n",
       "    </tr>\n",
       "  </tbody>\n",
       "</table>\n",
       "</div>"
      ],
      "text/plain": [
       "target                   0     1    pct\n",
       "company_type                           \n",
       "Other                  100    19  15.97\n",
       "Public Sector          844   152  15.26\n",
       "Pvt Ltd              13075  2015  13.35\n",
       "NGO                    465    69  12.92\n",
       "Early Stage Startup    508    74  12.71\n",
       "Funded Startup         942    96   9.25"
      ]
     },
     "execution_count": 39,
     "metadata": {},
     "output_type": "execute_result"
    }
   ],
   "source": [
    "var_target_df(df,'company_type',6)"
   ]
  },
  {
   "cell_type": "code",
   "execution_count": 40,
   "metadata": {},
   "outputs": [
    {
     "data": {
      "image/png": "[encoded data removed]",
      "text/plain": [
       "<Figure size 720x576 with 1 Axes>"
      ]
     },
     "metadata": {},
     "output_type": "display_data"
    }
   ],
   "source": [
    "companyType_target= var_target_df(df,'company_type',6)\n",
    "companyType_target.drop('pct',axis=1).plot(kind='bar',figsize=(10,8),rot=360)\n",
    "plt.xlabel('Company Type VS Target (Top10)')\n",
    "plt.ylabel('count')\n",
    "plt.legend(['non_target (0)','target (1)'])\n",
    "plt.show()"
   ]
  },
  {
   "cell_type": "code",
   "execution_count": 41,
   "metadata": {},
   "outputs": [
    {
     "data": {
      "text/html": [
       "<div>\n",
       "<style scoped>\n",
       "    .dataframe tbody tr th:only-of-type {\n",
       "        vertical-align: middle;\n",
       "    }\n",
       "\n",
       "    .dataframe tbody tr th {\n",
       "        vertical-align: top;\n",
       "    }\n",
       "\n",
       "    .dataframe thead th {\n",
       "        text-align: right;\n",
       "    }\n",
       "</style>\n",
       "<table border=\"1\" class=\"dataframe\">\n",
       "  <thead>\n",
       "    <tr style=\"text-align: right;\">\n",
       "      <th>target</th>\n",
       "      <th>0</th>\n",
       "      <th>1</th>\n",
       "      <th>pct</th>\n",
       "    </tr>\n",
       "    <tr>\n",
       "      <th>last_new_job</th>\n",
       "      <th></th>\n",
       "      <th></th>\n",
       "      <th></th>\n",
       "    </tr>\n",
       "  </thead>\n",
       "  <tbody>\n",
       "    <tr>\n",
       "      <th>never</th>\n",
       "      <td>1876</td>\n",
       "      <td>310</td>\n",
       "      <td>14.18</td>\n",
       "    </tr>\n",
       "    <tr>\n",
       "      <th>4</th>\n",
       "      <td>891</td>\n",
       "      <td>147</td>\n",
       "      <td>14.16</td>\n",
       "    </tr>\n",
       "    <tr>\n",
       "      <th>2</th>\n",
       "      <td>2446</td>\n",
       "      <td>389</td>\n",
       "      <td>13.72</td>\n",
       "    </tr>\n",
       "    <tr>\n",
       "      <th>1</th>\n",
       "      <td>6846</td>\n",
       "      <td>1088</td>\n",
       "      <td>13.71</td>\n",
       "    </tr>\n",
       "    <tr>\n",
       "      <th>3</th>\n",
       "      <td>897</td>\n",
       "      <td>130</td>\n",
       "      <td>12.66</td>\n",
       "    </tr>\n",
       "    <tr>\n",
       "      <th>&gt;4</th>\n",
       "      <td>2978</td>\n",
       "      <td>361</td>\n",
       "      <td>10.81</td>\n",
       "    </tr>\n",
       "  </tbody>\n",
       "</table>\n",
       "</div>"
      ],
      "text/plain": [
       "target           0     1    pct\n",
       "last_new_job                   \n",
       "never         1876   310  14.18\n",
       "4              891   147  14.16\n",
       "2             2446   389  13.72\n",
       "1             6846  1088  13.71\n",
       "3              897   130  12.66\n",
       ">4            2978   361  10.81"
      ]
     },
     "execution_count": 41,
     "metadata": {},
     "output_type": "execute_result"
    }
   ],
   "source": [
    "var_target_df(df,'last_new_job',6)"
   ]
  },
  {
   "cell_type": "code",
   "execution_count": 42,
   "metadata": {},
   "outputs": [
    {
     "data": {
      "image/png": "[encoded data removed]",
      "text/plain": [
       "<Figure size 720x576 with 1 Axes>"
      ]
     },
     "metadata": {},
     "output_type": "display_data"
    }
   ],
   "source": [
    "lastNewJob_target=var_target_df(df,'last_new_job',6)\n",
    "lastNewJob_target.drop('pct',axis=1).plot(kind='bar',figsize=(10,8),rot=360)\n",
    "plt.xlabel('Years in Current Job VS Target (Top10)')\n",
    "plt.ylabel('count')\n",
    "plt.legend(['non_target (0)','target (1)'])\n",
    "plt.show()"
   ]
  },
  {
   "cell_type": "code",
   "execution_count": 43,
   "metadata": {},
   "outputs": [
    {
     "data": {
      "text/plain": [
       "count    18359.000000\n",
       "mean        65.899014\n",
       "std         60.885300\n",
       "min          1.000000\n",
       "25%         23.000000\n",
       "50%         47.000000\n",
       "75%         89.000000\n",
       "max        336.000000\n",
       "Name: training_hours, dtype: float64"
      ]
     },
     "execution_count": 43,
     "metadata": {},
     "output_type": "execute_result"
    }
   ],
   "source": [
    "df['training_hours'].describe()"
   ]
  },
  {
   "cell_type": "code",
   "execution_count": 44,
   "metadata": {},
   "outputs": [
    {
     "data": {
      "image/png": "[encoded data removed]",
      "text/plain": [
       "<Figure size 720x576 with 1 Axes>"
      ]
     },
     "metadata": {},
     "output_type": "display_data"
    }
   ],
   "source": [
    "create_hist(df,'training_hours',100)"
   ]
  },
  {
   "cell_type": "code",
   "execution_count": 45,
   "metadata": {},
   "outputs": [],
   "source": [
    "# df_normalized=(df.drop('city',axis=1)-df.drop('city',axis=1).mean())/df.drop('city',axis=1).std()\n",
    "# cov_matrix=df_normalized.cov()\n",
    "# cov_matrix"
   ]
  },
  {
   "cell_type": "code",
   "execution_count": 46,
   "metadata": {},
   "outputs": [
    {
     "data": {
      "text/html": [
       "<div>\n",
       "<style scoped>\n",
       "    .dataframe tbody tr th:only-of-type {\n",
       "        vertical-align: middle;\n",
       "    }\n",
       "\n",
       "    .dataframe tbody tr th {\n",
       "        vertical-align: top;\n",
       "    }\n",
       "\n",
       "    .dataframe thead th {\n",
       "        text-align: right;\n",
       "    }\n",
       "</style>\n",
       "<table border=\"1\" class=\"dataframe\">\n",
       "  <thead>\n",
       "    <tr style=\"text-align: right;\">\n",
       "      <th></th>\n",
       "      <th>count</th>\n",
       "      <th>mean</th>\n",
       "      <th>std</th>\n",
       "      <th>min</th>\n",
       "      <th>25%</th>\n",
       "      <th>50%</th>\n",
       "      <th>75%</th>\n",
       "      <th>max</th>\n",
       "    </tr>\n",
       "    <tr>\n",
       "      <th>target</th>\n",
       "      <th></th>\n",
       "      <th></th>\n",
       "      <th></th>\n",
       "      <th></th>\n",
       "      <th></th>\n",
       "      <th></th>\n",
       "      <th></th>\n",
       "      <th></th>\n",
       "    </tr>\n",
       "  </thead>\n",
       "  <tbody>\n",
       "    <tr>\n",
       "      <th>0</th>\n",
       "      <td>15934.0</td>\n",
       "      <td>66.011485</td>\n",
       "      <td>60.908040</td>\n",
       "      <td>1.0</td>\n",
       "      <td>23.0</td>\n",
       "      <td>47.0</td>\n",
       "      <td>89.0</td>\n",
       "      <td>336.0</td>\n",
       "    </tr>\n",
       "    <tr>\n",
       "      <th>1</th>\n",
       "      <td>2425.0</td>\n",
       "      <td>65.160000</td>\n",
       "      <td>60.743027</td>\n",
       "      <td>1.0</td>\n",
       "      <td>23.0</td>\n",
       "      <td>47.0</td>\n",
       "      <td>87.0</td>\n",
       "      <td>336.0</td>\n",
       "    </tr>\n",
       "  </tbody>\n",
       "</table>\n",
       "</div>"
      ],
      "text/plain": [
       "          count       mean        std  min   25%   50%   75%    max\n",
       "target                                                             \n",
       "0       15934.0  66.011485  60.908040  1.0  23.0  47.0  89.0  336.0\n",
       "1        2425.0  65.160000  60.743027  1.0  23.0  47.0  87.0  336.0"
      ]
     },
     "execution_count": 46,
     "metadata": {},
     "output_type": "execute_result"
    }
   ],
   "source": [
    "df.groupby('target')['training_hours'].describe()"
   ]
  },
  {
   "cell_type": "markdown",
   "metadata": {},
   "source": [
    "#### Looks like the mean of training_hour is the same between target and nontarget enrollee"
   ]
  },
  {
   "cell_type": "code",
   "execution_count": 47,
   "metadata": {},
   "outputs": [],
   "source": [
    "df['permutation']=np.random.permutation(df.training_hours)"
   ]
  },
  {
   "cell_type": "code",
   "execution_count": 48,
   "metadata": {},
   "outputs": [
    {
     "data": {
      "text/html": [
       "<div>\n",
       "<style scoped>\n",
       "    .dataframe tbody tr th:only-of-type {\n",
       "        vertical-align: middle;\n",
       "    }\n",
       "\n",
       "    .dataframe tbody tr th {\n",
       "        vertical-align: top;\n",
       "    }\n",
       "\n",
       "    .dataframe thead th {\n",
       "        text-align: right;\n",
       "    }\n",
       "</style>\n",
       "<table border=\"1\" class=\"dataframe\">\n",
       "  <thead>\n",
       "    <tr style=\"text-align: right;\">\n",
       "      <th></th>\n",
       "      <th>count</th>\n",
       "      <th>mean</th>\n",
       "      <th>std</th>\n",
       "      <th>min</th>\n",
       "      <th>25%</th>\n",
       "      <th>50%</th>\n",
       "      <th>75%</th>\n",
       "      <th>max</th>\n",
       "    </tr>\n",
       "    <tr>\n",
       "      <th>target</th>\n",
       "      <th></th>\n",
       "      <th></th>\n",
       "      <th></th>\n",
       "      <th></th>\n",
       "      <th></th>\n",
       "      <th></th>\n",
       "      <th></th>\n",
       "      <th></th>\n",
       "    </tr>\n",
       "  </thead>\n",
       "  <tbody>\n",
       "    <tr>\n",
       "      <th>0</th>\n",
       "      <td>15934.0</td>\n",
       "      <td>65.861679</td>\n",
       "      <td>60.668683</td>\n",
       "      <td>1.0</td>\n",
       "      <td>23.0</td>\n",
       "      <td>47.0</td>\n",
       "      <td>89.0</td>\n",
       "      <td>336.0</td>\n",
       "    </tr>\n",
       "    <tr>\n",
       "      <th>1</th>\n",
       "      <td>2425.0</td>\n",
       "      <td>66.144330</td>\n",
       "      <td>62.302101</td>\n",
       "      <td>1.0</td>\n",
       "      <td>23.0</td>\n",
       "      <td>46.0</td>\n",
       "      <td>89.0</td>\n",
       "      <td>336.0</td>\n",
       "    </tr>\n",
       "  </tbody>\n",
       "</table>\n",
       "</div>"
      ],
      "text/plain": [
       "          count       mean        std  min   25%   50%   75%    max\n",
       "target                                                             \n",
       "0       15934.0  65.861679  60.668683  1.0  23.0  47.0  89.0  336.0\n",
       "1        2425.0  66.144330  62.302101  1.0  23.0  46.0  89.0  336.0"
      ]
     },
     "execution_count": 48,
     "metadata": {},
     "output_type": "execute_result"
    }
   ],
   "source": [
    "df.groupby('target')['permutation'].describe()"
   ]
  },
  {
   "cell_type": "code",
   "execution_count": 49,
   "metadata": {},
   "outputs": [],
   "source": [
    "difference = list()\n",
    "\n",
    "# Now make a for loop that does the following 10,000 times:\n",
    "# 1. makes a permutation of the 'training_hours' \n",
    "# 2. calculates the difference in the mean training_hours for target enrollee and nontarget enrollee \n",
    "for i in range(10000):\n",
    "    permutation = np.random.permutation(df['training_hours'])\n",
    "    difference.append(np.mean(permutation[df.target == 0]) - np.mean(permutation[df.target == 1]))"
   ]
  },
  {
   "cell_type": "code",
   "execution_count": 50,
   "metadata": {},
   "outputs": [
    {
     "data": {
      "text/plain": [
       "(array([  10.,   98.,  414., 1321., 2574., 2741., 1877.,  775.,  165.,\n",
       "          25.]),\n",
       " array([-5.10949629, -4.12911301, -3.14872974, -2.16834647, -1.1879632 ,\n",
       "        -0.20757993,  0.77280334,  1.75318662,  2.73356989,  3.71395316,\n",
       "         4.69433643]),\n",
       " <a list of 10 Patch objects>)"
      ]
     },
     "execution_count": 50,
     "metadata": {},
     "output_type": "execute_result"
    },
    {
     "data": {
      "image/png": "[encoded data removed]",
      "text/plain": [
       "<Figure size 432x288 with 1 Axes>"
      ]
     },
     "metadata": {},
     "output_type": "display_data"
    }
   ],
   "source": [
    "plt.hist(difference)"
   ]
  },
  {
   "cell_type": "code",
   "execution_count": 51,
   "metadata": {},
   "outputs": [
    {
     "data": {
      "text/plain": [
       "0.8514848751098327"
      ]
     },
     "execution_count": 51,
     "metadata": {},
     "output_type": "execute_result"
    }
   ],
   "source": [
    "# mean difference between target enrollee and nontarget enrollee\n",
    "ob_di = abs(df.groupby('target')['training_hours'].describe()['mean'].diff()[1])\n",
    "ob_di"
   ]
  },
  {
   "cell_type": "code",
   "execution_count": 52,
   "metadata": {},
   "outputs": [],
   "source": [
    "difference=np.array(difference)"
   ]
  },
  {
   "cell_type": "code",
   "execution_count": 53,
   "metadata": {},
   "outputs": [],
   "source": [
    "p_val= (np.sum(difference>=ob_di)+np.sum(difference<=-ob_di))/len(difference)"
   ]
  },
  {
   "cell_type": "code",
   "execution_count": 54,
   "metadata": {},
   "outputs": [
    {
     "data": {
      "text/plain": [
       "0.5287"
      ]
     },
     "execution_count": 54,
     "metadata": {},
     "output_type": "execute_result"
    }
   ],
   "source": [
    "p_val"
   ]
  },
  {
   "cell_type": "markdown",
   "metadata": {},
   "source": [
    "#### p value is less than 0.05 therefore fail to reject null hypothesis. We can say there is no difference in training_hours between target enrollee and nontarget enrollee"
   ]
  },
  {
   "cell_type": "markdown",
   "metadata": {},
   "source": [
    "#### Please ignore the 3 cells as below"
   ]
  },
  {
   "cell_type": "code",
   "execution_count": 55,
   "metadata": {},
   "outputs": [],
   "source": [
    "# city_target = df.groupby('city')['target'].sum().nlargest(10)\n",
    "# city_target = pd.DataFrame(city_target).reset_index()\n",
    "# city_list = city_target.city.tolist()\n",
    "\n",
    "# city_total = dict()\n",
    "# for i in df.city:\n",
    "#     if i in city_list:\n",
    "#         city_total[i] = df.loc[df.city== i].target.count()\n",
    "        \n",
    "# pct = dict()\n",
    "# for i in city_target.city:\n",
    "#     for a in city_total.keys():\n",
    "#         if i == a:\n",
    "#             pct[i]=round(int(city_target.loc[city_target.city==i].target.values)/city_total[i]*100,0)\n",
    "# pd.DataFrame(pct.values(), index=pct.keys(),columns=['target_pct']).sort_values('target_pct',ascending=False)"
   ]
  },
  {
   "cell_type": "code",
   "execution_count": 56,
   "metadata": {},
   "outputs": [],
   "source": [
    "# def var_target_pct(data,col,n):\n",
    "#     # calculate the number of target(1) per unique value in col\n",
    "#     var_target = data.groupby(col)['target'].sum().nlargest(n)\n",
    "#     # create a dataframe and rest index\n",
    "#     var_target = pd.DataFrame(var_target).reset_index()\n",
    "#     # list up the unique value in the dataframe\n",
    "#     var_list = var_target[col].tolist()\n",
    "#     # create a dict to count all the target sum(0+1) for values in var_list\n",
    "#     var_target_total = dict()\n",
    "#     for i in data[col]:\n",
    "#         if i in var_list:\n",
    "#             var_target_total[i] = data.loc[data[col]== i].target.count()\n",
    "        \n",
    "#     pct = dict()\n",
    "#     #create another dict for pct: value's count of target(1) divided by value's total target count(0+1)\n",
    "#     for i in var_target[col]:\n",
    "#         for a in var_target_total.keys():\n",
    "#             if i == a:\n",
    "#                 pct[i]=round(int(var_target.loc[var_target[col]==i].target.values)/var_target_total[i]*100,2)\n",
    "#     return pd.DataFrame(pct.values(), index=pct.keys(),columns=['target_pct']).sort_values('target_pct',ascending=False)"
   ]
  },
  {
   "cell_type": "code",
   "execution_count": 57,
   "metadata": {},
   "outputs": [],
   "source": [
    "# def var_target_pct(data,col,n):\n",
    "#     # calculate the number of target(1) per unique value in col and filter out top n.\n",
    "#     var_target = data.groupby(col)['target'].sum().nlargest(n)\n",
    "#     # create a dataframe and rest index\n",
    "#     var_target = pd.DataFrame(var_target).reset_index()\n",
    "#     # list up the unique value in the dataframe\n",
    "#     var_list = var_target[col].tolist()\n",
    "#     # create a dict to count all the target sum(0+1) for values in var_list\n",
    "#     var_target_total = dict()\n",
    "#     for i in data[col]:\n",
    "#         if i in var_list:\n",
    "#             var_target_total[i] = data.loc[data[col]== i].target.count()\n",
    "    \n",
    "#     # create another dict for pct: value's count of target(1) divided by value's total target count(0+1)    \n",
    "#     pct = dict()\n",
    "#     # create another dict for target number counts in dataframe var_target.\n",
    "#     target_number = dict()\n",
    "   \n",
    "#     for i in var_target[col]:\n",
    "#         target_number[i] = int(var_target.loc[var_target[col]==i].target.values)\n",
    "    \n",
    "#     for i in var_target[col]:\n",
    "#         for a in var_target_total.keys():\n",
    "#             if i == a:\n",
    "#                 pct[i]=round(target_number[i]/var_target_total[i]*100,3)\n",
    "#     new = pd.DataFrame(pct.values(), index=pct.keys(),columns=['target_pct'])\n",
    "#     new['target_counts'] = target_number.values()\n",
    "#     new['nontarget_counts'] = round(new['target_counts']/new['target_pct']*100,0) - new['target_counts']\n",
    "#     return new.sort_values('target_pct',ascending=False)"
   ]
  }
 ],
 "metadata": {
  "kernelspec": {
   "display_name": "Python 3",
   "language": "python",
   "name": "python3"
  },
  "language_info": {
   "codemirror_mode": {
    "name": "ipython",
    "version": 3
   },
   "file_extension": ".py",
   "mimetype": "text/x-python",
   "name": "python",
   "nbconvert_exporter": "python",
   "pygments_lexer": "ipython3",
   "version": "3.8.1"
  }
 },
 "nbformat": 4,
 "nbformat_minor": 4
}
