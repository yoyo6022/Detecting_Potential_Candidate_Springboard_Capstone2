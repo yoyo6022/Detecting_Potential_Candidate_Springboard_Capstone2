{
 "cells": [
  {
   "cell_type": "markdown",
   "metadata": {},
   "source": [
    "# Pre explanation"
   ]
  },
  {
   "cell_type": "markdown",
   "metadata": {},
   "source": [
    "This is the version where I used LeaveOneOut encoding with column ‘city’ .\n",
    "And after trained the models (without oversampling and with oversampling) \n",
    "I see some of the models’ score are too high and after I checked feature importance for model \n",
    "DecisionTree, RandomForest, GB, XGB, LightGB (As their performance outperformed other models) ,\n",
    "I can see ‘city’ has extremely high importance comparing to other features.\n",
    "Despite of this, model Random forest and Gradient Boosting have reasonably good result after trained the model with oversampling data.\n",
    "Good recall, good ROC_AUC score.\n",
    "<br><b>Please read until the 57th cell, right above 'updated to this cell'</b>\n"
   ]
  },
  {
   "cell_type": "markdown",
   "metadata": {},
   "source": [
    "# 04.04 - Modeling\n",
    "+ Imports & Setup\n",
    "+ Encode 'city' column via LeaveOneOutEncoder\n",
    "+ Train Models with Defaul Settings\n",
    " + Select Models\n",
    " + Compare Results\n",
    "+ Apply SMOTE to oversample data\n",
    "+ Re-train Models Based on New Dataset (Oversampled Data)\n",
    " + Compare Results \n",
    " + Tune Hyperparameters for Outperformed Models \n",
    "+ Choose Final Model"
   ]
  },
  {
   "cell_type": "markdown",
   "metadata": {},
   "source": [
    "## Imports & Setup"
   ]
  },
  {
   "cell_type": "code",
   "execution_count": 2,
   "metadata": {},
   "outputs": [],
   "source": [
    "import os\n",
    "import pandas as pd\n",
    "# import datetime\n",
    "import seaborn as sns\n",
    "sns.set()\n",
    "import matplotlib.pyplot as plt\n",
    "import numpy as np\n",
    "# from scipy import stats\n",
    "# import random\n",
    "from category_encoders import LeaveOneOutEncoder\n",
    "from sklearn.preprocessing import StandardScaler\n",
    "from sklearn.model_selection import train_test_split \n",
    "from sklearn.model_selection import KFold\n",
    "from sklearn.model_selection import cross_val_score\n",
    "from sklearn import model_selection\n",
    "\n",
    "from sklearn.linear_model import LogisticRegression\n",
    "from sklearn.naive_bayes import GaussianNB\n",
    "from sklearn.neighbors import KNeighborsClassifier\n",
    "from sklearn.svm import SVC\n",
    "from sklearn.tree import DecisionTreeClassifier\n",
    "from sklearn.ensemble import RandomForestClassifier\n",
    "from sklearn.ensemble import GradientBoostingClassifier\n",
    "from xgboost import XGBClassifier\n",
    "import xgboost as xgb\n",
    "#from catboost import CatBoostClassifier\n",
    "import lightgbm as lgb\n",
    "\n",
    "import time\n",
    "from sklearn.metrics import recall_score\n",
    "from sklearn.metrics import precision_score\n",
    "from sklearn.metrics import f1_score\n",
    "from sklearn import metrics\n",
    "from sklearn.metrics import f1_score\n",
    "from sklearn.metrics import make_scorer, accuracy_score, precision_score, recall_score, f1_score, roc_auc_score\n",
    "from sklearn.metrics import roc_auc_score\n",
    "from sklearn.metrics import precision_recall_fscore_support as score, accuracy_score\n",
    "from sklearn.metrics import classification_report, confusion_matrix, roc_curve, auc\n",
    "from imblearn.over_sampling import SMOTE\n",
    "%matplotlib inline"
   ]
  },
  {
   "cell_type": "code",
   "execution_count": 3,
   "metadata": {},
   "outputs": [
    {
     "name": "stdout",
     "output_type": "stream",
     "text": [
      "/Users/liuyang/Desktop/Springboard_Capstone/notebooks\n",
      "/Users/liuyang/Desktop/Springboard_Capstone\n"
     ]
    }
   ],
   "source": [
    "print(os.getcwd())\n",
    "os.chdir('/Users/liuyang/Desktop/Springboard_Capstone') \n",
    "print(os.getcwd())"
   ]
  },
  {
   "cell_type": "code",
   "execution_count": 4,
   "metadata": {},
   "outputs": [],
   "source": [
    "df = pd.read_csv('data/preprocessed_train.csv')"
   ]
  },
  {
   "cell_type": "code",
   "execution_count": 5,
   "metadata": {},
   "outputs": [
    {
     "data": {
      "text/html": [
       "<div>\n",
       "<style scoped>\n",
       "    .dataframe tbody tr th:only-of-type {\n",
       "        vertical-align: middle;\n",
       "    }\n",
       "\n",
       "    .dataframe tbody tr th {\n",
       "        vertical-align: top;\n",
       "    }\n",
       "\n",
       "    .dataframe thead th {\n",
       "        text-align: right;\n",
       "    }\n",
       "</style>\n",
       "<table border=\"1\" class=\"dataframe\">\n",
       "  <thead>\n",
       "    <tr style=\"text-align: right;\">\n",
       "      <th></th>\n",
       "      <th>city</th>\n",
       "      <th>city_development_index</th>\n",
       "      <th>gender</th>\n",
       "      <th>relevent_experience</th>\n",
       "      <th>enrolled_university</th>\n",
       "      <th>education_level</th>\n",
       "      <th>major_discipline</th>\n",
       "      <th>experience</th>\n",
       "      <th>company_size</th>\n",
       "      <th>company_type</th>\n",
       "      <th>last_new_job</th>\n",
       "      <th>training_hours</th>\n",
       "      <th>target</th>\n",
       "    </tr>\n",
       "  </thead>\n",
       "  <tbody>\n",
       "    <tr>\n",
       "      <th>0</th>\n",
       "      <td>city_149</td>\n",
       "      <td>0.689</td>\n",
       "      <td>1</td>\n",
       "      <td>1</td>\n",
       "      <td>0</td>\n",
       "      <td>2</td>\n",
       "      <td>1</td>\n",
       "      <td>1</td>\n",
       "      <td>2</td>\n",
       "      <td>4</td>\n",
       "      <td>1</td>\n",
       "      <td>106</td>\n",
       "      <td>0</td>\n",
       "    </tr>\n",
       "    <tr>\n",
       "      <th>1</th>\n",
       "      <td>city_83</td>\n",
       "      <td>0.923</td>\n",
       "      <td>1</td>\n",
       "      <td>1</td>\n",
       "      <td>0</td>\n",
       "      <td>2</td>\n",
       "      <td>1</td>\n",
       "      <td>3</td>\n",
       "      <td>1</td>\n",
       "      <td>2</td>\n",
       "      <td>1</td>\n",
       "      <td>69</td>\n",
       "      <td>0</td>\n",
       "    </tr>\n",
       "    <tr>\n",
       "      <th>2</th>\n",
       "      <td>city_16</td>\n",
       "      <td>0.910</td>\n",
       "      <td>1</td>\n",
       "      <td>1</td>\n",
       "      <td>0</td>\n",
       "      <td>2</td>\n",
       "      <td>1</td>\n",
       "      <td>2</td>\n",
       "      <td>1</td>\n",
       "      <td>1</td>\n",
       "      <td>1</td>\n",
       "      <td>4</td>\n",
       "      <td>0</td>\n",
       "    </tr>\n",
       "    <tr>\n",
       "      <th>3</th>\n",
       "      <td>city_64</td>\n",
       "      <td>0.666</td>\n",
       "      <td>1</td>\n",
       "      <td>1</td>\n",
       "      <td>0</td>\n",
       "      <td>2</td>\n",
       "      <td>1</td>\n",
       "      <td>3</td>\n",
       "      <td>1</td>\n",
       "      <td>4</td>\n",
       "      <td>1</td>\n",
       "      <td>26</td>\n",
       "      <td>0</td>\n",
       "    </tr>\n",
       "    <tr>\n",
       "      <th>4</th>\n",
       "      <td>city_100</td>\n",
       "      <td>0.887</td>\n",
       "      <td>1</td>\n",
       "      <td>0</td>\n",
       "      <td>0</td>\n",
       "      <td>2</td>\n",
       "      <td>1</td>\n",
       "      <td>2</td>\n",
       "      <td>1</td>\n",
       "      <td>4</td>\n",
       "      <td>1</td>\n",
       "      <td>88</td>\n",
       "      <td>1</td>\n",
       "    </tr>\n",
       "  </tbody>\n",
       "</table>\n",
       "</div>"
      ],
      "text/plain": [
       "       city  city_development_index  gender  relevent_experience  \\\n",
       "0  city_149                   0.689       1                    1   \n",
       "1   city_83                   0.923       1                    1   \n",
       "2   city_16                   0.910       1                    1   \n",
       "3   city_64                   0.666       1                    1   \n",
       "4  city_100                   0.887       1                    0   \n",
       "\n",
       "   enrolled_university  education_level  major_discipline  experience  \\\n",
       "0                    0                2                 1           1   \n",
       "1                    0                2                 1           3   \n",
       "2                    0                2                 1           2   \n",
       "3                    0                2                 1           3   \n",
       "4                    0                2                 1           2   \n",
       "\n",
       "   company_size  company_type  last_new_job  training_hours  target  \n",
       "0             2             4             1             106       0  \n",
       "1             1             2             1              69       0  \n",
       "2             1             1             1               4       0  \n",
       "3             1             4             1              26       0  \n",
       "4             1             4             1              88       1  "
      ]
     },
     "execution_count": 5,
     "metadata": {},
     "output_type": "execute_result"
    }
   ],
   "source": [
    "df.head()"
   ]
  },
  {
   "cell_type": "code",
   "execution_count": 6,
   "metadata": {},
   "outputs": [
    {
     "data": {
      "text/plain": [
       "(18359, 13)"
      ]
     },
     "execution_count": 6,
     "metadata": {},
     "output_type": "execute_result"
    }
   ],
   "source": [
    "df.shape"
   ]
  },
  {
   "cell_type": "markdown",
   "metadata": {},
   "source": [
    "## Encode 'city' column via LeaveOneOutEncoder"
   ]
  },
  {
   "cell_type": "code",
   "execution_count": 7,
   "metadata": {},
   "outputs": [],
   "source": [
    "X = df.drop(['target'],axis=1)\n",
    "y = df['target']"
   ]
  },
  {
   "cell_type": "code",
   "execution_count": 8,
   "metadata": {},
   "outputs": [
    {
     "data": {
      "text/html": [
       "<div>\n",
       "<style scoped>\n",
       "    .dataframe tbody tr th:only-of-type {\n",
       "        vertical-align: middle;\n",
       "    }\n",
       "\n",
       "    .dataframe tbody tr th {\n",
       "        vertical-align: top;\n",
       "    }\n",
       "\n",
       "    .dataframe thead th {\n",
       "        text-align: right;\n",
       "    }\n",
       "</style>\n",
       "<table border=\"1\" class=\"dataframe\">\n",
       "  <thead>\n",
       "    <tr style=\"text-align: right;\">\n",
       "      <th></th>\n",
       "      <th>city</th>\n",
       "      <th>city_development_index</th>\n",
       "      <th>gender</th>\n",
       "      <th>relevent_experience</th>\n",
       "      <th>enrolled_university</th>\n",
       "      <th>education_level</th>\n",
       "      <th>major_discipline</th>\n",
       "      <th>experience</th>\n",
       "      <th>company_size</th>\n",
       "      <th>company_type</th>\n",
       "      <th>last_new_job</th>\n",
       "      <th>training_hours</th>\n",
       "    </tr>\n",
       "  </thead>\n",
       "  <tbody>\n",
       "    <tr>\n",
       "      <th>0</th>\n",
       "      <td>0.125000</td>\n",
       "      <td>0.689</td>\n",
       "      <td>1</td>\n",
       "      <td>1</td>\n",
       "      <td>0</td>\n",
       "      <td>2</td>\n",
       "      <td>1</td>\n",
       "      <td>1</td>\n",
       "      <td>2</td>\n",
       "      <td>4</td>\n",
       "      <td>1</td>\n",
       "      <td>106</td>\n",
       "    </tr>\n",
       "    <tr>\n",
       "      <th>1</th>\n",
       "      <td>0.099291</td>\n",
       "      <td>0.923</td>\n",
       "      <td>1</td>\n",
       "      <td>1</td>\n",
       "      <td>0</td>\n",
       "      <td>2</td>\n",
       "      <td>1</td>\n",
       "      <td>3</td>\n",
       "      <td>1</td>\n",
       "      <td>2</td>\n",
       "      <td>1</td>\n",
       "      <td>69</td>\n",
       "    </tr>\n",
       "    <tr>\n",
       "      <th>2</th>\n",
       "      <td>0.093164</td>\n",
       "      <td>0.910</td>\n",
       "      <td>1</td>\n",
       "      <td>1</td>\n",
       "      <td>0</td>\n",
       "      <td>2</td>\n",
       "      <td>1</td>\n",
       "      <td>2</td>\n",
       "      <td>1</td>\n",
       "      <td>1</td>\n",
       "      <td>1</td>\n",
       "      <td>4</td>\n",
       "    </tr>\n",
       "    <tr>\n",
       "      <th>3</th>\n",
       "      <td>0.101695</td>\n",
       "      <td>0.666</td>\n",
       "      <td>1</td>\n",
       "      <td>1</td>\n",
       "      <td>0</td>\n",
       "      <td>2</td>\n",
       "      <td>1</td>\n",
       "      <td>3</td>\n",
       "      <td>1</td>\n",
       "      <td>4</td>\n",
       "      <td>1</td>\n",
       "      <td>26</td>\n",
       "    </tr>\n",
       "    <tr>\n",
       "      <th>4</th>\n",
       "      <td>0.159259</td>\n",
       "      <td>0.887</td>\n",
       "      <td>1</td>\n",
       "      <td>0</td>\n",
       "      <td>0</td>\n",
       "      <td>2</td>\n",
       "      <td>1</td>\n",
       "      <td>2</td>\n",
       "      <td>1</td>\n",
       "      <td>4</td>\n",
       "      <td>1</td>\n",
       "      <td>88</td>\n",
       "    </tr>\n",
       "  </tbody>\n",
       "</table>\n",
       "</div>"
      ],
      "text/plain": [
       "       city  city_development_index  gender  relevent_experience  \\\n",
       "0  0.125000                   0.689       1                    1   \n",
       "1  0.099291                   0.923       1                    1   \n",
       "2  0.093164                   0.910       1                    1   \n",
       "3  0.101695                   0.666       1                    1   \n",
       "4  0.159259                   0.887       1                    0   \n",
       "\n",
       "   enrolled_university  education_level  major_discipline  experience  \\\n",
       "0                    0                2                 1           1   \n",
       "1                    0                2                 1           3   \n",
       "2                    0                2                 1           2   \n",
       "3                    0                2                 1           3   \n",
       "4                    0                2                 1           2   \n",
       "\n",
       "   company_size  company_type  last_new_job  training_hours  \n",
       "0             2             4             1             106  \n",
       "1             1             2             1              69  \n",
       "2             1             1             1               4  \n",
       "3             1             4             1              26  \n",
       "4             1             4             1              88  "
      ]
     },
     "execution_count": 8,
     "metadata": {},
     "output_type": "execute_result"
    }
   ],
   "source": [
    "# Encode column 'city'\n",
    "enc = LeaveOneOutEncoder(cols=['city'])\n",
    "X_enc = enc.fit_transform(X,y)\n",
    "X_enc.head()"
   ]
  },
  {
   "cell_type": "code",
   "execution_count": 9,
   "metadata": {},
   "outputs": [],
   "source": [
    "# combine X_enc and y togehter in order to plot correlation heatmap between features and target.\n",
    "df = pd.concat([X_enc,y],axis=1)"
   ]
  },
  {
   "cell_type": "code",
   "execution_count": 10,
   "metadata": {},
   "outputs": [
    {
     "data": {
      "image/png": "[encoded data removed]",
      "text/plain": [
       "<Figure size 864x504 with 2 Axes>"
      ]
     },
     "metadata": {
      "needs_background": "light"
     },
     "output_type": "display_data"
    }
   ],
   "source": [
    "# plot heatmap \n",
    "_= plt.subplots(figsize=(12,7))\n",
    "sns.heatmap(df.corr(),annot= True,cmap='coolwarm') \n",
    "plt.show()"
   ]
  },
  {
   "cell_type": "code",
   "execution_count": 11,
   "metadata": {},
   "outputs": [],
   "source": [
    "# Define our final X by dropping 'target' and 'city'. \n",
    "X = df.drop(['target'],axis=1)\n",
    "y = df['target'].ravel()\n"
   ]
  },
  {
   "cell_type": "code",
   "execution_count": 12,
   "metadata": {},
   "outputs": [],
   "source": [
    "# Scale X \n",
    "X_scaled = StandardScaler().fit_transform(X)"
   ]
  },
  {
   "cell_type": "code",
   "execution_count": 13,
   "metadata": {},
   "outputs": [],
   "source": [
    "# Split train test set\n",
    "X_train,X_test,y_train,y_test = train_test_split(X_scaled, y, test_size=0.30, stratify=y, random_state=43)"
   ]
  },
  {
   "cell_type": "code",
   "execution_count": 31,
   "metadata": {},
   "outputs": [
    {
     "data": {
      "text/plain": [
       "(array([0, 1]), array([4780,  728]))"
      ]
     },
     "execution_count": 31,
     "metadata": {},
     "output_type": "execute_result"
    }
   ],
   "source": [
    "# Confirm there's positive class in the test set.\n",
    "np.unique(y_test,return_counts=True)"
   ]
  },
  {
   "cell_type": "code",
   "execution_count": 32,
   "metadata": {},
   "outputs": [
    {
     "data": {
      "text/plain": [
       "6.572775486152033"
      ]
     },
     "execution_count": 32,
     "metadata": {},
     "output_type": "execute_result"
    }
   ],
   "source": [
    "# Check how imbalanced the data is in y_train.\n",
    "np.unique(y_train, return_counts=True)[1][0]/np.unique(y_train, return_counts=True)[1][1]"
   ]
  },
  {
   "cell_type": "markdown",
   "metadata": {},
   "source": [
    "we can see in our y_train, the ratio between negative and positive classes are 6.6 : 1 \n",
    "This class imbalance may cause some negative effect when we train the model.\n",
    "As our models look at the data and cleverly decide that the best thing to do is to always predict negative class and achieve high accuracy.\n",
    "If that happens we will normally get high accuracy but low recall or sometimes even zero recall, precision as the model will only predict negative class."
   ]
  },
  {
   "cell_type": "markdown",
   "metadata": {},
   "source": [
    "## Train Models with Defaul Settings"
   ]
  },
  {
   "cell_type": "markdown",
   "metadata": {},
   "source": [
    "### Select Models"
   ]
  },
  {
   "cell_type": "code",
   "execution_count": 17,
   "metadata": {},
   "outputs": [],
   "source": [
    "index = ['LR','GNB','KNN','SVC','DT','RF','GB','XGB','LightGB']\n",
    "models = [LogisticRegression(),\n",
    "          GaussianNB(),\n",
    "          KNeighborsClassifier(),\n",
    "          SVC(probability=True, random_state=43),\n",
    "          DecisionTreeClassifier(random_state=43),\n",
    "          RandomForestClassifier(random_state=43),\n",
    "          GradientBoostingClassifier(random_state=43),\n",
    "          XGBClassifier(random_state=43),\n",
    "          lgb.LGBMClassifier(objective='binary',random_state=43)]\n",
    "\n",
    "    # combine index and models to a dictionary\n",
    "model_dict = dict(zip(index,models))"
   ]
  },
  {
   "cell_type": "code",
   "execution_count": 34,
   "metadata": {},
   "outputs": [],
   "source": [
    "# cv before oversampling\n",
    "\n",
    "def model_eval(model_name, X, y, n):\n",
    "    scoring = {\n",
    "           'accuracy' : make_scorer(accuracy_score), \n",
    "           'precision' : make_scorer(precision_score),\n",
    "           'recall' : make_scorer(recall_score), \n",
    "           'f1_score' : make_scorer(f1_score),\n",
    "           'roc_auc' : make_scorer(roc_auc_score, needs_proba=True)}\n",
    "\n",
    "    kfold = KFold(n_splits=n)\n",
    "    model = model_name\n",
    "\n",
    "    model_res = model_selection.cross_validate(\n",
    "                                          estimator=model,\n",
    "                                          X=X,\n",
    "                                          y=y,\n",
    "                                          cv=kfold,\n",
    "                                          scoring=scoring)\n",
    "    \n",
    "    return pd.DataFrame(model_res).round(3)"
   ]
  },
  {
   "cell_type": "code",
   "execution_count": 35,
   "metadata": {},
   "outputs": [],
   "source": [
    "# create a function to collect all test scores for all the models before oversampling\n",
    "def allmodel_perform(X, y, n):\n",
    "    # create a empty list to put the average model test_score from the validation\n",
    "    model_score_average = []\n",
    "    \n",
    "    # Loop inside the model_dict and average the test_score. (test_score contains: accuracy, precision, recall, fscore, roc_auc_score)\n",
    "    # Append the avarage score to list 'model_score_average' \n",
    "    for model in model_dict.values():\n",
    "        model_score_average.append(model_eval(model,X,y,n).mean())\n",
    "\n",
    "\n",
    "    # put the model_score_average into a dataframe \n",
    "    df_model_eval = pd.DataFrame(model_score_average,index=list(model_dict.keys())).round(5)\n",
    "    df_model_eval = df_model_eval.reset_index().rename(columns={'index':'model'})\n",
    "    return df_model_eval"
   ]
  },
  {
   "cell_type": "code",
   "execution_count": 36,
   "metadata": {},
   "outputs": [
    {
     "name": "stderr",
     "output_type": "stream",
     "text": [
      "/Users/liuyang/opt/anaconda3/lib/python3.8/site-packages/sklearn/metrics/_classification.py:1221: UndefinedMetricWarning: Precision is ill-defined and being set to 0.0 due to no predicted samples. Use `zero_division` parameter to control this behavior.\n",
      "  _warn_prf(average, modifier, msg_start, len(result))\n",
      "/Users/liuyang/opt/anaconda3/lib/python3.8/site-packages/sklearn/metrics/_classification.py:1221: UndefinedMetricWarning: Precision is ill-defined and being set to 0.0 due to no predicted samples. Use `zero_division` parameter to control this behavior.\n",
      "  _warn_prf(average, modifier, msg_start, len(result))\n",
      "/Users/liuyang/opt/anaconda3/lib/python3.8/site-packages/sklearn/metrics/_classification.py:1221: UndefinedMetricWarning: Precision is ill-defined and being set to 0.0 due to no predicted samples. Use `zero_division` parameter to control this behavior.\n",
      "  _warn_prf(average, modifier, msg_start, len(result))\n",
      "/Users/liuyang/opt/anaconda3/lib/python3.8/site-packages/sklearn/metrics/_classification.py:1221: UndefinedMetricWarning: Precision is ill-defined and being set to 0.0 due to no predicted samples. Use `zero_division` parameter to control this behavior.\n",
      "  _warn_prf(average, modifier, msg_start, len(result))\n",
      "/Users/liuyang/opt/anaconda3/lib/python3.8/site-packages/sklearn/metrics/_classification.py:1221: UndefinedMetricWarning: Precision is ill-defined and being set to 0.0 due to no predicted samples. Use `zero_division` parameter to control this behavior.\n",
      "  _warn_prf(average, modifier, msg_start, len(result))\n",
      "/Users/liuyang/opt/anaconda3/lib/python3.8/site-packages/sklearn/metrics/_classification.py:1221: UndefinedMetricWarning: Precision is ill-defined and being set to 0.0 due to no predicted samples. Use `zero_division` parameter to control this behavior.\n",
      "  _warn_prf(average, modifier, msg_start, len(result))\n",
      "/Users/liuyang/opt/anaconda3/lib/python3.8/site-packages/sklearn/metrics/_classification.py:1221: UndefinedMetricWarning: Precision is ill-defined and being set to 0.0 due to no predicted samples. Use `zero_division` parameter to control this behavior.\n",
      "  _warn_prf(average, modifier, msg_start, len(result))\n",
      "/Users/liuyang/opt/anaconda3/lib/python3.8/site-packages/sklearn/metrics/_classification.py:1221: UndefinedMetricWarning: Precision is ill-defined and being set to 0.0 due to no predicted samples. Use `zero_division` parameter to control this behavior.\n",
      "  _warn_prf(average, modifier, msg_start, len(result))\n",
      "/Users/liuyang/opt/anaconda3/lib/python3.8/site-packages/sklearn/metrics/_classification.py:1221: UndefinedMetricWarning: Precision is ill-defined and being set to 0.0 due to no predicted samples. Use `zero_division` parameter to control this behavior.\n",
      "  _warn_prf(average, modifier, msg_start, len(result))\n",
      "/Users/liuyang/opt/anaconda3/lib/python3.8/site-packages/sklearn/metrics/_classification.py:1221: UndefinedMetricWarning: Precision is ill-defined and being set to 0.0 due to no predicted samples. Use `zero_division` parameter to control this behavior.\n",
      "  _warn_prf(average, modifier, msg_start, len(result))\n"
     ]
    },
    {
     "data": {
      "text/html": [
       "<div>\n",
       "<style scoped>\n",
       "    .dataframe tbody tr th:only-of-type {\n",
       "        vertical-align: middle;\n",
       "    }\n",
       "\n",
       "    .dataframe tbody tr th {\n",
       "        vertical-align: top;\n",
       "    }\n",
       "\n",
       "    .dataframe thead th {\n",
       "        text-align: right;\n",
       "    }\n",
       "</style>\n",
       "<table border=\"1\" class=\"dataframe\">\n",
       "  <thead>\n",
       "    <tr style=\"text-align: right;\">\n",
       "      <th></th>\n",
       "      <th>model</th>\n",
       "      <th>fit_time</th>\n",
       "      <th>score_time</th>\n",
       "      <th>test_accuracy</th>\n",
       "      <th>test_precision</th>\n",
       "      <th>test_recall</th>\n",
       "      <th>test_f1_score</th>\n",
       "      <th>test_roc_auc</th>\n",
       "    </tr>\n",
       "  </thead>\n",
       "  <tbody>\n",
       "    <tr>\n",
       "      <th>0</th>\n",
       "      <td>LR</td>\n",
       "      <td>0.0128</td>\n",
       "      <td>0.0060</td>\n",
       "      <td>0.8678</td>\n",
       "      <td>0.0000</td>\n",
       "      <td>0.0000</td>\n",
       "      <td>0.0000</td>\n",
       "      <td>0.6404</td>\n",
       "    </tr>\n",
       "    <tr>\n",
       "      <th>1</th>\n",
       "      <td>GNB</td>\n",
       "      <td>0.0022</td>\n",
       "      <td>0.0052</td>\n",
       "      <td>0.8078</td>\n",
       "      <td>0.2598</td>\n",
       "      <td>0.2458</td>\n",
       "      <td>0.2524</td>\n",
       "      <td>0.6300</td>\n",
       "    </tr>\n",
       "    <tr>\n",
       "      <th>2</th>\n",
       "      <td>KNN</td>\n",
       "      <td>0.0792</td>\n",
       "      <td>0.3608</td>\n",
       "      <td>0.8546</td>\n",
       "      <td>0.2716</td>\n",
       "      <td>0.0598</td>\n",
       "      <td>0.0982</td>\n",
       "      <td>0.5600</td>\n",
       "    </tr>\n",
       "    <tr>\n",
       "      <th>3</th>\n",
       "      <td>SVC</td>\n",
       "      <td>13.7546</td>\n",
       "      <td>0.3260</td>\n",
       "      <td>0.8678</td>\n",
       "      <td>0.0000</td>\n",
       "      <td>0.0000</td>\n",
       "      <td>0.0000</td>\n",
       "      <td>0.5262</td>\n",
       "    </tr>\n",
       "    <tr>\n",
       "      <th>4</th>\n",
       "      <td>DT</td>\n",
       "      <td>0.0130</td>\n",
       "      <td>0.0046</td>\n",
       "      <td>0.9996</td>\n",
       "      <td>0.9982</td>\n",
       "      <td>0.9988</td>\n",
       "      <td>0.9984</td>\n",
       "      <td>0.9992</td>\n",
       "    </tr>\n",
       "    <tr>\n",
       "      <th>5</th>\n",
       "      <td>RF</td>\n",
       "      <td>0.5044</td>\n",
       "      <td>0.0722</td>\n",
       "      <td>0.9446</td>\n",
       "      <td>0.9960</td>\n",
       "      <td>0.5814</td>\n",
       "      <td>0.7336</td>\n",
       "      <td>0.9804</td>\n",
       "    </tr>\n",
       "    <tr>\n",
       "      <th>6</th>\n",
       "      <td>GB</td>\n",
       "      <td>0.5394</td>\n",
       "      <td>0.0090</td>\n",
       "      <td>0.9804</td>\n",
       "      <td>1.0000</td>\n",
       "      <td>0.8502</td>\n",
       "      <td>0.9188</td>\n",
       "      <td>0.9960</td>\n",
       "    </tr>\n",
       "    <tr>\n",
       "      <th>7</th>\n",
       "      <td>XGB</td>\n",
       "      <td>0.2176</td>\n",
       "      <td>0.0080</td>\n",
       "      <td>1.0000</td>\n",
       "      <td>1.0000</td>\n",
       "      <td>1.0000</td>\n",
       "      <td>1.0000</td>\n",
       "      <td>1.0000</td>\n",
       "    </tr>\n",
       "    <tr>\n",
       "      <th>8</th>\n",
       "      <td>LightGB</td>\n",
       "      <td>0.0984</td>\n",
       "      <td>0.0150</td>\n",
       "      <td>0.9986</td>\n",
       "      <td>0.9982</td>\n",
       "      <td>0.9918</td>\n",
       "      <td>0.9948</td>\n",
       "      <td>1.0000</td>\n",
       "    </tr>\n",
       "  </tbody>\n",
       "</table>\n",
       "</div>"
      ],
      "text/plain": [
       "     model  fit_time  score_time  test_accuracy  test_precision  test_recall  \\\n",
       "0       LR    0.0128      0.0060         0.8678          0.0000       0.0000   \n",
       "1      GNB    0.0022      0.0052         0.8078          0.2598       0.2458   \n",
       "2      KNN    0.0792      0.3608         0.8546          0.2716       0.0598   \n",
       "3      SVC   13.7546      0.3260         0.8678          0.0000       0.0000   \n",
       "4       DT    0.0130      0.0046         0.9996          0.9982       0.9988   \n",
       "5       RF    0.5044      0.0722         0.9446          0.9960       0.5814   \n",
       "6       GB    0.5394      0.0090         0.9804          1.0000       0.8502   \n",
       "7      XGB    0.2176      0.0080         1.0000          1.0000       1.0000   \n",
       "8  LightGB    0.0984      0.0150         0.9986          0.9982       0.9918   \n",
       "\n",
       "   test_f1_score  test_roc_auc  \n",
       "0         0.0000        0.6404  \n",
       "1         0.2524        0.6300  \n",
       "2         0.0982        0.5600  \n",
       "3         0.0000        0.5262  \n",
       "4         0.9984        0.9992  \n",
       "5         0.7336        0.9804  \n",
       "6         0.9188        0.9960  \n",
       "7         1.0000        1.0000  \n",
       "8         0.9948        1.0000  "
      ]
     },
     "execution_count": 36,
     "metadata": {},
     "output_type": "execute_result"
    }
   ],
   "source": [
    "# plot test result for all models\n",
    "model_res = allmodel_perform(X_train, y_train, 5)\n",
    "model_res"
   ]
  },
  {
   "cell_type": "code",
   "execution_count": 18,
   "metadata": {},
   "outputs": [],
   "source": [
    "# oversampling inside cross validation train_fold\n",
    "\n",
    "def model_eval_os(model_name, n):\n",
    "    \n",
    "    precisions = []\n",
    "    recalls = []\n",
    "    f1scores = []\n",
    "    aucs = []\n",
    "    roc_aucs=[]\n",
    "    y_proba = []\n",
    "    y_pred = []\n",
    "    \n",
    "    cv = KFold(n_splits=n)\n",
    "    for i, (train, test) in enumerate(cv.split(X_train, y_train)):\n",
    "        X_train_fold, y_train_fold = X_train[train], y_train[train]\n",
    "        X_test_fold, y_test_fold = X_train[test], y_train[test]\n",
    "        \n",
    "        os = SMOTE(random_state=43)\n",
    "        X_train_oversampled, y_train_oversampled = os.fit_sample(X_train_fold, y_train_fold)\n",
    "        model = model_name\n",
    "        \n",
    "        model.fit(X_train_oversampled, y_train_oversampled)\n",
    "        \n",
    "        y_pred = model.predict(X_test_fold)\n",
    "        y_pred_proba = model.predict_proba(X_test_fold)[:,1]\n",
    "        \n",
    "       \n",
    "        recalls.append(recall_score(y_test_fold, y_pred, pos_label=1,average='binary'))\n",
    "        precisions.append(precision_score(y_test_fold, y_pred, pos_label=1,average='binary'))\n",
    "        f1scores.append(f1_score(y_test_fold, y_pred, pos_label=1,average='binary'))\n",
    "        roc_aucs.append(roc_auc_score(y_test_fold, y_pred_proba))\n",
    "        aucs.append(model.score(X_test_fold, y_test_fold))\n",
    "        y_proba.append(y_pred_proba)\n",
    "    \n",
    "    res = pd.DataFrame([precisions,recalls,f1scores,aucs,roc_aucs]).T\n",
    "    res.columns = ['test_precison', 'test_recall', 'test_f1score', 'test_accuracy', 'test_roc_auc']\n",
    "    return res\n",
    "    "
   ]
  },
  {
   "cell_type": "code",
   "execution_count": 19,
   "metadata": {},
   "outputs": [],
   "source": [
    "def allmodel_perform_os(n):\n",
    "\n",
    "    model_score_average = []\n",
    "\n",
    "    for model in model_dict.values():\n",
    "        model_score_average.append(model_eval_os(model,n).mean())\n",
    "\n",
    "    df_model_eval = pd.DataFrame(model_score_average,index=list(model_dict.keys())).round(5)\n",
    "    df_model_eval = df_model_eval.reset_index().rename(columns={'index':'model'})\n",
    "    return df_model_eval"
   ]
  },
  {
   "cell_type": "code",
   "execution_count": null,
   "metadata": {},
   "outputs": [],
   "source": [
    "# plot result after oversampling inside cv train dataset\n",
    "model_res_os = allmodel_perform_os(5)\n",
    "model_res_os"
   ]
  },
  {
   "cell_type": "code",
   "execution_count": 40,
   "metadata": {},
   "outputs": [
    {
     "data": {
      "image/png": "[encoded data removed]",
      "text/plain": [
       "<Figure size 432x864 with 4 Axes>"
      ]
     },
     "metadata": {
      "needs_background": "light"
     },
     "output_type": "display_data"
    }
   ],
   "source": [
    "# plot barh plot to check the average score of recall, fscore, accuracy, roc_auc from cross validation\n",
    "fig,axs = plt.subplots(4,1, figsize=(6,12),sharex=True)\n",
    "\n",
    "axs[0].barh('model', 'test_recall', data=model_res_os)\n",
    "axs[1].barh('model', 'test_f1score', data=model_res_os)\n",
    "axs[2].barh('model', 'test_accuracy', data=model_res_os)\n",
    "axs[3].barh('model', 'test_roc_auc',data=model_res_os)\n",
    "\n",
    "axs[0].set_xlabel('Recall')\n",
    "axs[1].set_xlabel('F1score')\n",
    "axs[2].set_xlabel('Accuracy')\n",
    "axs[3].set_xlabel('ROC_AUC')\n",
    "\n",
    "\n",
    "axs[0].plot([0.8,0.8],[-1,9],'r--')\n",
    "axs[1].plot([0.8,0.8],[-1,9],'r--')\n",
    "axs[2].plot([0.8,0.8],[-1,9],'r--')\n",
    "axs[3].plot([0.8,0.8],[-1,9],'r--')\n",
    "plt.show()"
   ]
  },
  {
   "cell_type": "markdown",
   "metadata": {},
   "source": [
    "Next, Check feature importance for model: DecisionTree, RandomForest, GB, XGB, LightGB \n",
    "As their test score outperformed the other 4 models."
   ]
  },
  {
   "cell_type": "code",
   "execution_count": 23,
   "metadata": {},
   "outputs": [
    {
     "data": {
      "text/plain": [
       "<BarContainer object of 12 artists>"
      ]
     },
     "execution_count": 23,
     "metadata": {},
     "output_type": "execute_result"
    },
    {
     "data": {
      "image/png": "[encoded data removed]",
      "text/plain": [
       "<Figure size 1152x720 with 1 Axes>"
      ]
     },
     "metadata": {
      "needs_background": "light"
     },
     "output_type": "display_data"
    }
   ],
   "source": [
    "# feature importance for DecisionTree\n",
    "model =  DecisionTreeClassifier(random_state=43)\n",
    "model.fit(X_train,y_train)\n",
    "\n",
    "fig,ax = plt.subplots(figsize=(16,10))\n",
    "plt.barh(df.drop('target',axis=1).columns.tolist(), model.feature_importances_)"
   ]
  },
  {
   "cell_type": "code",
   "execution_count": 24,
   "metadata": {},
   "outputs": [
    {
     "data": {
      "text/plain": [
       "<BarContainer object of 12 artists>"
      ]
     },
     "execution_count": 24,
     "metadata": {},
     "output_type": "execute_result"
    },
    {
     "data": {
      "image/png": "[encoded data removed]",
      "text/plain": [
       "<Figure size 1152x720 with 1 Axes>"
      ]
     },
     "metadata": {
      "needs_background": "light"
     },
     "output_type": "display_data"
    }
   ],
   "source": [
    "# feature importance for RandomForest\n",
    "model = RandomForestClassifier(random_state=43)\n",
    "model.fit(X_train, y_train)\n",
    "\n",
    "fig,ax = plt.subplots(figsize=(16,10))\n",
    "plt.barh(df.drop('target',axis=1).columns.tolist(), model.feature_importances_)"
   ]
  },
  {
   "cell_type": "code",
   "execution_count": 27,
   "metadata": {},
   "outputs": [
    {
     "data": {
      "text/plain": [
       "<BarContainer object of 12 artists>"
      ]
     },
     "execution_count": 27,
     "metadata": {},
     "output_type": "execute_result"
    },
    {
     "data": {
      "image/png": "[encoded data removed]",
      "text/plain": [
       "<Figure size 1152x720 with 1 Axes>"
      ]
     },
     "metadata": {
      "needs_background": "light"
     },
     "output_type": "display_data"
    }
   ],
   "source": [
    "# feature importance for GB\n",
    "model = GradientBoostingClassifier(random_state=43)\n",
    "model.fit(X_train,y_train)\n",
    "\n",
    "fig,ax = plt.subplots(figsize=(16,10))\n",
    "plt.barh(df.drop('target',axis=1).columns.tolist(), model.feature_importances_)"
   ]
  },
  {
   "cell_type": "code",
   "execution_count": 44,
   "metadata": {},
   "outputs": [
    {
     "data": {
      "image/png": "[encoded data removed]",
      "text/plain": [
       "<Figure size 432x288 with 1 Axes>"
      ]
     },
     "metadata": {
      "needs_background": "light"
     },
     "output_type": "display_data"
    }
   ],
   "source": [
    "# feature importance for xgb\n",
    "from xgboost import plot_importance\n",
    "model = XGBClassifier(random_state=43)\n",
    "model.fit(X_train,y_train)\n",
    "\n",
    "plot_importance(model)\n",
    "plt.show()"
   ]
  },
  {
   "cell_type": "code",
   "execution_count": 28,
   "metadata": {},
   "outputs": [
    {
     "data": {
      "text/plain": [
       "'city'"
      ]
     },
     "execution_count": 28,
     "metadata": {},
     "output_type": "execute_result"
    }
   ],
   "source": [
    "df.columns[0]"
   ]
  },
  {
   "cell_type": "markdown",
   "metadata": {},
   "source": [
    "f0 is the first column in the dataset with is column 'city'"
   ]
  },
  {
   "cell_type": "code",
   "execution_count": 45,
   "metadata": {},
   "outputs": [
    {
     "data": {
      "image/png": "[encoded data removed]",
      "text/plain": [
       "<Figure size 432x288 with 1 Axes>"
      ]
     },
     "metadata": {
      "needs_background": "light"
     },
     "output_type": "display_data"
    }
   ],
   "source": [
    "# # feature importance for lightgb\n",
    "from lightgbm import plot_importance\n",
    "model = lgb.LGBMClassifier(objective='binary',random_state=43)\n",
    "model.fit(X_train,y_train)\n",
    "\n",
    "plot_importance(model)\n",
    "plt.show()"
   ]
  },
  {
   "cell_type": "markdown",
   "metadata": {},
   "source": [
    "column_0 is the first column in the dataset with is column 'city'"
   ]
  },
  {
   "cell_type": "markdown",
   "metadata": {},
   "source": [
    "### Check model on final test dataset with model RandomForest (before oversampling)"
   ]
  },
  {
   "cell_type": "code",
   "execution_count": 52,
   "metadata": {},
   "outputs": [
    {
     "name": "stdout",
     "output_type": "stream",
     "text": [
      "precision: 0.993 recall: 0.606 f1score: 0.753\n",
      "roc_auc: 0.981\n"
     ]
    }
   ],
   "source": [
    "# model result before training on os data\n",
    "model = RandomForestClassifier(random_state=43)\n",
    "model.fit(X_train, y_train)       \n",
    "y_pred = model.predict(X_test)\n",
    "y_pred_prob = model.predict_proba(X_test)[:,1]\n",
    "precision, recall, f1score, support = score(y_test, y_pred, pos_label=1,average='binary')\n",
    "\n",
    "print('precision:', round(precision,3), 'recall:', round(recall,3), 'f1score:', round(f1score,3))\n",
    "print('roc_auc:', round(roc_auc_score(y_test, y_pred_prob),3))"
   ]
  },
  {
   "cell_type": "markdown",
   "metadata": {},
   "source": [
    "### Check model on final test dataset with model RandomForest after oversampling"
   ]
  },
  {
   "cell_type": "code",
   "execution_count": 53,
   "metadata": {},
   "outputs": [
    {
     "name": "stdout",
     "output_type": "stream",
     "text": [
      "precision: 0.867 recall: 0.723 f1score: 0.788\n",
      "roc_auc: 0.971\n"
     ]
    }
   ],
   "source": [
    "# RandomForest model result after training on os data\n",
    "model = RandomForestClassifier(random_state=43)\n",
    "cv = KFold(n_splits=5)\n",
    "\n",
    "\n",
    "for i, (train, test) in enumerate(cv.split(X_train)):\n",
    "        X_train_fold, y_train_fold = X_train[train], y_train[train]\n",
    "        X_test_fold, y_test_fold = X_train[test], y_train[test]\n",
    "        \n",
    "        os = SMOTE(random_state=43)\n",
    "        X_train_oversampled, y_train_oversampled = os.fit_sample(X_train_fold, y_train_fold)\n",
    "        #model = RandomForestClassifier(random_state=43)\n",
    "        \n",
    "        model.fit(X_train_oversampled, y_train_oversampled)\n",
    "        y_pred = model.predict(X_test_fold)\n",
    "        y_pred_prob = model.predict_proba(X_test_fold)[:,1]\n",
    "        #precision, recall, f1score, support = score(y_test_fold, y_pred, pos_label=1,average='binary')\n",
    "       \n",
    "        \n",
    "yfinal = model.predict(X_test)\n",
    "yfinal_proba = model.predict_proba(X_test)[:,1]\n",
    "precision, recall, f1score, support = score(y_test, yfinal, pos_label=1,average='binary')\n",
    "\n",
    "print('precision:', round(precision,3), 'recall:', round(recall,3), 'f1score:', round(f1score,3))\n",
    "print('roc_auc:', round(roc_auc_score(y_test, yfinal_proba),3))"
   ]
  },
  {
   "cell_type": "markdown",
   "metadata": {},
   "source": [
    "<b>recall increased from 0.606 to 0.723</b>"
   ]
  },
  {
   "cell_type": "code",
   "execution_count": 54,
   "metadata": {},
   "outputs": [
    {
     "data": {
      "image/png": "[encoded data removed]",
      "text/plain": [
       "<Figure size 432x432 with 1 Axes>"
      ]
     },
     "metadata": {
      "needs_background": "light"
     },
     "output_type": "display_data"
    }
   ],
   "source": [
    "# RandomForest ROC_AUC result of final test dataset predicted by oversampled model\n",
    "\n",
    "fpr,tpr,threshold = roc_curve(y_test,model.predict_proba(X_test)[:,1])\n",
    "roc_auc_ = metrics.auc(fpr,tpr)\n",
    "plt.figure(figsize=(6,6))\n",
    "_=plt.plot([0,1],[0,1],'k--')\n",
    "_=plt.plot(fpr,tpr,'r',label='AUC = %.3f'%roc_auc_)\n",
    "_=plt.title('Receiver Operating Characteristic (ROC) curve of final model')\n",
    "_=plt.xlabel('False Positive Rate (1 - Specificity)',fontsize=12,fontweight='bold')\n",
    "_=plt.ylabel('True Positive Rate (Sensitivity)',fontsize=12,fontweight='bold')\n",
    "_=plt.legend(loc='lower right')"
   ]
  },
  {
   "cell_type": "markdown",
   "metadata": {},
   "source": [
    "### Check model on final test dataset with model GB (before oversampling)"
   ]
  },
  {
   "cell_type": "code",
   "execution_count": 55,
   "metadata": {},
   "outputs": [
    {
     "name": "stdout",
     "output_type": "stream",
     "text": [
      "precision: 1.0 recall: 0.886 f1score: 0.94\n",
      "roc_auc: 0.994\n"
     ]
    }
   ],
   "source": [
    "# GB model result before training on os data\n",
    "model = GradientBoostingClassifier(random_state=43)\n",
    "model.fit(X_train, y_train)       \n",
    "y_pred = model.predict(X_test)\n",
    "y_pred_prob = model.predict_proba(X_test)[:,1]\n",
    "precision, recall, f1score, support = score(y_test, y_pred, pos_label=1,average='binary')\n",
    "\n",
    "print('precision:', round(precision,3), 'recall:', round(recall,3), 'f1score:', round(f1score,3))\n",
    "print('roc_auc:', round(roc_auc_score(y_test, y_pred_prob),3))"
   ]
  },
  {
   "cell_type": "markdown",
   "metadata": {},
   "source": [
    "### Check model on final test dataset with model GB after oversampling"
   ]
  },
  {
   "cell_type": "code",
   "execution_count": 56,
   "metadata": {},
   "outputs": [
    {
     "name": "stdout",
     "output_type": "stream",
     "text": [
      "precision: 0.648 recall: 0.92 f1score: 0.76\n",
      "roc_auc: 0.986\n"
     ]
    }
   ],
   "source": [
    "# GB model result after training on os data\n",
    "model = GradientBoostingClassifier(random_state=43)\n",
    "cv = KFold(n_splits=5)\n",
    "\n",
    "\n",
    "for i, (train, test) in enumerate(cv.split(X_train)):\n",
    "        X_train_fold, y_train_fold = X_train[train], y_train[train]\n",
    "        X_test_fold, y_test_fold = X_train[test], y_train[test]\n",
    "        \n",
    "        os = SMOTE(random_state=43)\n",
    "        X_train_oversampled, y_train_oversampled = os.fit_sample(X_train_fold, y_train_fold)\n",
    "        #model = RandomForestClassifier(random_state=43)\n",
    "        \n",
    "        model.fit(X_train_oversampled, y_train_oversampled)\n",
    "        y_pred = model.predict(X_test_fold)\n",
    "        y_pred_prob = model.predict_proba(X_test_fold)[:,1]\n",
    "        #precision, recall, f1score, support = score(y_test_fold, y_pred, pos_label=1,average='binary')\n",
    "        \n",
    "        \n",
    "yfinal = model.predict(X_test)\n",
    "yfinal_proba = model.predict_proba(X_test)[:,1]\n",
    "precision, recall, f1score, support = score(y_test, yfinal, pos_label=1,average='binary')\n",
    "\n",
    "print('precision:', round(precision,3), 'recall:', round(recall,3), 'f1score:', round(f1score,3))\n",
    "print('roc_auc:', round(roc_auc_score(y_test, yfinal_proba),3))"
   ]
  },
  {
   "cell_type": "markdown",
   "metadata": {},
   "source": [
    "<b>recall increased from 0.886 to 0.92</b>"
   ]
  },
  {
   "cell_type": "code",
   "execution_count": 57,
   "metadata": {},
   "outputs": [
    {
     "data": {
      "image/png": "[encoded data removed]",
      "text/plain": [
       "<Figure size 432x432 with 1 Axes>"
      ]
     },
     "metadata": {
      "needs_background": "light"
     },
     "output_type": "display_data"
    }
   ],
   "source": [
    "# GB ROC_AUC result of final test dataset predicted by oversampled model\n",
    "\n",
    "fpr,tpr,threshold = roc_curve(y_test,model.predict_proba(X_test)[:,1])\n",
    "roc_auc_ = metrics.auc(fpr,tpr)\n",
    "plt.figure(figsize=(6,6))\n",
    "_=plt.plot([0,1],[0,1],'k--')\n",
    "_=plt.plot(fpr,tpr,'r',label='AUC = %.3f'%roc_auc_)\n",
    "_=plt.title('Receiver Operating Characteristic (ROC) curve of final model')\n",
    "_=plt.xlabel('False Positive Rate (1 - Specificity)',fontsize=12,fontweight='bold')\n",
    "_=plt.ylabel('True Positive Rate (Sensitivity)',fontsize=12,fontweight='bold')\n",
    "_=plt.legend(loc='lower right')"
   ]
  },
  {
   "cell_type": "markdown",
   "metadata": {},
   "source": [
    "# updated to this cell"
   ]
  },
  {
   "cell_type": "markdown",
   "metadata": {},
   "source": [
    "### Compare results"
   ]
  },
  {
   "cell_type": "markdown",
   "metadata": {},
   "source": [
    "As we exolained earlier, our data is imbalanced,\n",
    "so from the table above, we can see most of the models have extremely low recall as we expected.\n",
    "<br>In the case of model LR and model SVC, there are no positive classes predicted.\n",
    "<br>Therefore Recall, Precision, fscore are all zero.<br>We can fix this problem by either increase datas of positive classes (oversample) or decrease data of the negative classes (downsample).\n",
    "<br>As our original dataset does not contain huge amout of datas, oversampling will be a better way in this case.\n",
    "We will use <b>SMOTE</b> to oversample our data."
   ]
  },
  {
   "cell_type": "markdown",
   "metadata": {},
   "source": [
    "## Apply SMOTE to oversample data"
   ]
  },
  {
   "cell_type": "markdown",
   "metadata": {},
   "source": [
    "We will only oversample the data from <b>X_train</b>, <b>y_train</b>. <br><b>X_test</b>, <b>y_test</b> will only be used for the final test."
   ]
  },
  {
   "cell_type": "code",
   "execution_count": null,
   "metadata": {},
   "outputs": [],
   "source": [
    "os = SMOTE(random_state=43)\n",
    "\n",
    "X_os, y_os=os.fit_sample(X_train, y_train.ravel())"
   ]
  },
  {
   "cell_type": "code",
   "execution_count": null,
   "metadata": {},
   "outputs": [],
   "source": [
    "# Check the data shape after resampleing.\n",
    "print(X_os.shape)\n",
    "print(y_os.shape)"
   ]
  },
  {
   "cell_type": "code",
   "execution_count": null,
   "metadata": {},
   "outputs": [],
   "source": [
    "print(X_train.shape)\n",
    "print(y_train.shape)"
   ]
  },
  {
   "cell_type": "markdown",
   "metadata": {},
   "source": [
    "By oversampling we almost doubled the data points in X_train, y_train"
   ]
  },
  {
   "cell_type": "code",
   "execution_count": null,
   "metadata": {},
   "outputs": [],
   "source": [
    "# make sure the numbers of positive and negative class are the same in the resampled data\n",
    "np.unique(y_os,return_counts=True)"
   ]
  },
  {
   "cell_type": "markdown",
   "metadata": {},
   "source": [
    "## Re-train Models Based on New Dataset (Oversampled Data)"
   ]
  },
  {
   "cell_type": "code",
   "execution_count": null,
   "metadata": {},
   "outputs": [],
   "source": [
    "# Split the over sampled data: X_os, y_os to a new train_test set: X_os_train, X_os_test, y_os_train, y_os_test\n",
    "X_os_train, X_os_test, y_os_train, y_os_test = train_test_split(X_os, y_os, test_size=0.3, random_state=43)"
   ]
  },
  {
   "cell_type": "code",
   "execution_count": null,
   "metadata": {},
   "outputs": [],
   "source": [
    "# make sure the \n",
    "print(np.unique(y_os_train,return_counts=True))\n",
    "print(np.unique(y_os_test,return_counts=True))"
   ]
  },
  {
   "cell_type": "code",
   "execution_count": null,
   "metadata": {},
   "outputs": [],
   "source": [
    "# re-train models on X_os_train, y__os_train dataset with 5folds crossvalidation, and get the average test result\n",
    "allmodel_perform(X_os_train, y_os_train, 5)"
   ]
  },
  {
   "cell_type": "markdown",
   "metadata": {},
   "source": [
    "### Compare results"
   ]
  },
  {
   "cell_type": "markdown",
   "metadata": {},
   "source": [
    "We will notice after re-training the same models based on the oversampled data (X_os_train, y_os_train) with 5folds cross validation, all the models are able to predict both classes.\n",
    "Among 9 models, LightGB, XGB, GB, RF, DT overall have very good performance. (all metrics scores are higher than 0.9)"
   ]
  },
  {
   "cell_type": "markdown",
   "metadata": {},
   "source": [
    "In the next step we will do two things:\n",
    "<br> 1. plot five of the roc_auc test scores we got from the previous cross validation to check model variance (the less the better), \n",
    "<br> 2. plot the predicted probabily distribution to see how well the models are separating the two labels."
   ]
  },
  {
   "cell_type": "code",
   "execution_count": null,
   "metadata": {},
   "outputs": [],
   "source": [
    "from sklearn.metrics import plot_roc_curve\n",
    "cv = KFold(n_splits=5,shuffle=True, random_state=43)\n",
    "\n",
    "for index, model in model_dict.items():\n",
    "    tprs = []\n",
    "    aucs = []\n",
    "    mean_fpr = np.linspace(0, 1, 100)\n",
    "    y_proba = []\n",
    "\n",
    "    fig, (ax1,ax2) = plt.subplots(1,2)\n",
    "    fig.set_size_inches(16,6)\n",
    "    for i, (train, test) in enumerate(cv.split(X_os_train, y_os_train)):\n",
    "        model.fit(X_os_train[train], y_os_train[train])\n",
    "        y_proba.append(model.predict_proba(X_os_train[test])[:,1])\n",
    "        viz = plot_roc_curve(model, X_os_train[test], y_os_train[test],\n",
    "                         name='ROC fold {}'.format(i),\n",
    "                         alpha=0.3, lw=1, ax=ax1)\n",
    "        interp_tpr = np.interp(mean_fpr, viz.fpr, viz.tpr)\n",
    "        interp_tpr[0] = 0.0\n",
    "        tprs.append(interp_tpr)\n",
    "        aucs.append(viz.roc_auc)\n",
    "\n",
    "    ax1.plot([0, 1], [0, 1], linestyle='--', lw=2, color='r',\n",
    "        label='Chance', alpha=.8)\n",
    "\n",
    "    mean_tpr = np.mean(tprs, axis=0)\n",
    "    mean_tpr[-1] = 1.0\n",
    "    mean_auc = auc(mean_fpr, mean_tpr)\n",
    "    std_auc = np.std(aucs)\n",
    "    ax1.plot(mean_fpr, mean_tpr, color='b',\n",
    "        label=r'Mean ROC (AUC = %0.2f $\\pm$ %0.3f)' % (mean_auc, std_auc),\n",
    "        lw=2, alpha=.8)\n",
    "\n",
    "    std_tpr = np.std(tprs, axis=0)\n",
    "    tprs_upper = np.minimum(mean_tpr + std_tpr, 1)\n",
    "    tprs_lower = np.maximum(mean_tpr - std_tpr, 0)\n",
    "    ax1.fill_between(mean_fpr, tprs_lower, tprs_upper, color='grey', alpha=.2,\n",
    "                label=r'$\\pm$ 1 std. dev.')\n",
    "\n",
    "    ax1.set(xlim=[-0.05, 1.05], ylim=[-0.05, 1.05],\n",
    "       title=\"Receiver operating characteristic example\")\n",
    "    ax1.legend(loc=\"lower right\")\n",
    "\n",
    "    \n",
    "    \n",
    "    predProba_label = pd.DataFrame()\n",
    "    predProba_label['proba'] = pd.DataFrame(y_proba).mean()\n",
    "    predProba_label['label'] = np.array(y_os_train[test])\n",
    "    predProba_label.head()\n",
    "    ax2.hist(predProba_label[predProba_label.label==1].proba, density=True, histtype='step',label='Positive',color='r')\n",
    "    ax2.hist(predProba_label[predProba_label.label==0].proba, density=True, histtype='step',label='Negative')\n",
    "    ax2.set_xlabel('Probability of prediction', fontsize=12)\n",
    "    ax2.set_ylabel('Count of observation', fontsize=12)\n",
    "    ax2.legend()\n",
    "    ax2.set_title('Predicted probability vs class',fontsize=12)\n",
    "\n",
    "    plt.suptitle((\"Model: %s\" % index),fontsize=12,fontweight='bold')\n",
    "\n",
    "    plt.show()"
   ]
  },
  {
   "cell_type": "markdown",
   "metadata": {},
   "source": [
    "After plotting out the ROC_AUC results and the predicted probability distribution,\n",
    "we can easily tell 4 models overall are outperforming other models as they generate low variance, high recall (TPR) and separate the two classes with the least overlap. \n",
    "<br>These 4 models are: Decision Tree, Random Forest, XGB and LightGB.\n",
    "However DT and RF tend to overfit on training data comparing to XGB and LightGB, therefore we will focus on LightGB and XGB in the next step to optimize their hyperparameters via BayesianOptimization. "
   ]
  },
  {
   "cell_type": "markdown",
   "metadata": {},
   "source": [
    "## Tune Hyperparameters for Outperformed Models (Bayesian Optimization)"
   ]
  },
  {
   "cell_type": "code",
   "execution_count": null,
   "metadata": {},
   "outputs": [],
   "source": [
    "from bayes_opt import BayesianOptimization"
   ]
  },
  {
   "cell_type": "markdown",
   "metadata": {},
   "source": [
    "### Hyperparameter tuning for Lightgbm"
   ]
  },
  {
   "cell_type": "code",
   "execution_count": null,
   "metadata": {},
   "outputs": [],
   "source": [
    "# # create a function to tune hyperparameters for lightGB model and get test roc_auc score\n",
    "# dataset: X_os_train, y_os_train\n",
    "# crossvalidation: 3\n",
    "\n",
    "def lgb_eval(learning_rate,num_leaves, max_depth, max_bin, subsample, colsample_bytree, min_child_samples, \n",
    "             min_child_weight, min_data_in_leaf, L2, L1):\n",
    "    \n",
    "    params = {\n",
    "        \"objective\" : \"binary\",\n",
    "        \"is_unbalance\": True,\n",
    "        \"learning_rate\" : learning_rate,\n",
    "        \"num_leaves\" : int(num_leaves),\n",
    "        \"max_depth\" : int(max_depth),\n",
    "        \"max_bin\" : int(max_bin),\n",
    "        \"subsample\" : subsample,\n",
    "        \"colsample_bytree\" : colsample_bytree,\n",
    "        \"min_child_samples\" : int(min_child_samples),\n",
    "        \"min_child_weight\" : int(min_child_weight),\n",
    "        \"min_data_in_leaf\" : int(min_data_in_leaf),\n",
    "        \"reg_lambda\" : L2,\n",
    "        \"reg_alpha\" : L1,\n",
    "        \"num_threads\" : 20,\n",
    "        \"subsample_freq\" : 5,\n",
    "        \"random_state\" : 43,\n",
    "        \"verbose\": -1\n",
    "      \n",
    "    }\n",
    "    lgtrain = lgb.Dataset(X_os_train, y_os_train)\n",
    "   \n",
    "    cv_result = lgb.cv(params,\n",
    "                       lgtrain,\n",
    "                       num_boost_round = 1000,\n",
    "                       metrics='auc',\n",
    "                       early_stopping_rounds=100,\n",
    "                       stratified=True,\n",
    "                       nfold=3)\n",
    "    \n",
    "    return cv_result['auc-mean'][-1]"
   ]
  },
  {
   "cell_type": "code",
   "execution_count": null,
   "metadata": {},
   "outputs": [],
   "source": [
    "# create a function to perform BayesianOptimization to search for the best hyperparameters\n",
    "lgbBO = BayesianOptimization(lgb_eval, {'learning_rate': (0.001, 0.4),\n",
    "                                        'num_leaves': (25, 4000),\n",
    "                                        'max_depth': (0, 100),\n",
    "                                        'max_bin': (1,1000),\n",
    "                                        'subsample': (0.5, 1),\n",
    "                                        'colsample_bytree': (0.4,1),\n",
    "                                        'min_child_samples': (50, 10000),\n",
    "                                        'min_child_weight' : (0, 0.05),\n",
    "                                        'min_data_in_leaf': (10, 2000),\n",
    "                                        'L2': (0.0, 100),\n",
    "                                        'L1': (0.0, 1)})\n",
    "\n",
    "lgbBO.maximize(n_iter=10, init_points=2)"
   ]
  },
  {
   "cell_type": "code",
   "execution_count": null,
   "metadata": {},
   "outputs": [],
   "source": [
    "lgbBO.max"
   ]
  },
  {
   "cell_type": "code",
   "execution_count": null,
   "metadata": {},
   "outputs": [],
   "source": [
    "# use model_eval function to test result of LGB model with tuned hyperparameter\n",
    "# dataset: X_os_test, y_os_test with crossvalidation(5)\n",
    "\n",
    "tuned_lgb = model_eval(lgb.LGBMClassifier\n",
    "           (objective='binary', \n",
    "            L1=0.07,\n",
    "            L2=97,\n",
    "            colsample_bytree=0.517,\n",
    "            learning_rate= 0.388,\n",
    "            max_bin = 569,\n",
    "            max_depth = 64,\n",
    "            min_child_samples= 112,\n",
    "            min_child_weight= 0.003,\n",
    "            min_data_in_leaf= 58,\n",
    "            num_leaves= 2876,\n",
    "            subsample= 0.518,\n",
    "            verbose=-1,\n",
    "            random_state=43),\n",
    "            X_os_test,y_os_test).mean()\n",
    "\n",
    "tuned_lgb"
   ]
  },
  {
   "cell_type": "code",
   "execution_count": null,
   "metadata": {},
   "outputs": [],
   "source": [
    "# test result of LGB model with default value \n",
    "# dataset: X_os_test, y_os_test with crossvalidation(5)\n",
    "\n",
    "default_lgb = model_eval(lgb.LGBMClassifier(objective='binary',random_state=43),\n",
    "                         X_os_test,y_os_test).mean()\n",
    "\n",
    "default_lgb"
   ]
  },
  {
   "cell_type": "markdown",
   "metadata": {},
   "source": [
    "### Hyperparameter tuning for XGB"
   ]
  },
  {
   "cell_type": "code",
   "execution_count": null,
   "metadata": {},
   "outputs": [],
   "source": [
    "# create a function to tune hyperparameters for XGB model and get test roc_auc score\n",
    "# dataset: X_os_train, y_os_train\n",
    "# crossvalidation: 3\n",
    "\n",
    "def XGB_eval(eta, gamma, colsample_bytree, max_depth, min_child_weight, L2):\n",
    "    params = {\n",
    "        \"objective\" : \"binary:logistic\",\n",
    "        \"eta\" : eta,\n",
    "        \"gamma\" : gamma,\n",
    "        \"subsample\" : 0.5,\n",
    "        \"colsample_bytree\" : colsample_bytree,\n",
    "        \"max_depth\" : int(max_depth),\n",
    "        \"min_child_weight\" : int(min_child_weight),\n",
    "        \"lambda\" : L2,\n",
    "        #\"alpha\" : L1,\n",
    "        \"seed\" : 43,\n",
    "        \"nthread\": 4}\n",
    "    \n",
    "    \n",
    "    xgtrain = xgb.DMatrix(X_os_train, label=y_os_train)\n",
    "    cv_result =xgb.cv(params,\n",
    "                      xgtrain,\n",
    "                      early_stopping_rounds=100,\n",
    "                      num_boost_round=70,\n",
    "                      stratified=True,\n",
    "                      nfold=3,\n",
    "                      metrics= 'auc')\n",
    "                       \n",
    "          \n",
    "    return cv_result['test-auc-mean'].iloc[-1]"
   ]
  },
  {
   "cell_type": "code",
   "execution_count": null,
   "metadata": {},
   "outputs": [],
   "source": [
    "# create a function to perform BayesianOptimization to search for the best hyperparameters\n",
    "xgbBO = BayesianOptimization(XGB_eval, {'eta': (0.001,0.4),\n",
    "                                        'gamma': (0,20),\n",
    "                                        #'subsample': (0.5,1),\n",
    "                                        'colsample_bytree': (0,1),\n",
    "                                        'max_depth': (1, 10),\n",
    "                                        'min_child_weight': (0,20),\n",
    "                                        'L2':(0, 100)\n",
    "                                        #'L1': (0, 1),\n",
    "                                        })\n",
    "                                        \n",
    "                                        \n",
    "\n",
    "xgbBO.maximize(n_iter=10, init_points=2)"
   ]
  },
  {
   "cell_type": "code",
   "execution_count": null,
   "metadata": {},
   "outputs": [],
   "source": [
    "xgbBO.max"
   ]
  },
  {
   "cell_type": "code",
   "execution_count": null,
   "metadata": {},
   "outputs": [],
   "source": [
    "# use model_eval function to test result of XGB model with tuned hyperparameter\n",
    "# dataset: X_os_test, y_os_test with crossvalidation(5)\n",
    "\n",
    "tuned_xgb = model_eval(XGBClassifier\n",
    "           (#L1=0.318,\n",
    "            #L2=17,\n",
    "            objective='binary:logistic',\n",
    "            colsample_bytree=1,\n",
    "            gamma=0,\n",
    "            eta= 0.4,\n",
    "            max_depth = 10,\n",
    "            min_child_weight=0,\n",
    "            subsample=1,\n",
    "            seed=43),\n",
    "            X_os_test,y_os_test).mean()\n",
    "\n",
    "tuned_xgb"
   ]
  },
  {
   "cell_type": "code",
   "execution_count": null,
   "metadata": {},
   "outputs": [],
   "source": [
    "# test result of XGB model with default parameter values\n",
    "# dataset: X_os_test, y_os_test with crossvalidation(5)\n",
    "\n",
    "default_xgb = model_eval(XGBClassifier(\n",
    "            objective='binary:logistic',\n",
    "            seed=43),\n",
    "            X_os_test,y_os_test).mean()\n",
    "\n",
    "default_xgb"
   ]
  },
  {
   "cell_type": "code",
   "execution_count": null,
   "metadata": {},
   "outputs": [],
   "source": [
    "LGB = [default_lgb[4], tuned_lgb[4], tuned_lgb[0],tuned_lgb[1]]\n",
    "XGB = [default_xgb[4], tuned_xgb[4], tuned_xgb[0],tuned_xgb[1]]\n",
    "comb = [LGB, XGB]\n",
    "\n",
    "# create a dataframe to compare recall between default lgb, tune lgb, default xgb, tune xgb.\n",
    "# compare fit time, score time between lgb tuned model and xgb tuned model. \n",
    "pd.DataFrame(comb, index=['LGB','XGB'], columns=['Recall_default', 'Recall_tuned', 'fit_time (tuned)', 'score_time (tuned)'])\n"
   ]
  },
  {
   "cell_type": "markdown",
   "metadata": {},
   "source": [
    "From above we can see model LightGB and model XGB both had a small boost in Recall after we tuned the hyperparameters.\n",
    "<br>Considering XGB performs slight better than LGB in terms of Recall and needs less time to predict, <br>we will choose XGB as the final model and will test it on our final test set: <b>X_test</b>, <b>y_test</b>."
   ]
  },
  {
   "cell_type": "markdown",
   "metadata": {},
   "source": [
    "## Final model"
   ]
  },
  {
   "cell_type": "code",
   "execution_count": null,
   "metadata": {},
   "outputs": [],
   "source": [
    "# final test of XBG model with tuned hyperparameters on X_test, y_test without crossvalidation.\n",
    "# dataset: X_test, y_test\n",
    "\n",
    "final_xgb = XGBClassifier(objective='binary:logistic',\n",
    "            colsample_bytree=1,\n",
    "            gamma=0,\n",
    "            eta= 0.4,\n",
    "            max_depth = 10,\n",
    "            min_child_weight=0,\n",
    "            subsample=1,\n",
    "            seed=43)\n",
    "\n",
    "start = time.time()\n",
    "final_xgb.fit(X_os_train,y_os_train)\n",
    "end = time.time()\n",
    "fit_time = end - start\n",
    "\n",
    "start = time.time()\n",
    "y_pred = final_xgb.predict(X_test)\n",
    "end = time.time()\n",
    "pred_time = end - start\n",
    "\n",
    "# get precision, recall, fscore.\n",
    "print(score(y_test, y_pred, pos_label=1,average='binary'))\n",
    "print(fit_time)\n",
    "print(pred_time)"
   ]
  },
  {
   "cell_type": "code",
   "execution_count": null,
   "metadata": {},
   "outputs": [],
   "source": [
    "(y_pred==y_test).value_counts()"
   ]
  },
  {
   "cell_type": "code",
   "execution_count": null,
   "metadata": {},
   "outputs": [],
   "source": [
    "# final test of LGB model with tuned hyperparameters on X_test, y_test without crossvalidation.\n",
    "# dataset :X_test, y_test\n",
    "\n",
    "final_lgb = lgb.LGBMClassifier(objective='binary', \n",
    "            L1=0.07,\n",
    "            L2=97,\n",
    "            colsample_bytree=0.5,\n",
    "            learning_rate= 0.4,\n",
    "            max_bin = 569,\n",
    "            max_depth = 64,\n",
    "            min_child_samples= 112,\n",
    "            min_child_weight= 0.003,\n",
    "            min_data_in_leaf= 58,\n",
    "            num_leaves= 2876,\n",
    "            subsample= 0.5,\n",
    "            verbose=-1,\n",
    "            random_state=43)\n",
    "\n",
    "start = time.time()\n",
    "final_lgb.fit(X_os_train,y_os_train)\n",
    "end = time.time()\n",
    "fit_time = end - start\n",
    "\n",
    "start = time.time()\n",
    "y_pred = final_lgb.predict(X_test)\n",
    "end = time.time()\n",
    "\n",
    "pred_time = end - start\n",
    "\n",
    "# get precision, recall, fscore.\n",
    "print(score(y_test, y_pred, pos_label=1,average='binary'))\n",
    "print(fit_time)\n",
    "print(pred_time)"
   ]
  },
  {
   "cell_type": "code",
   "execution_count": null,
   "metadata": {},
   "outputs": [],
   "source": [
    "(y_pred==y_test).value_counts()"
   ]
  },
  {
   "cell_type": "code",
   "execution_count": null,
   "metadata": {},
   "outputs": [],
   "source": [
    "## Hyperparameter tuning for RF"
   ]
  },
  {
   "cell_type": "code",
   "execution_count": null,
   "metadata": {},
   "outputs": [],
   "source": [
    "# from sklearn.model_selection import cross_val_score"
   ]
  },
  {
   "cell_type": "code",
   "execution_count": null,
   "metadata": {},
   "outputs": [],
   "source": [
    "# def rf_cv(X, y, **kwargs):\n",
    "#     estimator = RandomForestClassifier(**kwargs)\n",
    "#     cval = cross_val_score(estimator, X, y, scoring = 'roc_auc', cv = 3)\n",
    "#     #cval = cross_val_score(estimator, X_train, y_train, scoring = 'roc_auc', cv = 3)\n",
    "#     return cval.mean()\n",
    "\n",
    "\n",
    "# def BayesianOptimization_rf(X, y):\n",
    "#     def rf_crossval(n_estimators,  max_depth, \n",
    "#                     min_samples_split, max_leaf_nodes, min_samples_leaf,random_state=43):\n",
    "        \n",
    "#         return rf_cv(\n",
    "#             X = X,\n",
    "#             y = y,\n",
    "#             bootstrap = True)\n",
    "    \n",
    "#     rfBO = BayesianOptimization(\n",
    "#         f = rf_crossval,\n",
    "#         pbounds = {\n",
    "#             \"n_estimators\" : (10, 400),\n",
    "#             #\"max_features\" : \n",
    "#             \"max_depth\" : (0,50),\n",
    "#             \"min_samples_split\" : (0,5000),\n",
    "#             \"max_leaf_nodes\" : (0,200),\n",
    "#             \"min_samples_leaf\" : (0,0.5)\n",
    "#         }\n",
    "#     )\n",
    "#     rfBO.maximize(n_iter = 10,init_points=2)\n",
    "#     print(\"Final result:\", rfBO.max)"
   ]
  },
  {
   "cell_type": "code",
   "execution_count": null,
   "metadata": {},
   "outputs": [],
   "source": [
    "#BayesianOptimization_rf(X_os_train,y_os_train)"
   ]
  },
  {
   "cell_type": "code",
   "execution_count": null,
   "metadata": {},
   "outputs": [],
   "source": [
    "# model = RandomForestClassifier(max_depth=6.24, \n",
    "#                                max_leaf_nodes=157, min_samples_leaf=0.075,\n",
    "#                                min_samples_split=2216,random_state=43)"
   ]
  },
  {
   "cell_type": "code",
   "execution_count": null,
   "metadata": {},
   "outputs": [],
   "source": [
    "## Hyperparameter tuning for LogisticRegression"
   ]
  },
  {
   "cell_type": "code",
   "execution_count": null,
   "metadata": {},
   "outputs": [],
   "source": [
    "# def lr_cv(X, y, **kwargs):\n",
    "#     estimator = LogisticRegression(**kwargs)\n",
    "#     cval = cross_val_score(estimator, X, y, scoring = 'recall', cv = 3)\n",
    "#     return cval.mean()\n",
    "\n",
    "\n",
    "# def BayesianOptimization_lr(X, y):\n",
    "#     def lr_crossval(C):\n",
    "        \n",
    "#         return rf_cv(\n",
    "#             X = X,\n",
    "#             y = y)\n",
    "    \n",
    "#     lrBO = BayesianOptimization(\n",
    "#         f = lr_crossval,\n",
    "#         pbounds = {\n",
    "#             \"C\" : (0, 1000)\n",
    "#             #\"l2\" : (0,100)\n",
    "#         }\n",
    "#     )\n",
    "#     lrBO.maximize(n_iter = 10,init_points=2)\n",
    "#     print(\"Final result:\", lrBO.max)"
   ]
  },
  {
   "cell_type": "code",
   "execution_count": null,
   "metadata": {},
   "outputs": [],
   "source": [
    "#BayesianOptimization_lr(X_os_train,y_os_train)"
   ]
  },
  {
   "cell_type": "markdown",
   "metadata": {},
   "source": [
    "As we can see lightgb and xgb both perform very well, and their scores are really close.\n",
    "We choose to use lightgb as the final model, as the data fit time for lgb is 8 times faster than xgb while predict times are both around less than 0.02s."
   ]
  },
  {
   "cell_type": "code",
   "execution_count": null,
   "metadata": {},
   "outputs": [],
   "source": [
    "fin_model =lgb.LGBMClassifier(objective='binary', \n",
    "            L1=0.214,\n",
    "            L2=49,\n",
    "            colsample_bytree=0.426,\n",
    "            learning_rate= 0.346,\n",
    "            max_depth = 10,\n",
    "            min_child_samples= 4977,\n",
    "            min_child_weight= 0.036,\n",
    "            min_data_in_leaf= 28,\n",
    "            num_leaves=49,\n",
    "            subsample= 0.567,\n",
    "            verbose=-1,\n",
    "            random_state=43)\n",
    "\n",
    "fin_model.fit(X_os_train, y_os_train)\n",
    "fin_y_pred = fin_model.predict(X_test)\n",
    "\n",
    "# get precision, recall, fscore\n",
    "score(y_test, fin_y_pred, pos_label=1,average='binary')    "
   ]
  },
  {
   "cell_type": "code",
   "execution_count": null,
   "metadata": {},
   "outputs": [],
   "source": [
    "lgb_fpr,lgb_tpr,threshold = roc_curve(y_test,fin_model.predict_proba(X_test)[:,1])\n",
    "roc_auc_ = metrics.auc(lgb_fpr,lgb_tpr)\n",
    "plt.figure(figsize=(6,6))\n",
    "_=plt.plot([0,1],[0,1],'k--')\n",
    "_=plt.plot(lgb_fpr,lgb_tpr,'r',label='AUC = %.3f'%roc_auc_)\n",
    "_=plt.title('Receiver Operating Characteristic (ROC) curve of final model')\n",
    "_=plt.xlabel('False Positive Rate (1 - Specificity)',fontsize=12,fontweight='bold')\n",
    "_=plt.ylabel('True Positive Rate (Sensitivity)',fontsize=12,fontweight='bold')\n",
    "_=plt.legend(loc='lower right')\n",
    "\n",
    "#plt.savefig('figures/roc.jpg', dpi=300, bbox_inches='tight')"
   ]
  },
  {
   "cell_type": "code",
   "execution_count": null,
   "metadata": {},
   "outputs": [],
   "source": [
    "(fin_y_pred == y_test).value_counts()"
   ]
  },
  {
   "cell_type": "code",
   "execution_count": null,
   "metadata": {},
   "outputs": [],
   "source": [
    "metrics.confusion_matrix(y_test, y_pred,labels=[1,0])"
   ]
  },
  {
   "cell_type": "code",
   "execution_count": null,
   "metadata": {},
   "outputs": [],
   "source": []
  },
  {
   "cell_type": "code",
   "execution_count": null,
   "metadata": {},
   "outputs": [],
   "source": []
  }
 ],
 "metadata": {
  "kernelspec": {
   "display_name": "Python 3",
   "language": "python",
   "name": "python3"
  },
  "language_info": {
   "codemirror_mode": {
    "name": "ipython",
    "version": 3
   },
   "file_extension": ".py",
   "mimetype": "text/x-python",
   "name": "python",
   "nbconvert_exporter": "python",
   "pygments_lexer": "ipython3",
   "version": "3.8.3"
  }
 },
 "nbformat": 4,
 "nbformat_minor": 4
}
